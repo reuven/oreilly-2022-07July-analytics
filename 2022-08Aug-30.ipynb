{
 "cells": [
  {
   "cell_type": "markdown",
   "id": "271d9df1",
   "metadata": {},
   "source": [
    "# Agenda: Visualization\n",
    "\n",
    "1. Recap and Q&A\n",
    "2. Visualization in general -- what, where, how, etc.\n",
    "3. Different plot types\n",
    "    - Line plots\n",
    "    - Bar plots\n",
    "    - Histograms\n",
    "    - Pie plots\n",
    "    - Scatter plots\n",
    "    - Boxplots\n",
    "4. What next?\n",
    "    - Applying what you've learned\n",
    "    - Analytics vs machine learning\n",
    "5. Q&A    "
   ]
  },
  {
   "cell_type": "markdown",
   "id": "8490d66e",
   "metadata": {},
   "source": [
    "# Recap \n",
    "\n",
    "The whole point of data analytics is to make sense of information we've gathered.  By using statistical techniques (including very simple calculations, such as mean, median, and std) we're able to understand the world, and our businesses better.  We can use that information to make better decisions going forward.\n",
    "\n",
    "Pandas allows us to read in two-dimensional data (typically from a CSV file) into a data frame:\n",
    "\n",
    "- Each row has an index (often numeric, but it doesn't have to be), and represents one sample, or one data point\n",
    "- Each column in our data frame has a different dtype, has a column name, and represents one facet/aspect of our data\n",
    "\n",
    "We've seen over the last few weeks that we can use a bunch of techniques to analyze this data:\n",
    "\n",
    "- Select rows and columns matching particular criteria, and then analyze those subsets of our data\n",
    "- Sort our data by index, or by values in our columns\n",
    "- Join multiple data frames together, a la SQL, to combine information from different sources\n",
    "- Group our data together, to get analysis per unique value in a category\n",
    "- If we have text in a column, we can use the `.str` accessor to run various string-related methods\n",
    "- If we have dates and times in a column, we can use the `.dt` accessor to run various date-related methods.\n",
    "- We can even perform date arithmetic, retrieving \"time delta\" values, so that we can look at the amount of time that has been spent doing an activity.\n"
   ]
  },
  {
   "cell_type": "markdown",
   "id": "00700eec",
   "metadata": {},
   "source": [
    "# Plotting and visualization\n",
    "\n",
    "Plotting has (at least) two purposes:\n",
    "\n",
    "1. To make our data accessible to people who don't have the time or inclination to read through long sets of numbers and make sense of them.  As people, we register images very quickly, and understand their meanings very quickly.\n",
    "2. You can get insights as to your data from the chart.  Humans are very good at identifying patterns, and we can often see a pattern in a chart, and then apply that insight back to our data."
   ]
  },
  {
   "cell_type": "markdown",
   "id": "3260ac3a",
   "metadata": {},
   "source": [
    "# How do we plot?\n",
    "\n",
    "In the Python world, the 900-pound gorilla of plotting is known as \"Matplotlib.\" The good news is that Matplotlib can create any kind of plot you want, in any combination, with any colors, with any styles.\n",
    "\n",
    "The bad news is that Matplotlib is HORRIBLY COMPLEX to learn. And to use. And to remember.\n",
    "\n",
    "My preference (and what we'll do in this course) is to use a shell around Matplotlib, making it perhaps slightly less powerful, but much easier to use. The wrapper around Matplotlib that I like to use is ... Pandas!\n",
    "\n",
    "If we plot things via Pandas, Pandas will translate our requests into Matplotlib's requirements, and will give us fully formed Matplotlib plots! \n",
    "\n",
    "There are some other wrappers around Matplotlib, and one of them is known as Seaborn, which is very impressive."
   ]
  },
  {
   "cell_type": "code",
   "execution_count": 1,
   "id": "2f6c5793",
   "metadata": {},
   "outputs": [],
   "source": [
    "# in order for us to plot, we'll need load some things\n",
    "\n",
    "import numpy as np\n",
    "import pandas as pd\n",
    "from pandas import Series, DataFrame"
   ]
  },
  {
   "cell_type": "code",
   "execution_count": 2,
   "id": "33298de5",
   "metadata": {},
   "outputs": [],
   "source": [
    "s = Series(np.random.randint(0, 100, 10), \n",
    "          index=list('abcdefghij'))\n"
   ]
  },
  {
   "cell_type": "code",
   "execution_count": 3,
   "id": "0ec3ab1a",
   "metadata": {},
   "outputs": [
    {
     "data": {
      "text/plain": [
       "a    22\n",
       "b     7\n",
       "c    79\n",
       "d    42\n",
       "e    84\n",
       "f     3\n",
       "g    44\n",
       "h    38\n",
       "i    35\n",
       "j    10\n",
       "dtype: int64"
      ]
     },
     "execution_count": 3,
     "metadata": {},
     "output_type": "execute_result"
    }
   ],
   "source": [
    "s"
   ]
  },
  {
   "cell_type": "code",
   "execution_count": 4,
   "id": "08813427",
   "metadata": {},
   "outputs": [
    {
     "data": {
      "text/plain": [
       "<AxesSubplot:>"
      ]
     },
     "execution_count": 4,
     "metadata": {},
     "output_type": "execute_result"
    },
    {
     "data": {
      "image/png": "[encoded data removed]",
      "text/plain": [
       "<Figure size 432x288 with 1 Axes>"
      ]
     },
     "metadata": {
      "needs_background": "light"
     },
     "output_type": "display_data"
    }
   ],
   "source": [
    "# I can turn this into a \"line plot\" with a simple command:\n",
    "\n",
    "s.plot.line()"
   ]
  },
  {
   "cell_type": "markdown",
   "id": "f10cee23",
   "metadata": {},
   "source": [
    "# Things to note\n",
    "\n",
    "1. The plot appears inside of Jupyter. Earlier versions of Matplotlib (or Jupyter) required that you set something, or import something, for this to work.  Now it works out of the box.\n",
    "2. The x axis reflects our index, and even shows every other value of the index.\n",
    "3. The y axis reflects our values, and is automatically scaled to show from 0 through the top value we need.\n",
    "4. The color, size, and other decorations are very plain -- we'll soon see how we can change these."
   ]
  },
  {
   "cell_type": "code",
   "execution_count": 5,
   "id": "1a1ac25e",
   "metadata": {},
   "outputs": [
    {
     "name": "stdout",
     "output_type": "stream",
     "text": [
      "date_time,\"boston,ma_maxtempC\",\"boston,ma_mintempC\",\"boston,ma_totalSnow_cm\",\"boston,ma_sunHour\",\"boston,ma_uvIndex\",\"boston,ma_uvIndex\",\"boston,ma_moon_illumination\",\"boston,ma_moonrise\",\"boston,ma_moonset\",\"boston,ma_sunrise\",\"boston,ma_sunset\",\"boston,ma_DewPointC\",\"boston,ma_FeelsLikeC\",\"boston,ma_HeatIndexC\",\"boston,ma_WindChillC\",\"boston,ma_WindGustKmph\",\"boston,ma_cloudcover\",\"boston,ma_humidity\",\"boston,ma_precipMM\",\"boston,ma_pressure\",\"boston,ma_tempC\",\"boston,ma_visibility\",\"boston,ma_winddirDegree\",\"boston,ma_windspeedKmph\"\r\n",
      "2018-12-11 00:00:00,1,-4,0.0,8.7,2,0,21,10:19 AM,08:12 PM,07:03 AM,04:11 PM,-7,-3,0,-3,10,0,57,0.0,1022,-3,10,339,8\r\n",
      "2018-12-11 03:00:00,1,-4,0.0,8.7,2,0,21,10:19 AM,08:12 PM,07:03 AM,04:11 PM,-7,-1,1,-1,7,2,57,0.0,1023,-3,10,319,6\r\n",
      "2018-12-11 06:00:00,1,-4,0.0,8.7,2,0,21,10:19 AM,08:12 PM,07:03 AM,04:11 PM,-9,-5,-3,-5,8,4,60,0.0,1023,-4,10,334,7\r\n",
      "2018-12-11 09:00:00,1,-4,0.0,8.7,2,2,21,10:19 AM,08:12 PM,07:03 AM,04:11 PM,-9,1,1,1,3,6,49,0.0,1022,-1,10,334,3\r\n",
      "2018-12-11 12:00:00,1,-4,0.0,8.7,2,2,21,10:19 AM,08:12 PM,07:03 AM,04:11 PM,-6,4,5,4,6,2,44,0.0,1018,1,10,229,5\r\n",
      "2018-12-11 15:00:00,1,-4,0.0,8.7,2,2,21,10:19 AM,08:12 PM,07:03 AM,04:11 PM,-6,3,4,3,4,0,51,0.0,1016,-0,10,188,4\r\n",
      "2018-12-11 18:00:00,1,-4,0.0,8.7,2,0,21,10:19 AM,08:12 PM,07:03 AM,04:11 PM,-6,0,0,0,3,75,64,0.0,1015,-0,10,250,2\r\n",
      "2018-12-11 21:00:00,1,-4,0.0,8.7,2,0,21,10:19 AM,08:12 PM,07:03 AM,04:11 PM,-6,-2,-0,-2,8,85,66,0.0,1015,-1,10,313,6\r\n",
      "2018-12-12 00:00:00,2,-3,0.0,6.9,1,0,29,10:55 AM,09:10 PM,07:04 AM,04:12 PM,-8,-4,-1,-4,12,97,60,0.0,1013,-2,10,348,9\r\n"
     ]
    }
   ],
   "source": [
    "!head ../data/boston,ma.csv"
   ]
  },
  {
   "cell_type": "markdown",
   "id": "ed328430",
   "metadata": {},
   "source": [
    "# Exercise: Plotting Boston winter\n",
    "\n",
    "1. Read `boston,ma.csv` file into a data frame. We're only interested in three columns -- `boston,ma_mintempC`, `boston,ma_maxtempC` and `boston,ma_totalSnow_cm`.\n",
    "2. Create a line plot for the min-temp column.\n",
    "\n",
    "In the zipfile (https://files.lerner.co.il/pandas-workout-data.zip), you should find this file (among others)."
   ]
  },
  {
   "cell_type": "code",
   "execution_count": 8,
   "id": "9416aade",
   "metadata": {},
   "outputs": [
    {
     "data": {
      "text/html": [
       "<div>\n",
       "<style scoped>\n",
       "    .dataframe tbody tr th:only-of-type {\n",
       "        vertical-align: middle;\n",
       "    }\n",
       "\n",
       "    .dataframe tbody tr th {\n",
       "        vertical-align: top;\n",
       "    }\n",
       "\n",
       "    .dataframe thead th {\n",
       "        text-align: right;\n",
       "    }\n",
       "</style>\n",
       "<table border=\"1\" class=\"dataframe\">\n",
       "  <thead>\n",
       "    <tr style=\"text-align: right;\">\n",
       "      <th></th>\n",
       "      <th>boston,ma_maxtempC</th>\n",
       "      <th>boston,ma_mintempC</th>\n",
       "      <th>boston,ma_totalSnow_cm</th>\n",
       "    </tr>\n",
       "  </thead>\n",
       "  <tbody>\n",
       "    <tr>\n",
       "      <th>0</th>\n",
       "      <td>1</td>\n",
       "      <td>-4</td>\n",
       "      <td>0.0</td>\n",
       "    </tr>\n",
       "    <tr>\n",
       "      <th>1</th>\n",
       "      <td>1</td>\n",
       "      <td>-4</td>\n",
       "      <td>0.0</td>\n",
       "    </tr>\n",
       "    <tr>\n",
       "      <th>2</th>\n",
       "      <td>1</td>\n",
       "      <td>-4</td>\n",
       "      <td>0.0</td>\n",
       "    </tr>\n",
       "    <tr>\n",
       "      <th>3</th>\n",
       "      <td>1</td>\n",
       "      <td>-4</td>\n",
       "      <td>0.0</td>\n",
       "    </tr>\n",
       "    <tr>\n",
       "      <th>4</th>\n",
       "      <td>1</td>\n",
       "      <td>-4</td>\n",
       "      <td>0.0</td>\n",
       "    </tr>\n",
       "  </tbody>\n",
       "</table>\n",
       "</div>"
      ],
      "text/plain": [
       "   boston,ma_maxtempC  boston,ma_mintempC  boston,ma_totalSnow_cm\n",
       "0                   1                  -4                     0.0\n",
       "1                   1                  -4                     0.0\n",
       "2                   1                  -4                     0.0\n",
       "3                   1                  -4                     0.0\n",
       "4                   1                  -4                     0.0"
      ]
     },
     "execution_count": 8,
     "metadata": {},
     "output_type": "execute_result"
    }
   ],
   "source": [
    "df = pd.read_csv('boston,ma.csv',\n",
    "                usecols=['boston,ma_maxtempC', \n",
    "                        'boston,ma_mintempC',\n",
    "                        'boston,ma_totalSnow_cm'])\n",
    "df.head()"
   ]
  },
  {
   "cell_type": "code",
   "execution_count": 9,
   "id": "e6caf094",
   "metadata": {},
   "outputs": [
    {
     "data": {
      "text/plain": [
       "(728, 3)"
      ]
     },
     "execution_count": 9,
     "metadata": {},
     "output_type": "execute_result"
    }
   ],
   "source": [
    "df.shape"
   ]
  },
  {
   "cell_type": "code",
   "execution_count": 10,
   "id": "f4aef26e",
   "metadata": {},
   "outputs": [
    {
     "data": {
      "text/plain": [
       "boston,ma_maxtempC          int64\n",
       "boston,ma_mintempC          int64\n",
       "boston,ma_totalSnow_cm    float64\n",
       "dtype: object"
      ]
     },
     "execution_count": 10,
     "metadata": {},
     "output_type": "execute_result"
    }
   ],
   "source": [
    "df.dtypes"
   ]
  },
  {
   "cell_type": "code",
   "execution_count": 12,
   "id": "3227a51b",
   "metadata": {},
   "outputs": [
    {
     "data": {
      "text/plain": [
       "<AxesSubplot:>"
      ]
     },
     "execution_count": 12,
     "metadata": {},
     "output_type": "execute_result"
    },
    {
     "data": {
      "image/png": "[encoded data removed]",
      "text/plain": [
       "<Figure size 432x288 with 1 Axes>"
      ]
     },
     "metadata": {
      "needs_background": "light"
     },
     "output_type": "display_data"
    }
   ],
   "source": [
    "# let's create a line plot for min temp\n",
    "df['boston,ma_mintempC'].plot.line()"
   ]
  },
  {
   "cell_type": "code",
   "execution_count": 13,
   "id": "dcf6e6f4",
   "metadata": {},
   "outputs": [
    {
     "data": {
      "text/html": [
       "<div>\n",
       "<style scoped>\n",
       "    .dataframe tbody tr th:only-of-type {\n",
       "        vertical-align: middle;\n",
       "    }\n",
       "\n",
       "    .dataframe tbody tr th {\n",
       "        vertical-align: top;\n",
       "    }\n",
       "\n",
       "    .dataframe thead th {\n",
       "        text-align: right;\n",
       "    }\n",
       "</style>\n",
       "<table border=\"1\" class=\"dataframe\">\n",
       "  <thead>\n",
       "    <tr style=\"text-align: right;\">\n",
       "      <th></th>\n",
       "      <th>boston,ma_maxtempC</th>\n",
       "      <th>boston,ma_mintempC</th>\n",
       "      <th>boston,ma_totalSnow_cm</th>\n",
       "    </tr>\n",
       "    <tr>\n",
       "      <th>date_time</th>\n",
       "      <th></th>\n",
       "      <th></th>\n",
       "      <th></th>\n",
       "    </tr>\n",
       "  </thead>\n",
       "  <tbody>\n",
       "    <tr>\n",
       "      <th>2018-12-11 00:00:00</th>\n",
       "      <td>1</td>\n",
       "      <td>-4</td>\n",
       "      <td>0.0</td>\n",
       "    </tr>\n",
       "    <tr>\n",
       "      <th>2018-12-11 03:00:00</th>\n",
       "      <td>1</td>\n",
       "      <td>-4</td>\n",
       "      <td>0.0</td>\n",
       "    </tr>\n",
       "    <tr>\n",
       "      <th>2018-12-11 06:00:00</th>\n",
       "      <td>1</td>\n",
       "      <td>-4</td>\n",
       "      <td>0.0</td>\n",
       "    </tr>\n",
       "    <tr>\n",
       "      <th>2018-12-11 09:00:00</th>\n",
       "      <td>1</td>\n",
       "      <td>-4</td>\n",
       "      <td>0.0</td>\n",
       "    </tr>\n",
       "    <tr>\n",
       "      <th>2018-12-11 12:00:00</th>\n",
       "      <td>1</td>\n",
       "      <td>-4</td>\n",
       "      <td>0.0</td>\n",
       "    </tr>\n",
       "  </tbody>\n",
       "</table>\n",
       "</div>"
      ],
      "text/plain": [
       "                     boston,ma_maxtempC  boston,ma_mintempC  \\\n",
       "date_time                                                     \n",
       "2018-12-11 00:00:00                   1                  -4   \n",
       "2018-12-11 03:00:00                   1                  -4   \n",
       "2018-12-11 06:00:00                   1                  -4   \n",
       "2018-12-11 09:00:00                   1                  -4   \n",
       "2018-12-11 12:00:00                   1                  -4   \n",
       "\n",
       "                     boston,ma_totalSnow_cm  \n",
       "date_time                                    \n",
       "2018-12-11 00:00:00                     0.0  \n",
       "2018-12-11 03:00:00                     0.0  \n",
       "2018-12-11 06:00:00                     0.0  \n",
       "2018-12-11 09:00:00                     0.0  \n",
       "2018-12-11 12:00:00                     0.0  "
      ]
     },
     "execution_count": 13,
     "metadata": {},
     "output_type": "execute_result"
    }
   ],
   "source": [
    "df = pd.read_csv('boston,ma.csv',\n",
    "                usecols=['date_time','boston,ma_maxtempC', \n",
    "                        'boston,ma_mintempC',\n",
    "                        'boston,ma_totalSnow_cm'],\n",
    "                parse_dates=['date_time'],\n",
    "                index_col='date_time')\n",
    "df.head()"
   ]
  },
  {
   "cell_type": "code",
   "execution_count": 14,
   "id": "2c5d6886",
   "metadata": {},
   "outputs": [
    {
     "data": {
      "text/plain": [
       "<AxesSubplot:xlabel='date_time'>"
      ]
     },
     "execution_count": 14,
     "metadata": {},
     "output_type": "execute_result"
    },
    {
     "data": {
      "image/png": "[encoded data removed]",
      "text/plain": [
       "<Figure size 432x288 with 1 Axes>"
      ]
     },
     "metadata": {
      "needs_background": "light"
     },
     "output_type": "display_data"
    }
   ],
   "source": [
    "df['boston,ma_mintempC'].plot.line()"
   ]
  },
  {
   "cell_type": "code",
   "execution_count": null,
   "id": "46a5ad7e",
   "metadata": {},
   "outputs": [],
   "source": []
  }
 ],
 "metadata": {
  "kernelspec": {
   "display_name": "Python 3 (ipykernel)",
   "language": "python",
   "name": "python3"
  },
  "language_info": {
   "codemirror_mode": {
    "name": "ipython",
    "version": 3
   },
   "file_extension": ".py",
   "mimetype": "text/x-python",
   "name": "python",
   "nbconvert_exporter": "python",
   "pygments_lexer": "ipython3",
   "version": "3.10.6"
  }
 },
 "nbformat": 4,
 "nbformat_minor": 5
}
