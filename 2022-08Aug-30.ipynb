{
 "cells": [
  {
   "cell_type": "markdown",
   "id": "e76cf6a4",
   "metadata": {},
   "source": [
    "# Agenda: Visualization\n",
    "\n",
    "1. Recap and Q&A\n",
    "2. Visualization in general -- what, where, how, etc.\n",
    "3. Different plot types\n",
    "    - Line plots\n",
    "    - Bar plots\n",
    "    - Histograms\n",
    "    - Pie plots\n",
    "    - Scatter plots\n",
    "    - Boxplots\n",
    "4. What next?\n",
    "    - Applying what you've learned\n",
    "    - Analytics vs machine learning\n",
    "5. Q&A    "
   ]
  },
  {
   "cell_type": "markdown",
   "id": "377fdbbc",
   "metadata": {},
   "source": [
    "# Recap \n",
    "\n",
    "The whole point of data analytics is to make sense of information we've gathered.  By using statistical techniques (including very simple calculations, such as mean, median, and std) we're able to understand the world, and our businesses better.  We can use that information to make better decisions going forward.\n",
    "\n",
    "Pandas allows us to read in two-dimensional data (typically from a CSV file) into a data frame:\n",
    "\n",
    "- Each row has an index (often numeric, but it doesn't have to be), and represents one sample, or one data point\n",
    "- Each column in our data frame has a different dtype, has a column name, and represents one facet/aspect of our data\n",
    "\n",
    "We've seen over the last few weeks that we can use a bunch of techniques to analyze this data:\n",
    "\n",
    "- Select rows and columns matching particular criteria, and then analyze those subsets of our data\n",
    "- Sort our data by index, or by values in our columns\n",
    "- Join multiple data frames together, a la SQL, to combine information from different sources\n",
    "- Group our data together, to get analysis per unique value in a category\n",
    "- If we have text in a column, we can use the `.str` accessor to run various string-related methods\n",
    "- If we have dates and times in a column, we can use the `.dt` accessor to run various date-related methods.\n",
    "- We can even perform date arithmetic, retrieving \"time delta\" values, so that we can look at the amount of time that has been spent doing an activity.\n"
   ]
  },
  {
   "cell_type": "markdown",
   "id": "0f4e785c",
   "metadata": {},
   "source": [
    "# Plotting and visualization\n",
    "\n",
    "Plotting has (at least) two purposes:\n",
    "\n",
    "1. To make our data accessible to people who don't have the time or inclination to read through long sets of numbers and make sense of them.  As people, we register images very quickly, and understand their meanings very quickly.\n",
    "2. You can get insights as to your data from the chart.  Humans are very good at identifying patterns, and we can often see a pattern in a chart, and then apply that insight back to our data."
   ]
  },
  {
   "cell_type": "markdown",
   "id": "a98272aa",
   "metadata": {},
   "source": [
    "# How do we plot?\n",
    "\n",
    "In the Python world, the 900-pound gorilla of plotting is known as \"Matplotlib.\" The good news is that Matplotlib can create any kind of plot you want, in any combination, with any colors, with any styles.\n",
    "\n",
    "The bad news is that Matplotlib is HORRIBLY COMPLEX to learn. And to use. And to remember.\n",
    "\n",
    "My preference (and what we'll do in this course) is to use a shell around Matplotlib, making it perhaps slightly less powerful, but much easier to use. The wrapper around Matplotlib that I like to use is ... Pandas!\n",
    "\n",
    "If we plot things via Pandas, Pandas will translate our requests into Matplotlib's requirements, and will give us fully formed Matplotlib plots! \n",
    "\n",
    "There are some other wrappers around Matplotlib, and one of them is known as Seaborn, which is very impressive."
   ]
  },
  {
   "cell_type": "code",
   "execution_count": 1,
   "id": "4bf89feb",
   "metadata": {},
   "outputs": [],
   "source": [
    "# in order for us to plot, we'll need load some things\n",
    "\n",
    "import numpy as np\n",
    "import pandas as pd\n",
    "from pandas import Series, DataFrame"
   ]
  },
  {
   "cell_type": "code",
   "execution_count": 2,
   "id": "d2ad7456",
   "metadata": {},
   "outputs": [],
   "source": [
    "s = Series(np.random.randint(0, 100, 10), \n",
    "          index=list('abcdefghij'))\n"
   ]
  },
  {
   "cell_type": "code",
   "execution_count": 3,
   "id": "ef45929c",
   "metadata": {},
   "outputs": [
    {
     "data": {
      "text/plain": [
       "a    22\n",
       "b     7\n",
       "c    79\n",
       "d    42\n",
       "e    84\n",
       "f     3\n",
       "g    44\n",
       "h    38\n",
       "i    35\n",
       "j    10\n",
       "dtype: int64"
      ]
     },
     "execution_count": 3,
     "metadata": {},
     "output_type": "execute_result"
    }
   ],
   "source": [
    "s"
   ]
  },
  {
   "cell_type": "code",
   "execution_count": 4,
   "id": "5719547a",
   "metadata": {},
   "outputs": [
    {
     "data": {
      "text/plain": [
       "<AxesSubplot:>"
      ]
     },
     "execution_count": 4,
     "metadata": {},
     "output_type": "execute_result"
    },
    {
     "data": {
      "image/png": "[encoded data removed]",
      "text/plain": [
       "<Figure size 432x288 with 1 Axes>"
      ]
     },
     "metadata": {
      "needs_background": "light"
     },
     "output_type": "display_data"
    }
   ],
   "source": [
    "# I can turn this into a \"line plot\" with a simple command:\n",
    "\n",
    "s.plot.line()"
   ]
  },
  {
   "cell_type": "markdown",
   "id": "1546a809",
   "metadata": {},
   "source": [
    "# Things to note\n",
    "\n",
    "1. The plot appears inside of Jupyter. Earlier versions of Matplotlib (or Jupyter) required that you set something, or import something, for this to work.  Now it works out of the box.\n",
    "2. The x axis reflects our index, and even shows every other value of the index.\n",
    "3. The y axis reflects our values, and is automatically scaled to show from 0 through the top value we need.\n",
    "4. The color, size, and other decorations are very plain -- we'll soon see how we can change these."
   ]
  },
  {
   "cell_type": "code",
   "execution_count": 5,
   "id": "078ddbcf",
   "metadata": {},
   "outputs": [
    {
     "name": "stdout",
     "output_type": "stream",
     "text": [
      "date_time,\"boston,ma_maxtempC\",\"boston,ma_mintempC\",\"boston,ma_totalSnow_cm\",\"boston,ma_sunHour\",\"boston,ma_uvIndex\",\"boston,ma_uvIndex\",\"boston,ma_moon_illumination\",\"boston,ma_moonrise\",\"boston,ma_moonset\",\"boston,ma_sunrise\",\"boston,ma_sunset\",\"boston,ma_DewPointC\",\"boston,ma_FeelsLikeC\",\"boston,ma_HeatIndexC\",\"boston,ma_WindChillC\",\"boston,ma_WindGustKmph\",\"boston,ma_cloudcover\",\"boston,ma_humidity\",\"boston,ma_precipMM\",\"boston,ma_pressure\",\"boston,ma_tempC\",\"boston,ma_visibility\",\"boston,ma_winddirDegree\",\"boston,ma_windspeedKmph\"\r\n",
      "2018-12-11 00:00:00,1,-4,0.0,8.7,2,0,21,10:19 AM,08:12 PM,07:03 AM,04:11 PM,-7,-3,0,-3,10,0,57,0.0,1022,-3,10,339,8\r\n",
      "2018-12-11 03:00:00,1,-4,0.0,8.7,2,0,21,10:19 AM,08:12 PM,07:03 AM,04:11 PM,-7,-1,1,-1,7,2,57,0.0,1023,-3,10,319,6\r\n",
      "2018-12-11 06:00:00,1,-4,0.0,8.7,2,0,21,10:19 AM,08:12 PM,07:03 AM,04:11 PM,-9,-5,-3,-5,8,4,60,0.0,1023,-4,10,334,7\r\n",
      "2018-12-11 09:00:00,1,-4,0.0,8.7,2,2,21,10:19 AM,08:12 PM,07:03 AM,04:11 PM,-9,1,1,1,3,6,49,0.0,1022,-1,10,334,3\r\n",
      "2018-12-11 12:00:00,1,-4,0.0,8.7,2,2,21,10:19 AM,08:12 PM,07:03 AM,04:11 PM,-6,4,5,4,6,2,44,0.0,1018,1,10,229,5\r\n",
      "2018-12-11 15:00:00,1,-4,0.0,8.7,2,2,21,10:19 AM,08:12 PM,07:03 AM,04:11 PM,-6,3,4,3,4,0,51,0.0,1016,-0,10,188,4\r\n",
      "2018-12-11 18:00:00,1,-4,0.0,8.7,2,0,21,10:19 AM,08:12 PM,07:03 AM,04:11 PM,-6,0,0,0,3,75,64,0.0,1015,-0,10,250,2\r\n",
      "2018-12-11 21:00:00,1,-4,0.0,8.7,2,0,21,10:19 AM,08:12 PM,07:03 AM,04:11 PM,-6,-2,-0,-2,8,85,66,0.0,1015,-1,10,313,6\r\n",
      "2018-12-12 00:00:00,2,-3,0.0,6.9,1,0,29,10:55 AM,09:10 PM,07:04 AM,04:12 PM,-8,-4,-1,-4,12,97,60,0.0,1013,-2,10,348,9\r\n"
     ]
    }
   ],
   "source": [
    "!head ../data/boston,ma.csv"
   ]
  },
  {
   "cell_type": "markdown",
   "id": "0877c550",
   "metadata": {},
   "source": [
    "# Exercise: Plotting Boston winter\n",
    "\n",
    "1. Read `boston,ma.csv` file into a data frame. We're only interested in three columns -- `boston,ma_mintempC`, `boston,ma_maxtempC` and `boston,ma_totalSnow_cm`.\n",
    "2. Create a line plot for the min-temp column.\n",
    "\n",
    "In the zipfile (https://files.lerner.co.il/pandas-workout-data.zip), you should find this file (among others)."
   ]
  },
  {
   "cell_type": "code",
   "execution_count": 8,
   "id": "b23b2d26",
   "metadata": {},
   "outputs": [
    {
     "data": {
      "text/html": [
       "<div>\n",
       "<style scoped>\n",
       "    .dataframe tbody tr th:only-of-type {\n",
       "        vertical-align: middle;\n",
       "    }\n",
       "\n",
       "    .dataframe tbody tr th {\n",
       "        vertical-align: top;\n",
       "    }\n",
       "\n",
       "    .dataframe thead th {\n",
       "        text-align: right;\n",
       "    }\n",
       "</style>\n",
       "<table border=\"1\" class=\"dataframe\">\n",
       "  <thead>\n",
       "    <tr style=\"text-align: right;\">\n",
       "      <th></th>\n",
       "      <th>boston,ma_maxtempC</th>\n",
       "      <th>boston,ma_mintempC</th>\n",
       "      <th>boston,ma_totalSnow_cm</th>\n",
       "    </tr>\n",
       "  </thead>\n",
       "  <tbody>\n",
       "    <tr>\n",
       "      <th>0</th>\n",
       "      <td>1</td>\n",
       "      <td>-4</td>\n",
       "      <td>0.0</td>\n",
       "    </tr>\n",
       "    <tr>\n",
       "      <th>1</th>\n",
       "      <td>1</td>\n",
       "      <td>-4</td>\n",
       "      <td>0.0</td>\n",
       "    </tr>\n",
       "    <tr>\n",
       "      <th>2</th>\n",
       "      <td>1</td>\n",
       "      <td>-4</td>\n",
       "      <td>0.0</td>\n",
       "    </tr>\n",
       "    <tr>\n",
       "      <th>3</th>\n",
       "      <td>1</td>\n",
       "      <td>-4</td>\n",
       "      <td>0.0</td>\n",
       "    </tr>\n",
       "    <tr>\n",
       "      <th>4</th>\n",
       "      <td>1</td>\n",
       "      <td>-4</td>\n",
       "      <td>0.0</td>\n",
       "    </tr>\n",
       "  </tbody>\n",
       "</table>\n",
       "</div>"
      ],
      "text/plain": [
       "   boston,ma_maxtempC  boston,ma_mintempC  boston,ma_totalSnow_cm\n",
       "0                   1                  -4                     0.0\n",
       "1                   1                  -4                     0.0\n",
       "2                   1                  -4                     0.0\n",
       "3                   1                  -4                     0.0\n",
       "4                   1                  -4                     0.0"
      ]
     },
     "execution_count": 8,
     "metadata": {},
     "output_type": "execute_result"
    }
   ],
   "source": [
    "df = pd.read_csv('boston,ma.csv',\n",
    "                usecols=['boston,ma_maxtempC', \n",
    "                        'boston,ma_mintempC',\n",
    "                        'boston,ma_totalSnow_cm'])\n",
    "df.head()"
   ]
  },
  {
   "cell_type": "code",
   "execution_count": 9,
   "id": "7982d328",
   "metadata": {},
   "outputs": [
    {
     "data": {
      "text/plain": [
       "(728, 3)"
      ]
     },
     "execution_count": 9,
     "metadata": {},
     "output_type": "execute_result"
    }
   ],
   "source": [
    "df.shape"
   ]
  },
  {
   "cell_type": "code",
   "execution_count": 10,
   "id": "1849a0de",
   "metadata": {},
   "outputs": [
    {
     "data": {
      "text/plain": [
       "boston,ma_maxtempC          int64\n",
       "boston,ma_mintempC          int64\n",
       "boston,ma_totalSnow_cm    float64\n",
       "dtype: object"
      ]
     },
     "execution_count": 10,
     "metadata": {},
     "output_type": "execute_result"
    }
   ],
   "source": [
    "df.dtypes"
   ]
  },
  {
   "cell_type": "code",
   "execution_count": 12,
   "id": "447e8576",
   "metadata": {},
   "outputs": [
    {
     "data": {
      "text/plain": [
       "<AxesSubplot:>"
      ]
     },
     "execution_count": 12,
     "metadata": {},
     "output_type": "execute_result"
    },
    {
     "data": {
      "image/png": "[encoded data removed]",
      "text/plain": [
       "<Figure size 432x288 with 1 Axes>"
      ]
     },
     "metadata": {
      "needs_background": "light"
     },
     "output_type": "display_data"
    }
   ],
   "source": [
    "# let's create a line plot for min temp\n",
    "df['boston,ma_mintempC'].plot.line()"
   ]
  },
  {
   "cell_type": "code",
   "execution_count": 13,
   "id": "9dcd122b",
   "metadata": {},
   "outputs": [
    {
     "data": {
      "text/html": [
       "<div>\n",
       "<style scoped>\n",
       "    .dataframe tbody tr th:only-of-type {\n",
       "        vertical-align: middle;\n",
       "    }\n",
       "\n",
       "    .dataframe tbody tr th {\n",
       "        vertical-align: top;\n",
       "    }\n",
       "\n",
       "    .dataframe thead th {\n",
       "        text-align: right;\n",
       "    }\n",
       "</style>\n",
       "<table border=\"1\" class=\"dataframe\">\n",
       "  <thead>\n",
       "    <tr style=\"text-align: right;\">\n",
       "      <th></th>\n",
       "      <th>boston,ma_maxtempC</th>\n",
       "      <th>boston,ma_mintempC</th>\n",
       "      <th>boston,ma_totalSnow_cm</th>\n",
       "    </tr>\n",
       "    <tr>\n",
       "      <th>date_time</th>\n",
       "      <th></th>\n",
       "      <th></th>\n",
       "      <th></th>\n",
       "    </tr>\n",
       "  </thead>\n",
       "  <tbody>\n",
       "    <tr>\n",
       "      <th>2018-12-11 00:00:00</th>\n",
       "      <td>1</td>\n",
       "      <td>-4</td>\n",
       "      <td>0.0</td>\n",
       "    </tr>\n",
       "    <tr>\n",
       "      <th>2018-12-11 03:00:00</th>\n",
       "      <td>1</td>\n",
       "      <td>-4</td>\n",
       "      <td>0.0</td>\n",
       "    </tr>\n",
       "    <tr>\n",
       "      <th>2018-12-11 06:00:00</th>\n",
       "      <td>1</td>\n",
       "      <td>-4</td>\n",
       "      <td>0.0</td>\n",
       "    </tr>\n",
       "    <tr>\n",
       "      <th>2018-12-11 09:00:00</th>\n",
       "      <td>1</td>\n",
       "      <td>-4</td>\n",
       "      <td>0.0</td>\n",
       "    </tr>\n",
       "    <tr>\n",
       "      <th>2018-12-11 12:00:00</th>\n",
       "      <td>1</td>\n",
       "      <td>-4</td>\n",
       "      <td>0.0</td>\n",
       "    </tr>\n",
       "  </tbody>\n",
       "</table>\n",
       "</div>"
      ],
      "text/plain": [
       "                     boston,ma_maxtempC  boston,ma_mintempC  \\\n",
       "date_time                                                     \n",
       "2018-12-11 00:00:00                   1                  -4   \n",
       "2018-12-11 03:00:00                   1                  -4   \n",
       "2018-12-11 06:00:00                   1                  -4   \n",
       "2018-12-11 09:00:00                   1                  -4   \n",
       "2018-12-11 12:00:00                   1                  -4   \n",
       "\n",
       "                     boston,ma_totalSnow_cm  \n",
       "date_time                                    \n",
       "2018-12-11 00:00:00                     0.0  \n",
       "2018-12-11 03:00:00                     0.0  \n",
       "2018-12-11 06:00:00                     0.0  \n",
       "2018-12-11 09:00:00                     0.0  \n",
       "2018-12-11 12:00:00                     0.0  "
      ]
     },
     "execution_count": 13,
     "metadata": {},
     "output_type": "execute_result"
    }
   ],
   "source": [
    "df = pd.read_csv('boston,ma.csv',\n",
    "                usecols=['date_time','boston,ma_maxtempC', \n",
    "                        'boston,ma_mintempC',\n",
    "                        'boston,ma_totalSnow_cm'],\n",
    "                parse_dates=['date_time'],\n",
    "                index_col='date_time')\n",
    "df.head()"
   ]
  },
  {
   "cell_type": "code",
   "execution_count": 14,
   "id": "e317ede6",
   "metadata": {},
   "outputs": [
    {
     "data": {
      "text/plain": [
       "<AxesSubplot:xlabel='date_time'>"
      ]
     },
     "execution_count": 14,
     "metadata": {},
     "output_type": "execute_result"
    },
    {
     "data": {
      "image/png": "[encoded data removed]",
      "text/plain": [
       "<Figure size 432x288 with 1 Axes>"
      ]
     },
     "metadata": {
      "needs_background": "light"
     },
     "output_type": "display_data"
    }
   ],
   "source": [
    "df['boston,ma_mintempC'].plot.line()"
   ]
  },
  {
   "cell_type": "code",
   "execution_count": 15,
   "id": "30c9770f",
   "metadata": {},
   "outputs": [
    {
     "data": {
      "text/plain": [
       "<AxesSubplot:title={'center':'Boston in the winter'}, xlabel='date_time'>"
      ]
     },
     "execution_count": 15,
     "metadata": {},
     "output_type": "execute_result"
    },
    {
     "data": {
      "image/png": "[encoded data removed]",
      "text/plain": [
       "<Figure size 432x288 with 1 Axes>"
      ]
     },
     "metadata": {
      "needs_background": "light"
     },
     "output_type": "display_data"
    }
   ],
   "source": [
    "# let's make our plot even snazzier\n",
    "# first: let's add a title\n",
    "\n",
    "df['boston,ma_mintempC'].plot.line(title='Boston in the winter')"
   ]
  },
  {
   "cell_type": "code",
   "execution_count": 31,
   "id": "19428d97",
   "metadata": {},
   "outputs": [
    {
     "data": {
      "text/plain": [
       "<AxesSubplot:title={'center':'Boston in the winter'}, xlabel='date_time'>"
      ]
     },
     "execution_count": 31,
     "metadata": {},
     "output_type": "execute_result"
    },
    {
     "data": {
      "image/png": "[encoded data removed]",
      "text/plain": [
       "<Figure size 432x288 with 1 Axes>"
      ]
     },
     "metadata": {
      "needs_background": "light"
     },
     "output_type": "display_data"
    }
   ],
   "source": [
    "df['boston,ma_mintempC'].plot.line(title='Boston in the winter',\n",
    "                                  color='#ff00ff',   # full red, 0 green, full blue == full purple\n",
    "                                  style='-o')        # use lines (-), and mark data with circles (o)"
   ]
  },
  {
   "cell_type": "code",
   "execution_count": 32,
   "id": "3748b3e7",
   "metadata": {},
   "outputs": [
    {
     "data": {
      "text/plain": [
       "<AxesSubplot:title={'center':'Boston in the winter'}, xlabel='date_time'>"
      ]
     },
     "execution_count": 32,
     "metadata": {},
     "output_type": "execute_result"
    },
    {
     "data": {
      "image/png": "[encoded data removed]",
      "text/plain": [
       "<Figure size 576x576 with 1 Axes>"
      ]
     },
     "metadata": {
      "needs_background": "light"
     },
     "output_type": "display_data"
    }
   ],
   "source": [
    "df['boston,ma_mintempC'].plot.line(title='Boston in the winter',\n",
    "                                  color='#ff00ff',   # full red, 0 green, full blue == full purple\n",
    "                                  style='-o',        # use lines (-), and mark data with circles (o)\n",
    "                                figsize=(8,8))"
   ]
  },
  {
   "cell_type": "code",
   "execution_count": 33,
   "id": "9f6f8e7c",
   "metadata": {},
   "outputs": [],
   "source": [
    "# what if I want to plot more than one column?\n",
    "\n",
    "# remember that nearly any method that can be invoked on a series can also be invoked on a data frame\n",
    "# when we do this, we get a result for each of the columns in the data frame"
   ]
  },
  {
   "cell_type": "code",
   "execution_count": 34,
   "id": "505cace6",
   "metadata": {},
   "outputs": [
    {
     "data": {
      "text/plain": [
       "-3.142857142857143"
      ]
     },
     "execution_count": 34,
     "metadata": {},
     "output_type": "execute_result"
    }
   ],
   "source": [
    "df['boston,ma_mintempC'].mean()   # mean temperature on a single column"
   ]
  },
  {
   "cell_type": "code",
   "execution_count": 35,
   "id": "f3439ac2",
   "metadata": {},
   "outputs": [
    {
     "data": {
      "text/plain": [
       "boston,ma_maxtempC        2.868132\n",
       "boston,ma_mintempC       -3.142857\n",
       "boston,ma_totalSnow_cm    0.826374\n",
       "dtype: float64"
      ]
     },
     "execution_count": 35,
     "metadata": {},
     "output_type": "execute_result"
    }
   ],
   "source": [
    "df.mean()"
   ]
  },
  {
   "cell_type": "code",
   "execution_count": 38,
   "id": "bbc52d27",
   "metadata": {},
   "outputs": [],
   "source": [
    "df.columns = ['max', 'min', 'snow']"
   ]
  },
  {
   "cell_type": "code",
   "execution_count": 45,
   "id": "e83e6d16",
   "metadata": {},
   "outputs": [
    {
     "data": {
      "text/plain": [
       "<AxesSubplot:xlabel='date_time'>"
      ]
     },
     "execution_count": 45,
     "metadata": {},
     "output_type": "execute_result"
    },
    {
     "data": {
      "image/png": "[encoded data removed]",
      "text/plain": [
       "<Figure size 720x720 with 1 Axes>"
      ]
     },
     "metadata": {
      "needs_background": "light"
     },
     "output_type": "display_data"
    }
   ],
   "source": [
    "df[['min', 'max']].plot.line(figsize=(10,10),\n",
    "                            color=['black', 'orange'])"
   ]
  },
  {
   "cell_type": "code",
   "execution_count": 47,
   "id": "6e719995",
   "metadata": {},
   "outputs": [
    {
     "data": {
      "text/plain": [
       "array([<AxesSubplot:xlabel='date_time'>, <AxesSubplot:xlabel='date_time'>],\n",
       "      dtype=object)"
      ]
     },
     "execution_count": 47,
     "metadata": {},
     "output_type": "execute_result"
    },
    {
     "data": {
      "image/png": "[encoded data removed]",
      "text/plain": [
       "<Figure size 576x576 with 2 Axes>"
      ]
     },
     "metadata": {
      "needs_background": "light"
     },
     "output_type": "display_data"
    }
   ],
   "source": [
    "# sometimes, you want to plot columns alongside one another, but you don't want them\n",
    "# in the same plot.\n",
    "\n",
    "# for this, we have \"subplots\"\n",
    "\n",
    "df[['min', 'max']].plot.line(subplots=True, figsize=(8,8))"
   ]
  },
  {
   "cell_type": "markdown",
   "id": "164b284b",
   "metadata": {},
   "source": [
    "# Exercise: More Boston winter plots\n",
    "\n",
    "1. Plot min, max, and snow all on the same plot. Min should be in blue, max should be in red, and snow should be in gray.  Make sure that there is a title for the plot.\n",
    "2. Replot these, but in several subplots."
   ]
  },
  {
   "cell_type": "code",
   "execution_count": 52,
   "id": "c668de0e",
   "metadata": {},
   "outputs": [
    {
     "data": {
      "text/plain": [
       "<AxesSubplot:xlabel='date_time'>"
      ]
     },
     "execution_count": 52,
     "metadata": {},
     "output_type": "execute_result"
    },
    {
     "data": {
      "image/png": "[encoded data removed]",
      "text/plain": [
       "<Figure size 720x720 with 1 Axes>"
      ]
     },
     "metadata": {
      "needs_background": "light"
     },
     "output_type": "display_data"
    }
   ],
   "source": [
    "df[['max', 'min', 'snow']].plot.line(figsize=(10,10),\n",
    "            color=['blue', 'red', 'gray'])"
   ]
  },
  {
   "cell_type": "code",
   "execution_count": 56,
   "id": "d59fb080",
   "metadata": {},
   "outputs": [
    {
     "data": {
      "text/plain": [
       "array([<AxesSubplot:xlabel='date_time'>, <AxesSubplot:xlabel='date_time'>,\n",
       "       <AxesSubplot:xlabel='date_time'>], dtype=object)"
      ]
     },
     "execution_count": 56,
     "metadata": {},
     "output_type": "execute_result"
    },
    {
     "data": {
      "image/png": "[encoded data removed]",
      "text/plain": [
       "<Figure size 720x720 with 3 Axes>"
      ]
     },
     "metadata": {
      "needs_background": "light"
     },
     "output_type": "display_data"
    }
   ],
   "source": [
    "df[['max', 'min', 'snow']].plot.line(figsize=(10,10),\n",
    "            color=['red', 'blue', 'gray'],\n",
    "                                    subplots=True)"
   ]
  },
  {
   "cell_type": "markdown",
   "id": "26938fc0",
   "metadata": {},
   "source": [
    "# Bar plots (bar charts)\n",
    "\n",
    "When we create a line plot, we have the index along the x axis and the values along the y axis.  Matplotlib plots a point at the value for each index.  It then draws lines between each of those dots.\n",
    "\n",
    "A bar plot does the same thing, in some ways: It plots the point for each index and each value. But instead of connecting those dots, it creates a vertical bar from the baseline all the way up to the value."
   ]
  },
  {
   "cell_type": "code",
   "execution_count": 63,
   "id": "8cc3eaf6",
   "metadata": {},
   "outputs": [
    {
     "data": {
      "text/plain": [
       "<AxesSubplot:xlabel='date_time'>"
      ]
     },
     "execution_count": 63,
     "metadata": {},
     "output_type": "execute_result"
    },
    {
     "data": {
      "image/png": "[encoded data removed]",
      "text/plain": [
       "<Figure size 576x576 with 1 Axes>"
      ]
     },
     "metadata": {
      "needs_background": "light"
     },
     "output_type": "display_data"
    }
   ],
   "source": [
    "# I'm just going to plot the first 20 rows of this data frame\n",
    "\n",
    "df.loc[:'2018-12-13 09:00:00', 'min'].plot.bar(figsize=(8,8))   # this creates a bar plot for our min column"
   ]
  },
  {
   "cell_type": "code",
   "execution_count": 64,
   "id": "8c6c78e8",
   "metadata": {},
   "outputs": [
    {
     "data": {
      "text/plain": [
       "<AxesSubplot:xlabel='date_time'>"
      ]
     },
     "execution_count": 64,
     "metadata": {},
     "output_type": "execute_result"
    },
    {
     "data": {
      "image/png": "[encoded data removed]",
      "text/plain": [
       "<Figure size 576x576 with 1 Axes>"
      ]
     },
     "metadata": {
      "needs_background": "light"
     },
     "output_type": "display_data"
    }
   ],
   "source": [
    "# If I want to plot both the min and the max, I can do that\n",
    "\n",
    "df.loc[:'2018-12-13 09:00:00',  # row selector\n",
    "       ['min', 'max']  # column selector\n",
    "      \n",
    "      ].plot.bar(figsize=(8,8))"
   ]
  },
  {
   "cell_type": "markdown",
   "id": "43d8b94c",
   "metadata": {},
   "source": [
    "# Next up\n",
    "\n",
    "- More with bar plots\n",
    "    - Stacking them\n",
    "    - Horizontal bar plots\n",
    "    - Limitations of line and bar plots\n",
    "- Histograms    \n",
    "- Pie plots\n",
    "    - `value_counts` and pie plots\n",
    "    \n",
    "    "
   ]
  },
  {
   "cell_type": "code",
   "execution_count": 66,
   "id": "7c31fef2",
   "metadata": {},
   "outputs": [
    {
     "data": {
      "text/html": [
       "<div>\n",
       "<style scoped>\n",
       "    .dataframe tbody tr th:only-of-type {\n",
       "        vertical-align: middle;\n",
       "    }\n",
       "\n",
       "    .dataframe tbody tr th {\n",
       "        vertical-align: top;\n",
       "    }\n",
       "\n",
       "    .dataframe thead th {\n",
       "        text-align: right;\n",
       "    }\n",
       "</style>\n",
       "<table border=\"1\" class=\"dataframe\">\n",
       "  <thead>\n",
       "    <tr style=\"text-align: right;\">\n",
       "      <th></th>\n",
       "      <th>price</th>\n",
       "      <th>sales</th>\n",
       "    </tr>\n",
       "    <tr>\n",
       "      <th>product_name</th>\n",
       "      <th></th>\n",
       "      <th></th>\n",
       "    </tr>\n",
       "  </thead>\n",
       "  <tbody>\n",
       "    <tr>\n",
       "      <th>apple</th>\n",
       "      <td>1.0</td>\n",
       "      <td>20</td>\n",
       "    </tr>\n",
       "    <tr>\n",
       "      <th>banana</th>\n",
       "      <td>1.2</td>\n",
       "      <td>15</td>\n",
       "    </tr>\n",
       "    <tr>\n",
       "      <th>cucumber</th>\n",
       "      <td>0.5</td>\n",
       "      <td>30</td>\n",
       "    </tr>\n",
       "    <tr>\n",
       "      <th>dill</th>\n",
       "      <td>2.0</td>\n",
       "      <td>10</td>\n",
       "    </tr>\n",
       "    <tr>\n",
       "      <th>endive</th>\n",
       "      <td>5.0</td>\n",
       "      <td>3</td>\n",
       "    </tr>\n",
       "  </tbody>\n",
       "</table>\n",
       "</div>"
      ],
      "text/plain": [
       "              price  sales\n",
       "product_name              \n",
       "apple           1.0     20\n",
       "banana          1.2     15\n",
       "cucumber        0.5     30\n",
       "dill            2.0     10\n",
       "endive          5.0      3"
      ]
     },
     "execution_count": 66,
     "metadata": {},
     "output_type": "execute_result"
    }
   ],
   "source": [
    "df = DataFrame([['apple', 1, 20],\n",
    "                ['banana', 1.2, 15],\n",
    "                ['cucumber', 0.5, 30],\n",
    "                ['dill', 2, 10],\n",
    "                ['endive', 5, 3]],\n",
    "              columns=['product_name', 'price', 'sales']).set_index('product_name')\n",
    "df"
   ]
  },
  {
   "cell_type": "code",
   "execution_count": 67,
   "id": "f8da7384",
   "metadata": {},
   "outputs": [
    {
     "data": {
      "text/plain": [
       "<AxesSubplot:xlabel='product_name'>"
      ]
     },
     "execution_count": 67,
     "metadata": {},
     "output_type": "execute_result"
    },
    {
     "data": {
      "image/png": "[encoded data removed]",
      "text/plain": [
       "<Figure size 432x288 with 1 Axes>"
      ]
     },
     "metadata": {
      "needs_background": "light"
     },
     "output_type": "display_data"
    }
   ],
   "source": [
    "df['price'].plot.bar()"
   ]
  },
  {
   "cell_type": "code",
   "execution_count": 68,
   "id": "9d853c48",
   "metadata": {},
   "outputs": [
    {
     "data": {
      "text/html": [
       "<div>\n",
       "<style scoped>\n",
       "    .dataframe tbody tr th:only-of-type {\n",
       "        vertical-align: middle;\n",
       "    }\n",
       "\n",
       "    .dataframe tbody tr th {\n",
       "        vertical-align: top;\n",
       "    }\n",
       "\n",
       "    .dataframe thead th {\n",
       "        text-align: right;\n",
       "    }\n",
       "</style>\n",
       "<table border=\"1\" class=\"dataframe\">\n",
       "  <thead>\n",
       "    <tr style=\"text-align: right;\">\n",
       "      <th></th>\n",
       "      <th>price</th>\n",
       "      <th>sales</th>\n",
       "      <th>tax</th>\n",
       "    </tr>\n",
       "    <tr>\n",
       "      <th>product_name</th>\n",
       "      <th></th>\n",
       "      <th></th>\n",
       "      <th></th>\n",
       "    </tr>\n",
       "  </thead>\n",
       "  <tbody>\n",
       "    <tr>\n",
       "      <th>apple</th>\n",
       "      <td>1.0</td>\n",
       "      <td>20</td>\n",
       "      <td>0.10</td>\n",
       "    </tr>\n",
       "    <tr>\n",
       "      <th>banana</th>\n",
       "      <td>1.2</td>\n",
       "      <td>15</td>\n",
       "      <td>0.12</td>\n",
       "    </tr>\n",
       "    <tr>\n",
       "      <th>cucumber</th>\n",
       "      <td>0.5</td>\n",
       "      <td>30</td>\n",
       "      <td>0.05</td>\n",
       "    </tr>\n",
       "    <tr>\n",
       "      <th>dill</th>\n",
       "      <td>2.0</td>\n",
       "      <td>10</td>\n",
       "      <td>0.20</td>\n",
       "    </tr>\n",
       "    <tr>\n",
       "      <th>endive</th>\n",
       "      <td>5.0</td>\n",
       "      <td>3</td>\n",
       "      <td>0.50</td>\n",
       "    </tr>\n",
       "  </tbody>\n",
       "</table>\n",
       "</div>"
      ],
      "text/plain": [
       "              price  sales   tax\n",
       "product_name                    \n",
       "apple           1.0     20  0.10\n",
       "banana          1.2     15  0.12\n",
       "cucumber        0.5     30  0.05\n",
       "dill            2.0     10  0.20\n",
       "endive          5.0      3  0.50"
      ]
     },
     "execution_count": 68,
     "metadata": {},
     "output_type": "execute_result"
    }
   ],
   "source": [
    "# what happens if there is 10% tax on each of our products?\n",
    "# I can create a \"tax\" column, and then \"total_price\" column \n",
    "\n",
    "df['tax'] = df['price'] * 0.1\n",
    "df"
   ]
  },
  {
   "cell_type": "code",
   "execution_count": 69,
   "id": "aff711f0",
   "metadata": {},
   "outputs": [
    {
     "data": {
      "text/html": [
       "<div>\n",
       "<style scoped>\n",
       "    .dataframe tbody tr th:only-of-type {\n",
       "        vertical-align: middle;\n",
       "    }\n",
       "\n",
       "    .dataframe tbody tr th {\n",
       "        vertical-align: top;\n",
       "    }\n",
       "\n",
       "    .dataframe thead th {\n",
       "        text-align: right;\n",
       "    }\n",
       "</style>\n",
       "<table border=\"1\" class=\"dataframe\">\n",
       "  <thead>\n",
       "    <tr style=\"text-align: right;\">\n",
       "      <th></th>\n",
       "      <th>price</th>\n",
       "      <th>sales</th>\n",
       "      <th>tax</th>\n",
       "      <th>total_price</th>\n",
       "    </tr>\n",
       "    <tr>\n",
       "      <th>product_name</th>\n",
       "      <th></th>\n",
       "      <th></th>\n",
       "      <th></th>\n",
       "      <th></th>\n",
       "    </tr>\n",
       "  </thead>\n",
       "  <tbody>\n",
       "    <tr>\n",
       "      <th>apple</th>\n",
       "      <td>1.0</td>\n",
       "      <td>20</td>\n",
       "      <td>0.10</td>\n",
       "      <td>1.10</td>\n",
       "    </tr>\n",
       "    <tr>\n",
       "      <th>banana</th>\n",
       "      <td>1.2</td>\n",
       "      <td>15</td>\n",
       "      <td>0.12</td>\n",
       "      <td>1.32</td>\n",
       "    </tr>\n",
       "    <tr>\n",
       "      <th>cucumber</th>\n",
       "      <td>0.5</td>\n",
       "      <td>30</td>\n",
       "      <td>0.05</td>\n",
       "      <td>0.55</td>\n",
       "    </tr>\n",
       "    <tr>\n",
       "      <th>dill</th>\n",
       "      <td>2.0</td>\n",
       "      <td>10</td>\n",
       "      <td>0.20</td>\n",
       "      <td>2.20</td>\n",
       "    </tr>\n",
       "    <tr>\n",
       "      <th>endive</th>\n",
       "      <td>5.0</td>\n",
       "      <td>3</td>\n",
       "      <td>0.50</td>\n",
       "      <td>5.50</td>\n",
       "    </tr>\n",
       "  </tbody>\n",
       "</table>\n",
       "</div>"
      ],
      "text/plain": [
       "              price  sales   tax  total_price\n",
       "product_name                                 \n",
       "apple           1.0     20  0.10         1.10\n",
       "banana          1.2     15  0.12         1.32\n",
       "cucumber        0.5     30  0.05         0.55\n",
       "dill            2.0     10  0.20         2.20\n",
       "endive          5.0      3  0.50         5.50"
      ]
     },
     "execution_count": 69,
     "metadata": {},
     "output_type": "execute_result"
    }
   ],
   "source": [
    "df['total_price'] = df['price'] + df['tax']\n",
    "df"
   ]
  },
  {
   "cell_type": "code",
   "execution_count": 70,
   "id": "c533e978",
   "metadata": {},
   "outputs": [
    {
     "data": {
      "text/plain": [
       "<AxesSubplot:xlabel='product_name'>"
      ]
     },
     "execution_count": 70,
     "metadata": {},
     "output_type": "execute_result"
    },
    {
     "data": {
      "image/png": "[encoded data removed]",
      "text/plain": [
       "<Figure size 432x288 with 1 Axes>"
      ]
     },
     "metadata": {
      "needs_background": "light"
     },
     "output_type": "display_data"
    }
   ],
   "source": [
    "df['total_price'].plot.bar()"
   ]
  },
  {
   "cell_type": "code",
   "execution_count": 71,
   "id": "7ed25da6",
   "metadata": {},
   "outputs": [
    {
     "data": {
      "text/plain": [
       "<AxesSubplot:xlabel='product_name'>"
      ]
     },
     "execution_count": 71,
     "metadata": {},
     "output_type": "execute_result"
    },
    {
     "data": {
      "image/png": "[encoded data removed]",
      "text/plain": [
       "<Figure size 432x288 with 1 Axes>"
      ]
     },
     "metadata": {
      "needs_background": "light"
     },
     "output_type": "display_data"
    }
   ],
   "source": [
    "df[['price', 'tax']].plot.bar()"
   ]
  },
  {
   "cell_type": "code",
   "execution_count": 72,
   "id": "e8332121",
   "metadata": {},
   "outputs": [
    {
     "data": {
      "text/plain": [
       "array([<AxesSubplot:title={'center':'price'}, xlabel='product_name'>,\n",
       "       <AxesSubplot:title={'center':'tax'}, xlabel='product_name'>],\n",
       "      dtype=object)"
      ]
     },
     "execution_count": 72,
     "metadata": {},
     "output_type": "execute_result"
    },
    {
     "data": {
      "image/png": "[encoded data removed]",
      "text/plain": [
       "<Figure size 432x288 with 2 Axes>"
      ]
     },
     "metadata": {
      "needs_background": "light"
     },
     "output_type": "display_data"
    }
   ],
   "source": [
    "# what I really want to see is the total price, broken down into price and tax (separately)\n",
    "# one thought: subplots\n",
    "\n",
    "df[['price', 'tax']].plot.bar(subplots=True)"
   ]
  },
  {
   "cell_type": "code",
   "execution_count": 73,
   "id": "46f91c29",
   "metadata": {},
   "outputs": [
    {
     "data": {
      "text/plain": [
       "<AxesSubplot:xlabel='product_name'>"
      ]
     },
     "execution_count": 73,
     "metadata": {},
     "output_type": "execute_result"
    },
    {
     "data": {
      "image/png": "[encoded data removed]",
      "text/plain": [
       "<Figure size 432x288 with 1 Axes>"
      ]
     },
     "metadata": {
      "needs_background": "light"
     },
     "output_type": "display_data"
    }
   ],
   "source": [
    "# I can instead ask for the bar plot to be \"stacked\"\n",
    "# meaning: for every index, create *one* bar, combining all of the different columns\n",
    "\n",
    "df[['price', 'tax']].plot.bar(stacked=True)"
   ]
  },
  {
   "cell_type": "markdown",
   "id": "ff9d5fc2",
   "metadata": {},
   "source": [
    "# Exercise: What makes up a taxi ride's price?\n",
    "\n",
    "1. Load taxi data (ideally, from the big January 2019 NYC taxi file, but if that's too big, you can just use `taxi.csv`, which is far smaller).\n",
    "2. When you load that data, you're going to want many more columns than before:\n",
    "    - `fare_amount`\n",
    "    - `extra`\n",
    "    - `mta_tax`\n",
    "    - `tip_amount`\n",
    "    - `tolls_amount`\n",
    "    - `improvement_surcharge`\n",
    "    - `congestion_surcharge`\n",
    "3. Create a stacked bar plot from the first 30 taxi rides in the system, showing how much of each total fare goes to each destination. \n",
    "4. Thought question: If someone says that the real problem with taxi rates is that the `mta_tax` is too high, what would you say?"
   ]
  },
  {
   "cell_type": "code",
   "execution_count": 75,
   "id": "6ca9ba4f",
   "metadata": {},
   "outputs": [],
   "source": [
    "df = pd.read_csv('../data/nyc_taxi_2019-01.csv',\n",
    "                usecols=['fare_amount', 'extra', 'mta_tax', 'tip_amount', 'tolls_amount', \n",
    "                         'improvement_surcharge', 'congestion_surcharge'])"
   ]
  },
  {
   "cell_type": "code",
   "execution_count": 76,
   "id": "2f3e60cb",
   "metadata": {},
   "outputs": [
    {
     "data": {
      "text/html": [
       "<div>\n",
       "<style scoped>\n",
       "    .dataframe tbody tr th:only-of-type {\n",
       "        vertical-align: middle;\n",
       "    }\n",
       "\n",
       "    .dataframe tbody tr th {\n",
       "        vertical-align: top;\n",
       "    }\n",
       "\n",
       "    .dataframe thead th {\n",
       "        text-align: right;\n",
       "    }\n",
       "</style>\n",
       "<table border=\"1\" class=\"dataframe\">\n",
       "  <thead>\n",
       "    <tr style=\"text-align: right;\">\n",
       "      <th></th>\n",
       "      <th>fare_amount</th>\n",
       "      <th>extra</th>\n",
       "      <th>mta_tax</th>\n",
       "      <th>tip_amount</th>\n",
       "      <th>tolls_amount</th>\n",
       "      <th>improvement_surcharge</th>\n",
       "      <th>congestion_surcharge</th>\n",
       "    </tr>\n",
       "  </thead>\n",
       "  <tbody>\n",
       "    <tr>\n",
       "      <th>0</th>\n",
       "      <td>7.0</td>\n",
       "      <td>0.5</td>\n",
       "      <td>0.5</td>\n",
       "      <td>1.65</td>\n",
       "      <td>0.0</td>\n",
       "      <td>0.3</td>\n",
       "      <td>NaN</td>\n",
       "    </tr>\n",
       "    <tr>\n",
       "      <th>1</th>\n",
       "      <td>14.0</td>\n",
       "      <td>0.5</td>\n",
       "      <td>0.5</td>\n",
       "      <td>1.00</td>\n",
       "      <td>0.0</td>\n",
       "      <td>0.3</td>\n",
       "      <td>NaN</td>\n",
       "    </tr>\n",
       "    <tr>\n",
       "      <th>2</th>\n",
       "      <td>4.5</td>\n",
       "      <td>0.5</td>\n",
       "      <td>0.5</td>\n",
       "      <td>0.00</td>\n",
       "      <td>0.0</td>\n",
       "      <td>0.3</td>\n",
       "      <td>NaN</td>\n",
       "    </tr>\n",
       "    <tr>\n",
       "      <th>3</th>\n",
       "      <td>3.5</td>\n",
       "      <td>0.5</td>\n",
       "      <td>0.5</td>\n",
       "      <td>0.00</td>\n",
       "      <td>0.0</td>\n",
       "      <td>0.3</td>\n",
       "      <td>NaN</td>\n",
       "    </tr>\n",
       "    <tr>\n",
       "      <th>4</th>\n",
       "      <td>52.0</td>\n",
       "      <td>0.0</td>\n",
       "      <td>0.5</td>\n",
       "      <td>0.00</td>\n",
       "      <td>0.0</td>\n",
       "      <td>0.3</td>\n",
       "      <td>NaN</td>\n",
       "    </tr>\n",
       "  </tbody>\n",
       "</table>\n",
       "</div>"
      ],
      "text/plain": [
       "   fare_amount  extra  mta_tax  tip_amount  tolls_amount  \\\n",
       "0          7.0    0.5      0.5        1.65           0.0   \n",
       "1         14.0    0.5      0.5        1.00           0.0   \n",
       "2          4.5    0.5      0.5        0.00           0.0   \n",
       "3          3.5    0.5      0.5        0.00           0.0   \n",
       "4         52.0    0.0      0.5        0.00           0.0   \n",
       "\n",
       "   improvement_surcharge  congestion_surcharge  \n",
       "0                    0.3                   NaN  \n",
       "1                    0.3                   NaN  \n",
       "2                    0.3                   NaN  \n",
       "3                    0.3                   NaN  \n",
       "4                    0.3                   NaN  "
      ]
     },
     "execution_count": 76,
     "metadata": {},
     "output_type": "execute_result"
    }
   ],
   "source": [
    "df.head()"
   ]
  },
  {
   "cell_type": "code",
   "execution_count": 79,
   "id": "1c72f753",
   "metadata": {},
   "outputs": [
    {
     "data": {
      "text/plain": [
       "<AxesSubplot:>"
      ]
     },
     "execution_count": 79,
     "metadata": {},
     "output_type": "execute_result"
    },
    {
     "data": {
      "image/png": "[encoded data removed]",
      "text/plain": [
       "<Figure size 720x720 with 1 Axes>"
      ]
     },
     "metadata": {
      "needs_background": "light"
     },
     "output_type": "display_data"
    }
   ],
   "source": [
    "df[:30].plot.bar(figsize=(10,10))"
   ]
  },
  {
   "cell_type": "code",
   "execution_count": 80,
   "id": "6759e983",
   "metadata": {},
   "outputs": [
    {
     "data": {
      "text/plain": [
       "<AxesSubplot:>"
      ]
     },
     "execution_count": 80,
     "metadata": {},
     "output_type": "execute_result"
    },
    {
     "data": {
      "image/png": "[encoded data removed]",
      "text/plain": [
       "<Figure size 720x720 with 1 Axes>"
      ]
     },
     "metadata": {
      "needs_background": "light"
     },
     "output_type": "display_data"
    }
   ],
   "source": [
    "df[:30].plot.bar(figsize=(10,10),stacked=True)"
   ]
  },
  {
   "cell_type": "code",
   "execution_count": 81,
   "id": "a8e8df9f",
   "metadata": {},
   "outputs": [
    {
     "data": {
      "text/plain": [
       "<AxesSubplot:>"
      ]
     },
     "execution_count": 81,
     "metadata": {},
     "output_type": "execute_result"
    },
    {
     "data": {
      "image/png": "[encoded data removed]",
      "text/plain": [
       "<Figure size 720x720 with 1 Axes>"
      ]
     },
     "metadata": {
      "needs_background": "light"
     },
     "output_type": "display_data"
    }
   ],
   "source": [
    "# Sometimes, I want a bar plot, but I want it to be horiontal, rather than vertical.\n",
    "# to do that, I can call plot.barh rather than plot.bar\n",
    "\n",
    "df[:30].plot.barh(figsize=(10,10),stacked=True)"
   ]
  },
  {
   "cell_type": "code",
   "execution_count": 82,
   "id": "8d52db1b",
   "metadata": {},
   "outputs": [
    {
     "data": {
      "text/html": [
       "<div>\n",
       "<style scoped>\n",
       "    .dataframe tbody tr th:only-of-type {\n",
       "        vertical-align: middle;\n",
       "    }\n",
       "\n",
       "    .dataframe tbody tr th {\n",
       "        vertical-align: top;\n",
       "    }\n",
       "\n",
       "    .dataframe thead th {\n",
       "        text-align: right;\n",
       "    }\n",
       "</style>\n",
       "<table border=\"1\" class=\"dataframe\">\n",
       "  <thead>\n",
       "    <tr style=\"text-align: right;\">\n",
       "      <th></th>\n",
       "      <th>fare_amount</th>\n",
       "      <th>extra</th>\n",
       "      <th>mta_tax</th>\n",
       "      <th>tip_amount</th>\n",
       "      <th>tolls_amount</th>\n",
       "      <th>improvement_surcharge</th>\n",
       "      <th>congestion_surcharge</th>\n",
       "    </tr>\n",
       "  </thead>\n",
       "  <tbody>\n",
       "    <tr>\n",
       "      <th>0</th>\n",
       "      <td>7.0</td>\n",
       "      <td>0.5</td>\n",
       "      <td>0.5</td>\n",
       "      <td>1.65</td>\n",
       "      <td>0.0</td>\n",
       "      <td>0.3</td>\n",
       "      <td>NaN</td>\n",
       "    </tr>\n",
       "    <tr>\n",
       "      <th>1</th>\n",
       "      <td>14.0</td>\n",
       "      <td>0.5</td>\n",
       "      <td>0.5</td>\n",
       "      <td>1.00</td>\n",
       "      <td>0.0</td>\n",
       "      <td>0.3</td>\n",
       "      <td>NaN</td>\n",
       "    </tr>\n",
       "    <tr>\n",
       "      <th>2</th>\n",
       "      <td>4.5</td>\n",
       "      <td>0.5</td>\n",
       "      <td>0.5</td>\n",
       "      <td>0.00</td>\n",
       "      <td>0.0</td>\n",
       "      <td>0.3</td>\n",
       "      <td>NaN</td>\n",
       "    </tr>\n",
       "    <tr>\n",
       "      <th>3</th>\n",
       "      <td>3.5</td>\n",
       "      <td>0.5</td>\n",
       "      <td>0.5</td>\n",
       "      <td>0.00</td>\n",
       "      <td>0.0</td>\n",
       "      <td>0.3</td>\n",
       "      <td>NaN</td>\n",
       "    </tr>\n",
       "    <tr>\n",
       "      <th>4</th>\n",
       "      <td>52.0</td>\n",
       "      <td>0.0</td>\n",
       "      <td>0.5</td>\n",
       "      <td>0.00</td>\n",
       "      <td>0.0</td>\n",
       "      <td>0.3</td>\n",
       "      <td>NaN</td>\n",
       "    </tr>\n",
       "  </tbody>\n",
       "</table>\n",
       "</div>"
      ],
      "text/plain": [
       "   fare_amount  extra  mta_tax  tip_amount  tolls_amount  \\\n",
       "0          7.0    0.5      0.5        1.65           0.0   \n",
       "1         14.0    0.5      0.5        1.00           0.0   \n",
       "2          4.5    0.5      0.5        0.00           0.0   \n",
       "3          3.5    0.5      0.5        0.00           0.0   \n",
       "4         52.0    0.0      0.5        0.00           0.0   \n",
       "\n",
       "   improvement_surcharge  congestion_surcharge  \n",
       "0                    0.3                   NaN  \n",
       "1                    0.3                   NaN  \n",
       "2                    0.3                   NaN  \n",
       "3                    0.3                   NaN  \n",
       "4                    0.3                   NaN  "
      ]
     },
     "execution_count": 82,
     "metadata": {},
     "output_type": "execute_result"
    }
   ],
   "source": [
    "df.head()"
   ]
  },
  {
   "cell_type": "markdown",
   "id": "3cdbac32",
   "metadata": {},
   "source": [
    "# Histograms\n",
    "\n",
    "A histogram is a great way to summarize the values in a data set. A histogram doesn't aim to provide us with perfect accuracy. Rather, it tells us how our data is distributed.\n",
    "\n",
    "In a histogram, the program looks at the lowest and higest values, and divides the area between them into 10 \"buckets\" or \"bins.\" It then goes through each value, assigning it to one of those bins.  It then shows how many items are in each bin."
   ]
  },
  {
   "cell_type": "code",
   "execution_count": 83,
   "id": "1f9f5ed4",
   "metadata": {},
   "outputs": [
    {
     "data": {
      "text/plain": [
       "0     7\n",
       "1     6\n",
       "2     5\n",
       "3     9\n",
       "4     4\n",
       "     ..\n",
       "95    0\n",
       "96    4\n",
       "97    4\n",
       "98    9\n",
       "99    3\n",
       "Length: 100, dtype: int64"
      ]
     },
     "execution_count": 83,
     "metadata": {},
     "output_type": "execute_result"
    }
   ],
   "source": [
    "s = Series(np.random.randint(0, 10, 100))\n",
    "s"
   ]
  },
  {
   "cell_type": "code",
   "execution_count": 84,
   "id": "6b0b5961",
   "metadata": {},
   "outputs": [
    {
     "data": {
      "text/plain": [
       "<AxesSubplot:ylabel='Frequency'>"
      ]
     },
     "execution_count": 84,
     "metadata": {},
     "output_type": "execute_result"
    },
    {
     "data": {
      "image/png": "[encoded data removed]",
      "text/plain": [
       "<Figure size 432x288 with 1 Axes>"
      ]
     },
     "metadata": {
      "needs_background": "light"
     },
     "output_type": "display_data"
    }
   ],
   "source": [
    "# I want to know how often each of these numbers appers in our series\n",
    "\n",
    "s.plot.hist()"
   ]
  },
  {
   "cell_type": "markdown",
   "id": "2057dda0",
   "metadata": {},
   "source": [
    "# Exercise: Histograms\n",
    "\n",
    "1. Read in the taxi data, including the `tpep_pickup_datetime`, `passenger_count`, `tip_amount`, `total_amount`, and `trip_distance`.\n",
    "2. Create a histogram showing how often each number of passengers travels in a taxi.\n",
    "3. Create a histogram showing the distribution of tip percentages (i.e., `tip_amount` / `total_amount`).\n"
   ]
  },
  {
   "cell_type": "code",
   "execution_count": 96,
   "id": "c14ee719",
   "metadata": {},
   "outputs": [],
   "source": [
    "df = pd.read_csv('../data/nyc_taxi_2019-01.csv',\n",
    "                usecols=['tpep_pickup_datetime', 'passenger_count', 'tip_amount', 'total_amount', 'trip_distance'],\n",
    "                parse_dates=['tpep_pickup_datetime'])"
   ]
  },
  {
   "cell_type": "code",
   "execution_count": 87,
   "id": "abf81018",
   "metadata": {},
   "outputs": [
    {
     "data": {
      "text/html": [
       "<div>\n",
       "<style scoped>\n",
       "    .dataframe tbody tr th:only-of-type {\n",
       "        vertical-align: middle;\n",
       "    }\n",
       "\n",
       "    .dataframe tbody tr th {\n",
       "        vertical-align: top;\n",
       "    }\n",
       "\n",
       "    .dataframe thead th {\n",
       "        text-align: right;\n",
       "    }\n",
       "</style>\n",
       "<table border=\"1\" class=\"dataframe\">\n",
       "  <thead>\n",
       "    <tr style=\"text-align: right;\">\n",
       "      <th></th>\n",
       "      <th>tpep_pickup_datetime</th>\n",
       "      <th>passenger_count</th>\n",
       "      <th>trip_distance</th>\n",
       "      <th>tip_amount</th>\n",
       "      <th>total_amount</th>\n",
       "    </tr>\n",
       "  </thead>\n",
       "  <tbody>\n",
       "    <tr>\n",
       "      <th>0</th>\n",
       "      <td>2019-01-01 00:46:40</td>\n",
       "      <td>1</td>\n",
       "      <td>1.5</td>\n",
       "      <td>1.65</td>\n",
       "      <td>9.95</td>\n",
       "    </tr>\n",
       "    <tr>\n",
       "      <th>1</th>\n",
       "      <td>2019-01-01 00:59:47</td>\n",
       "      <td>1</td>\n",
       "      <td>2.6</td>\n",
       "      <td>1.00</td>\n",
       "      <td>16.30</td>\n",
       "    </tr>\n",
       "    <tr>\n",
       "      <th>2</th>\n",
       "      <td>2018-12-21 13:48:30</td>\n",
       "      <td>3</td>\n",
       "      <td>0.0</td>\n",
       "      <td>0.00</td>\n",
       "      <td>5.80</td>\n",
       "    </tr>\n",
       "    <tr>\n",
       "      <th>3</th>\n",
       "      <td>2018-11-28 15:52:25</td>\n",
       "      <td>5</td>\n",
       "      <td>0.0</td>\n",
       "      <td>0.00</td>\n",
       "      <td>7.55</td>\n",
       "    </tr>\n",
       "    <tr>\n",
       "      <th>4</th>\n",
       "      <td>2018-11-28 15:56:57</td>\n",
       "      <td>5</td>\n",
       "      <td>0.0</td>\n",
       "      <td>0.00</td>\n",
       "      <td>55.55</td>\n",
       "    </tr>\n",
       "  </tbody>\n",
       "</table>\n",
       "</div>"
      ],
      "text/plain": [
       "  tpep_pickup_datetime  passenger_count  trip_distance  tip_amount  \\\n",
       "0  2019-01-01 00:46:40                1            1.5        1.65   \n",
       "1  2019-01-01 00:59:47                1            2.6        1.00   \n",
       "2  2018-12-21 13:48:30                3            0.0        0.00   \n",
       "3  2018-11-28 15:52:25                5            0.0        0.00   \n",
       "4  2018-11-28 15:56:57                5            0.0        0.00   \n",
       "\n",
       "   total_amount  \n",
       "0          9.95  \n",
       "1         16.30  \n",
       "2          5.80  \n",
       "3          7.55  \n",
       "4         55.55  "
      ]
     },
     "execution_count": 87,
     "metadata": {},
     "output_type": "execute_result"
    }
   ],
   "source": [
    "df.head()"
   ]
  },
  {
   "cell_type": "code",
   "execution_count": 88,
   "id": "8fbd2b94",
   "metadata": {
    "scrolled": true
   },
   "outputs": [
    {
     "data": {
      "text/plain": [
       "tpep_pickup_datetime    datetime64[ns]\n",
       "passenger_count                  int64\n",
       "trip_distance                  float64\n",
       "tip_amount                     float64\n",
       "total_amount                   float64\n",
       "dtype: object"
      ]
     },
     "execution_count": 88,
     "metadata": {},
     "output_type": "execute_result"
    }
   ],
   "source": [
    "df.dtypes"
   ]
  },
  {
   "cell_type": "code",
   "execution_count": 89,
   "id": "4d4c06c3",
   "metadata": {},
   "outputs": [
    {
     "data": {
      "text/plain": [
       "<AxesSubplot:ylabel='Frequency'>"
      ]
     },
     "execution_count": 89,
     "metadata": {},
     "output_type": "execute_result"
    },
    {
     "data": {
      "image/png": "[encoded data removed]",
      "text/plain": [
       "<Figure size 432x288 with 1 Axes>"
      ]
     },
     "metadata": {
      "needs_background": "light"
     },
     "output_type": "display_data"
    }
   ],
   "source": [
    "# histogram showing how often each number of passengers travels in a taxi\n",
    "df['passenger_count'].plot.hist()"
   ]
  },
  {
   "cell_type": "code",
   "execution_count": 90,
   "id": "6cedaf95",
   "metadata": {},
   "outputs": [
    {
     "data": {
      "text/plain": [
       "(7667792, 5)"
      ]
     },
     "execution_count": 90,
     "metadata": {},
     "output_type": "execute_result"
    }
   ],
   "source": [
    "df.shape"
   ]
  },
  {
   "cell_type": "code",
   "execution_count": 92,
   "id": "1d9f7fae",
   "metadata": {},
   "outputs": [
    {
     "data": {
      "text/plain": [
       "<AxesSubplot:ylabel='Frequency'>"
      ]
     },
     "execution_count": 92,
     "metadata": {},
     "output_type": "execute_result"
    },
    {
     "data": {
      "image/png": "[encoded data removed]",
      "text/plain": [
       "<Figure size 432x288 with 1 Axes>"
      ]
     },
     "metadata": {
      "needs_background": "light"
     },
     "output_type": "display_data"
    }
   ],
   "source": [
    "(df['tip_amount'] / df['total_amount']).plot.hist()"
   ]
  },
  {
   "cell_type": "code",
   "execution_count": 97,
   "id": "b8ee27c7",
   "metadata": {},
   "outputs": [
    {
     "data": {
      "text/plain": [
       "(7659247, 5)"
      ]
     },
     "execution_count": 97,
     "metadata": {},
     "output_type": "execute_result"
    }
   ],
   "source": [
    "# remove all total_amounts <= and tip_amounts <0\n",
    "\n",
    "df = df.loc[(df['tip_amount'] >= 0) & (df['total_amount'] > 0)]\n",
    "df.shape"
   ]
  },
  {
   "cell_type": "code",
   "execution_count": 98,
   "id": "370bbff0",
   "metadata": {},
   "outputs": [
    {
     "data": {
      "text/plain": [
       "<AxesSubplot:ylabel='Frequency'>"
      ]
     },
     "execution_count": 98,
     "metadata": {},
     "output_type": "execute_result"
    },
    {
     "data": {
      "image/png": "[encoded data removed]",
      "text/plain": [
       "<Figure size 432x288 with 1 Axes>"
      ]
     },
     "metadata": {
      "needs_background": "light"
     },
     "output_type": "display_data"
    }
   ],
   "source": [
    "(df['tip_amount'] / df['total_amount']).plot.hist()"
   ]
  },
  {
   "cell_type": "code",
   "execution_count": 100,
   "id": "3ac60653",
   "metadata": {},
   "outputs": [
    {
     "data": {
      "text/plain": [
       "<AxesSubplot:ylabel='Frequency'>"
      ]
     },
     "execution_count": 100,
     "metadata": {},
     "output_type": "execute_result"
    },
    {
     "data": {
      "image/png": "[encoded data removed]",
      "text/plain": [
       "<Figure size 432x288 with 1 Axes>"
      ]
     },
     "metadata": {
      "needs_background": "light"
     },
     "output_type": "display_data"
    }
   ],
   "source": [
    "# I want to break this down even further\n",
    "# I can control the number of bins in my histogram (not the default 10)\n",
    "\n",
    "(df['tip_amount'] / df['total_amount']).plot.hist(bins=50)"
   ]
  },
  {
   "cell_type": "code",
   "execution_count": 101,
   "id": "b5dee063",
   "metadata": {},
   "outputs": [
    {
     "data": {
      "text/plain": [
       "(5257377, 5)"
      ]
     },
     "execution_count": 101,
     "metadata": {},
     "output_type": "execute_result"
    }
   ],
   "source": [
    "# remove all total_amounts < and tip_amounts <0\n",
    "\n",
    "df = df.loc[(df['tip_amount'] > 0) & (df['total_amount'] > 0)]\n",
    "df.shape"
   ]
  },
  {
   "cell_type": "code",
   "execution_count": 103,
   "id": "da3379f0",
   "metadata": {},
   "outputs": [
    {
     "data": {
      "text/plain": [
       "<AxesSubplot:ylabel='Frequency'>"
      ]
     },
     "execution_count": 103,
     "metadata": {},
     "output_type": "execute_result"
    },
    {
     "data": {
      "image/png": "[encoded data removed]",
      "text/plain": [
       "<Figure size 432x288 with 1 Axes>"
      ]
     },
     "metadata": {
      "needs_background": "light"
     },
     "output_type": "display_data"
    }
   ],
   "source": [
    "(df['tip_amount'] / df['total_amount']).plot.hist(bins=20)"
   ]
  },
  {
   "cell_type": "code",
   "execution_count": 104,
   "id": "23f10d6d",
   "metadata": {},
   "outputs": [
    {
     "data": {
      "text/html": [
       "<div>\n",
       "<style scoped>\n",
       "    .dataframe tbody tr th:only-of-type {\n",
       "        vertical-align: middle;\n",
       "    }\n",
       "\n",
       "    .dataframe tbody tr th {\n",
       "        vertical-align: top;\n",
       "    }\n",
       "\n",
       "    .dataframe thead th {\n",
       "        text-align: right;\n",
       "    }\n",
       "</style>\n",
       "<table border=\"1\" class=\"dataframe\">\n",
       "  <thead>\n",
       "    <tr style=\"text-align: right;\">\n",
       "      <th></th>\n",
       "      <th>price</th>\n",
       "      <th>sales</th>\n",
       "    </tr>\n",
       "    <tr>\n",
       "      <th>product_name</th>\n",
       "      <th></th>\n",
       "      <th></th>\n",
       "    </tr>\n",
       "  </thead>\n",
       "  <tbody>\n",
       "    <tr>\n",
       "      <th>apple</th>\n",
       "      <td>1.0</td>\n",
       "      <td>20</td>\n",
       "    </tr>\n",
       "    <tr>\n",
       "      <th>banana</th>\n",
       "      <td>1.2</td>\n",
       "      <td>15</td>\n",
       "    </tr>\n",
       "    <tr>\n",
       "      <th>cucumber</th>\n",
       "      <td>0.5</td>\n",
       "      <td>30</td>\n",
       "    </tr>\n",
       "    <tr>\n",
       "      <th>dill</th>\n",
       "      <td>2.0</td>\n",
       "      <td>10</td>\n",
       "    </tr>\n",
       "    <tr>\n",
       "      <th>endive</th>\n",
       "      <td>5.0</td>\n",
       "      <td>3</td>\n",
       "    </tr>\n",
       "  </tbody>\n",
       "</table>\n",
       "</div>"
      ],
      "text/plain": [
       "              price  sales\n",
       "product_name              \n",
       "apple           1.0     20\n",
       "banana          1.2     15\n",
       "cucumber        0.5     30\n",
       "dill            2.0     10\n",
       "endive          5.0      3"
      ]
     },
     "execution_count": 104,
     "metadata": {},
     "output_type": "execute_result"
    }
   ],
   "source": [
    "df = DataFrame([['apple', 1, 20],\n",
    "                ['banana', 1.2, 15],\n",
    "                ['cucumber', 0.5, 30],\n",
    "                ['dill', 2, 10],\n",
    "                ['endive', 5, 3]],\n",
    "              columns=['product_name', 'price', 'sales']).set_index('product_name')\n",
    "df"
   ]
  },
  {
   "cell_type": "code",
   "execution_count": 105,
   "id": "aedbe28d",
   "metadata": {},
   "outputs": [
    {
     "data": {
      "text/html": [
       "<div>\n",
       "<style scoped>\n",
       "    .dataframe tbody tr th:only-of-type {\n",
       "        vertical-align: middle;\n",
       "    }\n",
       "\n",
       "    .dataframe tbody tr th {\n",
       "        vertical-align: top;\n",
       "    }\n",
       "\n",
       "    .dataframe thead th {\n",
       "        text-align: right;\n",
       "    }\n",
       "</style>\n",
       "<table border=\"1\" class=\"dataframe\">\n",
       "  <thead>\n",
       "    <tr style=\"text-align: right;\">\n",
       "      <th></th>\n",
       "      <th>price</th>\n",
       "      <th>sales</th>\n",
       "      <th>income</th>\n",
       "    </tr>\n",
       "    <tr>\n",
       "      <th>product_name</th>\n",
       "      <th></th>\n",
       "      <th></th>\n",
       "      <th></th>\n",
       "    </tr>\n",
       "  </thead>\n",
       "  <tbody>\n",
       "    <tr>\n",
       "      <th>apple</th>\n",
       "      <td>1.0</td>\n",
       "      <td>20</td>\n",
       "      <td>20.0</td>\n",
       "    </tr>\n",
       "    <tr>\n",
       "      <th>banana</th>\n",
       "      <td>1.2</td>\n",
       "      <td>15</td>\n",
       "      <td>18.0</td>\n",
       "    </tr>\n",
       "    <tr>\n",
       "      <th>cucumber</th>\n",
       "      <td>0.5</td>\n",
       "      <td>30</td>\n",
       "      <td>15.0</td>\n",
       "    </tr>\n",
       "    <tr>\n",
       "      <th>dill</th>\n",
       "      <td>2.0</td>\n",
       "      <td>10</td>\n",
       "      <td>20.0</td>\n",
       "    </tr>\n",
       "    <tr>\n",
       "      <th>endive</th>\n",
       "      <td>5.0</td>\n",
       "      <td>3</td>\n",
       "      <td>15.0</td>\n",
       "    </tr>\n",
       "  </tbody>\n",
       "</table>\n",
       "</div>"
      ],
      "text/plain": [
       "              price  sales  income\n",
       "product_name                      \n",
       "apple           1.0     20    20.0\n",
       "banana          1.2     15    18.0\n",
       "cucumber        0.5     30    15.0\n",
       "dill            2.0     10    20.0\n",
       "endive          5.0      3    15.0"
      ]
     },
     "execution_count": 105,
     "metadata": {},
     "output_type": "execute_result"
    }
   ],
   "source": [
    "# I want to know how much of my income is coming from each product\n",
    "\n",
    "df['income'] = df['price'] * df['sales']\n",
    "df"
   ]
  },
  {
   "cell_type": "code",
   "execution_count": 107,
   "id": "be0ba0be",
   "metadata": {},
   "outputs": [
    {
     "data": {
      "text/plain": [
       "product_name\n",
       "apple       0.227273\n",
       "banana      0.204545\n",
       "cucumber    0.170455\n",
       "dill        0.227273\n",
       "endive      0.170455\n",
       "Name: income, dtype: float64"
      ]
     },
     "execution_count": 107,
     "metadata": {},
     "output_type": "execute_result"
    }
   ],
   "source": [
    "# I want to know: Of the total income, how much comes from each product?\n",
    "\n",
    "# option 1: sum the income column, and then show the proportion of income from each product\n",
    "\n",
    "df['income'] / df['income'].sum()"
   ]
  },
  {
   "cell_type": "code",
   "execution_count": 110,
   "id": "67cf91a0",
   "metadata": {},
   "outputs": [
    {
     "data": {
      "text/plain": [
       "<AxesSubplot:ylabel='income'>"
      ]
     },
     "execution_count": 110,
     "metadata": {},
     "output_type": "execute_result"
    },
    {
     "data": {
      "image/png": "[encoded data removed]",
      "text/plain": [
       "<Figure size 432x288 with 1 Axes>"
      ]
     },
     "metadata": {},
     "output_type": "display_data"
    }
   ],
   "source": [
    "# option 2: I can use a pie plot, which graphically renders the same calculation we just did\n",
    "\n",
    "df['income'].plot.pie()"
   ]
  },
  {
   "cell_type": "code",
   "execution_count": 111,
   "id": "ebaf2f11",
   "metadata": {},
   "outputs": [
    {
     "data": {
      "text/plain": [
       "<AxesSubplot:ylabel='price'>"
      ]
     },
     "execution_count": 111,
     "metadata": {},
     "output_type": "execute_result"
    },
    {
     "data": {
      "image/png": "[encoded data removed]",
      "text/plain": [
       "<Figure size 432x288 with 1 Axes>"
      ]
     },
     "metadata": {},
     "output_type": "display_data"
    }
   ],
   "source": [
    "# a pie plot is only appropriate where you have a numeric column, and you want to\n",
    "# see the proportion of that total provided by each row.\n",
    "\n",
    "df['price'].plot.pie()  # does this make any sense? No!"
   ]
  },
  {
   "cell_type": "code",
   "execution_count": 112,
   "id": "54870bea",
   "metadata": {},
   "outputs": [],
   "source": [
    "# it's not uncommon to combine value_counts with a pie plot\n",
    "# if you have a column that isn't summable, but you are interested in how often each particular\n",
    "#  value appears, then you might want to use value_counts, get a series back, and then\n",
    "#  get a pie plot for that series\n"
   ]
  },
  {
   "cell_type": "markdown",
   "id": "a221ed41",
   "metadata": {},
   "source": [
    "# Exercise: Taxi pie plots\n",
    "\n",
    "1. Read in the taxi data, including the `tpep_pickup_datetime`, `passenger_count`, `tip_amount`, `total_amount`, and `trip_distance`.\n",
    "2. Create a pie plot, showing the distribution of `passenger_count`.\n",
    "3. Add a new column to the data frame, for `cost_category`. It should contain one of three values: `low` for any trip under 5 dollars, `high` for any trip above 50 dollars, and `medium` for any others. Now produce a pie plot showing the distribution of high/medium/low cost trips."
   ]
  },
  {
   "cell_type": "code",
   "execution_count": 113,
   "id": "1be205ff",
   "metadata": {},
   "outputs": [],
   "source": [
    "df = pd.read_csv('../data/nyc_taxi_2019-01.csv',\n",
    "                usecols=['tpep_pickup_datetime', 'passenger_count', 'tip_amount', 'total_amount', 'trip_distance'],\n",
    "                parse_dates=['tpep_pickup_datetime'])"
   ]
  },
  {
   "cell_type": "code",
   "execution_count": 114,
   "id": "31855a91",
   "metadata": {},
   "outputs": [
    {
     "data": {
      "text/plain": [
       "12016030"
      ]
     },
     "execution_count": 114,
     "metadata": {},
     "output_type": "execute_result"
    }
   ],
   "source": [
    "# don't do this!\n",
    "\n",
    "# this would show: for each taxi ride, what proportion of that 12m passengers were in the car?\n",
    "# df['passenger_count'].plot.pie()"
   ]
  },
  {
   "cell_type": "code",
   "execution_count": 115,
   "id": "9f9e994b",
   "metadata": {},
   "outputs": [
    {
     "data": {
      "text/plain": [
       "1    5456121\n",
       "2    1114106\n",
       "5     323842\n",
       "3     314721\n",
       "6     200811\n",
       "4     140753\n",
       "0     117381\n",
       "8         29\n",
       "7         19\n",
       "9          9\n",
       "Name: passenger_count, dtype: int64"
      ]
     },
     "execution_count": 115,
     "metadata": {},
     "output_type": "execute_result"
    }
   ],
   "source": [
    "df['passenger_count'].value_counts()"
   ]
  },
  {
   "cell_type": "code",
   "execution_count": 116,
   "id": "7349be64",
   "metadata": {},
   "outputs": [
    {
     "data": {
      "text/plain": [
       "<AxesSubplot:ylabel='passenger_count'>"
      ]
     },
     "execution_count": 116,
     "metadata": {},
     "output_type": "execute_result"
    },
    {
     "data": {
      "image/png": "[encoded data removed]",
      "text/plain": [
       "<Figure size 432x288 with 1 Axes>"
      ]
     },
     "metadata": {},
     "output_type": "display_data"
    }
   ],
   "source": [
    "df['passenger_count'].value_counts().plot.pie()"
   ]
  },
  {
   "cell_type": "code",
   "execution_count": 117,
   "id": "e9bb3155",
   "metadata": {},
   "outputs": [
    {
     "data": {
      "text/plain": [
       "1    0.711564\n",
       "2    0.145297\n",
       "5    0.042234\n",
       "3    0.041045\n",
       "6    0.026189\n",
       "4    0.018356\n",
       "0    0.015308\n",
       "8    0.000004\n",
       "7    0.000002\n",
       "9    0.000001\n",
       "Name: passenger_count, dtype: float64"
      ]
     },
     "execution_count": 117,
     "metadata": {},
     "output_type": "execute_result"
    }
   ],
   "source": [
    "df['passenger_count'].value_counts(normalize=True)"
   ]
  },
  {
   "cell_type": "code",
   "execution_count": 118,
   "id": "3016bc45",
   "metadata": {},
   "outputs": [],
   "source": [
    "# 3. Add a new column to the data frame, for `cost_category`. \n",
    "# It should contain one of three values: `low` for any trip under 5 dollars, \n",
    "# `high` for any trip above 50 dollars, and `medium` for any others. \n",
    "# Now produce a pie plot showing the distribution of high/medium/low cost trips.\n",
    "\n",
    "df['cost_category'] = 'medium'"
   ]
  },
  {
   "cell_type": "code",
   "execution_count": 119,
   "id": "68212bb0",
   "metadata": {},
   "outputs": [
    {
     "data": {
      "text/html": [
       "<div>\n",
       "<style scoped>\n",
       "    .dataframe tbody tr th:only-of-type {\n",
       "        vertical-align: middle;\n",
       "    }\n",
       "\n",
       "    .dataframe tbody tr th {\n",
       "        vertical-align: top;\n",
       "    }\n",
       "\n",
       "    .dataframe thead th {\n",
       "        text-align: right;\n",
       "    }\n",
       "</style>\n",
       "<table border=\"1\" class=\"dataframe\">\n",
       "  <thead>\n",
       "    <tr style=\"text-align: right;\">\n",
       "      <th></th>\n",
       "      <th>tpep_pickup_datetime</th>\n",
       "      <th>passenger_count</th>\n",
       "      <th>trip_distance</th>\n",
       "      <th>tip_amount</th>\n",
       "      <th>total_amount</th>\n",
       "      <th>cost_category</th>\n",
       "    </tr>\n",
       "  </thead>\n",
       "  <tbody>\n",
       "    <tr>\n",
       "      <th>0</th>\n",
       "      <td>2019-01-01 00:46:40</td>\n",
       "      <td>1</td>\n",
       "      <td>1.5</td>\n",
       "      <td>1.65</td>\n",
       "      <td>9.95</td>\n",
       "      <td>medium</td>\n",
       "    </tr>\n",
       "    <tr>\n",
       "      <th>1</th>\n",
       "      <td>2019-01-01 00:59:47</td>\n",
       "      <td>1</td>\n",
       "      <td>2.6</td>\n",
       "      <td>1.00</td>\n",
       "      <td>16.30</td>\n",
       "      <td>medium</td>\n",
       "    </tr>\n",
       "    <tr>\n",
       "      <th>2</th>\n",
       "      <td>2018-12-21 13:48:30</td>\n",
       "      <td>3</td>\n",
       "      <td>0.0</td>\n",
       "      <td>0.00</td>\n",
       "      <td>5.80</td>\n",
       "      <td>medium</td>\n",
       "    </tr>\n",
       "    <tr>\n",
       "      <th>3</th>\n",
       "      <td>2018-11-28 15:52:25</td>\n",
       "      <td>5</td>\n",
       "      <td>0.0</td>\n",
       "      <td>0.00</td>\n",
       "      <td>7.55</td>\n",
       "      <td>medium</td>\n",
       "    </tr>\n",
       "    <tr>\n",
       "      <th>4</th>\n",
       "      <td>2018-11-28 15:56:57</td>\n",
       "      <td>5</td>\n",
       "      <td>0.0</td>\n",
       "      <td>0.00</td>\n",
       "      <td>55.55</td>\n",
       "      <td>medium</td>\n",
       "    </tr>\n",
       "  </tbody>\n",
       "</table>\n",
       "</div>"
      ],
      "text/plain": [
       "  tpep_pickup_datetime  passenger_count  trip_distance  tip_amount  \\\n",
       "0  2019-01-01 00:46:40                1            1.5        1.65   \n",
       "1  2019-01-01 00:59:47                1            2.6        1.00   \n",
       "2  2018-12-21 13:48:30                3            0.0        0.00   \n",
       "3  2018-11-28 15:52:25                5            0.0        0.00   \n",
       "4  2018-11-28 15:56:57                5            0.0        0.00   \n",
       "\n",
       "   total_amount cost_category  \n",
       "0          9.95        medium  \n",
       "1         16.30        medium  \n",
       "2          5.80        medium  \n",
       "3          7.55        medium  \n",
       "4         55.55        medium  "
      ]
     },
     "execution_count": 119,
     "metadata": {},
     "output_type": "execute_result"
    }
   ],
   "source": [
    "df.head()"
   ]
  },
  {
   "cell_type": "code",
   "execution_count": 123,
   "id": "873f42bc",
   "metadata": {},
   "outputs": [],
   "source": [
    "df['cost_category'] = 'medium'\n",
    "df.loc[df['total_amount'] < 5, 'cost_category'] = 'low'\n",
    "df.loc[df['total_amount'] > 50, 'cost_category'] = 'high'"
   ]
  },
  {
   "cell_type": "code",
   "execution_count": 124,
   "id": "e9fabd7f",
   "metadata": {},
   "outputs": [
    {
     "data": {
      "text/html": [
       "<div>\n",
       "<style scoped>\n",
       "    .dataframe tbody tr th:only-of-type {\n",
       "        vertical-align: middle;\n",
       "    }\n",
       "\n",
       "    .dataframe tbody tr th {\n",
       "        vertical-align: top;\n",
       "    }\n",
       "\n",
       "    .dataframe thead th {\n",
       "        text-align: right;\n",
       "    }\n",
       "</style>\n",
       "<table border=\"1\" class=\"dataframe\">\n",
       "  <thead>\n",
       "    <tr style=\"text-align: right;\">\n",
       "      <th></th>\n",
       "      <th>tpep_pickup_datetime</th>\n",
       "      <th>passenger_count</th>\n",
       "      <th>trip_distance</th>\n",
       "      <th>tip_amount</th>\n",
       "      <th>total_amount</th>\n",
       "      <th>cost_category</th>\n",
       "    </tr>\n",
       "  </thead>\n",
       "  <tbody>\n",
       "    <tr>\n",
       "      <th>0</th>\n",
       "      <td>2019-01-01 00:46:40</td>\n",
       "      <td>1</td>\n",
       "      <td>1.5</td>\n",
       "      <td>1.65</td>\n",
       "      <td>9.95</td>\n",
       "      <td>medium</td>\n",
       "    </tr>\n",
       "    <tr>\n",
       "      <th>1</th>\n",
       "      <td>2019-01-01 00:59:47</td>\n",
       "      <td>1</td>\n",
       "      <td>2.6</td>\n",
       "      <td>1.00</td>\n",
       "      <td>16.30</td>\n",
       "      <td>medium</td>\n",
       "    </tr>\n",
       "    <tr>\n",
       "      <th>2</th>\n",
       "      <td>2018-12-21 13:48:30</td>\n",
       "      <td>3</td>\n",
       "      <td>0.0</td>\n",
       "      <td>0.00</td>\n",
       "      <td>5.80</td>\n",
       "      <td>medium</td>\n",
       "    </tr>\n",
       "    <tr>\n",
       "      <th>3</th>\n",
       "      <td>2018-11-28 15:52:25</td>\n",
       "      <td>5</td>\n",
       "      <td>0.0</td>\n",
       "      <td>0.00</td>\n",
       "      <td>7.55</td>\n",
       "      <td>medium</td>\n",
       "    </tr>\n",
       "    <tr>\n",
       "      <th>4</th>\n",
       "      <td>2018-11-28 15:56:57</td>\n",
       "      <td>5</td>\n",
       "      <td>0.0</td>\n",
       "      <td>0.00</td>\n",
       "      <td>55.55</td>\n",
       "      <td>high</td>\n",
       "    </tr>\n",
       "  </tbody>\n",
       "</table>\n",
       "</div>"
      ],
      "text/plain": [
       "  tpep_pickup_datetime  passenger_count  trip_distance  tip_amount  \\\n",
       "0  2019-01-01 00:46:40                1            1.5        1.65   \n",
       "1  2019-01-01 00:59:47                1            2.6        1.00   \n",
       "2  2018-12-21 13:48:30                3            0.0        0.00   \n",
       "3  2018-11-28 15:52:25                5            0.0        0.00   \n",
       "4  2018-11-28 15:56:57                5            0.0        0.00   \n",
       "\n",
       "   total_amount cost_category  \n",
       "0          9.95        medium  \n",
       "1         16.30        medium  \n",
       "2          5.80        medium  \n",
       "3          7.55        medium  \n",
       "4         55.55          high  "
      ]
     },
     "execution_count": 124,
     "metadata": {},
     "output_type": "execute_result"
    }
   ],
   "source": [
    "df.head()"
   ]
  },
  {
   "cell_type": "code",
   "execution_count": 126,
   "id": "e4b3d700",
   "metadata": {},
   "outputs": [
    {
     "data": {
      "text/plain": [
       "<AxesSubplot:ylabel='cost_category'>"
      ]
     },
     "execution_count": 126,
     "metadata": {},
     "output_type": "execute_result"
    },
    {
     "data": {
      "image/png": "[encoded data removed]",
      "text/plain": [
       "<Figure size 432x288 with 1 Axes>"
      ]
     },
     "metadata": {},
     "output_type": "display_data"
    }
   ],
   "source": [
    "df['cost_category'].value_counts().plot.pie()"
   ]
  },
  {
   "cell_type": "code",
   "execution_count": 133,
   "id": "af3b3d98",
   "metadata": {
    "scrolled": true
   },
   "outputs": [],
   "source": [
    "# another way to categorize a numeric column is with pd.cut\n",
    "\n",
    "df['cost_category'] = pd.cut(df['total_amount'],\n",
    "     bins=[df['total_amount'].min(), 5, 50, df['total_amount'].max()],\n",
    "       labels=['low', 'medium', 'high']\n",
    "      )"
   ]
  },
  {
   "cell_type": "code",
   "execution_count": 134,
   "id": "e54b446b",
   "metadata": {},
   "outputs": [
    {
     "data": {
      "text/plain": [
       "<AxesSubplot:ylabel='cost_category'>"
      ]
     },
     "execution_count": 134,
     "metadata": {},
     "output_type": "execute_result"
    },
    {
     "data": {
      "image/png": "[encoded data removed]",
      "text/plain": [
       "<Figure size 432x288 with 1 Axes>"
      ]
     },
     "metadata": {},
     "output_type": "display_data"
    }
   ],
   "source": [
    "df['cost_category'].value_counts().plot.pie()"
   ]
  },
  {
   "cell_type": "markdown",
   "id": "80462db2",
   "metadata": {},
   "source": [
    "# Next up:\n",
    "\n",
    "0. Re-run pd.cut\n",
    "1. Histograms and pie plots + multiple columns\n",
    "2. Scatter plots\n",
    "3. What next?\n",
    "\n"
   ]
  },
  {
   "cell_type": "code",
   "execution_count": 135,
   "id": "12a86811",
   "metadata": {},
   "outputs": [
    {
     "data": {
      "text/html": [
       "<div>\n",
       "<style scoped>\n",
       "    .dataframe tbody tr th:only-of-type {\n",
       "        vertical-align: middle;\n",
       "    }\n",
       "\n",
       "    .dataframe tbody tr th {\n",
       "        vertical-align: top;\n",
       "    }\n",
       "\n",
       "    .dataframe thead th {\n",
       "        text-align: right;\n",
       "    }\n",
       "</style>\n",
       "<table border=\"1\" class=\"dataframe\">\n",
       "  <thead>\n",
       "    <tr style=\"text-align: right;\">\n",
       "      <th></th>\n",
       "      <th>tpep_pickup_datetime</th>\n",
       "      <th>passenger_count</th>\n",
       "      <th>trip_distance</th>\n",
       "      <th>tip_amount</th>\n",
       "      <th>total_amount</th>\n",
       "      <th>cost_category</th>\n",
       "    </tr>\n",
       "  </thead>\n",
       "  <tbody>\n",
       "    <tr>\n",
       "      <th>0</th>\n",
       "      <td>2019-01-01 00:46:40</td>\n",
       "      <td>1</td>\n",
       "      <td>1.5</td>\n",
       "      <td>1.65</td>\n",
       "      <td>9.95</td>\n",
       "      <td>medium</td>\n",
       "    </tr>\n",
       "    <tr>\n",
       "      <th>1</th>\n",
       "      <td>2019-01-01 00:59:47</td>\n",
       "      <td>1</td>\n",
       "      <td>2.6</td>\n",
       "      <td>1.00</td>\n",
       "      <td>16.30</td>\n",
       "      <td>medium</td>\n",
       "    </tr>\n",
       "    <tr>\n",
       "      <th>2</th>\n",
       "      <td>2018-12-21 13:48:30</td>\n",
       "      <td>3</td>\n",
       "      <td>0.0</td>\n",
       "      <td>0.00</td>\n",
       "      <td>5.80</td>\n",
       "      <td>medium</td>\n",
       "    </tr>\n",
       "    <tr>\n",
       "      <th>3</th>\n",
       "      <td>2018-11-28 15:52:25</td>\n",
       "      <td>5</td>\n",
       "      <td>0.0</td>\n",
       "      <td>0.00</td>\n",
       "      <td>7.55</td>\n",
       "      <td>medium</td>\n",
       "    </tr>\n",
       "    <tr>\n",
       "      <th>4</th>\n",
       "      <td>2018-11-28 15:56:57</td>\n",
       "      <td>5</td>\n",
       "      <td>0.0</td>\n",
       "      <td>0.00</td>\n",
       "      <td>55.55</td>\n",
       "      <td>high</td>\n",
       "    </tr>\n",
       "  </tbody>\n",
       "</table>\n",
       "</div>"
      ],
      "text/plain": [
       "  tpep_pickup_datetime  passenger_count  trip_distance  tip_amount  \\\n",
       "0  2019-01-01 00:46:40                1            1.5        1.65   \n",
       "1  2019-01-01 00:59:47                1            2.6        1.00   \n",
       "2  2018-12-21 13:48:30                3            0.0        0.00   \n",
       "3  2018-11-28 15:52:25                5            0.0        0.00   \n",
       "4  2018-11-28 15:56:57                5            0.0        0.00   \n",
       "\n",
       "   total_amount cost_category  \n",
       "0          9.95        medium  \n",
       "1         16.30        medium  \n",
       "2          5.80        medium  \n",
       "3          7.55        medium  \n",
       "4         55.55          high  "
      ]
     },
     "execution_count": 135,
     "metadata": {},
     "output_type": "execute_result"
    }
   ],
   "source": [
    "df.head()"
   ]
  },
  {
   "cell_type": "code",
   "execution_count": 136,
   "id": "2d6f8d06",
   "metadata": {},
   "outputs": [
    {
     "data": {
      "text/plain": [
       "<AxesSubplot:ylabel='Frequency'>"
      ]
     },
     "execution_count": 136,
     "metadata": {},
     "output_type": "execute_result"
    },
    {
     "data": {
      "image/png": "[encoded data removed]",
      "text/plain": [
       "<Figure size 432x288 with 1 Axes>"
      ]
     },
     "metadata": {
      "needs_background": "light"
     },
     "output_type": "display_data"
    }
   ],
   "source": [
    "# let's see a histogram of trip_distance\n",
    "df['trip_distance'].plot.hist()"
   ]
  },
  {
   "cell_type": "code",
   "execution_count": 137,
   "id": "d76b9249",
   "metadata": {},
   "outputs": [
    {
     "data": {
      "text/plain": [
       "<AxesSubplot:ylabel='Frequency'>"
      ]
     },
     "execution_count": 137,
     "metadata": {},
     "output_type": "execute_result"
    },
    {
     "data": {
      "image/png": "[encoded data removed]",
      "text/plain": [
       "<Figure size 432x288 with 1 Axes>"
      ]
     },
     "metadata": {
      "needs_background": "light"
     },
     "output_type": "display_data"
    }
   ],
   "source": [
    "df['total_amount'].plot.hist()"
   ]
  },
  {
   "cell_type": "code",
   "execution_count": 138,
   "id": "0d9fe03c",
   "metadata": {},
   "outputs": [
    {
     "data": {
      "text/plain": [
       "<AxesSubplot:ylabel='Frequency'>"
      ]
     },
     "execution_count": 138,
     "metadata": {},
     "output_type": "execute_result"
    },
    {
     "data": {
      "image/png": "[encoded data removed]",
      "text/plain": [
       "<Figure size 432x288 with 1 Axes>"
      ]
     },
     "metadata": {
      "needs_background": "light"
     },
     "output_type": "display_data"
    }
   ],
   "source": [
    "# this is useless!\n",
    "# don't put multiple histograms on the same plot!\n",
    "\n",
    "df[['trip_distance', 'total_amount']].plot.hist()"
   ]
  },
  {
   "cell_type": "code",
   "execution_count": 139,
   "id": "1584e213",
   "metadata": {},
   "outputs": [
    {
     "data": {
      "text/plain": [
       "array([<AxesSubplot:ylabel='Frequency'>, <AxesSubplot:ylabel='Frequency'>],\n",
       "      dtype=object)"
      ]
     },
     "execution_count": 139,
     "metadata": {},
     "output_type": "execute_result"
    },
    {
     "data": {
      "image/png": "[encoded data removed]",
      "text/plain": [
       "<Figure size 432x288 with 2 Axes>"
      ]
     },
     "metadata": {
      "needs_background": "light"
     },
     "output_type": "display_data"
    }
   ],
   "source": [
    "df[['trip_distance', 'total_amount']].plot.hist(subplots=True)"
   ]
  },
  {
   "cell_type": "code",
   "execution_count": 143,
   "id": "51f6a300",
   "metadata": {},
   "outputs": [
    {
     "data": {
      "text/plain": [
       "<AxesSubplot:ylabel='Frequency'>"
      ]
     },
     "execution_count": 143,
     "metadata": {},
     "output_type": "execute_result"
    },
    {
     "data": {
      "image/png": "[encoded data removed]",
      "text/plain": [
       "<Figure size 432x288 with 1 Axes>"
      ]
     },
     "metadata": {
      "needs_background": "light"
     },
     "output_type": "display_data"
    }
   ],
   "source": [
    "df['tpep_pickup_datetime'].dt.day_of_week.plot.hist()"
   ]
  },
  {
   "cell_type": "code",
   "execution_count": 144,
   "id": "2158e725",
   "metadata": {},
   "outputs": [
    {
     "data": {
      "text/html": [
       "<div>\n",
       "<style scoped>\n",
       "    .dataframe tbody tr th:only-of-type {\n",
       "        vertical-align: middle;\n",
       "    }\n",
       "\n",
       "    .dataframe tbody tr th {\n",
       "        vertical-align: top;\n",
       "    }\n",
       "\n",
       "    .dataframe thead th {\n",
       "        text-align: right;\n",
       "    }\n",
       "</style>\n",
       "<table border=\"1\" class=\"dataframe\">\n",
       "  <thead>\n",
       "    <tr style=\"text-align: right;\">\n",
       "      <th></th>\n",
       "      <th>tpep_pickup_datetime</th>\n",
       "      <th>passenger_count</th>\n",
       "      <th>trip_distance</th>\n",
       "      <th>tip_amount</th>\n",
       "      <th>total_amount</th>\n",
       "      <th>cost_category</th>\n",
       "    </tr>\n",
       "  </thead>\n",
       "  <tbody>\n",
       "    <tr>\n",
       "      <th>0</th>\n",
       "      <td>2019-01-01 00:46:40</td>\n",
       "      <td>1</td>\n",
       "      <td>1.5</td>\n",
       "      <td>1.65</td>\n",
       "      <td>9.95</td>\n",
       "      <td>medium</td>\n",
       "    </tr>\n",
       "    <tr>\n",
       "      <th>1</th>\n",
       "      <td>2019-01-01 00:59:47</td>\n",
       "      <td>1</td>\n",
       "      <td>2.6</td>\n",
       "      <td>1.00</td>\n",
       "      <td>16.30</td>\n",
       "      <td>medium</td>\n",
       "    </tr>\n",
       "    <tr>\n",
       "      <th>2</th>\n",
       "      <td>2018-12-21 13:48:30</td>\n",
       "      <td>3</td>\n",
       "      <td>0.0</td>\n",
       "      <td>0.00</td>\n",
       "      <td>5.80</td>\n",
       "      <td>medium</td>\n",
       "    </tr>\n",
       "    <tr>\n",
       "      <th>3</th>\n",
       "      <td>2018-11-28 15:52:25</td>\n",
       "      <td>5</td>\n",
       "      <td>0.0</td>\n",
       "      <td>0.00</td>\n",
       "      <td>7.55</td>\n",
       "      <td>medium</td>\n",
       "    </tr>\n",
       "    <tr>\n",
       "      <th>4</th>\n",
       "      <td>2018-11-28 15:56:57</td>\n",
       "      <td>5</td>\n",
       "      <td>0.0</td>\n",
       "      <td>0.00</td>\n",
       "      <td>55.55</td>\n",
       "      <td>high</td>\n",
       "    </tr>\n",
       "  </tbody>\n",
       "</table>\n",
       "</div>"
      ],
      "text/plain": [
       "  tpep_pickup_datetime  passenger_count  trip_distance  tip_amount  \\\n",
       "0  2019-01-01 00:46:40                1            1.5        1.65   \n",
       "1  2019-01-01 00:59:47                1            2.6        1.00   \n",
       "2  2018-12-21 13:48:30                3            0.0        0.00   \n",
       "3  2018-11-28 15:52:25                5            0.0        0.00   \n",
       "4  2018-11-28 15:56:57                5            0.0        0.00   \n",
       "\n",
       "   total_amount cost_category  \n",
       "0          9.95        medium  \n",
       "1         16.30        medium  \n",
       "2          5.80        medium  \n",
       "3          7.55        medium  \n",
       "4         55.55          high  "
      ]
     },
     "execution_count": 144,
     "metadata": {},
     "output_type": "execute_result"
    }
   ],
   "source": [
    "df.head()"
   ]
  },
  {
   "cell_type": "code",
   "execution_count": 145,
   "id": "f41be369",
   "metadata": {},
   "outputs": [
    {
     "data": {
      "text/html": [
       "<div>\n",
       "<style scoped>\n",
       "    .dataframe tbody tr th:only-of-type {\n",
       "        vertical-align: middle;\n",
       "    }\n",
       "\n",
       "    .dataframe tbody tr th {\n",
       "        vertical-align: top;\n",
       "    }\n",
       "\n",
       "    .dataframe thead th {\n",
       "        text-align: right;\n",
       "    }\n",
       "</style>\n",
       "<table border=\"1\" class=\"dataframe\">\n",
       "  <thead>\n",
       "    <tr style=\"text-align: right;\">\n",
       "      <th></th>\n",
       "      <th>price</th>\n",
       "      <th>sales</th>\n",
       "    </tr>\n",
       "    <tr>\n",
       "      <th>product_name</th>\n",
       "      <th></th>\n",
       "      <th></th>\n",
       "    </tr>\n",
       "  </thead>\n",
       "  <tbody>\n",
       "    <tr>\n",
       "      <th>apple</th>\n",
       "      <td>1.0</td>\n",
       "      <td>20</td>\n",
       "    </tr>\n",
       "    <tr>\n",
       "      <th>banana</th>\n",
       "      <td>1.2</td>\n",
       "      <td>15</td>\n",
       "    </tr>\n",
       "    <tr>\n",
       "      <th>cucumber</th>\n",
       "      <td>0.5</td>\n",
       "      <td>30</td>\n",
       "    </tr>\n",
       "    <tr>\n",
       "      <th>dill</th>\n",
       "      <td>2.0</td>\n",
       "      <td>10</td>\n",
       "    </tr>\n",
       "    <tr>\n",
       "      <th>endive</th>\n",
       "      <td>5.0</td>\n",
       "      <td>3</td>\n",
       "    </tr>\n",
       "  </tbody>\n",
       "</table>\n",
       "</div>"
      ],
      "text/plain": [
       "              price  sales\n",
       "product_name              \n",
       "apple           1.0     20\n",
       "banana          1.2     15\n",
       "cucumber        0.5     30\n",
       "dill            2.0     10\n",
       "endive          5.0      3"
      ]
     },
     "execution_count": 145,
     "metadata": {},
     "output_type": "execute_result"
    }
   ],
   "source": [
    "df = DataFrame([['apple', 1, 20],\n",
    "                ['banana', 1.2, 15],\n",
    "                ['cucumber', 0.5, 30],\n",
    "                ['dill', 2, 10],\n",
    "                ['endive', 5, 3]],\n",
    "              columns=['product_name', 'price', 'sales']).set_index('product_name')\n",
    "df"
   ]
  },
  {
   "cell_type": "code",
   "execution_count": 148,
   "id": "af7de1a9",
   "metadata": {},
   "outputs": [
    {
     "data": {
      "text/plain": [
       "array([<AxesSubplot:ylabel='price'>, <AxesSubplot:ylabel='sales'>],\n",
       "      dtype=object)"
      ]
     },
     "execution_count": 148,
     "metadata": {},
     "output_type": "execute_result"
    },
    {
     "data": {
      "image/png": "[encoded data removed]",
      "text/plain": [
       "<Figure size 720x720 with 2 Axes>"
      ]
     },
     "metadata": {},
     "output_type": "display_data"
    }
   ],
   "source": [
    "df.plot.pie(subplots=True, figsize=(10, 10))"
   ]
  },
  {
   "cell_type": "markdown",
   "id": "e0cb0ef7",
   "metadata": {},
   "source": [
    "# Scatter plot\n",
    "\n",
    "A scatter plot is a way to understand the relationship between two numeric columns in your data frame. We choose one column, and ask for its values to be plotted along the x axis. We choose a second column, and ask for its corresponding values to be plotted along the y axis.  "
   ]
  },
  {
   "cell_type": "code",
   "execution_count": 149,
   "id": "1edb0b0a",
   "metadata": {},
   "outputs": [
    {
     "data": {
      "text/html": [
       "<div>\n",
       "<style scoped>\n",
       "    .dataframe tbody tr th:only-of-type {\n",
       "        vertical-align: middle;\n",
       "    }\n",
       "\n",
       "    .dataframe tbody tr th {\n",
       "        vertical-align: top;\n",
       "    }\n",
       "\n",
       "    .dataframe thead th {\n",
       "        text-align: right;\n",
       "    }\n",
       "</style>\n",
       "<table border=\"1\" class=\"dataframe\">\n",
       "  <thead>\n",
       "    <tr style=\"text-align: right;\">\n",
       "      <th></th>\n",
       "      <th>price</th>\n",
       "      <th>sales</th>\n",
       "    </tr>\n",
       "    <tr>\n",
       "      <th>product_name</th>\n",
       "      <th></th>\n",
       "      <th></th>\n",
       "    </tr>\n",
       "  </thead>\n",
       "  <tbody>\n",
       "    <tr>\n",
       "      <th>apple</th>\n",
       "      <td>1.0</td>\n",
       "      <td>20</td>\n",
       "    </tr>\n",
       "    <tr>\n",
       "      <th>banana</th>\n",
       "      <td>1.2</td>\n",
       "      <td>15</td>\n",
       "    </tr>\n",
       "    <tr>\n",
       "      <th>cucumber</th>\n",
       "      <td>0.5</td>\n",
       "      <td>30</td>\n",
       "    </tr>\n",
       "    <tr>\n",
       "      <th>dill</th>\n",
       "      <td>2.0</td>\n",
       "      <td>10</td>\n",
       "    </tr>\n",
       "    <tr>\n",
       "      <th>endive</th>\n",
       "      <td>5.0</td>\n",
       "      <td>3</td>\n",
       "    </tr>\n",
       "  </tbody>\n",
       "</table>\n",
       "</div>"
      ],
      "text/plain": [
       "              price  sales\n",
       "product_name              \n",
       "apple           1.0     20\n",
       "banana          1.2     15\n",
       "cucumber        0.5     30\n",
       "dill            2.0     10\n",
       "endive          5.0      3"
      ]
     },
     "execution_count": 149,
     "metadata": {},
     "output_type": "execute_result"
    }
   ],
   "source": [
    "df"
   ]
  },
  {
   "cell_type": "code",
   "execution_count": 150,
   "id": "ed7c74c3",
   "metadata": {},
   "outputs": [
    {
     "data": {
      "text/plain": [
       "<AxesSubplot:xlabel='price', ylabel='sales'>"
      ]
     },
     "execution_count": 150,
     "metadata": {},
     "output_type": "execute_result"
    },
    {
     "data": {
      "image/png": "[encoded data removed]",
      "text/plain": [
       "<Figure size 432x288 with 1 Axes>"
      ]
     },
     "metadata": {
      "needs_background": "light"
     },
     "output_type": "display_data"
    }
   ],
   "source": [
    "# my question is: is there a correlation between the price and the sales for each product?\n",
    "\n",
    "# If there's a positive correlation, then a scatter plot should have a diagonal line pointing up and to the right\n",
    "# If there's a negative correlation, the diagonal line should point down to the right\n",
    "# if there's no correlation, then it should just be a mess, with no line\n",
    "\n",
    "# let's plot:\n",
    "# - x axis will be price\n",
    "# - y axis will be sales\n",
    "\n",
    "df.plot.scatter(x='price', y='sales')"
   ]
  },
  {
   "cell_type": "code",
   "execution_count": 151,
   "id": "e98602f9",
   "metadata": {},
   "outputs": [
    {
     "data": {
      "text/html": [
       "<div>\n",
       "<style scoped>\n",
       "    .dataframe tbody tr th:only-of-type {\n",
       "        vertical-align: middle;\n",
       "    }\n",
       "\n",
       "    .dataframe tbody tr th {\n",
       "        vertical-align: top;\n",
       "    }\n",
       "\n",
       "    .dataframe thead th {\n",
       "        text-align: right;\n",
       "    }\n",
       "</style>\n",
       "<table border=\"1\" class=\"dataframe\">\n",
       "  <thead>\n",
       "    <tr style=\"text-align: right;\">\n",
       "      <th></th>\n",
       "      <th>price</th>\n",
       "      <th>sales</th>\n",
       "    </tr>\n",
       "  </thead>\n",
       "  <tbody>\n",
       "    <tr>\n",
       "      <th>price</th>\n",
       "      <td>1.000000</td>\n",
       "      <td>-0.864064</td>\n",
       "    </tr>\n",
       "    <tr>\n",
       "      <th>sales</th>\n",
       "      <td>-0.864064</td>\n",
       "      <td>1.000000</td>\n",
       "    </tr>\n",
       "  </tbody>\n",
       "</table>\n",
       "</div>"
      ],
      "text/plain": [
       "          price     sales\n",
       "price  1.000000 -0.864064\n",
       "sales -0.864064  1.000000"
      ]
     },
     "execution_count": 151,
     "metadata": {},
     "output_type": "execute_result"
    }
   ],
   "source": [
    "# can we check the correlation with numbers? Yes -- with the .corr() method on our data frame\n",
    "\n",
    "df.corr()"
   ]
  },
  {
   "cell_type": "markdown",
   "id": "4241208f",
   "metadata": {},
   "source": [
    "# Exercises: Scatter plots, correlations, and taxis\n",
    "\n",
    "1. Use the data frame that you previously loaded for the taxi rides.\n",
    "2. Create a scatter plot between `total_amount` and `trip_distance`. Do these appear to be correlated? Check the correlation matrix to see if you're right.\n",
    "3. Create a scatter plot between `total_amount` and `passenger_count`. Do these appear to be correlated? Check the correlation matrix to see if you're right.\n"
   ]
  },
  {
   "cell_type": "code",
   "execution_count": 153,
   "id": "3ea8a40d",
   "metadata": {},
   "outputs": [],
   "source": [
    "df = pd.read_csv('../data/nyc_taxi_2019-01.csv',\n",
    "                usecols=['tpep_pickup_datetime', 'passenger_count', 'tip_amount', 'total_amount', 'trip_distance'],\n",
    "                parse_dates=['tpep_pickup_datetime'])"
   ]
  },
  {
   "cell_type": "code",
   "execution_count": 154,
   "id": "35d2df81",
   "metadata": {},
   "outputs": [
    {
     "data": {
      "text/plain": [
       "<AxesSubplot:xlabel='total_amount', ylabel='trip_distance'>"
      ]
     },
     "execution_count": 154,
     "metadata": {},
     "output_type": "execute_result"
    },
    {
     "data": {
      "image/png": "[encoded data removed]",
      "text/plain": [
       "<Figure size 432x288 with 1 Axes>"
      ]
     },
     "metadata": {
      "needs_background": "light"
     },
     "output_type": "display_data"
    }
   ],
   "source": [
    "# scatter plot between total_amount and trip_distance\n",
    "\n",
    "df.plot.scatter(x='total_amount', y='trip_distance')"
   ]
  },
  {
   "cell_type": "code",
   "execution_count": 157,
   "id": "d9bb65d8",
   "metadata": {},
   "outputs": [
    {
     "data": {
      "text/html": [
       "<div>\n",
       "<style scoped>\n",
       "    .dataframe tbody tr th:only-of-type {\n",
       "        vertical-align: middle;\n",
       "    }\n",
       "\n",
       "    .dataframe tbody tr th {\n",
       "        vertical-align: top;\n",
       "    }\n",
       "\n",
       "    .dataframe thead th {\n",
       "        text-align: right;\n",
       "    }\n",
       "</style>\n",
       "<table border=\"1\" class=\"dataframe\">\n",
       "  <thead>\n",
       "    <tr style=\"text-align: right;\">\n",
       "      <th></th>\n",
       "      <th>tpep_pickup_datetime</th>\n",
       "      <th>passenger_count</th>\n",
       "      <th>trip_distance</th>\n",
       "      <th>tip_amount</th>\n",
       "      <th>total_amount</th>\n",
       "    </tr>\n",
       "  </thead>\n",
       "  <tbody>\n",
       "    <tr>\n",
       "      <th>0</th>\n",
       "      <td>2019-01-01 00:46:40</td>\n",
       "      <td>1</td>\n",
       "      <td>1.5</td>\n",
       "      <td>1.65</td>\n",
       "      <td>9.95</td>\n",
       "    </tr>\n",
       "    <tr>\n",
       "      <th>1</th>\n",
       "      <td>2019-01-01 00:59:47</td>\n",
       "      <td>1</td>\n",
       "      <td>2.6</td>\n",
       "      <td>1.00</td>\n",
       "      <td>16.30</td>\n",
       "    </tr>\n",
       "    <tr>\n",
       "      <th>2</th>\n",
       "      <td>2018-12-21 13:48:30</td>\n",
       "      <td>3</td>\n",
       "      <td>0.0</td>\n",
       "      <td>0.00</td>\n",
       "      <td>5.80</td>\n",
       "    </tr>\n",
       "    <tr>\n",
       "      <th>3</th>\n",
       "      <td>2018-11-28 15:52:25</td>\n",
       "      <td>5</td>\n",
       "      <td>0.0</td>\n",
       "      <td>0.00</td>\n",
       "      <td>7.55</td>\n",
       "    </tr>\n",
       "    <tr>\n",
       "      <th>4</th>\n",
       "      <td>2018-11-28 15:56:57</td>\n",
       "      <td>5</td>\n",
       "      <td>0.0</td>\n",
       "      <td>0.00</td>\n",
       "      <td>55.55</td>\n",
       "    </tr>\n",
       "  </tbody>\n",
       "</table>\n",
       "</div>"
      ],
      "text/plain": [
       "  tpep_pickup_datetime  passenger_count  trip_distance  tip_amount  \\\n",
       "0  2019-01-01 00:46:40                1            1.5        1.65   \n",
       "1  2019-01-01 00:59:47                1            2.6        1.00   \n",
       "2  2018-12-21 13:48:30                3            0.0        0.00   \n",
       "3  2018-11-28 15:52:25                5            0.0        0.00   \n",
       "4  2018-11-28 15:56:57                5            0.0        0.00   \n",
       "\n",
       "   total_amount  \n",
       "0          9.95  \n",
       "1         16.30  \n",
       "2          5.80  \n",
       "3          7.55  \n",
       "4         55.55  "
      ]
     },
     "execution_count": 157,
     "metadata": {},
     "output_type": "execute_result"
    }
   ],
   "source": [
    "# trim our data to be a bit more \"normal\"\n",
    "\n",
    "df = df.loc[(df['total_amount'] < 1000) & (df['trip_distance'] < 300)]\n",
    "df.head()"
   ]
  },
  {
   "cell_type": "code",
   "execution_count": 158,
   "id": "16872fb0",
   "metadata": {},
   "outputs": [
    {
     "data": {
      "text/plain": [
       "<AxesSubplot:xlabel='total_amount', ylabel='trip_distance'>"
      ]
     },
     "execution_count": 158,
     "metadata": {},
     "output_type": "execute_result"
    },
    {
     "data": {
      "image/png": "[encoded data removed]",
      "text/plain": [
       "<Figure size 432x288 with 1 Axes>"
      ]
     },
     "metadata": {
      "needs_background": "light"
     },
     "output_type": "display_data"
    }
   ],
   "source": [
    "df.plot.scatter(x='total_amount', y='trip_distance')"
   ]
  },
  {
   "cell_type": "code",
   "execution_count": 159,
   "id": "e5d6b844",
   "metadata": {},
   "outputs": [
    {
     "data": {
      "text/html": [
       "<div>\n",
       "<style scoped>\n",
       "    .dataframe tbody tr th:only-of-type {\n",
       "        vertical-align: middle;\n",
       "    }\n",
       "\n",
       "    .dataframe tbody tr th {\n",
       "        vertical-align: top;\n",
       "    }\n",
       "\n",
       "    .dataframe thead th {\n",
       "        text-align: right;\n",
       "    }\n",
       "</style>\n",
       "<table border=\"1\" class=\"dataframe\">\n",
       "  <thead>\n",
       "    <tr style=\"text-align: right;\">\n",
       "      <th></th>\n",
       "      <th>tpep_pickup_datetime</th>\n",
       "      <th>passenger_count</th>\n",
       "      <th>trip_distance</th>\n",
       "      <th>tip_amount</th>\n",
       "      <th>total_amount</th>\n",
       "    </tr>\n",
       "  </thead>\n",
       "  <tbody>\n",
       "    <tr>\n",
       "      <th>0</th>\n",
       "      <td>2019-01-01 00:46:40</td>\n",
       "      <td>1</td>\n",
       "      <td>1.5</td>\n",
       "      <td>1.65</td>\n",
       "      <td>9.95</td>\n",
       "    </tr>\n",
       "    <tr>\n",
       "      <th>1</th>\n",
       "      <td>2019-01-01 00:59:47</td>\n",
       "      <td>1</td>\n",
       "      <td>2.6</td>\n",
       "      <td>1.00</td>\n",
       "      <td>16.30</td>\n",
       "    </tr>\n",
       "    <tr>\n",
       "      <th>7</th>\n",
       "      <td>2019-01-01 00:21:28</td>\n",
       "      <td>1</td>\n",
       "      <td>1.3</td>\n",
       "      <td>1.25</td>\n",
       "      <td>9.05</td>\n",
       "    </tr>\n",
       "    <tr>\n",
       "      <th>8</th>\n",
       "      <td>2019-01-01 00:32:01</td>\n",
       "      <td>1</td>\n",
       "      <td>3.7</td>\n",
       "      <td>3.70</td>\n",
       "      <td>18.50</td>\n",
       "    </tr>\n",
       "    <tr>\n",
       "      <th>9</th>\n",
       "      <td>2019-01-01 00:57:32</td>\n",
       "      <td>2</td>\n",
       "      <td>2.1</td>\n",
       "      <td>1.70</td>\n",
       "      <td>13.00</td>\n",
       "    </tr>\n",
       "  </tbody>\n",
       "</table>\n",
       "</div>"
      ],
      "text/plain": [
       "  tpep_pickup_datetime  passenger_count  trip_distance  tip_amount  \\\n",
       "0  2019-01-01 00:46:40                1            1.5        1.65   \n",
       "1  2019-01-01 00:59:47                1            2.6        1.00   \n",
       "7  2019-01-01 00:21:28                1            1.3        1.25   \n",
       "8  2019-01-01 00:32:01                1            3.7        3.70   \n",
       "9  2019-01-01 00:57:32                2            2.1        1.70   \n",
       "\n",
       "   total_amount  \n",
       "0          9.95  \n",
       "1         16.30  \n",
       "7          9.05  \n",
       "8         18.50  \n",
       "9         13.00  "
      ]
     },
     "execution_count": 159,
     "metadata": {},
     "output_type": "execute_result"
    }
   ],
   "source": [
    "# remove 0-distance trips\n",
    "\n",
    "df = df.loc[df['trip_distance'] > 0]\n",
    "df.head()"
   ]
  },
  {
   "cell_type": "code",
   "execution_count": 160,
   "id": "a9c688b8",
   "metadata": {},
   "outputs": [
    {
     "data": {
      "text/plain": [
       "<AxesSubplot:xlabel='total_amount', ylabel='trip_distance'>"
      ]
     },
     "execution_count": 160,
     "metadata": {},
     "output_type": "execute_result"
    },
    {
     "data": {
      "image/png": "[encoded data removed]",
      "text/plain": [
       "<Figure size 432x288 with 1 Axes>"
      ]
     },
     "metadata": {
      "needs_background": "light"
     },
     "output_type": "display_data"
    }
   ],
   "source": [
    "df.plot.scatter(x='total_amount', y='trip_distance')"
   ]
  },
  {
   "cell_type": "code",
   "execution_count": 161,
   "id": "071805ea",
   "metadata": {},
   "outputs": [
    {
     "data": {
      "text/html": [
       "<div>\n",
       "<style scoped>\n",
       "    .dataframe tbody tr th:only-of-type {\n",
       "        vertical-align: middle;\n",
       "    }\n",
       "\n",
       "    .dataframe tbody tr th {\n",
       "        vertical-align: top;\n",
       "    }\n",
       "\n",
       "    .dataframe thead th {\n",
       "        text-align: right;\n",
       "    }\n",
       "</style>\n",
       "<table border=\"1\" class=\"dataframe\">\n",
       "  <thead>\n",
       "    <tr style=\"text-align: right;\">\n",
       "      <th></th>\n",
       "      <th>tpep_pickup_datetime</th>\n",
       "      <th>passenger_count</th>\n",
       "      <th>trip_distance</th>\n",
       "      <th>tip_amount</th>\n",
       "      <th>total_amount</th>\n",
       "    </tr>\n",
       "  </thead>\n",
       "  <tbody>\n",
       "    <tr>\n",
       "      <th>0</th>\n",
       "      <td>2019-01-01 00:46:40</td>\n",
       "      <td>1</td>\n",
       "      <td>1.5</td>\n",
       "      <td>1.65</td>\n",
       "      <td>9.95</td>\n",
       "    </tr>\n",
       "    <tr>\n",
       "      <th>1</th>\n",
       "      <td>2019-01-01 00:59:47</td>\n",
       "      <td>1</td>\n",
       "      <td>2.6</td>\n",
       "      <td>1.00</td>\n",
       "      <td>16.30</td>\n",
       "    </tr>\n",
       "    <tr>\n",
       "      <th>7</th>\n",
       "      <td>2019-01-01 00:21:28</td>\n",
       "      <td>1</td>\n",
       "      <td>1.3</td>\n",
       "      <td>1.25</td>\n",
       "      <td>9.05</td>\n",
       "    </tr>\n",
       "    <tr>\n",
       "      <th>8</th>\n",
       "      <td>2019-01-01 00:32:01</td>\n",
       "      <td>1</td>\n",
       "      <td>3.7</td>\n",
       "      <td>3.70</td>\n",
       "      <td>18.50</td>\n",
       "    </tr>\n",
       "    <tr>\n",
       "      <th>9</th>\n",
       "      <td>2019-01-01 00:57:32</td>\n",
       "      <td>2</td>\n",
       "      <td>2.1</td>\n",
       "      <td>1.70</td>\n",
       "      <td>13.00</td>\n",
       "    </tr>\n",
       "  </tbody>\n",
       "</table>\n",
       "</div>"
      ],
      "text/plain": [
       "  tpep_pickup_datetime  passenger_count  trip_distance  tip_amount  \\\n",
       "0  2019-01-01 00:46:40                1            1.5        1.65   \n",
       "1  2019-01-01 00:59:47                1            2.6        1.00   \n",
       "7  2019-01-01 00:21:28                1            1.3        1.25   \n",
       "8  2019-01-01 00:32:01                1            3.7        3.70   \n",
       "9  2019-01-01 00:57:32                2            2.1        1.70   \n",
       "\n",
       "   total_amount  \n",
       "0          9.95  \n",
       "1         16.30  \n",
       "7          9.05  \n",
       "8         18.50  \n",
       "9         13.00  "
      ]
     },
     "execution_count": 161,
     "metadata": {},
     "output_type": "execute_result"
    }
   ],
   "source": [
    "# only keep trips where total_amount is > 0\n",
    "\n",
    "df = df.loc[df['total_amount'] > 0]\n",
    "df.head()"
   ]
  },
  {
   "cell_type": "code",
   "execution_count": 162,
   "id": "fc1e3ee7",
   "metadata": {},
   "outputs": [
    {
     "data": {
      "text/plain": [
       "<AxesSubplot:xlabel='total_amount', ylabel='trip_distance'>"
      ]
     },
     "execution_count": 162,
     "metadata": {},
     "output_type": "execute_result"
    },
    {
     "data": {
      "image/png": "[encoded data removed]",
      "text/plain": [
       "<Figure size 432x288 with 1 Axes>"
      ]
     },
     "metadata": {
      "needs_background": "light"
     },
     "output_type": "display_data"
    }
   ],
   "source": [
    "df.plot.scatter(x='total_amount', y='trip_distance')"
   ]
  },
  {
   "cell_type": "code",
   "execution_count": 163,
   "id": "cceb0db5",
   "metadata": {},
   "outputs": [
    {
     "data": {
      "text/plain": [
       "<AxesSubplot:xlabel='total_amount', ylabel='passenger_count'>"
      ]
     },
     "execution_count": 163,
     "metadata": {},
     "output_type": "execute_result"
    },
    {
     "data": {
      "image/png": "[encoded data removed]",
      "text/plain": [
       "<Figure size 432x288 with 1 Axes>"
      ]
     },
     "metadata": {
      "needs_background": "light"
     },
     "output_type": "display_data"
    }
   ],
   "source": [
    "# total_amount vs. passenger_count\n",
    "# do 1-passenger trips pay, on average, more than 6-passenger trips?\n",
    "# or is it the opposite?\n",
    "# or is there no correlation?\n",
    "\n",
    "df.plot.scatter(x='total_amount', y='passenger_count')"
   ]
  },
  {
   "cell_type": "code",
   "execution_count": 164,
   "id": "4346873b",
   "metadata": {},
   "outputs": [
    {
     "data": {
      "text/html": [
       "<div>\n",
       "<style scoped>\n",
       "    .dataframe tbody tr th:only-of-type {\n",
       "        vertical-align: middle;\n",
       "    }\n",
       "\n",
       "    .dataframe tbody tr th {\n",
       "        vertical-align: top;\n",
       "    }\n",
       "\n",
       "    .dataframe thead th {\n",
       "        text-align: right;\n",
       "    }\n",
       "</style>\n",
       "<table border=\"1\" class=\"dataframe\">\n",
       "  <thead>\n",
       "    <tr style=\"text-align: right;\">\n",
       "      <th></th>\n",
       "      <th>passenger_count</th>\n",
       "      <th>trip_distance</th>\n",
       "      <th>tip_amount</th>\n",
       "      <th>total_amount</th>\n",
       "    </tr>\n",
       "  </thead>\n",
       "  <tbody>\n",
       "    <tr>\n",
       "      <th>passenger_count</th>\n",
       "      <td>1.000000</td>\n",
       "      <td>0.007095</td>\n",
       "      <td>0.000920</td>\n",
       "      <td>0.004386</td>\n",
       "    </tr>\n",
       "    <tr>\n",
       "      <th>trip_distance</th>\n",
       "      <td>0.007095</td>\n",
       "      <td>1.000000</td>\n",
       "      <td>0.563195</td>\n",
       "      <td>0.933215</td>\n",
       "    </tr>\n",
       "    <tr>\n",
       "      <th>tip_amount</th>\n",
       "      <td>0.000920</td>\n",
       "      <td>0.563195</td>\n",
       "      <td>1.000000</td>\n",
       "      <td>0.703564</td>\n",
       "    </tr>\n",
       "    <tr>\n",
       "      <th>total_amount</th>\n",
       "      <td>0.004386</td>\n",
       "      <td>0.933215</td>\n",
       "      <td>0.703564</td>\n",
       "      <td>1.000000</td>\n",
       "    </tr>\n",
       "  </tbody>\n",
       "</table>\n",
       "</div>"
      ],
      "text/plain": [
       "                 passenger_count  trip_distance  tip_amount  total_amount\n",
       "passenger_count         1.000000       0.007095    0.000920      0.004386\n",
       "trip_distance           0.007095       1.000000    0.563195      0.933215\n",
       "tip_amount              0.000920       0.563195    1.000000      0.703564\n",
       "total_amount            0.004386       0.933215    0.703564      1.000000"
      ]
     },
     "execution_count": 164,
     "metadata": {},
     "output_type": "execute_result"
    }
   ],
   "source": [
    "df.corr()"
   ]
  },
  {
   "cell_type": "code",
   "execution_count": 165,
   "id": "918c5e93",
   "metadata": {},
   "outputs": [],
   "source": [
    "# it's very nice that I can see the correlation matrix for all columns \n",
    "# but why do I have to see the scatter plots one pair at a time?\n",
    "# it would be nice to see all of the columns vs. all other columns in a scatter matrix\n",
    "\n",
    "from pandas.plotting import scatter_matrix"
   ]
  },
  {
   "cell_type": "code",
   "execution_count": null,
   "id": "24699c53",
   "metadata": {},
   "outputs": [],
   "source": [
    "scatter_matrix(df)"
   ]
  }
 ],
 "metadata": {
  "kernelspec": {
   "display_name": "Python 3 (ipykernel)",
   "language": "python",
   "name": "python3"
  },
  "language_info": {
   "codemirror_mode": {
    "name": "ipython",
    "version": 3
   },
   "file_extension": ".py",
   "mimetype": "text/x-python",
   "name": "python",
   "nbconvert_exporter": "python",
   "pygments_lexer": "ipython3",
   "version": "3.10.6"
  }
 },
 "nbformat": 4,
 "nbformat_minor": 5
}
