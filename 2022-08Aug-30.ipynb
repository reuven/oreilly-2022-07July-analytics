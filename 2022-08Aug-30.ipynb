{
 "cells": [
  {
   "cell_type": "markdown",
   "id": "80b63cce",
   "metadata": {},
   "source": [
    "# Agenda: Visualization\n",
    "\n",
    "1. Recap and Q&A\n",
    "2. Visualization in general -- what, where, how, etc.\n",
    "3. Different plot types\n",
    "    - Line plots\n",
    "    - Bar plots\n",
    "    - Histograms\n",
    "    - Pie plots\n",
    "    - Scatter plots\n",
    "    - Boxplots\n",
    "4. What next?\n",
    "    - Applying what you've learned\n",
    "    - Analytics vs machine learning\n",
    "5. Q&A    "
   ]
  },
  {
   "cell_type": "markdown",
   "id": "ad6942ea",
   "metadata": {},
   "source": [
    "# Recap \n",
    "\n",
    "The whole point of data analytics is to make sense of information we've gathered.  By using statistical techniques (including very simple calculations, such as mean, median, and std) we're able to understand the world, and our businesses better.  We can use that information to make better decisions going forward.\n",
    "\n",
    "Pandas allows us to read in two-dimensional data (typically from a CSV file) into a data frame:\n",
    "\n",
    "- Each row has an index (often numeric, but it doesn't have to be), and represents one sample, or one data point\n",
    "- Each column in our data frame has a different dtype, has a column name, and represents one facet/aspect of our data\n",
    "\n",
    "We've seen over the last few weeks that we can use a bunch of techniques to analyze this data:\n",
    "\n",
    "- Select rows and columns matching particular criteria, and then analyze those subsets of our data\n",
    "- Sort our data by index, or by values in our columns\n",
    "- Join multiple data frames together, a la SQL, to combine information from different sources\n",
    "- Group our data together, to get analysis per unique value in a category\n",
    "- If we have text in a column, we can use the `.str` accessor to run various string-related methods\n",
    "- If we have dates and times in a column, we can use the `.dt` accessor to run various date-related methods.\n",
    "- We can even perform date arithmetic, retrieving \"time delta\" values, so that we can look at the amount of time that has been spent doing an activity.\n"
   ]
  }
 ],
 "metadata": {
  "kernelspec": {
   "display_name": "Python 3 (ipykernel)",
   "language": "python",
   "name": "python3"
  },
  "language_info": {
   "codemirror_mode": {
    "name": "ipython",
    "version": 3
   },
   "file_extension": ".py",
   "mimetype": "text/x-python",
   "name": "python",
   "nbconvert_exporter": "python",
   "pygments_lexer": "ipython3",
   "version": "3.10.6"
  }
 },
 "nbformat": 4,
 "nbformat_minor": 5
}
