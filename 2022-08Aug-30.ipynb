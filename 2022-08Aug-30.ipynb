{
 "cells": [
  {
   "cell_type": "markdown",
   "id": "d669c423",
   "metadata": {},
   "source": [
    "# Agenda: Visualization\n",
    "\n",
    "1. Recap and Q&A\n",
    "2. Visualization in general -- what, where, how, etc.\n",
    "3. Different plot types\n",
    "    - Line plots\n",
    "    - Bar plots\n",
    "    - Histograms\n",
    "    - Pie plots\n",
    "    - Scatter plots\n",
    "    - Boxplots\n",
    "4. What next?\n",
    "    - Applying what you've learned\n",
    "    - Analytics vs machine learning\n",
    "5. Q&A    "
   ]
  },
  {
   "cell_type": "code",
   "execution_count": null,
   "id": "02ea6da6",
   "metadata": {},
   "outputs": [],
   "source": []
  }
 ],
 "metadata": {
  "kernelspec": {
   "display_name": "Python 3 (ipykernel)",
   "language": "python",
   "name": "python3"
  },
  "language_info": {
   "codemirror_mode": {
    "name": "ipython",
    "version": 3
   },
   "file_extension": ".py",
   "mimetype": "text/x-python",
   "name": "python",
   "nbconvert_exporter": "python",
   "pygments_lexer": "ipython3",
   "version": "3.10.6"
  }
 },
 "nbformat": 4,
 "nbformat_minor": 5
}
