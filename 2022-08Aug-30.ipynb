{
 "cells": [
  {
   "cell_type": "markdown",
   "id": "1d1475ce",
   "metadata": {},
   "source": [
    "# Agenda: Visualization\n",
    "\n",
    "1. Recap and Q&A\n",
    "2. Visualization in general -- what, where, how, etc.\n",
    "3. Different plot types\n",
    "    - Line plots\n",
    "    - Bar plots\n",
    "    - Histograms\n",
    "    - Pie plots\n",
    "    - Scatter plots\n",
    "    - Boxplots\n",
    "4. What next?\n",
    "    - Applying what you've learned\n",
    "    - Analytics vs machine learning\n",
    "5. Q&A    "
   ]
  },
  {
   "cell_type": "markdown",
   "id": "904cc65b",
   "metadata": {},
   "source": [
    "# Recap \n",
    "\n",
    "The whole point of data analytics is to make sense of information we've gathered.  By using statistical techniques (including very simple calculations, such as mean, median, and std) we're able to understand the world, and our businesses better.  We can use that information to make better decisions going forward.\n",
    "\n",
    "Pandas allows us to read in two-dimensional data (typically from a CSV file) into a data frame:\n",
    "\n",
    "- Each row has "
   ]
  }
 ],
 "metadata": {
  "kernelspec": {
   "display_name": "Python 3 (ipykernel)",
   "language": "python",
   "name": "python3"
  },
  "language_info": {
   "codemirror_mode": {
    "name": "ipython",
    "version": 3
   },
   "file_extension": ".py",
   "mimetype": "text/x-python",
   "name": "python",
   "nbconvert_exporter": "python",
   "pygments_lexer": "ipython3",
   "version": "3.10.6"
  }
 },
 "nbformat": 4,
 "nbformat_minor": 5
}
