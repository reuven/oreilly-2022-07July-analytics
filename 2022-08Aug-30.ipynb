{
 "cells": [
  {
   "cell_type": "markdown",
   "id": "a76548a1",
   "metadata": {},
   "source": [
    "# Agenda: Visualization\n",
    "\n",
    "1. Recap and Q&A\n",
    "2. Visualization in general -- what, where, how, etc.\n",
    "3. Different plot types\n",
    "    - Line plots\n",
    "    - Bar plots\n",
    "    - Histograms\n",
    "    - Pie plots\n",
    "    - Scatter plots\n",
    "    - Boxplots\n",
    "4. What next?\n",
    "    - Applying what you've learned\n",
    "    - Analytics vs machine learning\n",
    "5. Q&A    "
   ]
  },
  {
   "cell_type": "markdown",
   "id": "ad14c381",
   "metadata": {},
   "source": [
    "# Recap \n",
    "\n",
    "The whole point of data analytics is to make sense of information we've gathered.  By using statistical techniques (including very simple calculations, such as mean, median, and std) we're able to understand the world, and our businesses better.  We can use that information to make better decisions going forward.\n",
    "\n",
    "Pandas allows us to read in two-dimensional data (typically from a CSV file) into a data frame:\n",
    "\n",
    "- Each row has an index (often numeric, but it doesn't have to be), and represents one sample, or one data point\n",
    "- Each column in our data frame has a different dtype, has a column name, and represents one facet/aspect of our data\n",
    "\n",
    "We've seen over the last few weeks that we can use a bunch of techniques to analyze this data:\n",
    "\n",
    "- Select rows and columns matching particular criteria, and then analyze those subsets of our data\n",
    "- Sort our data by index, or by values in our columns\n",
    "- Join multiple data frames together, a la SQL, to combine information from different sources\n",
    "- Group our data together, to get analysis per unique value in a category\n",
    "- If we have text in a column, we can use the `.str` accessor to run various string-related methods\n",
    "- If we have dates and times in a column, we can use the `.dt` accessor to run various date-related methods.\n",
    "- We can even perform date arithmetic, retrieving \"time delta\" values, so that we can look at the amount of time that has been spent doing an activity.\n"
   ]
  },
  {
   "cell_type": "markdown",
   "id": "079b1785",
   "metadata": {},
   "source": [
    "# Plotting and visualization\n",
    "\n",
    "Plotting has (at least) two purposes:\n",
    "\n",
    "1. To make our data accessible to people who don't have the time or inclination to read through long sets of numbers and make sense of them.  As people, we register images very quickly, and understand their meanings very quickly.\n",
    "2. You can get insights as to your data from the chart.  Humans are very good at identifying patterns, and we can often see a pattern in a chart, and then apply that insight back to our data."
   ]
  },
  {
   "cell_type": "markdown",
   "id": "bb86861d",
   "metadata": {},
   "source": [
    "# How do we plot?\n",
    "\n",
    "In the Python world, the 900-pound gorilla of plotting is known as \"Matplotlib.\" The good news is that Matplotlib can create any kind of plot you want, in any combination, with any colors, with any styles.\n",
    "\n",
    "The bad news is that Matplotlib is HORRIBLY COMPLEX to learn. And to use. And to remember.\n",
    "\n",
    "My preference (and what we'll do in this course) is to use a shell around Matplotlib, making it perhaps slightly less powerful, but much easier to use. The wrapper around Matplotlib that I like to use is ... Pandas!\n",
    "\n",
    "If we plot things via Pandas, Pandas will translate our requests into Matplotlib's requirements, and will give us fully formed Matplotlib plots! \n",
    "\n",
    "There are some other wrappers around Matplotlib, and one of them is known as Seaborn, which is very impressive."
   ]
  },
  {
   "cell_type": "code",
   "execution_count": 1,
   "id": "dbaf701d",
   "metadata": {},
   "outputs": [],
   "source": [
    "# in order for us to plot, we'll need load some things\n",
    "\n",
    "import numpy as np\n",
    "import pandas as pd\n",
    "from pandas import Series, DataFrame"
   ]
  },
  {
   "cell_type": "code",
   "execution_count": 2,
   "id": "e20a1c49",
   "metadata": {},
   "outputs": [],
   "source": [
    "s = Series(np.random.randint(0, 100, 10), \n",
    "          index=list('abcdefghij'))\n"
   ]
  },
  {
   "cell_type": "code",
   "execution_count": 3,
   "id": "5475d887",
   "metadata": {},
   "outputs": [
    {
     "data": {
      "text/plain": [
       "a    22\n",
       "b     7\n",
       "c    79\n",
       "d    42\n",
       "e    84\n",
       "f     3\n",
       "g    44\n",
       "h    38\n",
       "i    35\n",
       "j    10\n",
       "dtype: int64"
      ]
     },
     "execution_count": 3,
     "metadata": {},
     "output_type": "execute_result"
    }
   ],
   "source": [
    "s"
   ]
  },
  {
   "cell_type": "code",
   "execution_count": 4,
   "id": "561dd038",
   "metadata": {},
   "outputs": [
    {
     "data": {
      "text/plain": [
       "<AxesSubplot:>"
      ]
     },
     "execution_count": 4,
     "metadata": {},
     "output_type": "execute_result"
    },
    {
     "data": {
      "image/png": "[encoded data removed]",
      "text/plain": [
       "<Figure size 432x288 with 1 Axes>"
      ]
     },
     "metadata": {
      "needs_background": "light"
     },
     "output_type": "display_data"
    }
   ],
   "source": [
    "# I can turn this into a \"line plot\" with a simple command:\n",
    "\n",
    "s.plot.line()"
   ]
  },
  {
   "cell_type": "markdown",
   "id": "52f11f52",
   "metadata": {},
   "source": [
    "# Things to note\n",
    "\n",
    "1. The plot appears inside of Jupyter. Earlier versions of Matplotlib (or Jupyter) required that you set something, or import something, for this to work.  Now it works out of the box.\n",
    "2. The x axis reflects our index, and even shows every other value of the index.\n",
    "3. The y axis reflects our values, and is automatically scaled to show from 0 through the top value we need.\n",
    "4. The color, size, and other decorations are very plain -- we'll soon see how we can change these."
   ]
  },
  {
   "cell_type": "code",
   "execution_count": null,
   "id": "9b710499",
   "metadata": {},
   "outputs": [],
   "source": [
    "!head ../data/boston,ma.csv"
   ]
  }
 ],
 "metadata": {
  "kernelspec": {
   "display_name": "Python 3 (ipykernel)",
   "language": "python",
   "name": "python3"
  },
  "language_info": {
   "codemirror_mode": {
    "name": "ipython",
    "version": 3
   },
   "file_extension": ".py",
   "mimetype": "text/x-python",
   "name": "python",
   "nbconvert_exporter": "python",
   "pygments_lexer": "ipython3",
   "version": "3.10.6"
  }
 },
 "nbformat": 4,
 "nbformat_minor": 5
}
