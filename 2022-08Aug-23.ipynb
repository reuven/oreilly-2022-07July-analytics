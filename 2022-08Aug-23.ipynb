{
 "cells": [
  {
   "cell_type": "markdown",
   "id": "61c71cab",
   "metadata": {},
   "source": [
    "# Agenda, week 4\n",
    "\n",
    "1. Recap and Q&A\n",
    "    - Oil prices!\n",
    "2. Text strings\n",
    "    - The `str` accessor\n",
    "    - Cleaning dirty integer data\n",
    "    - Textual statistics\n",
    "    - Trimming strings\n",
    "3. Dates and times\n",
    "    - Date and time dtypes\n",
    "    - Parsing CSV files with times\n",
    "    - Time deltas\n",
    "    - Time series\n",
    "    - Resampling"
   ]
  },
  {
   "cell_type": "code",
   "execution_count": 3,
   "id": "3054d793",
   "metadata": {},
   "outputs": [],
   "source": [
    "import numpy as np\n",
    "import pandas as pd\n",
    "from pandas import Series, DataFrame"
   ]
  },
  {
   "cell_type": "code",
   "execution_count": 4,
   "id": "8ee03eea",
   "metadata": {},
   "outputs": [
    {
     "data": {
      "text/html": [
       "<div>\n",
       "<style scoped>\n",
       "    .dataframe tbody tr th:only-of-type {\n",
       "        vertical-align: middle;\n",
       "    }\n",
       "\n",
       "    .dataframe tbody tr th {\n",
       "        vertical-align: top;\n",
       "    }\n",
       "\n",
       "    .dataframe thead th {\n",
       "        text-align: right;\n",
       "    }\n",
       "</style>\n",
       "<table border=\"1\" class=\"dataframe\">\n",
       "  <thead>\n",
       "    <tr style=\"text-align: right;\">\n",
       "      <th></th>\n",
       "      <th>Date</th>\n",
       "      <th>Price</th>\n",
       "    </tr>\n",
       "  </thead>\n",
       "  <tbody>\n",
       "    <tr>\n",
       "      <th>0</th>\n",
       "      <td>1986-01-02</td>\n",
       "      <td>25.56</td>\n",
       "    </tr>\n",
       "    <tr>\n",
       "      <th>1</th>\n",
       "      <td>1986-01-03</td>\n",
       "      <td>26.00</td>\n",
       "    </tr>\n",
       "    <tr>\n",
       "      <th>2</th>\n",
       "      <td>1986-01-06</td>\n",
       "      <td>26.53</td>\n",
       "    </tr>\n",
       "    <tr>\n",
       "      <th>3</th>\n",
       "      <td>1986-01-07</td>\n",
       "      <td>25.85</td>\n",
       "    </tr>\n",
       "    <tr>\n",
       "      <th>4</th>\n",
       "      <td>1986-01-08</td>\n",
       "      <td>25.87</td>\n",
       "    </tr>\n",
       "  </tbody>\n",
       "</table>\n",
       "</div>"
      ],
      "text/plain": [
       "         Date  Price\n",
       "0  1986-01-02  25.56\n",
       "1  1986-01-03  26.00\n",
       "2  1986-01-06  26.53\n",
       "3  1986-01-07  25.85\n",
       "4  1986-01-08  25.87"
      ]
     },
     "execution_count": 4,
     "metadata": {},
     "output_type": "execute_result"
    }
   ],
   "source": [
    "filename = 'oil-prices-master/data/wti-daily.csv'\n",
    "\n",
    "df = pd.read_csv(filename)\n",
    "df.head()"
   ]
  },
  {
   "cell_type": "code",
   "execution_count": 5,
   "id": "43d58fdc",
   "metadata": {},
   "outputs": [
    {
     "data": {
      "text/plain": [
       "145.31"
      ]
     },
     "execution_count": 5,
     "metadata": {},
     "output_type": "execute_result"
    }
   ],
   "source": [
    "# What was the highest-ever price of oil (as per WTI)?\n",
    "\n",
    "df['Price'].max()   # this is the highest price ever"
   ]
  },
  {
   "cell_type": "code",
   "execution_count": 6,
   "id": "7168e3a1",
   "metadata": {},
   "outputs": [
    {
     "data": {
      "text/plain": [
       "0       False\n",
       "1       False\n",
       "2       False\n",
       "3       False\n",
       "4       False\n",
       "        ...  \n",
       "9222    False\n",
       "9223    False\n",
       "9224    False\n",
       "9225    False\n",
       "9226    False\n",
       "Name: Price, Length: 9227, dtype: bool"
      ]
     },
     "execution_count": 6,
     "metadata": {},
     "output_type": "execute_result"
    }
   ],
   "source": [
    "\n",
    "df['Price'] == df['Price'].max()  # this returns a boolean series"
   ]
  },
  {
   "cell_type": "code",
   "execution_count": 8,
   "id": "837c81bd",
   "metadata": {},
   "outputs": [
    {
     "data": {
      "text/plain": [
       "5678    2008-07-03\n",
       "Name: Date, dtype: object"
      ]
     },
     "execution_count": 8,
     "metadata": {},
     "output_type": "execute_result"
    }
   ],
   "source": [
    "# Use .loc with a row selector and a column selector\n",
    "# our row selector will be our boolean series\n",
    "\n",
    "\n",
    "df.loc[\n",
    "    df['Price'] == df['Price'].max(),   # row selector\n",
    "    'Date' # column selector\n",
    "]"
   ]
  },
  {
   "cell_type": "code",
   "execution_count": 10,
   "id": "841256a7",
   "metadata": {},
   "outputs": [
    {
     "data": {
      "text/html": [
       "<div>\n",
       "<style scoped>\n",
       "    .dataframe tbody tr th:only-of-type {\n",
       "        vertical-align: middle;\n",
       "    }\n",
       "\n",
       "    .dataframe tbody tr th {\n",
       "        vertical-align: top;\n",
       "    }\n",
       "\n",
       "    .dataframe thead th {\n",
       "        text-align: right;\n",
       "    }\n",
       "</style>\n",
       "<table border=\"1\" class=\"dataframe\">\n",
       "  <thead>\n",
       "    <tr style=\"text-align: right;\">\n",
       "      <th></th>\n",
       "      <th>Date</th>\n",
       "      <th>Price</th>\n",
       "    </tr>\n",
       "  </thead>\n",
       "  <tbody>\n",
       "    <tr>\n",
       "      <th>8643</th>\n",
       "      <td>2020-04-20</td>\n",
       "      <td>-36.98</td>\n",
       "    </tr>\n",
       "  </tbody>\n",
       "</table>\n",
       "</div>"
      ],
      "text/plain": [
       "            Date  Price\n",
       "8643  2020-04-20 -36.98"
      ]
     },
     "execution_count": 10,
     "metadata": {},
     "output_type": "execute_result"
    }
   ],
   "source": [
    "# what was the minimum price ever found of WTI?\n",
    "\n",
    "\n",
    "df.loc[\n",
    "    df['Price'] == df['Price'].min(),   # row selector\n",
    "    ['Date', 'Price']                              # column selector\n",
    "]"
   ]
  },
  {
   "cell_type": "code",
   "execution_count": 11,
   "id": "e9c66f07",
   "metadata": {},
   "outputs": [
    {
     "data": {
      "text/html": [
       "<div>\n",
       "<style scoped>\n",
       "    .dataframe tbody tr th:only-of-type {\n",
       "        vertical-align: middle;\n",
       "    }\n",
       "\n",
       "    .dataframe tbody tr th {\n",
       "        vertical-align: top;\n",
       "    }\n",
       "\n",
       "    .dataframe thead th {\n",
       "        text-align: right;\n",
       "    }\n",
       "</style>\n",
       "<table border=\"1\" class=\"dataframe\">\n",
       "  <thead>\n",
       "    <tr style=\"text-align: right;\">\n",
       "      <th></th>\n",
       "      <th>Date</th>\n",
       "      <th>Price</th>\n",
       "    </tr>\n",
       "  </thead>\n",
       "  <tbody>\n",
       "    <tr>\n",
       "      <th>9222</th>\n",
       "      <td>2022-08-09</td>\n",
       "      <td>93.18</td>\n",
       "    </tr>\n",
       "    <tr>\n",
       "      <th>9223</th>\n",
       "      <td>2022-08-10</td>\n",
       "      <td>94.68</td>\n",
       "    </tr>\n",
       "    <tr>\n",
       "      <th>9224</th>\n",
       "      <td>2022-08-11</td>\n",
       "      <td>97.02</td>\n",
       "    </tr>\n",
       "    <tr>\n",
       "      <th>9225</th>\n",
       "      <td>2022-08-12</td>\n",
       "      <td>94.86</td>\n",
       "    </tr>\n",
       "    <tr>\n",
       "      <th>9226</th>\n",
       "      <td>2022-08-15</td>\n",
       "      <td>92.24</td>\n",
       "    </tr>\n",
       "  </tbody>\n",
       "</table>\n",
       "</div>"
      ],
      "text/plain": [
       "            Date  Price\n",
       "9222  2022-08-09  93.18\n",
       "9223  2022-08-10  94.68\n",
       "9224  2022-08-11  97.02\n",
       "9225  2022-08-12  94.86\n",
       "9226  2022-08-15  92.24"
      ]
     },
     "execution_count": 11,
     "metadata": {},
     "output_type": "execute_result"
    }
   ],
   "source": [
    "# what were the 10 most recent values for oil prices?\n",
    "\n",
    "df.tail(5)"
   ]
  },
  {
   "cell_type": "code",
   "execution_count": 12,
   "id": "9ab939d3",
   "metadata": {},
   "outputs": [
    {
     "data": {
      "text/html": [
       "<div>\n",
       "<style scoped>\n",
       "    .dataframe tbody tr th:only-of-type {\n",
       "        vertical-align: middle;\n",
       "    }\n",
       "\n",
       "    .dataframe tbody tr th {\n",
       "        vertical-align: top;\n",
       "    }\n",
       "\n",
       "    .dataframe thead th {\n",
       "        text-align: right;\n",
       "    }\n",
       "</style>\n",
       "<table border=\"1\" class=\"dataframe\">\n",
       "  <thead>\n",
       "    <tr style=\"text-align: right;\">\n",
       "      <th></th>\n",
       "      <th>Date</th>\n",
       "      <th>Price</th>\n",
       "    </tr>\n",
       "  </thead>\n",
       "  <tbody>\n",
       "    <tr>\n",
       "      <th>9207</th>\n",
       "      <td>2022-07-19</td>\n",
       "      <td>106.12</td>\n",
       "    </tr>\n",
       "    <tr>\n",
       "      <th>9208</th>\n",
       "      <td>2022-07-20</td>\n",
       "      <td>104.45</td>\n",
       "    </tr>\n",
       "    <tr>\n",
       "      <th>9209</th>\n",
       "      <td>2022-07-21</td>\n",
       "      <td>98.44</td>\n",
       "    </tr>\n",
       "    <tr>\n",
       "      <th>9210</th>\n",
       "      <td>2022-07-22</td>\n",
       "      <td>97.71</td>\n",
       "    </tr>\n",
       "    <tr>\n",
       "      <th>9211</th>\n",
       "      <td>2022-07-25</td>\n",
       "      <td>99.83</td>\n",
       "    </tr>\n",
       "    <tr>\n",
       "      <th>9212</th>\n",
       "      <td>2022-07-26</td>\n",
       "      <td>97.74</td>\n",
       "    </tr>\n",
       "    <tr>\n",
       "      <th>9213</th>\n",
       "      <td>2022-07-27</td>\n",
       "      <td>100.03</td>\n",
       "    </tr>\n",
       "    <tr>\n",
       "      <th>9214</th>\n",
       "      <td>2022-07-28</td>\n",
       "      <td>99.11</td>\n",
       "    </tr>\n",
       "    <tr>\n",
       "      <th>9215</th>\n",
       "      <td>2022-07-29</td>\n",
       "      <td>101.31</td>\n",
       "    </tr>\n",
       "    <tr>\n",
       "      <th>9216</th>\n",
       "      <td>2022-08-01</td>\n",
       "      <td>96.59</td>\n",
       "    </tr>\n",
       "    <tr>\n",
       "      <th>9217</th>\n",
       "      <td>2022-08-02</td>\n",
       "      <td>97.14</td>\n",
       "    </tr>\n",
       "    <tr>\n",
       "      <th>9218</th>\n",
       "      <td>2022-08-03</td>\n",
       "      <td>93.25</td>\n",
       "    </tr>\n",
       "    <tr>\n",
       "      <th>9219</th>\n",
       "      <td>2022-08-04</td>\n",
       "      <td>91.29</td>\n",
       "    </tr>\n",
       "    <tr>\n",
       "      <th>9220</th>\n",
       "      <td>2022-08-05</td>\n",
       "      <td>91.77</td>\n",
       "    </tr>\n",
       "    <tr>\n",
       "      <th>9221</th>\n",
       "      <td>2022-08-08</td>\n",
       "      <td>93.52</td>\n",
       "    </tr>\n",
       "    <tr>\n",
       "      <th>9222</th>\n",
       "      <td>2022-08-09</td>\n",
       "      <td>93.18</td>\n",
       "    </tr>\n",
       "    <tr>\n",
       "      <th>9223</th>\n",
       "      <td>2022-08-10</td>\n",
       "      <td>94.68</td>\n",
       "    </tr>\n",
       "    <tr>\n",
       "      <th>9224</th>\n",
       "      <td>2022-08-11</td>\n",
       "      <td>97.02</td>\n",
       "    </tr>\n",
       "    <tr>\n",
       "      <th>9225</th>\n",
       "      <td>2022-08-12</td>\n",
       "      <td>94.86</td>\n",
       "    </tr>\n",
       "    <tr>\n",
       "      <th>9226</th>\n",
       "      <td>2022-08-15</td>\n",
       "      <td>92.24</td>\n",
       "    </tr>\n",
       "  </tbody>\n",
       "</table>\n",
       "</div>"
      ],
      "text/plain": [
       "            Date   Price\n",
       "9207  2022-07-19  106.12\n",
       "9208  2022-07-20  104.45\n",
       "9209  2022-07-21   98.44\n",
       "9210  2022-07-22   97.71\n",
       "9211  2022-07-25   99.83\n",
       "9212  2022-07-26   97.74\n",
       "9213  2022-07-27  100.03\n",
       "9214  2022-07-28   99.11\n",
       "9215  2022-07-29  101.31\n",
       "9216  2022-08-01   96.59\n",
       "9217  2022-08-02   97.14\n",
       "9218  2022-08-03   93.25\n",
       "9219  2022-08-04   91.29\n",
       "9220  2022-08-05   91.77\n",
       "9221  2022-08-08   93.52\n",
       "9222  2022-08-09   93.18\n",
       "9223  2022-08-10   94.68\n",
       "9224  2022-08-11   97.02\n",
       "9225  2022-08-12   94.86\n",
       "9226  2022-08-15   92.24"
      ]
     },
     "execution_count": 12,
     "metadata": {},
     "output_type": "execute_result"
    }
   ],
   "source": [
    "df.tail(20)"
   ]
  },
  {
   "cell_type": "code",
   "execution_count": 15,
   "id": "5728a89a",
   "metadata": {},
   "outputs": [
    {
     "data": {
      "text/html": [
       "<div>\n",
       "<style scoped>\n",
       "    .dataframe tbody tr th:only-of-type {\n",
       "        vertical-align: middle;\n",
       "    }\n",
       "\n",
       "    .dataframe tbody tr th {\n",
       "        vertical-align: top;\n",
       "    }\n",
       "\n",
       "    .dataframe thead th {\n",
       "        text-align: right;\n",
       "    }\n",
       "</style>\n",
       "<table border=\"1\" class=\"dataframe\">\n",
       "  <thead>\n",
       "    <tr style=\"text-align: right;\">\n",
       "      <th></th>\n",
       "      <th>Price</th>\n",
       "    </tr>\n",
       "  </thead>\n",
       "  <tbody>\n",
       "    <tr>\n",
       "      <th>count</th>\n",
       "      <td>9227.000000</td>\n",
       "    </tr>\n",
       "    <tr>\n",
       "      <th>mean</th>\n",
       "      <td>45.636007</td>\n",
       "    </tr>\n",
       "    <tr>\n",
       "      <th>std</th>\n",
       "      <td>29.481022</td>\n",
       "    </tr>\n",
       "    <tr>\n",
       "      <th>min</th>\n",
       "      <td>-36.980000</td>\n",
       "    </tr>\n",
       "    <tr>\n",
       "      <th>25%</th>\n",
       "      <td>19.940000</td>\n",
       "    </tr>\n",
       "    <tr>\n",
       "      <th>50%</th>\n",
       "      <td>34.760000</td>\n",
       "    </tr>\n",
       "    <tr>\n",
       "      <th>75%</th>\n",
       "      <td>65.975000</td>\n",
       "    </tr>\n",
       "    <tr>\n",
       "      <th>max</th>\n",
       "      <td>145.310000</td>\n",
       "    </tr>\n",
       "  </tbody>\n",
       "</table>\n",
       "</div>"
      ],
      "text/plain": [
       "             Price\n",
       "count  9227.000000\n",
       "mean     45.636007\n",
       "std      29.481022\n",
       "min     -36.980000\n",
       "25%      19.940000\n",
       "50%      34.760000\n",
       "75%      65.975000\n",
       "max     145.310000"
      ]
     },
     "execution_count": 15,
     "metadata": {},
     "output_type": "execute_result"
    }
   ],
   "source": [
    "# running describe on our data frame runs describe on each numeric column\n",
    "\n",
    "df.describe()"
   ]
  },
  {
   "cell_type": "code",
   "execution_count": 14,
   "id": "711b1956",
   "metadata": {},
   "outputs": [
    {
     "data": {
      "text/plain": [
       "Date      object\n",
       "Price    float64\n",
       "dtype: object"
      ]
     },
     "execution_count": 14,
     "metadata": {},
     "output_type": "execute_result"
    }
   ],
   "source": [
    "df.dtypes"
   ]
  },
  {
   "cell_type": "code",
   "execution_count": 16,
   "id": "08bf4361",
   "metadata": {},
   "outputs": [
    {
     "data": {
      "text/plain": [
       "count           9227\n",
       "unique          9227\n",
       "top       1986-01-02\n",
       "freq               1\n",
       "Name: Date, dtype: object"
      ]
     },
     "execution_count": 16,
     "metadata": {},
     "output_type": "execute_result"
    }
   ],
   "source": [
    "df['Date'].describe()"
   ]
  },
  {
   "cell_type": "code",
   "execution_count": 18,
   "id": "73f7fa0d",
   "metadata": {},
   "outputs": [],
   "source": [
    "# read_html only works when you have HTML tables on the target site\n",
    "# and when they are written in HTML, and not generated on the fly via JavaScript\n",
    "\n",
    "url = 'https://www.bankofcanada.ca/rates/exchange/daily-exchange-rates/'\n",
    "\n",
    "all_dfs = pd.read_html(url)\n"
   ]
  },
  {
   "cell_type": "code",
   "execution_count": 19,
   "id": "47e010ed",
   "metadata": {},
   "outputs": [
    {
     "data": {
      "text/plain": [
       "1"
      ]
     },
     "execution_count": 19,
     "metadata": {},
     "output_type": "execute_result"
    }
   ],
   "source": [
    "len(all_dfs)"
   ]
  },
  {
   "cell_type": "code",
   "execution_count": 20,
   "id": "9e817c4c",
   "metadata": {},
   "outputs": [
    {
     "data": {
      "text/html": [
       "<div>\n",
       "<style scoped>\n",
       "    .dataframe tbody tr th:only-of-type {\n",
       "        vertical-align: middle;\n",
       "    }\n",
       "\n",
       "    .dataframe tbody tr th {\n",
       "        vertical-align: top;\n",
       "    }\n",
       "\n",
       "    .dataframe thead th {\n",
       "        text-align: right;\n",
       "    }\n",
       "</style>\n",
       "<table border=\"1\" class=\"dataframe\">\n",
       "  <thead>\n",
       "    <tr style=\"text-align: right;\">\n",
       "      <th></th>\n",
       "      <th>Currency</th>\n",
       "      <th>2022‑08‑16</th>\n",
       "      <th>2022‑08‑17</th>\n",
       "      <th>2022‑08‑18</th>\n",
       "      <th>2022‑08‑19</th>\n",
       "      <th>2022‑08‑22</th>\n",
       "    </tr>\n",
       "  </thead>\n",
       "  <tbody>\n",
       "    <tr>\n",
       "      <th>0</th>\n",
       "      <td>Australian dollar</td>\n",
       "      <td>0.9025</td>\n",
       "      <td>0.8949</td>\n",
       "      <td>0.8962</td>\n",
       "      <td>0.8936</td>\n",
       "      <td>0.8970</td>\n",
       "    </tr>\n",
       "    <tr>\n",
       "      <th>1</th>\n",
       "      <td>Brazilian real</td>\n",
       "      <td>0.2504</td>\n",
       "      <td>0.2494</td>\n",
       "      <td>0.2496</td>\n",
       "      <td>0.2503</td>\n",
       "      <td>0.2521</td>\n",
       "    </tr>\n",
       "    <tr>\n",
       "      <th>2</th>\n",
       "      <td>Chinese renminbi</td>\n",
       "      <td>0.1896</td>\n",
       "      <td>0.1904</td>\n",
       "      <td>0.1905</td>\n",
       "      <td>0.1906</td>\n",
       "      <td>0.1904</td>\n",
       "    </tr>\n",
       "    <tr>\n",
       "      <th>3</th>\n",
       "      <td>European euro</td>\n",
       "      <td>1.3081</td>\n",
       "      <td>1.3134</td>\n",
       "      <td>1.3080</td>\n",
       "      <td>1.3049</td>\n",
       "      <td>1.2979</td>\n",
       "    </tr>\n",
       "    <tr>\n",
       "      <th>4</th>\n",
       "      <td>Hong Kong dollar</td>\n",
       "      <td>0.1641</td>\n",
       "      <td>0.1646</td>\n",
       "      <td>0.1648</td>\n",
       "      <td>0.1656</td>\n",
       "      <td>0.1661</td>\n",
       "    </tr>\n",
       "  </tbody>\n",
       "</table>\n",
       "</div>"
      ],
      "text/plain": [
       "            Currency  2022‑08‑16  2022‑08‑17  2022‑08‑18  2022‑08‑19  \\\n",
       "0  Australian dollar      0.9025      0.8949      0.8962      0.8936   \n",
       "1     Brazilian real      0.2504      0.2494      0.2496      0.2503   \n",
       "2   Chinese renminbi      0.1896      0.1904      0.1905      0.1906   \n",
       "3      European euro      1.3081      1.3134      1.3080      1.3049   \n",
       "4   Hong Kong dollar      0.1641      0.1646      0.1648      0.1656   \n",
       "\n",
       "   2022‑08‑22  \n",
       "0      0.8970  \n",
       "1      0.2521  \n",
       "2      0.1904  \n",
       "3      1.2979  \n",
       "4      0.1661  "
      ]
     },
     "execution_count": 20,
     "metadata": {},
     "output_type": "execute_result"
    }
   ],
   "source": [
    "df = all_dfs[0]\n",
    "df.head()"
   ]
  },
  {
   "cell_type": "code",
   "execution_count": 21,
   "id": "a9a02b4f",
   "metadata": {},
   "outputs": [
    {
     "data": {
      "text/plain": [
       "(23, 6)"
      ]
     },
     "execution_count": 21,
     "metadata": {},
     "output_type": "execute_result"
    }
   ],
   "source": [
    "df.shape"
   ]
  },
  {
   "cell_type": "code",
   "execution_count": 22,
   "id": "e75de641",
   "metadata": {},
   "outputs": [
    {
     "data": {
      "text/plain": [
       "0      Australian dollar\n",
       "1         Brazilian real\n",
       "2       Chinese renminbi\n",
       "3          European euro\n",
       "4       Hong Kong dollar\n",
       "5           Indian rupee\n",
       "6      Indonesian rupiah\n",
       "7           Japanese yen\n",
       "8           Mexican peso\n",
       "9     New Zealand dollar\n",
       "10       Norwegian krone\n",
       "11      Peruvian new sol\n",
       "12         Russian ruble\n",
       "13           Saudi riyal\n",
       "14      Singapore dollar\n",
       "15    South African rand\n",
       "16      South Korean won\n",
       "17         Swedish krona\n",
       "18           Swiss franc\n",
       "19      Taiwanese dollar\n",
       "20          Turkish lira\n",
       "21     UK pound sterling\n",
       "22             US dollar\n",
       "Name: Currency, dtype: object"
      ]
     },
     "execution_count": 22,
     "metadata": {},
     "output_type": "execute_result"
    }
   ],
   "source": [
    "df['Currency']"
   ]
  },
  {
   "cell_type": "markdown",
   "id": "6fc211f5",
   "metadata": {},
   "source": [
    "# Text data in Pandas\n",
    "\n",
    "We've seen that a series can contain text. As such, a column in a data frame can also contain text. When we do that, the dtype of the column (series) is known as `object`, which means that the data isn't being stored directly inside of Pandas.  Instead, Pandas is referring to Python string objects located elsewhere in memory.  This means that we have access (in theory) to all of the Python string methods and associated functionality."
   ]
  },
  {
   "cell_type": "code",
   "execution_count": 23,
   "id": "0bb018d4",
   "metadata": {},
   "outputs": [
    {
     "data": {
      "text/plain": [
       "0      this\n",
       "1        is\n",
       "2         a\n",
       "3      test\n",
       "4        of\n",
       "5      text\n",
       "6        in\n",
       "7    Pandas\n",
       "dtype: object"
      ]
     },
     "execution_count": 23,
     "metadata": {},
     "output_type": "execute_result"
    }
   ],
   "source": [
    "# create a series based on a list of strings, created via str.split\n",
    "# str.split without an explicit delimiter argument uses any whitespace, of any \n",
    "# length, in any combination\n",
    "\n",
    "s = Series('this is a test of text in Pandas'.split())\n",
    "s"
   ]
  },
  {
   "cell_type": "code",
   "execution_count": 25,
   "id": "562a4707",
   "metadata": {},
   "outputs": [
    {
     "name": "stdout",
     "output_type": "stream",
     "text": [
      "4\n",
      "2\n",
      "1\n",
      "4\n",
      "2\n",
      "4\n",
      "2\n",
      "6\n"
     ]
    }
   ],
   "source": [
    "# what is the length of each word?\n",
    "\n",
    "# option 1 for answering: a for loop\n",
    "\n",
    "for one_item in s:\n",
    "    print(len(one_item))"
   ]
  },
  {
   "cell_type": "code",
   "execution_count": 27,
   "id": "e919aada",
   "metadata": {},
   "outputs": [
    {
     "data": {
      "text/plain": [
       "[4, 2, 1, 4, 2, 4, 2, 6]"
      ]
     },
     "execution_count": 27,
     "metadata": {},
     "output_type": "execute_result"
    }
   ],
   "source": [
    "# option 1b: use a list comprehension\n",
    "\n",
    "[len(one_item)\n",
    "for one_item in s]"
   ]
  },
  {
   "cell_type": "markdown",
   "id": "21a98c05",
   "metadata": {},
   "source": [
    "**DO NOT DO THIS!**\n",
    "\n",
    "If you ever find yourself using a `for` loop in Pandas, stop! There is almost certainly a better way to accomplish it."
   ]
  },
  {
   "cell_type": "code",
   "execution_count": 29,
   "id": "ee8c0ab9",
   "metadata": {},
   "outputs": [
    {
     "data": {
      "text/plain": [
       "0    4\n",
       "1    2\n",
       "2    1\n",
       "3    4\n",
       "4    2\n",
       "5    4\n",
       "6    2\n",
       "7    6\n",
       "dtype: int64"
      ]
     },
     "execution_count": 29,
     "metadata": {},
     "output_type": "execute_result"
    }
   ],
   "source": [
    "# Better, option 2: Use the \"str\" accessor\n",
    "\n",
    "# an \"accessor\" is a Pandas term for an attribute (i.e., coming after a .)\n",
    "# that lets us access special functionality for certain types of objects\n",
    "\n",
    "# if we have an \"object\" column containing strings, then we can use the str\n",
    "# accessor to invoke a number of different string methods\n",
    "\n",
    "s.str.len() \n",
    "\n",
    "# this invokes len() on each of the elements in s, and returns a new series\n",
    "# the index of the returned series matches the index in our original series s"
   ]
  },
  {
   "cell_type": "code",
   "execution_count": 30,
   "id": "03411d83",
   "metadata": {},
   "outputs": [
    {
     "data": {
      "text/plain": [
       "0    False\n",
       "1     True\n",
       "2    False\n",
       "3    False\n",
       "4     True\n",
       "5    False\n",
       "6     True\n",
       "7    False\n",
       "dtype: bool"
      ]
     },
     "execution_count": 30,
     "metadata": {},
     "output_type": "execute_result"
    }
   ],
   "source": [
    "# because we get a series back, we can use it in all series-type operations\n",
    "s.str.len() == 2"
   ]
  },
  {
   "cell_type": "code",
   "execution_count": 31,
   "id": "dd50abe3",
   "metadata": {},
   "outputs": [
    {
     "data": {
      "text/plain": [
       "1    is\n",
       "4    of\n",
       "6    in\n",
       "dtype: object"
      ]
     },
     "execution_count": 31,
     "metadata": {},
     "output_type": "execute_result"
    }
   ],
   "source": [
    "# apply the boolean series as a mask index, and find all of the words\n",
    "# that have only two letters\n",
    "\n",
    "s.loc[s.str.len() == 2]"
   ]
  },
  {
   "cell_type": "code",
   "execution_count": 33,
   "id": "ce8e4d28",
   "metadata": {},
   "outputs": [
    {
     "data": {
      "text/plain": [
       "3    test\n",
       "5    text\n",
       "dtype: object"
      ]
     },
     "execution_count": 33,
     "metadata": {},
     "output_type": "execute_result"
    }
   ],
   "source": [
    "# the \"contains\" method on the  \"str\" accessor lets us search in a string\n",
    "# for a character/substring\n",
    "\n",
    "# use s.loc to find all words in s that contain 'e'\n",
    "s.loc[s.str.contains('e')]"
   ]
  },
  {
   "cell_type": "markdown",
   "id": "abe17ed7",
   "metadata": {},
   "source": [
    "# Exercise: Longer-than average words\n",
    "\n",
    "1. Ask the user to enter a sentence. \n",
    "2. Turn that sentence into a Pandas series.\n",
    "3. Show all of the words that are longer than average in the sentence."
   ]
  },
  {
   "cell_type": "code",
   "execution_count": 34,
   "id": "b6dff47c",
   "metadata": {},
   "outputs": [
    {
     "name": "stdout",
     "output_type": "stream",
     "text": [
      "Enter a sentence: this is the most marvelous and fascinating and scintillating sentence on the planet\n"
     ]
    }
   ],
   "source": [
    "sentence = input('Enter a sentence: ').strip()\n",
    "\n",
    "s = Series(sentence.split())"
   ]
  },
  {
   "cell_type": "code",
   "execution_count": 35,
   "id": "fb91a38d",
   "metadata": {},
   "outputs": [
    {
     "data": {
      "text/plain": [
       "0              this\n",
       "1                is\n",
       "2               the\n",
       "3              most\n",
       "4         marvelous\n",
       "5               and\n",
       "6       fascinating\n",
       "7               and\n",
       "8     scintillating\n",
       "9          sentence\n",
       "10               on\n",
       "11              the\n",
       "12           planet\n",
       "dtype: object"
      ]
     },
     "execution_count": 35,
     "metadata": {},
     "output_type": "execute_result"
    }
   ],
   "source": [
    "s"
   ]
  },
  {
   "cell_type": "code",
   "execution_count": 37,
   "id": "7333b063",
   "metadata": {},
   "outputs": [
    {
     "data": {
      "text/plain": [
       "0      4\n",
       "1      2\n",
       "2      3\n",
       "3      4\n",
       "4      9\n",
       "5      3\n",
       "6     11\n",
       "7      3\n",
       "8     13\n",
       "9      8\n",
       "10     2\n",
       "11     3\n",
       "12     6\n",
       "dtype: int64"
      ]
     },
     "execution_count": 37,
     "metadata": {},
     "output_type": "execute_result"
    }
   ],
   "source": [
    "# show all words in s that are longer than the average length\n",
    "\n",
    "s.str.len()  # this returns a series of ints, based on s, with s's index"
   ]
  },
  {
   "cell_type": "code",
   "execution_count": 38,
   "id": "24149aa3",
   "metadata": {},
   "outputs": [
    {
     "data": {
      "text/plain": [
       "5.461538461538462"
      ]
     },
     "execution_count": 38,
     "metadata": {},
     "output_type": "execute_result"
    }
   ],
   "source": [
    "# this is the mean word length\n",
    "s.str.len().mean()"
   ]
  },
  {
   "cell_type": "code",
   "execution_count": 39,
   "id": "20f9d4d7",
   "metadata": {},
   "outputs": [
    {
     "data": {
      "text/plain": [
       "0     False\n",
       "1     False\n",
       "2     False\n",
       "3     False\n",
       "4      True\n",
       "5     False\n",
       "6      True\n",
       "7     False\n",
       "8      True\n",
       "9      True\n",
       "10    False\n",
       "11    False\n",
       "12     True\n",
       "dtype: bool"
      ]
     },
     "execution_count": 39,
     "metadata": {},
     "output_type": "execute_result"
    }
   ],
   "source": [
    "# Get a boolean series, indicating where the word's length is greater than the average\n",
    "s.str.len() > s.str.len().mean()"
   ]
  },
  {
   "cell_type": "code",
   "execution_count": 40,
   "id": "a133d8f2",
   "metadata": {},
   "outputs": [
    {
     "data": {
      "text/plain": [
       "4         marvelous\n",
       "6       fascinating\n",
       "8     scintillating\n",
       "9          sentence\n",
       "12           planet\n",
       "dtype: object"
      ]
     },
     "execution_count": 40,
     "metadata": {},
     "output_type": "execute_result"
    }
   ],
   "source": [
    "s.loc[s.str.len() > s.str.len().mean()]"
   ]
  },
  {
   "cell_type": "code",
   "execution_count": 43,
   "id": "abac4b12",
   "metadata": {},
   "outputs": [],
   "source": [
    "s = s.astype('string')  # new-ish functionality in Pandas"
   ]
  },
  {
   "cell_type": "code",
   "execution_count": 44,
   "id": "2dc13b62",
   "metadata": {},
   "outputs": [
    {
     "data": {
      "text/plain": [
       "0              this\n",
       "1                is\n",
       "2               the\n",
       "3              most\n",
       "4         marvelous\n",
       "5               and\n",
       "6       fascinating\n",
       "7               and\n",
       "8     scintillating\n",
       "9          sentence\n",
       "10               on\n",
       "11              the\n",
       "12           planet\n",
       "dtype: string"
      ]
     },
     "execution_count": 44,
     "metadata": {},
     "output_type": "execute_result"
    }
   ],
   "source": [
    "s"
   ]
  },
  {
   "cell_type": "code",
   "execution_count": 45,
   "id": "e2c9065a",
   "metadata": {},
   "outputs": [
    {
     "ename": "ValueError",
     "evalue": "Cannot set non-string value '12345' into a StringArray.",
     "output_type": "error",
     "traceback": [
      "\u001b[0;31m---------------------------------------------------------------------------\u001b[0m",
      "\u001b[0;31mValueError\u001b[0m                                Traceback (most recent call last)",
      "Input \u001b[0;32mIn [45]\u001b[0m, in \u001b[0;36m<cell line: 1>\u001b[0;34m()\u001b[0m\n\u001b[0;32m----> 1\u001b[0m s\u001b[38;5;241m.\u001b[39mloc[\u001b[38;5;241m0\u001b[39m] \u001b[38;5;241m=\u001b[39m \u001b[38;5;241m12345\u001b[39m\n\u001b[1;32m      2\u001b[0m s\n",
      "File \u001b[0;32m/usr/local/lib/python3.10/site-packages/pandas/core/indexing.py:716\u001b[0m, in \u001b[0;36m_LocationIndexer.__setitem__\u001b[0;34m(self, key, value)\u001b[0m\n\u001b[1;32m    713\u001b[0m \u001b[38;5;28mself\u001b[39m\u001b[38;5;241m.\u001b[39m_has_valid_setitem_indexer(key)\n\u001b[1;32m    715\u001b[0m iloc \u001b[38;5;241m=\u001b[39m \u001b[38;5;28mself\u001b[39m \u001b[38;5;28;01mif\u001b[39;00m \u001b[38;5;28mself\u001b[39m\u001b[38;5;241m.\u001b[39mname \u001b[38;5;241m==\u001b[39m \u001b[38;5;124m\"\u001b[39m\u001b[38;5;124miloc\u001b[39m\u001b[38;5;124m\"\u001b[39m \u001b[38;5;28;01melse\u001b[39;00m \u001b[38;5;28mself\u001b[39m\u001b[38;5;241m.\u001b[39mobj\u001b[38;5;241m.\u001b[39miloc\n\u001b[0;32m--> 716\u001b[0m \u001b[43miloc\u001b[49m\u001b[38;5;241;43m.\u001b[39;49m\u001b[43m_setitem_with_indexer\u001b[49m\u001b[43m(\u001b[49m\u001b[43mindexer\u001b[49m\u001b[43m,\u001b[49m\u001b[43m \u001b[49m\u001b[43mvalue\u001b[49m\u001b[43m,\u001b[49m\u001b[43m \u001b[49m\u001b[38;5;28;43mself\u001b[39;49m\u001b[38;5;241;43m.\u001b[39;49m\u001b[43mname\u001b[49m\u001b[43m)\u001b[49m\n",
      "File \u001b[0;32m/usr/local/lib/python3.10/site-packages/pandas/core/indexing.py:1690\u001b[0m, in \u001b[0;36m_iLocIndexer._setitem_with_indexer\u001b[0;34m(self, indexer, value, name)\u001b[0m\n\u001b[1;32m   1688\u001b[0m     \u001b[38;5;28mself\u001b[39m\u001b[38;5;241m.\u001b[39m_setitem_with_indexer_split_path(indexer, value, name)\n\u001b[1;32m   1689\u001b[0m \u001b[38;5;28;01melse\u001b[39;00m:\n\u001b[0;32m-> 1690\u001b[0m     \u001b[38;5;28;43mself\u001b[39;49m\u001b[38;5;241;43m.\u001b[39;49m\u001b[43m_setitem_single_block\u001b[49m\u001b[43m(\u001b[49m\u001b[43mindexer\u001b[49m\u001b[43m,\u001b[49m\u001b[43m \u001b[49m\u001b[43mvalue\u001b[49m\u001b[43m,\u001b[49m\u001b[43m \u001b[49m\u001b[43mname\u001b[49m\u001b[43m)\u001b[49m\n",
      "File \u001b[0;32m/usr/local/lib/python3.10/site-packages/pandas/core/indexing.py:1938\u001b[0m, in \u001b[0;36m_iLocIndexer._setitem_single_block\u001b[0;34m(self, indexer, value, name)\u001b[0m\n\u001b[1;32m   1935\u001b[0m \u001b[38;5;28mself\u001b[39m\u001b[38;5;241m.\u001b[39mobj\u001b[38;5;241m.\u001b[39m_check_is_chained_assignment_possible()\n\u001b[1;32m   1937\u001b[0m \u001b[38;5;66;03m# actually do the set\u001b[39;00m\n\u001b[0;32m-> 1938\u001b[0m \u001b[38;5;28mself\u001b[39m\u001b[38;5;241m.\u001b[39mobj\u001b[38;5;241m.\u001b[39m_mgr \u001b[38;5;241m=\u001b[39m \u001b[38;5;28;43mself\u001b[39;49m\u001b[38;5;241;43m.\u001b[39;49m\u001b[43mobj\u001b[49m\u001b[38;5;241;43m.\u001b[39;49m\u001b[43m_mgr\u001b[49m\u001b[38;5;241;43m.\u001b[39;49m\u001b[43msetitem\u001b[49m\u001b[43m(\u001b[49m\u001b[43mindexer\u001b[49m\u001b[38;5;241;43m=\u001b[39;49m\u001b[43mindexer\u001b[49m\u001b[43m,\u001b[49m\u001b[43m \u001b[49m\u001b[43mvalue\u001b[49m\u001b[38;5;241;43m=\u001b[39;49m\u001b[43mvalue\u001b[49m\u001b[43m)\u001b[49m\n\u001b[1;32m   1939\u001b[0m \u001b[38;5;28mself\u001b[39m\u001b[38;5;241m.\u001b[39mobj\u001b[38;5;241m.\u001b[39m_maybe_update_cacher(clear\u001b[38;5;241m=\u001b[39m\u001b[38;5;28;01mTrue\u001b[39;00m, inplace\u001b[38;5;241m=\u001b[39m\u001b[38;5;28;01mTrue\u001b[39;00m)\n",
      "File \u001b[0;32m/usr/local/lib/python3.10/site-packages/pandas/core/internals/managers.py:337\u001b[0m, in \u001b[0;36mBaseBlockManager.setitem\u001b[0;34m(self, indexer, value)\u001b[0m\n\u001b[1;32m    331\u001b[0m \u001b[38;5;28;01mdef\u001b[39;00m \u001b[38;5;21msetitem\u001b[39m(\u001b[38;5;28mself\u001b[39m: T, indexer, value) \u001b[38;5;241m-\u001b[39m\u001b[38;5;241m>\u001b[39m T:\n\u001b[1;32m    332\u001b[0m     \u001b[38;5;124;03m\"\"\"\u001b[39;00m\n\u001b[1;32m    333\u001b[0m \u001b[38;5;124;03m    Set values with indexer.\u001b[39;00m\n\u001b[1;32m    334\u001b[0m \n\u001b[1;32m    335\u001b[0m \u001b[38;5;124;03m    For SingleBlockManager, this backs s[indexer] = value\u001b[39;00m\n\u001b[1;32m    336\u001b[0m \u001b[38;5;124;03m    \"\"\"\u001b[39;00m\n\u001b[0;32m--> 337\u001b[0m     \u001b[38;5;28;01mreturn\u001b[39;00m \u001b[38;5;28;43mself\u001b[39;49m\u001b[38;5;241;43m.\u001b[39;49m\u001b[43mapply\u001b[49m\u001b[43m(\u001b[49m\u001b[38;5;124;43m\"\u001b[39;49m\u001b[38;5;124;43msetitem\u001b[39;49m\u001b[38;5;124;43m\"\u001b[39;49m\u001b[43m,\u001b[49m\u001b[43m \u001b[49m\u001b[43mindexer\u001b[49m\u001b[38;5;241;43m=\u001b[39;49m\u001b[43mindexer\u001b[49m\u001b[43m,\u001b[49m\u001b[43m \u001b[49m\u001b[43mvalue\u001b[49m\u001b[38;5;241;43m=\u001b[39;49m\u001b[43mvalue\u001b[49m\u001b[43m)\u001b[49m\n",
      "File \u001b[0;32m/usr/local/lib/python3.10/site-packages/pandas/core/internals/managers.py:304\u001b[0m, in \u001b[0;36mBaseBlockManager.apply\u001b[0;34m(self, f, align_keys, ignore_failures, **kwargs)\u001b[0m\n\u001b[1;32m    302\u001b[0m         applied \u001b[38;5;241m=\u001b[39m b\u001b[38;5;241m.\u001b[39mapply(f, \u001b[38;5;241m*\u001b[39m\u001b[38;5;241m*\u001b[39mkwargs)\n\u001b[1;32m    303\u001b[0m     \u001b[38;5;28;01melse\u001b[39;00m:\n\u001b[0;32m--> 304\u001b[0m         applied \u001b[38;5;241m=\u001b[39m \u001b[38;5;28;43mgetattr\u001b[39;49m\u001b[43m(\u001b[49m\u001b[43mb\u001b[49m\u001b[43m,\u001b[49m\u001b[43m \u001b[49m\u001b[43mf\u001b[49m\u001b[43m)\u001b[49m\u001b[43m(\u001b[49m\u001b[38;5;241;43m*\u001b[39;49m\u001b[38;5;241;43m*\u001b[39;49m\u001b[43mkwargs\u001b[49m\u001b[43m)\u001b[49m\n\u001b[1;32m    305\u001b[0m \u001b[38;5;28;01mexcept\u001b[39;00m (\u001b[38;5;167;01mTypeError\u001b[39;00m, \u001b[38;5;167;01mNotImplementedError\u001b[39;00m):\n\u001b[1;32m    306\u001b[0m     \u001b[38;5;28;01mif\u001b[39;00m \u001b[38;5;129;01mnot\u001b[39;00m ignore_failures:\n",
      "File \u001b[0;32m/usr/local/lib/python3.10/site-packages/pandas/core/internals/blocks.py:1622\u001b[0m, in \u001b[0;36mExtensionBlock.setitem\u001b[0;34m(self, indexer, value)\u001b[0m\n\u001b[1;32m   1619\u001b[0m     value \u001b[38;5;241m=\u001b[39m value\u001b[38;5;241m.\u001b[39m_ixs(\u001b[38;5;241m0\u001b[39m, axis\u001b[38;5;241m=\u001b[39m\u001b[38;5;241m1\u001b[39m)\u001b[38;5;241m.\u001b[39m_values\n\u001b[1;32m   1621\u001b[0m check_setitem_lengths(indexer, value, \u001b[38;5;28mself\u001b[39m\u001b[38;5;241m.\u001b[39mvalues)\n\u001b[0;32m-> 1622\u001b[0m \u001b[38;5;28mself\u001b[39m\u001b[38;5;241m.\u001b[39mvalues[indexer] \u001b[38;5;241m=\u001b[39m value\n\u001b[1;32m   1623\u001b[0m \u001b[38;5;28;01mreturn\u001b[39;00m \u001b[38;5;28mself\u001b[39m\n",
      "File \u001b[0;32m/usr/local/lib/python3.10/site-packages/pandas/core/arrays/string_.py:405\u001b[0m, in \u001b[0;36mStringArray.__setitem__\u001b[0;34m(self, key, value)\u001b[0m\n\u001b[1;32m    403\u001b[0m         value \u001b[38;5;241m=\u001b[39m StringDtype\u001b[38;5;241m.\u001b[39mna_value\n\u001b[1;32m    404\u001b[0m     \u001b[38;5;28;01melif\u001b[39;00m \u001b[38;5;129;01mnot\u001b[39;00m \u001b[38;5;28misinstance\u001b[39m(value, \u001b[38;5;28mstr\u001b[39m):\n\u001b[0;32m--> 405\u001b[0m         \u001b[38;5;28;01mraise\u001b[39;00m \u001b[38;5;167;01mValueError\u001b[39;00m(\n\u001b[1;32m    406\u001b[0m             \u001b[38;5;124mf\u001b[39m\u001b[38;5;124m\"\u001b[39m\u001b[38;5;124mCannot set non-string value \u001b[39m\u001b[38;5;124m'\u001b[39m\u001b[38;5;132;01m{\u001b[39;00mvalue\u001b[38;5;132;01m}\u001b[39;00m\u001b[38;5;124m'\u001b[39m\u001b[38;5;124m into a StringArray.\u001b[39m\u001b[38;5;124m\"\u001b[39m\n\u001b[1;32m    407\u001b[0m         )\n\u001b[1;32m    408\u001b[0m \u001b[38;5;28;01melse\u001b[39;00m:\n\u001b[1;32m    409\u001b[0m     \u001b[38;5;28;01mif\u001b[39;00m \u001b[38;5;129;01mnot\u001b[39;00m is_array_like(value):\n",
      "\u001b[0;31mValueError\u001b[0m: Cannot set non-string value '12345' into a StringArray."
     ]
    }
   ],
   "source": [
    "s.loc[0] = 12345\n",
    "s"
   ]
  },
  {
   "cell_type": "code",
   "execution_count": 46,
   "id": "d9f4b0eb",
   "metadata": {},
   "outputs": [
    {
     "data": {
      "text/plain": [
       "0    10\n",
       "1    20\n",
       "2    30\n",
       "3    40\n",
       "4    50\n",
       "dtype: int64"
      ]
     },
     "execution_count": 46,
     "metadata": {},
     "output_type": "execute_result"
    }
   ],
   "source": [
    "# what happens if I have a series of integers?\n",
    "\n",
    "s = Series([10, 20, 30, 40, 50])\n",
    "s"
   ]
  },
  {
   "cell_type": "code",
   "execution_count": 47,
   "id": "bbf9cec7",
   "metadata": {},
   "outputs": [
    {
     "data": {
      "text/plain": [
       "count     5.000000\n",
       "mean     30.000000\n",
       "std      15.811388\n",
       "min      10.000000\n",
       "25%      20.000000\n",
       "50%      30.000000\n",
       "75%      40.000000\n",
       "max      50.000000\n",
       "dtype: float64"
      ]
     },
     "execution_count": 47,
     "metadata": {},
     "output_type": "execute_result"
    }
   ],
   "source": [
    "s.describe()"
   ]
  },
  {
   "cell_type": "code",
   "execution_count": 48,
   "id": "345281de",
   "metadata": {},
   "outputs": [
    {
     "data": {
      "text/plain": [
       "0    10\n",
       "1    20\n",
       "2    30\n",
       "3    40\n",
       "4    50\n",
       "dtype: object"
      ]
     },
     "execution_count": 48,
     "metadata": {},
     "output_type": "execute_result"
    }
   ],
   "source": [
    "# what if I have a series of strings containing digits, and I want\n",
    "# to turn the series dtype into int?\n",
    "\n",
    "s = Series('10 20 30 40 50'.split())\n",
    "s"
   ]
  },
  {
   "cell_type": "code",
   "execution_count": 49,
   "id": "29c32120",
   "metadata": {},
   "outputs": [
    {
     "data": {
      "text/plain": [
       "0    10\n",
       "1    20\n",
       "2    30\n",
       "3    40\n",
       "4    50\n",
       "dtype: int64"
      ]
     },
     "execution_count": 49,
     "metadata": {},
     "output_type": "execute_result"
    }
   ],
   "source": [
    "s.astype(np.int64)"
   ]
  },
  {
   "cell_type": "code",
   "execution_count": 50,
   "id": "5eed7b2e",
   "metadata": {},
   "outputs": [
    {
     "data": {
      "text/plain": [
       "count     5.000000\n",
       "mean     30.000000\n",
       "std      15.811388\n",
       "min      10.000000\n",
       "25%      20.000000\n",
       "50%      30.000000\n",
       "75%      40.000000\n",
       "max      50.000000\n",
       "dtype: float64"
      ]
     },
     "execution_count": 50,
     "metadata": {},
     "output_type": "execute_result"
    }
   ],
   "source": [
    "s = s.astype(np.int64)\n",
    "s.describe()"
   ]
  },
  {
   "cell_type": "code",
   "execution_count": 51,
   "id": "07cf5d87",
   "metadata": {},
   "outputs": [
    {
     "data": {
      "text/plain": [
       "0      10\n",
       "1      20\n",
       "2      30\n",
       "3    abcd\n",
       "4      50\n",
       "5      60\n",
       "dtype: object"
      ]
     },
     "execution_count": 51,
     "metadata": {},
     "output_type": "execute_result"
    }
   ],
   "source": [
    "# but what if there is a bad value in that series?\n",
    "\n",
    "s = Series('10 20 30 abcd 50 60'.split())\n",
    "s"
   ]
  },
  {
   "cell_type": "code",
   "execution_count": 52,
   "id": "05a2f220",
   "metadata": {},
   "outputs": [
    {
     "ename": "ValueError",
     "evalue": "invalid literal for int() with base 10: 'abcd'",
     "output_type": "error",
     "traceback": [
      "\u001b[0;31m---------------------------------------------------------------------------\u001b[0m",
      "\u001b[0;31mValueError\u001b[0m                                Traceback (most recent call last)",
      "Input \u001b[0;32mIn [52]\u001b[0m, in \u001b[0;36m<cell line: 3>\u001b[0;34m()\u001b[0m\n\u001b[1;32m      1\u001b[0m \u001b[38;5;66;03m# what if I use .astype(np.int64)?\u001b[39;00m\n\u001b[0;32m----> 3\u001b[0m \u001b[43ms\u001b[49m\u001b[38;5;241;43m.\u001b[39;49m\u001b[43mastype\u001b[49m\u001b[43m(\u001b[49m\u001b[43mnp\u001b[49m\u001b[38;5;241;43m.\u001b[39;49m\u001b[43mint64\u001b[49m\u001b[43m)\u001b[49m\n",
      "File \u001b[0;32m/usr/local/lib/python3.10/site-packages/pandas/core/generic.py:5912\u001b[0m, in \u001b[0;36mNDFrame.astype\u001b[0;34m(self, dtype, copy, errors)\u001b[0m\n\u001b[1;32m   5905\u001b[0m     results \u001b[38;5;241m=\u001b[39m [\n\u001b[1;32m   5906\u001b[0m         \u001b[38;5;28mself\u001b[39m\u001b[38;5;241m.\u001b[39miloc[:, i]\u001b[38;5;241m.\u001b[39mastype(dtype, copy\u001b[38;5;241m=\u001b[39mcopy)\n\u001b[1;32m   5907\u001b[0m         \u001b[38;5;28;01mfor\u001b[39;00m i \u001b[38;5;129;01min\u001b[39;00m \u001b[38;5;28mrange\u001b[39m(\u001b[38;5;28mlen\u001b[39m(\u001b[38;5;28mself\u001b[39m\u001b[38;5;241m.\u001b[39mcolumns))\n\u001b[1;32m   5908\u001b[0m     ]\n\u001b[1;32m   5910\u001b[0m \u001b[38;5;28;01melse\u001b[39;00m:\n\u001b[1;32m   5911\u001b[0m     \u001b[38;5;66;03m# else, only a single dtype is given\u001b[39;00m\n\u001b[0;32m-> 5912\u001b[0m     new_data \u001b[38;5;241m=\u001b[39m \u001b[38;5;28;43mself\u001b[39;49m\u001b[38;5;241;43m.\u001b[39;49m\u001b[43m_mgr\u001b[49m\u001b[38;5;241;43m.\u001b[39;49m\u001b[43mastype\u001b[49m\u001b[43m(\u001b[49m\u001b[43mdtype\u001b[49m\u001b[38;5;241;43m=\u001b[39;49m\u001b[43mdtype\u001b[49m\u001b[43m,\u001b[49m\u001b[43m \u001b[49m\u001b[43mcopy\u001b[49m\u001b[38;5;241;43m=\u001b[39;49m\u001b[43mcopy\u001b[49m\u001b[43m,\u001b[49m\u001b[43m \u001b[49m\u001b[43merrors\u001b[49m\u001b[38;5;241;43m=\u001b[39;49m\u001b[43merrors\u001b[49m\u001b[43m)\u001b[49m\n\u001b[1;32m   5913\u001b[0m     \u001b[38;5;28;01mreturn\u001b[39;00m \u001b[38;5;28mself\u001b[39m\u001b[38;5;241m.\u001b[39m_constructor(new_data)\u001b[38;5;241m.\u001b[39m__finalize__(\u001b[38;5;28mself\u001b[39m, method\u001b[38;5;241m=\u001b[39m\u001b[38;5;124m\"\u001b[39m\u001b[38;5;124mastype\u001b[39m\u001b[38;5;124m\"\u001b[39m)\n\u001b[1;32m   5915\u001b[0m \u001b[38;5;66;03m# GH 33113: handle empty frame or series\u001b[39;00m\n",
      "File \u001b[0;32m/usr/local/lib/python3.10/site-packages/pandas/core/internals/managers.py:419\u001b[0m, in \u001b[0;36mBaseBlockManager.astype\u001b[0;34m(self, dtype, copy, errors)\u001b[0m\n\u001b[1;32m    418\u001b[0m \u001b[38;5;28;01mdef\u001b[39;00m \u001b[38;5;21mastype\u001b[39m(\u001b[38;5;28mself\u001b[39m: T, dtype, copy: \u001b[38;5;28mbool\u001b[39m \u001b[38;5;241m=\u001b[39m \u001b[38;5;28;01mFalse\u001b[39;00m, errors: \u001b[38;5;28mstr\u001b[39m \u001b[38;5;241m=\u001b[39m \u001b[38;5;124m\"\u001b[39m\u001b[38;5;124mraise\u001b[39m\u001b[38;5;124m\"\u001b[39m) \u001b[38;5;241m-\u001b[39m\u001b[38;5;241m>\u001b[39m T:\n\u001b[0;32m--> 419\u001b[0m     \u001b[38;5;28;01mreturn\u001b[39;00m \u001b[38;5;28;43mself\u001b[39;49m\u001b[38;5;241;43m.\u001b[39;49m\u001b[43mapply\u001b[49m\u001b[43m(\u001b[49m\u001b[38;5;124;43m\"\u001b[39;49m\u001b[38;5;124;43mastype\u001b[39;49m\u001b[38;5;124;43m\"\u001b[39;49m\u001b[43m,\u001b[49m\u001b[43m \u001b[49m\u001b[43mdtype\u001b[49m\u001b[38;5;241;43m=\u001b[39;49m\u001b[43mdtype\u001b[49m\u001b[43m,\u001b[49m\u001b[43m \u001b[49m\u001b[43mcopy\u001b[49m\u001b[38;5;241;43m=\u001b[39;49m\u001b[43mcopy\u001b[49m\u001b[43m,\u001b[49m\u001b[43m \u001b[49m\u001b[43merrors\u001b[49m\u001b[38;5;241;43m=\u001b[39;49m\u001b[43merrors\u001b[49m\u001b[43m)\u001b[49m\n",
      "File \u001b[0;32m/usr/local/lib/python3.10/site-packages/pandas/core/internals/managers.py:304\u001b[0m, in \u001b[0;36mBaseBlockManager.apply\u001b[0;34m(self, f, align_keys, ignore_failures, **kwargs)\u001b[0m\n\u001b[1;32m    302\u001b[0m         applied \u001b[38;5;241m=\u001b[39m b\u001b[38;5;241m.\u001b[39mapply(f, \u001b[38;5;241m*\u001b[39m\u001b[38;5;241m*\u001b[39mkwargs)\n\u001b[1;32m    303\u001b[0m     \u001b[38;5;28;01melse\u001b[39;00m:\n\u001b[0;32m--> 304\u001b[0m         applied \u001b[38;5;241m=\u001b[39m \u001b[38;5;28;43mgetattr\u001b[39;49m\u001b[43m(\u001b[49m\u001b[43mb\u001b[49m\u001b[43m,\u001b[49m\u001b[43m \u001b[49m\u001b[43mf\u001b[49m\u001b[43m)\u001b[49m\u001b[43m(\u001b[49m\u001b[38;5;241;43m*\u001b[39;49m\u001b[38;5;241;43m*\u001b[39;49m\u001b[43mkwargs\u001b[49m\u001b[43m)\u001b[49m\n\u001b[1;32m    305\u001b[0m \u001b[38;5;28;01mexcept\u001b[39;00m (\u001b[38;5;167;01mTypeError\u001b[39;00m, \u001b[38;5;167;01mNotImplementedError\u001b[39;00m):\n\u001b[1;32m    306\u001b[0m     \u001b[38;5;28;01mif\u001b[39;00m \u001b[38;5;129;01mnot\u001b[39;00m ignore_failures:\n",
      "File \u001b[0;32m/usr/local/lib/python3.10/site-packages/pandas/core/internals/blocks.py:580\u001b[0m, in \u001b[0;36mBlock.astype\u001b[0;34m(self, dtype, copy, errors)\u001b[0m\n\u001b[1;32m    562\u001b[0m \u001b[38;5;124;03m\"\"\"\u001b[39;00m\n\u001b[1;32m    563\u001b[0m \u001b[38;5;124;03mCoerce to the new dtype.\u001b[39;00m\n\u001b[1;32m    564\u001b[0m \n\u001b[0;32m   (...)\u001b[0m\n\u001b[1;32m    576\u001b[0m \u001b[38;5;124;03mBlock\u001b[39;00m\n\u001b[1;32m    577\u001b[0m \u001b[38;5;124;03m\"\"\"\u001b[39;00m\n\u001b[1;32m    578\u001b[0m values \u001b[38;5;241m=\u001b[39m \u001b[38;5;28mself\u001b[39m\u001b[38;5;241m.\u001b[39mvalues\n\u001b[0;32m--> 580\u001b[0m new_values \u001b[38;5;241m=\u001b[39m \u001b[43mastype_array_safe\u001b[49m\u001b[43m(\u001b[49m\u001b[43mvalues\u001b[49m\u001b[43m,\u001b[49m\u001b[43m \u001b[49m\u001b[43mdtype\u001b[49m\u001b[43m,\u001b[49m\u001b[43m \u001b[49m\u001b[43mcopy\u001b[49m\u001b[38;5;241;43m=\u001b[39;49m\u001b[43mcopy\u001b[49m\u001b[43m,\u001b[49m\u001b[43m \u001b[49m\u001b[43merrors\u001b[49m\u001b[38;5;241;43m=\u001b[39;49m\u001b[43merrors\u001b[49m\u001b[43m)\u001b[49m\n\u001b[1;32m    582\u001b[0m new_values \u001b[38;5;241m=\u001b[39m maybe_coerce_values(new_values)\n\u001b[1;32m    583\u001b[0m newb \u001b[38;5;241m=\u001b[39m \u001b[38;5;28mself\u001b[39m\u001b[38;5;241m.\u001b[39mmake_block(new_values)\n",
      "File \u001b[0;32m/usr/local/lib/python3.10/site-packages/pandas/core/dtypes/cast.py:1292\u001b[0m, in \u001b[0;36mastype_array_safe\u001b[0;34m(values, dtype, copy, errors)\u001b[0m\n\u001b[1;32m   1289\u001b[0m     dtype \u001b[38;5;241m=\u001b[39m dtype\u001b[38;5;241m.\u001b[39mnumpy_dtype\n\u001b[1;32m   1291\u001b[0m \u001b[38;5;28;01mtry\u001b[39;00m:\n\u001b[0;32m-> 1292\u001b[0m     new_values \u001b[38;5;241m=\u001b[39m \u001b[43mastype_array\u001b[49m\u001b[43m(\u001b[49m\u001b[43mvalues\u001b[49m\u001b[43m,\u001b[49m\u001b[43m \u001b[49m\u001b[43mdtype\u001b[49m\u001b[43m,\u001b[49m\u001b[43m \u001b[49m\u001b[43mcopy\u001b[49m\u001b[38;5;241;43m=\u001b[39;49m\u001b[43mcopy\u001b[49m\u001b[43m)\u001b[49m\n\u001b[1;32m   1293\u001b[0m \u001b[38;5;28;01mexcept\u001b[39;00m (\u001b[38;5;167;01mValueError\u001b[39;00m, \u001b[38;5;167;01mTypeError\u001b[39;00m):\n\u001b[1;32m   1294\u001b[0m     \u001b[38;5;66;03m# e.g. astype_nansafe can fail on object-dtype of strings\u001b[39;00m\n\u001b[1;32m   1295\u001b[0m     \u001b[38;5;66;03m#  trying to convert to float\u001b[39;00m\n\u001b[1;32m   1296\u001b[0m     \u001b[38;5;28;01mif\u001b[39;00m errors \u001b[38;5;241m==\u001b[39m \u001b[38;5;124m\"\u001b[39m\u001b[38;5;124mignore\u001b[39m\u001b[38;5;124m\"\u001b[39m:\n",
      "File \u001b[0;32m/usr/local/lib/python3.10/site-packages/pandas/core/dtypes/cast.py:1237\u001b[0m, in \u001b[0;36mastype_array\u001b[0;34m(values, dtype, copy)\u001b[0m\n\u001b[1;32m   1234\u001b[0m     values \u001b[38;5;241m=\u001b[39m values\u001b[38;5;241m.\u001b[39mastype(dtype, copy\u001b[38;5;241m=\u001b[39mcopy)\n\u001b[1;32m   1236\u001b[0m \u001b[38;5;28;01melse\u001b[39;00m:\n\u001b[0;32m-> 1237\u001b[0m     values \u001b[38;5;241m=\u001b[39m \u001b[43mastype_nansafe\u001b[49m\u001b[43m(\u001b[49m\u001b[43mvalues\u001b[49m\u001b[43m,\u001b[49m\u001b[43m \u001b[49m\u001b[43mdtype\u001b[49m\u001b[43m,\u001b[49m\u001b[43m \u001b[49m\u001b[43mcopy\u001b[49m\u001b[38;5;241;43m=\u001b[39;49m\u001b[43mcopy\u001b[49m\u001b[43m)\u001b[49m\n\u001b[1;32m   1239\u001b[0m \u001b[38;5;66;03m# in pandas we don't store numpy str dtypes, so convert to object\u001b[39;00m\n\u001b[1;32m   1240\u001b[0m \u001b[38;5;28;01mif\u001b[39;00m \u001b[38;5;28misinstance\u001b[39m(dtype, np\u001b[38;5;241m.\u001b[39mdtype) \u001b[38;5;129;01mand\u001b[39;00m \u001b[38;5;28missubclass\u001b[39m(values\u001b[38;5;241m.\u001b[39mdtype\u001b[38;5;241m.\u001b[39mtype, \u001b[38;5;28mstr\u001b[39m):\n",
      "File \u001b[0;32m/usr/local/lib/python3.10/site-packages/pandas/core/dtypes/cast.py:1154\u001b[0m, in \u001b[0;36mastype_nansafe\u001b[0;34m(arr, dtype, copy, skipna)\u001b[0m\n\u001b[1;32m   1150\u001b[0m \u001b[38;5;28;01melif\u001b[39;00m is_object_dtype(arr\u001b[38;5;241m.\u001b[39mdtype):\n\u001b[1;32m   1151\u001b[0m \n\u001b[1;32m   1152\u001b[0m     \u001b[38;5;66;03m# work around NumPy brokenness, #1987\u001b[39;00m\n\u001b[1;32m   1153\u001b[0m     \u001b[38;5;28;01mif\u001b[39;00m np\u001b[38;5;241m.\u001b[39missubdtype(dtype\u001b[38;5;241m.\u001b[39mtype, np\u001b[38;5;241m.\u001b[39minteger):\n\u001b[0;32m-> 1154\u001b[0m         \u001b[38;5;28;01mreturn\u001b[39;00m \u001b[43mlib\u001b[49m\u001b[38;5;241;43m.\u001b[39;49m\u001b[43mastype_intsafe\u001b[49m\u001b[43m(\u001b[49m\u001b[43marr\u001b[49m\u001b[43m,\u001b[49m\u001b[43m \u001b[49m\u001b[43mdtype\u001b[49m\u001b[43m)\u001b[49m\n\u001b[1;32m   1156\u001b[0m     \u001b[38;5;66;03m# if we have a datetime/timedelta array of objects\u001b[39;00m\n\u001b[1;32m   1157\u001b[0m     \u001b[38;5;66;03m# then coerce to a proper dtype and recall astype_nansafe\u001b[39;00m\n\u001b[1;32m   1159\u001b[0m     \u001b[38;5;28;01melif\u001b[39;00m is_datetime64_dtype(dtype):\n",
      "File \u001b[0;32m/usr/local/lib/python3.10/site-packages/pandas/_libs/lib.pyx:668\u001b[0m, in \u001b[0;36mpandas._libs.lib.astype_intsafe\u001b[0;34m()\u001b[0m\n",
      "\u001b[0;31mValueError\u001b[0m: invalid literal for int() with base 10: 'abcd'"
     ]
    }
   ],
   "source": [
    "# what if I use .astype(np.int64)?\n",
    "\n",
    "s.astype(np.int64)"
   ]
  },
  {
   "cell_type": "code",
   "execution_count": 53,
   "id": "a25927e3",
   "metadata": {},
   "outputs": [
    {
     "data": {
      "text/plain": [
       "0     True\n",
       "1     True\n",
       "2     True\n",
       "3    False\n",
       "4     True\n",
       "5     True\n",
       "dtype: bool"
      ]
     },
     "execution_count": 53,
     "metadata": {},
     "output_type": "execute_result"
    }
   ],
   "source": [
    "# let's filter out the strings in s that cannot be turned into integers\n",
    "# an easy way to do this is with the \"str.isdigit\" accessor method\n",
    "# isdigit is a builtin Python string method, which returns True if the string\n",
    "# only contains the digits 0-9.  No whitespace, and no empty strings.\n",
    "\n",
    "s.str.isdigit()"
   ]
  },
  {
   "cell_type": "code",
   "execution_count": 55,
   "id": "89017712",
   "metadata": {},
   "outputs": [
    {
     "data": {
      "text/plain": [
       "0    10\n",
       "1    20\n",
       "2    30\n",
       "4    50\n",
       "5    60\n",
       "dtype: object"
      ]
     },
     "execution_count": 55,
     "metadata": {},
     "output_type": "execute_result"
    }
   ],
   "source": [
    "# get only those strings that contain digits\n",
    "s.loc[s.str.isdigit()]"
   ]
  },
  {
   "cell_type": "code",
   "execution_count": 59,
   "id": "e202caaa",
   "metadata": {},
   "outputs": [
    {
     "data": {
      "text/plain": [
       "170"
      ]
     },
     "execution_count": 59,
     "metadata": {},
     "output_type": "execute_result"
    }
   ],
   "source": [
    "# first, we grab only those strings containing the digits 0-9\n",
    "# via a mask/boolean index\n",
    "# then, we invoke astype(np.int64) on the resulting series of strings\n",
    "# we sum those integers, and get the value\n",
    "s.loc[s.str.isdigit()].astype(np.int64).sum()"
   ]
  },
  {
   "cell_type": "code",
   "execution_count": 60,
   "id": "284cf307",
   "metadata": {},
   "outputs": [
    {
     "data": {
      "text/plain": [
       "170"
      ]
     },
     "execution_count": 60,
     "metadata": {},
     "output_type": "execute_result"
    }
   ],
   "source": [
    "# If I want to change s, and turn it (permanently) into a series of integers,\n",
    "# I have to do a bit more work:\n",
    "\n",
    "s = s.loc[s.str.isdigit()].astype(np.int64)\n",
    "s.sum()"
   ]
  },
  {
   "cell_type": "markdown",
   "id": "bc8e26d6",
   "metadata": {},
   "source": [
    "# Exercise: Mean of dirty ints\n",
    "\n",
    "1. Ask the user to enter integers, separated by spaces, in a single string.\n",
    "2. Filter out any strings that contain non-digits.\n",
    "3. Get the mean of those inputs.\n",
    "4. Bonus extra: Get the non-digits from the input string!"
   ]
  },
  {
   "cell_type": "code",
   "execution_count": null,
   "id": "9e8d284d",
   "metadata": {},
   "outputs": [],
   "source": [
    "numbers = input('Enter some numbers, separated by spaces: ').strip()"
   ]
  },
  {
   "cell_type": "code",
   "execution_count": 67,
   "id": "cb448d69",
   "metadata": {},
   "outputs": [
    {
     "data": {
      "text/plain": [
       "0    10\n",
       "1    20\n",
       "2    30\n",
       "4    40\n",
       "5    50\n",
       "6    60\n",
       "dtype: object"
      ]
     },
     "execution_count": 67,
     "metadata": {},
     "output_type": "execute_result"
    }
   ],
   "source": [
    "s = Series(numbers.split())\n",
    "\n",
    "s.loc[s.str.isdigit()]   # return only those elements that *can* be turned into ints"
   ]
  },
  {
   "cell_type": "code",
   "execution_count": 69,
   "id": "dd5f93ec",
   "metadata": {},
   "outputs": [
    {
     "data": {
      "text/plain": [
       "0    10\n",
       "1    20\n",
       "2    30\n",
       "4    40\n",
       "5    50\n",
       "6    60\n",
       "dtype: int64"
      ]
     },
     "execution_count": 69,
     "metadata": {},
     "output_type": "execute_result"
    }
   ],
   "source": [
    "s = s.loc[s.str.isdigit()].astype(np.int64)\n",
    "s"
   ]
  },
  {
   "cell_type": "code",
   "execution_count": 70,
   "id": "4e926e5a",
   "metadata": {},
   "outputs": [
    {
     "data": {
      "text/plain": [
       "35.0"
      ]
     },
     "execution_count": 70,
     "metadata": {},
     "output_type": "execute_result"
    }
   ],
   "source": [
    "s.mean()"
   ]
  },
  {
   "cell_type": "code",
   "execution_count": 71,
   "id": "4cd061ce",
   "metadata": {},
   "outputs": [
    {
     "data": {
      "text/plain": [
       "0    10\n",
       "1    20\n",
       "2    30\n",
       "4    40\n",
       "5    50\n",
       "6    60\n",
       "dtype: int64"
      ]
     },
     "execution_count": 71,
     "metadata": {},
     "output_type": "execute_result"
    }
   ],
   "source": [
    "# can we get all of those elements that are *not* numeric?\n",
    "\n",
    "s"
   ]
  },
  {
   "cell_type": "code",
   "execution_count": 74,
   "id": "e5cdb162",
   "metadata": {},
   "outputs": [
    {
     "data": {
      "text/plain": [
       "0       10\n",
       "1       20\n",
       "2       30\n",
       "3    abcde\n",
       "4       40\n",
       "5       50\n",
       "6       60\n",
       "dtype: object"
      ]
     },
     "execution_count": 74,
     "metadata": {},
     "output_type": "execute_result"
    }
   ],
   "source": [
    "s = Series(numbers.split())\n",
    "s"
   ]
  },
  {
   "cell_type": "code",
   "execution_count": 77,
   "id": "23d7e635",
   "metadata": {},
   "outputs": [
    {
     "data": {
      "text/plain": [
       "3    abcde\n",
       "dtype: object"
      ]
     },
     "execution_count": 77,
     "metadata": {},
     "output_type": "execute_result"
    }
   ],
   "source": [
    "# I can find the things that are not numeric by using str.isdigit, and then\n",
    "# flipping the logic with ~ (the \"not\" operator)\n",
    "\n",
    "s[~s.str.isdigit()]"
   ]
  },
  {
   "cell_type": "markdown",
   "id": "fbad5655",
   "metadata": {},
   "source": [
    "# Next up\n",
    "\n",
    "1. Textual statistics\n",
    "2. Trimming + splitting + indexing strings"
   ]
  },
  {
   "cell_type": "code",
   "execution_count": 78,
   "id": "c638d073",
   "metadata": {},
   "outputs": [
    {
     "data": {
      "text/plain": [
       "0         this\n",
       "1           is\n",
       "2            a\n",
       "3        bunch\n",
       "4           of\n",
       "5        words\n",
       "6          and\n",
       "7          the\n",
       "8        bunch\n",
       "9           of\n",
       "10       words\n",
       "11          is\n",
       "12        very\n",
       "13    exciting\n",
       "14         and\n",
       "15         the\n",
       "16       words\n",
       "17        just\n",
       "18          go\n",
       "19          on\n",
       "20         and\n",
       "21          on\n",
       "22         and\n",
       "23          on\n",
       "24         and\n",
       "25       there\n",
       "26          is\n",
       "27          no\n",
       "28         end\n",
       "29          to\n",
       "30         our\n",
       "31       words\n",
       "dtype: object"
      ]
     },
     "execution_count": 78,
     "metadata": {},
     "output_type": "execute_result"
    }
   ],
   "source": [
    "s = Series('this is a bunch of words and the bunch of words is very exciting and the words just go on and on and on and there is no end to our words'.split())\n",
    "s"
   ]
  },
  {
   "cell_type": "code",
   "execution_count": 79,
   "id": "a1bd340a",
   "metadata": {},
   "outputs": [
    {
     "data": {
      "text/plain": [
       "count      32\n",
       "unique     18\n",
       "top       and\n",
       "freq        5\n",
       "dtype: object"
      ]
     },
     "execution_count": 79,
     "metadata": {},
     "output_type": "execute_result"
    }
   ],
   "source": [
    "# what happens if I run \"describe\" on our series?\n",
    "\n",
    "s.describe()"
   ]
  },
  {
   "cell_type": "markdown",
   "id": "dbe5f142",
   "metadata": {},
   "source": [
    "# Why `describe` is useful with text\n",
    "\n",
    "The big thing we can find out by running `describe` on a text column (series) is how many unique values there are, and how many are `NaN`. This can be useful in understanding whether every value is unique (as we saw earlier with dates) or if there is a lot of overlap.\n",
    "\n",
    "The reason this can help us is that Pandas provides ways to crunch our data down, saving memory, if we have repeated values. This is similar to what progrmamers would call an \"enum,\" where we replace text with numbers, because numbers take up much less space. So if the number of unqiue values is much less than the number of values, you might want to consider looking into a \"category\" dtype column, rather than a text/object column."
   ]
  },
  {
   "cell_type": "code",
   "execution_count": 80,
   "id": "1ac1407f",
   "metadata": {},
   "outputs": [
    {
     "data": {
      "text/plain": [
       "and         5\n",
       "words       4\n",
       "on          3\n",
       "is          3\n",
       "bunch       2\n",
       "of          2\n",
       "the         2\n",
       "this        1\n",
       "to          1\n",
       "end         1\n",
       "no          1\n",
       "there       1\n",
       "exciting    1\n",
       "go          1\n",
       "just        1\n",
       "very        1\n",
       "a           1\n",
       "our         1\n",
       "dtype: int64"
      ]
     },
     "execution_count": 80,
     "metadata": {},
     "output_type": "execute_result"
    }
   ],
   "source": [
    "# we can also run value_counts on our series of words\n",
    "\n",
    "s.value_counts()"
   ]
  },
  {
   "cell_type": "code",
   "execution_count": 83,
   "id": "9cad7d7d",
   "metadata": {},
   "outputs": [
    {
     "data": {
      "text/plain": [
       "and      5\n",
       "words    4\n",
       "on       3\n",
       "is       3\n",
       "bunch    2\n",
       "of       2\n",
       "the      2\n",
       "dtype: int64"
      ]
     },
     "execution_count": 83,
     "metadata": {},
     "output_type": "execute_result"
    }
   ],
   "source": [
    "# what words appeared more than once in s?\n",
    "\n",
    "# select those words in s that appear more than once\n",
    "s.value_counts().loc[s.value_counts() > 1]"
   ]
  },
  {
   "cell_type": "code",
   "execution_count": 86,
   "id": "1b48e36e",
   "metadata": {},
   "outputs": [
    {
     "data": {
      "text/plain": [
       "7          the\n",
       "12        very\n",
       "13    exciting\n",
       "15         the\n",
       "25       there\n",
       "28         end\n",
       "dtype: object"
      ]
     },
     "execution_count": 86,
     "metadata": {},
     "output_type": "execute_result"
    }
   ],
   "source": [
    "# I can search in a string using the \"contains\" method on the str accessor\n",
    "\n",
    "s.loc[s.str.contains('e')]   # this is sort of like the 'in' operator in Python"
   ]
  },
  {
   "cell_type": "code",
   "execution_count": 87,
   "id": "7e66f03a",
   "metadata": {},
   "outputs": [
    {
     "data": {
      "text/plain": [
       "0         this\n",
       "1           is\n",
       "11          is\n",
       "13    exciting\n",
       "26          is\n",
       "dtype: object"
      ]
     },
     "execution_count": 87,
     "metadata": {},
     "output_type": "execute_result"
    }
   ],
   "source": [
    "# what if I want all of the words that contain 'i'?\n",
    "\n",
    "s.loc[s.str.contains('i')]"
   ]
  },
  {
   "cell_type": "code",
   "execution_count": 89,
   "id": "5ffd7d12",
   "metadata": {},
   "outputs": [
    {
     "data": {
      "text/plain": [
       "0         this\n",
       "1           is\n",
       "7          the\n",
       "11          is\n",
       "12        very\n",
       "13    exciting\n",
       "15         the\n",
       "25       there\n",
       "26          is\n",
       "28         end\n",
       "dtype: object"
      ]
     },
     "execution_count": 89,
     "metadata": {},
     "output_type": "execute_result"
    }
   ],
   "source": [
    "# I want all of the words that contain either e or i\n",
    "s.loc[s.str.contains('e') | s.str.contains('i')]"
   ]
  },
  {
   "cell_type": "code",
   "execution_count": 91,
   "id": "0942a0f0",
   "metadata": {},
   "outputs": [
    {
     "data": {
      "text/plain": [
       "0         this\n",
       "1           is\n",
       "7          the\n",
       "11          is\n",
       "12        very\n",
       "13    exciting\n",
       "15         the\n",
       "25       there\n",
       "26          is\n",
       "28         end\n",
       "dtype: object"
      ]
     },
     "execution_count": 91,
     "metadata": {},
     "output_type": "execute_result"
    }
   ],
   "source": [
    "# the above works just fine *but* we can also do the same thing\n",
    "# via regular expressions.  contains, by default, assumes that its\n",
    "# string argument is a regexp.\n",
    "\n",
    "# Check out RegexpCrashCourse.com -- my free, 14-day e-mail course \n",
    "# on regular expressions.\n",
    "\n",
    "s.loc[s.str.contains('[ei]')]  # we are looking for either e or i in s"
   ]
  },
  {
   "cell_type": "code",
   "execution_count": 93,
   "id": "caa5ba81",
   "metadata": {},
   "outputs": [
    {
     "data": {
      "text/plain": [
       "0          NaN\n",
       "1           is\n",
       "2            a\n",
       "3        bunch\n",
       "4           of\n",
       "5        words\n",
       "6          and\n",
       "7          the\n",
       "8        bunch\n",
       "9           of\n",
       "10       words\n",
       "11          is\n",
       "12        very\n",
       "13    exciting\n",
       "14         and\n",
       "15         the\n",
       "16       words\n",
       "17        just\n",
       "18          go\n",
       "19          on\n",
       "20         and\n",
       "21          on\n",
       "22         and\n",
       "23          on\n",
       "24         and\n",
       "25       there\n",
       "26          is\n",
       "27          no\n",
       "28         end\n",
       "29          to\n",
       "30         our\n",
       "31       words\n",
       "dtype: object"
      ]
     },
     "execution_count": 93,
     "metadata": {},
     "output_type": "execute_result"
    }
   ],
   "source": [
    "s.loc[0] = np.nan\n",
    "s"
   ]
  },
  {
   "cell_type": "code",
   "execution_count": 98,
   "id": "eeb1b03a",
   "metadata": {},
   "outputs": [
    {
     "data": {
      "text/plain": [
       "2       a\n",
       "6     and\n",
       "14    and\n",
       "20    and\n",
       "22    and\n",
       "24    and\n",
       "dtype: object"
      ]
     },
     "execution_count": 98,
     "metadata": {},
     "output_type": "execute_result"
    }
   ],
   "source": [
    "# If you have NaN values in your series, then str.contains will return NaN\n",
    "# and that'll blow up your boolean index. Use fillna(False) to remove them.\n",
    "s.loc[s.str.contains('a').fillna(False)]"
   ]
  },
  {
   "cell_type": "markdown",
   "id": "6a725e6e",
   "metadata": {},
   "source": [
    "# Exercise: Character frequency\n",
    "\n",
    "1. Ask the user to enter a sentence.\n",
    "2. Show the 5 most common characters use in the input sentence."
   ]
  },
  {
   "cell_type": "code",
   "execution_count": 99,
   "id": "906151ee",
   "metadata": {},
   "outputs": [
    {
     "name": "stdout",
     "output_type": "stream",
     "text": [
      "Enter a sentence: this is yet another amazing and fantastic and expressive sentence created for my online course\n"
     ]
    }
   ],
   "source": [
    "sentence = input('Enter a sentence: ').strip()\n",
    "\n"
   ]
  },
  {
   "cell_type": "code",
   "execution_count": 100,
   "id": "c6eb6909",
   "metadata": {},
   "outputs": [
    {
     "data": {
      "text/plain": [
       "'this is yet another amazing and fantastic and expressive sentence created for my online course'"
      ]
     },
     "execution_count": 100,
     "metadata": {},
     "output_type": "execute_result"
    }
   ],
   "source": [
    "sentence"
   ]
  },
  {
   "cell_type": "code",
   "execution_count": 104,
   "id": "94f39f7a",
   "metadata": {},
   "outputs": [
    {
     "data": {
      "text/plain": [
       "0     t\n",
       "1     h\n",
       "2     i\n",
       "3     s\n",
       "4      \n",
       "     ..\n",
       "89    o\n",
       "90    u\n",
       "91    r\n",
       "92    s\n",
       "93    e\n",
       "Length: 94, dtype: object"
      ]
     },
     "execution_count": 104,
     "metadata": {},
     "output_type": "execute_result"
    }
   ],
   "source": [
    "s = Series(list(sentence))\n",
    "s"
   ]
  },
  {
   "cell_type": "code",
   "execution_count": 106,
   "id": "8cab8ee7",
   "metadata": {},
   "outputs": [
    {
     "data": {
      "text/plain": [
       "     14\n",
       "e    12\n",
       "n     9\n",
       "a     8\n",
       "t     7\n",
       "dtype: int64"
      ]
     },
     "execution_count": 106,
     "metadata": {},
     "output_type": "execute_result"
    }
   ],
   "source": [
    "s.value_counts().head(5)"
   ]
  },
  {
   "cell_type": "code",
   "execution_count": 109,
   "id": "dcd56701",
   "metadata": {},
   "outputs": [
    {
     "data": {
      "text/plain": [
       "e    12\n",
       "n     9\n",
       "a     8\n",
       "t     7\n",
       "s     7\n",
       "dtype: int64"
      ]
     },
     "execution_count": 109,
     "metadata": {},
     "output_type": "execute_result"
    }
   ],
   "source": [
    "# what if I want the five most common alphanumeric characters?\n",
    "s.loc[s.str.isalnum()].value_counts().head(5)"
   ]
  },
  {
   "cell_type": "code",
   "execution_count": 112,
   "id": "afc2f9cd",
   "metadata": {},
   "outputs": [],
   "source": [
    "filename = 'alice-in-wonderland.txt'\n",
    "\n",
    "s = Series(open(filename).read().split())"
   ]
  },
  {
   "cell_type": "code",
   "execution_count": 113,
   "id": "cd240a1f",
   "metadata": {},
   "outputs": [
    {
     "data": {
      "text/plain": [
       "0             ﻿The\n",
       "1          Project\n",
       "2        Gutenberg\n",
       "3            EBook\n",
       "4               of\n",
       "           ...    \n",
       "12758           to\n",
       "12759         hear\n",
       "12760        about\n",
       "12761          new\n",
       "12762      eBooks.\n",
       "Length: 12763, dtype: object"
      ]
     },
     "execution_count": 113,
     "metadata": {},
     "output_type": "execute_result"
    }
   ],
   "source": [
    "s"
   ]
  },
  {
   "cell_type": "code",
   "execution_count": 114,
   "id": "891a18cd",
   "metadata": {},
   "outputs": [
    {
     "data": {
      "text/plain": [
       "the    732\n",
       "and    362\n",
       "a      321\n",
       "to     311\n",
       "of     300\n",
       "dtype: int64"
      ]
     },
     "execution_count": 114,
     "metadata": {},
     "output_type": "execute_result"
    }
   ],
   "source": [
    "# what are the five most common words in Alice in Wonderland?\n",
    "s.value_counts().head(5)"
   ]
  },
  {
   "cell_type": "code",
   "execution_count": 118,
   "id": "32a4ed77",
   "metadata": {},
   "outputs": [
    {
     "data": {
      "text/plain": [
       "said       129\n",
       "with       111\n",
       "Alice      101\n",
       "that        90\n",
       "Project     78\n",
       "dtype: int64"
      ]
     },
     "execution_count": 118,
     "metadata": {},
     "output_type": "execute_result"
    }
   ],
   "source": [
    "# what are the five most common words, with at least 4 characters in them,\n",
    "# in Alice in Wonderland?\n",
    "\n",
    "s.loc[s.str.len() >= 4].value_counts().head(5)"
   ]
  },
  {
   "cell_type": "code",
   "execution_count": 120,
   "id": "618cec9b",
   "metadata": {},
   "outputs": [
    {
     "name": "stdout",
     "output_type": "stream",
     "text": [
      "-rw-r--r-- 1 reuven staff 74703 Aug 23 13:31 alice-in-wonderland.txt\r\n"
     ]
    }
   ],
   "source": [
    "!ls -l alice-in-wonderland.txt"
   ]
  },
  {
   "cell_type": "code",
   "execution_count": 122,
   "id": "fd673dda",
   "metadata": {},
   "outputs": [
    {
     "data": {
      "text/plain": [
       "0             ﻿The\n",
       "1          Project\n",
       "2        Gutenberg\n",
       "3            EBook\n",
       "4               of\n",
       "           ...    \n",
       "12758           to\n",
       "12759         hear\n",
       "12760        about\n",
       "12761          new\n",
       "12762       eBooks\n",
       "Length: 12763, dtype: object"
      ]
     },
     "execution_count": 122,
     "metadata": {},
     "output_type": "execute_result"
    }
   ],
   "source": [
    "# I want to find the most common words, but I first want to remove\n",
    "# all punctuation from the words.  This will be a more reasonable\n",
    "# comparison.\n",
    "\n",
    "# I want to remove the following characters from the ends of all words:\n",
    "# . ? ! \"\n",
    "\n",
    "# the strip method doesn't just remove whitespace (although that's what it does\n",
    "# by default). If we give it a string as an argument, it removes any and all\n",
    "# of those characters that might appear at the start or end of a string.\n",
    "\n",
    "s.str.strip('.?!\"')"
   ]
  },
  {
   "cell_type": "code",
   "execution_count": 125,
   "id": "feea01be",
   "metadata": {},
   "outputs": [
    {
     "data": {
      "text/plain": [
       "the      734\n",
       "and      383\n",
       "a        321\n",
       "to       319\n",
       "of       303\n",
       "in       213\n",
       "she      197\n",
       "Alice    165\n",
       "was      163\n",
       "it       156\n",
       "dtype: int64"
      ]
     },
     "execution_count": 125,
     "metadata": {},
     "output_type": "execute_result"
    }
   ],
   "source": [
    "s.str.strip(',;.?!\"').value_counts().head(10)"
   ]
  },
  {
   "cell_type": "code",
   "execution_count": 126,
   "id": "5731a4d9",
   "metadata": {},
   "outputs": [
    {
     "data": {
      "text/plain": [
       "the     732\n",
       "and     362\n",
       "a       321\n",
       "to      311\n",
       "of      300\n",
       "in      211\n",
       "she     197\n",
       "was     160\n",
       "said    129\n",
       "it      122\n",
       "dtype: int64"
      ]
     },
     "execution_count": 126,
     "metadata": {},
     "output_type": "execute_result"
    }
   ],
   "source": [
    "s.value_counts().head(10)"
   ]
  },
  {
   "cell_type": "code",
   "execution_count": 127,
   "id": "5e0b3e0d",
   "metadata": {},
   "outputs": [
    {
     "data": {
      "text/plain": [
       "0        ﻿\n",
       "1        P\n",
       "2        G\n",
       "3        E\n",
       "4        o\n",
       "        ..\n",
       "12758    t\n",
       "12759    h\n",
       "12760    a\n",
       "12761    n\n",
       "12762    e\n",
       "Length: 12763, dtype: object"
      ]
     },
     "execution_count": 127,
     "metadata": {},
     "output_type": "execute_result"
    }
   ],
   "source": [
    "# I can retrieve a character via \"get\" -- this is sort of like []\n",
    "# on a (string) element in the series.  But get is a method, that \n",
    "# takes its arguments in round parentheses, ()\n",
    "\n",
    "s.str.get(0)   # retrieve the first character from each string"
   ]
  },
  {
   "cell_type": "code",
   "execution_count": 128,
   "id": "c2eba784",
   "metadata": {},
   "outputs": [
    {
     "data": {
      "text/plain": [
       "0        e\n",
       "1        t\n",
       "2        g\n",
       "3        k\n",
       "4        f\n",
       "        ..\n",
       "12758    o\n",
       "12759    r\n",
       "12760    t\n",
       "12761    w\n",
       "12762    .\n",
       "Length: 12763, dtype: object"
      ]
     },
     "execution_count": 128,
     "metadata": {},
     "output_type": "execute_result"
    }
   ],
   "source": [
    "s.str.get(-1)    # retrieve the final character from each string"
   ]
  },
  {
   "cell_type": "code",
   "execution_count": 129,
   "id": "a0343ebb",
   "metadata": {},
   "outputs": [
    {
     "data": {
      "text/plain": [
       "0        he\n",
       "1        oj\n",
       "2        te\n",
       "3        oo\n",
       "4          \n",
       "         ..\n",
       "12758      \n",
       "12759    ar\n",
       "12760    ou\n",
       "12761     w\n",
       "12762    oo\n",
       "Length: 12763, dtype: object"
      ]
     },
     "execution_count": 129,
     "metadata": {},
     "output_type": "execute_result"
    }
   ],
   "source": [
    "# slices are OK, too!\n",
    "\n",
    "s.str.slice(2, 4)"
   ]
  },
  {
   "cell_type": "code",
   "execution_count": 131,
   "id": "4511e409",
   "metadata": {},
   "outputs": [
    {
     "data": {
      "text/plain": [
       "'new'"
      ]
     },
     "execution_count": 131,
     "metadata": {},
     "output_type": "execute_result"
    }
   ],
   "source": [
    "s.loc[12761]"
   ]
  },
  {
   "cell_type": "markdown",
   "id": "ddcbe766",
   "metadata": {},
   "source": [
    "# Exercise: Starts and ends the same\n",
    "\n",
    "1. Grab the `alice-in-wonderland.txt` file from the GitHub repo.\n",
    "2. (If you cannot download it for some reason, just ask the user to enter a sentence.)\n",
    "3. Print all of the words whose first and final letters are identical. Ignore punctuation (as best as possible)."
   ]
  },
  {
   "cell_type": "code",
   "execution_count": 132,
   "id": "c585f859",
   "metadata": {},
   "outputs": [
    {
     "data": {
      "text/plain": [
       "0             ﻿The\n",
       "1          Project\n",
       "2        Gutenberg\n",
       "3            EBook\n",
       "4               of\n",
       "           ...    \n",
       "12758           to\n",
       "12759         hear\n",
       "12760        about\n",
       "12761          new\n",
       "12762      eBooks.\n",
       "Length: 12763, dtype: object"
      ]
     },
     "execution_count": 132,
     "metadata": {},
     "output_type": "execute_result"
    }
   ],
   "source": [
    "filename = 'alice-in-wonderland.txt'\n",
    "\n",
    "s = Series(open(filename).read().split())\n",
    "s"
   ]
  },
  {
   "cell_type": "code",
   "execution_count": 133,
   "id": "3c7c1ee9",
   "metadata": {},
   "outputs": [
    {
     "data": {
      "text/plain": [
       "0             ﻿The\n",
       "1          Project\n",
       "2        Gutenberg\n",
       "3            EBook\n",
       "4               of\n",
       "           ...    \n",
       "12758           to\n",
       "12759         hear\n",
       "12760        about\n",
       "12761          new\n",
       "12762       eBooks\n",
       "Length: 12763, dtype: object"
      ]
     },
     "execution_count": 133,
     "metadata": {},
     "output_type": "execute_result"
    }
   ],
   "source": [
    "# remove punctuation from the start and end of each word\n",
    "\n",
    "s = s.str.strip('.!?,;:\"')\n",
    "s"
   ]
  },
  {
   "cell_type": "code",
   "execution_count": 134,
   "id": "d06aa82b",
   "metadata": {},
   "outputs": [
    {
     "data": {
      "text/plain": [
       "0             ﻿The\n",
       "1          Project\n",
       "2        Gutenberg\n",
       "3            EBook\n",
       "4               of\n",
       "           ...    \n",
       "12758           to\n",
       "12759         hear\n",
       "12760        about\n",
       "12761          new\n",
       "12762       eBooks\n",
       "Length: 12763, dtype: object"
      ]
     },
     "execution_count": 134,
     "metadata": {},
     "output_type": "execute_result"
    }
   ],
   "source": [
    "s = s.str.strip()\n",
    "s"
   ]
  },
  {
   "cell_type": "code",
   "execution_count": 135,
   "id": "ca5eeba5",
   "metadata": {},
   "outputs": [
    {
     "data": {
      "text/plain": [
       "0    4\n",
       "1    7\n",
       "2    9\n",
       "3    5\n",
       "4    2\n",
       "dtype: int64"
      ]
     },
     "execution_count": 135,
     "metadata": {},
     "output_type": "execute_result"
    }
   ],
   "source": [
    "s.str.len().head(5)"
   ]
  },
  {
   "cell_type": "code",
   "execution_count": 136,
   "id": "39bd643e",
   "metadata": {},
   "outputs": [
    {
     "data": {
      "text/plain": [
       "'\\ufeffThe'"
      ]
     },
     "execution_count": 136,
     "metadata": {},
     "output_type": "execute_result"
    }
   ],
   "source": [
    "s.loc[0]"
   ]
  },
  {
   "cell_type": "code",
   "execution_count": 137,
   "id": "9594269a",
   "metadata": {},
   "outputs": [
    {
     "data": {
      "text/plain": [
       "0             ﻿The\n",
       "1          Project\n",
       "2        Gutenberg\n",
       "3            EBook\n",
       "4               of\n",
       "           ...    \n",
       "12758           to\n",
       "12759         hear\n",
       "12760        about\n",
       "12761          new\n",
       "12762       eBooks\n",
       "Length: 12763, dtype: object"
      ]
     },
     "execution_count": 137,
     "metadata": {},
     "output_type": "execute_result"
    }
   ],
   "source": [
    "s"
   ]
  },
  {
   "cell_type": "code",
   "execution_count": 139,
   "id": "2642f542",
   "metadata": {
    "scrolled": true
   },
   "outputs": [
    {
     "data": {
      "text/plain": [
       "74               ***\n",
       "79         GUTENBERG\n",
       "84               ***\n",
       "116             SONS\n",
       "117                &\n",
       "            ...     \n",
       "12637              a\n",
       "12642           that\n",
       "12655    distributed\n",
       "12661              a\n",
       "12689              a\n",
       "Length: 884, dtype: object"
      ]
     },
     "execution_count": 139,
     "metadata": {},
     "output_type": "execute_result"
    }
   ],
   "source": [
    "s.loc[s.str.get(0) == s.str.get(-1)]"
   ]
  },
  {
   "cell_type": "code",
   "execution_count": 140,
   "id": "76b2dda6",
   "metadata": {
    "scrolled": true
   },
   "outputs": [
    {
     "data": {
      "text/plain": [
       "0        ﻿\n",
       "1        P\n",
       "2        G\n",
       "3        E\n",
       "4        o\n",
       "        ..\n",
       "12758    t\n",
       "12759    h\n",
       "12760    a\n",
       "12761    n\n",
       "12762    e\n",
       "Length: 12763, dtype: object"
      ]
     },
     "execution_count": 140,
     "metadata": {},
     "output_type": "execute_result"
    }
   ],
   "source": [
    "s.str.get(0)"
   ]
  },
  {
   "cell_type": "code",
   "execution_count": 143,
   "id": "0e2e18c3",
   "metadata": {
    "scrolled": false
   },
   "outputs": [
    {
     "data": {
      "text/plain": [
       "0             e\n",
       "1          ject\n",
       "2        enberg\n",
       "3            ok\n",
       "4              \n",
       "          ...  \n",
       "12758          \n",
       "12759         r\n",
       "12760        ut\n",
       "12761          \n",
       "12762       oks\n",
       "Length: 12763, dtype: object"
      ]
     },
     "execution_count": 143,
     "metadata": {},
     "output_type": "execute_result"
    }
   ],
   "source": [
    "s.str.slice(3)  # starting at index 3, through the end -- sort of like s[3:]"
   ]
  },
  {
   "cell_type": "code",
   "execution_count": 145,
   "id": "55dc4675",
   "metadata": {},
   "outputs": [
    {
     "data": {
      "text/plain": [
       "0        e\n",
       "1        t\n",
       "2        g\n",
       "3        k\n",
       "4        f\n",
       "        ..\n",
       "12758    o\n",
       "12759    r\n",
       "12760    t\n",
       "12761    w\n",
       "12762    s\n",
       "Length: 12763, dtype: object"
      ]
     },
     "execution_count": 145,
     "metadata": {},
     "output_type": "execute_result"
    }
   ],
   "source": [
    "s.str.slice(-1)  # this will give you the final character, because it's like s[-1:]"
   ]
  },
  {
   "cell_type": "code",
   "execution_count": 142,
   "id": "5c388c2f",
   "metadata": {},
   "outputs": [
    {
     "name": "stdout",
     "output_type": "stream",
     "text": [
      "Help on method slice in module pandas.core.strings.accessor:\n",
      "\n",
      "slice(start=None, stop=None, step=None) method of pandas.core.strings.accessor.StringMethods instance\n",
      "    Slice substrings from each element in the Series or Index.\n",
      "    \n",
      "    Parameters\n",
      "    ----------\n",
      "    start : int, optional\n",
      "        Start position for slice operation.\n",
      "    stop : int, optional\n",
      "        Stop position for slice operation.\n",
      "    step : int, optional\n",
      "        Step size for slice operation.\n",
      "    \n",
      "    Returns\n",
      "    -------\n",
      "    Series or Index of object\n",
      "        Series or Index from sliced substring from original string object.\n",
      "    \n",
      "    See Also\n",
      "    --------\n",
      "    Series.str.slice_replace : Replace a slice with a string.\n",
      "    Series.str.get : Return element at position.\n",
      "        Equivalent to `Series.str.slice(start=i, stop=i+1)` with `i`\n",
      "        being the position.\n",
      "    \n",
      "    Examples\n",
      "    --------\n",
      "    >>> s = pd.Series([\"koala\", \"dog\", \"chameleon\"])\n",
      "    >>> s\n",
      "    0        koala\n",
      "    1          dog\n",
      "    2    chameleon\n",
      "    dtype: object\n",
      "    \n",
      "    >>> s.str.slice(start=1)\n",
      "    0        oala\n",
      "    1          og\n",
      "    2    hameleon\n",
      "    dtype: object\n",
      "    \n",
      "    >>> s.str.slice(start=-1)\n",
      "    0           a\n",
      "    1           g\n",
      "    2           n\n",
      "    dtype: object\n",
      "    \n",
      "    >>> s.str.slice(stop=2)\n",
      "    0    ko\n",
      "    1    do\n",
      "    2    ch\n",
      "    dtype: object\n",
      "    \n",
      "    >>> s.str.slice(step=2)\n",
      "    0      kaa\n",
      "    1       dg\n",
      "    2    caeen\n",
      "    dtype: object\n",
      "    \n",
      "    >>> s.str.slice(start=0, stop=5, step=3)\n",
      "    0    kl\n",
      "    1     d\n",
      "    2    cm\n",
      "    dtype: object\n",
      "    \n",
      "    Equivalent behaviour to:\n",
      "    \n",
      "    >>> s.str[0:5:3]\n",
      "    0    kl\n",
      "    1     d\n",
      "    2    cm\n",
      "    dtype: object\n",
      "\n"
     ]
    }
   ],
   "source": [
    "help(s.str.slice)"
   ]
  },
  {
   "cell_type": "code",
   "execution_count": null,
   "id": "10c7405b",
   "metadata": {},
   "outputs": [],
   "source": [
    "s.loc[s.str.slice(0) == s.str.get(-1)]"
   ]
  },
  {
   "cell_type": "markdown",
   "id": "ae3246e9",
   "metadata": {},
   "source": [
    "# Question: \n",
    "\n",
    "What are the commonalities and differences between \n",
    "\n",
    "1. Python lists\n",
    "2. NumPy arrays\n",
    "3. Pandas series\n",
    "\n",
    "Commonalities:\n",
    "\n",
    "1. They are all iterable collections in Python\n",
    "2. We can use `[]` and integers to retrieve items from them.\n",
    "\n",
    "Differences:\n",
    "\n",
    "1. Lists can contain any number of different types. It's considered best and conventional for all elements to be of the same type, but there is no technical requirement.  By contrast, values in both NumPy arrays and Pandas series must all be of the same type (dtype).\n",
    "2. Pandas provides many, many more methods than NumPy. So a Pandas series can do much more than a NumPy array. \n",
    "3. NumPy is (for the time being, so far as I know) faster than Pandas.\n",
    "4. Pandas series can have more interesting indexes than either Python lists or NumPy arrays, which are restricted to integer indexes, starting at 0.\n",
    "5. Retrieving from a list or NumPy array is done with integers. With Pandas, we have a variety of ways to retrieve -- `.loc`, `.iloc`.\n",
    "6. If you're working with numbers, than either NumPy or Pandas will be *far* more efficient (in time and memory used) than Python lists."
   ]
  },
  {
   "cell_type": "markdown",
   "id": "b26197a4",
   "metadata": {},
   "source": [
    "# Next up\n",
    "\n",
    "1. Dates and times -- in general\n",
    "2. Dates and times -- in Pandas"
   ]
  },
  {
   "cell_type": "markdown",
   "id": "d0a3cfc2",
   "metadata": {},
   "source": [
    "# Working with dates and times with computers\n",
    "\n",
    "When we use the term \"time\" as people, we are actually referring to two different concepts. Computers have to make this distinction explicit:\n",
    "\n",
    "1. We might be referring to **a specific point in time**. For example: Someone's birth date. The start of a meeting. When your car registration expires. This points to a unique point in time that we can describe via year, month, day, hour, minute, second, and (if we want) with even finer granularity.\n",
    "2. We might be referring to **a stretch of time**. For example: How old you are. How long a meeting is going. How long you took to complete graduate school. How long a project has been going. When we talk about these times, we're not talking about one point that has elapsed, or that might occur in the future. Rather, we're talking about a length of time -- the distance between two of these points.\n",
    "\n",
    "The first type of data is typically known as a **timestamp** or a **datetime**. The second is known as a **timedelta** or an **interval**.\n",
    "\n",
    "You can even do some simple calculations with these:\n",
    "\n",
    "- timestamp - timestamp = interval\n",
    "- timestamp + interval = timestamp\n",
    "\n",
    "More concretely:\n",
    "\n",
    "- When the meeting ends - when the meeting starts = length of the meeting\n",
    "- When the meeting starts + length of the meeting = when the meeting ends\n",
    "\n",
    "Python supports both of these data types. So does Pandas!"
   ]
  },
  {
   "cell_type": "code",
   "execution_count": 148,
   "id": "39106fcf",
   "metadata": {},
   "outputs": [],
   "source": [
    "# I'm going to load the taxi data from January 2019.  (If you prefer to \n",
    "# load the smaller data, taxi.csv, that's OK.)\n",
    "\n",
    "# load these columns: passenger_count, trip_distance, total_amount,\n",
    "#                     tpep_pickup_datetime, tpep_dropoff_datetime\n",
    "\n",
    "df = pd.read_csv('../data/nyc_taxi_2019-01.csv',\n",
    "                 usecols=['tpep_pickup_datetime', 'tpep_dropoff_datetime',\n",
    "                         'passenger_count', 'trip_distance', 'total_amount']\n",
    "                )"
   ]
  },
  {
   "cell_type": "code",
   "execution_count": 149,
   "id": "a1ea5d1d",
   "metadata": {},
   "outputs": [
    {
     "data": {
      "text/plain": [
       "tpep_pickup_datetime      object\n",
       "tpep_dropoff_datetime     object\n",
       "passenger_count            int64\n",
       "trip_distance            float64\n",
       "total_amount             float64\n",
       "dtype: object"
      ]
     },
     "execution_count": 149,
     "metadata": {},
     "output_type": "execute_result"
    }
   ],
   "source": [
    "df.dtypes"
   ]
  },
  {
   "cell_type": "code",
   "execution_count": 150,
   "id": "0bdddee3",
   "metadata": {},
   "outputs": [],
   "source": [
    "\n",
    "df = pd.read_csv('../data/nyc_taxi_2019-01.csv',\n",
    "                 usecols=['tpep_pickup_datetime', 'tpep_dropoff_datetime',\n",
    "                         'passenger_count', 'trip_distance', 'total_amount'],\n",
    "                 parse_dates=['tpep_pickup_datetime', 'tpep_dropoff_datetime']\n",
    "                )"
   ]
  },
  {
   "cell_type": "code",
   "execution_count": 151,
   "id": "3af453fd",
   "metadata": {},
   "outputs": [
    {
     "data": {
      "text/plain": [
       "tpep_pickup_datetime     datetime64[ns]\n",
       "tpep_dropoff_datetime    datetime64[ns]\n",
       "passenger_count                   int64\n",
       "trip_distance                   float64\n",
       "total_amount                    float64\n",
       "dtype: object"
      ]
     },
     "execution_count": 151,
     "metadata": {},
     "output_type": "execute_result"
    }
   ],
   "source": [
    "df.dtypes"
   ]
  },
  {
   "cell_type": "code",
   "execution_count": 152,
   "id": "a0ba8bd8",
   "metadata": {},
   "outputs": [
    {
     "data": {
      "text/html": [
       "<div>\n",
       "<style scoped>\n",
       "    .dataframe tbody tr th:only-of-type {\n",
       "        vertical-align: middle;\n",
       "    }\n",
       "\n",
       "    .dataframe tbody tr th {\n",
       "        vertical-align: top;\n",
       "    }\n",
       "\n",
       "    .dataframe thead th {\n",
       "        text-align: right;\n",
       "    }\n",
       "</style>\n",
       "<table border=\"1\" class=\"dataframe\">\n",
       "  <thead>\n",
       "    <tr style=\"text-align: right;\">\n",
       "      <th></th>\n",
       "      <th>tpep_pickup_datetime</th>\n",
       "      <th>tpep_dropoff_datetime</th>\n",
       "      <th>passenger_count</th>\n",
       "      <th>trip_distance</th>\n",
       "      <th>total_amount</th>\n",
       "    </tr>\n",
       "  </thead>\n",
       "  <tbody>\n",
       "    <tr>\n",
       "      <th>0</th>\n",
       "      <td>2019-01-01 00:46:40</td>\n",
       "      <td>2019-01-01 00:53:20</td>\n",
       "      <td>1</td>\n",
       "      <td>1.5</td>\n",
       "      <td>9.95</td>\n",
       "    </tr>\n",
       "    <tr>\n",
       "      <th>1</th>\n",
       "      <td>2019-01-01 00:59:47</td>\n",
       "      <td>2019-01-01 01:18:59</td>\n",
       "      <td>1</td>\n",
       "      <td>2.6</td>\n",
       "      <td>16.30</td>\n",
       "    </tr>\n",
       "    <tr>\n",
       "      <th>2</th>\n",
       "      <td>2018-12-21 13:48:30</td>\n",
       "      <td>2018-12-21 13:52:40</td>\n",
       "      <td>3</td>\n",
       "      <td>0.0</td>\n",
       "      <td>5.80</td>\n",
       "    </tr>\n",
       "    <tr>\n",
       "      <th>3</th>\n",
       "      <td>2018-11-28 15:52:25</td>\n",
       "      <td>2018-11-28 15:55:45</td>\n",
       "      <td>5</td>\n",
       "      <td>0.0</td>\n",
       "      <td>7.55</td>\n",
       "    </tr>\n",
       "    <tr>\n",
       "      <th>4</th>\n",
       "      <td>2018-11-28 15:56:57</td>\n",
       "      <td>2018-11-28 15:58:33</td>\n",
       "      <td>5</td>\n",
       "      <td>0.0</td>\n",
       "      <td>55.55</td>\n",
       "    </tr>\n",
       "    <tr>\n",
       "      <th>5</th>\n",
       "      <td>2018-11-28 16:25:49</td>\n",
       "      <td>2018-11-28 16:28:26</td>\n",
       "      <td>5</td>\n",
       "      <td>0.0</td>\n",
       "      <td>13.31</td>\n",
       "    </tr>\n",
       "    <tr>\n",
       "      <th>6</th>\n",
       "      <td>2018-11-28 16:29:37</td>\n",
       "      <td>2018-11-28 16:33:43</td>\n",
       "      <td>5</td>\n",
       "      <td>0.0</td>\n",
       "      <td>55.55</td>\n",
       "    </tr>\n",
       "    <tr>\n",
       "      <th>7</th>\n",
       "      <td>2019-01-01 00:21:28</td>\n",
       "      <td>2019-01-01 00:28:37</td>\n",
       "      <td>1</td>\n",
       "      <td>1.3</td>\n",
       "      <td>9.05</td>\n",
       "    </tr>\n",
       "    <tr>\n",
       "      <th>8</th>\n",
       "      <td>2019-01-01 00:32:01</td>\n",
       "      <td>2019-01-01 00:45:39</td>\n",
       "      <td>1</td>\n",
       "      <td>3.7</td>\n",
       "      <td>18.50</td>\n",
       "    </tr>\n",
       "    <tr>\n",
       "      <th>9</th>\n",
       "      <td>2019-01-01 00:57:32</td>\n",
       "      <td>2019-01-01 01:09:32</td>\n",
       "      <td>2</td>\n",
       "      <td>2.1</td>\n",
       "      <td>13.00</td>\n",
       "    </tr>\n",
       "  </tbody>\n",
       "</table>\n",
       "</div>"
      ],
      "text/plain": [
       "  tpep_pickup_datetime tpep_dropoff_datetime  passenger_count  trip_distance  \\\n",
       "0  2019-01-01 00:46:40   2019-01-01 00:53:20                1            1.5   \n",
       "1  2019-01-01 00:59:47   2019-01-01 01:18:59                1            2.6   \n",
       "2  2018-12-21 13:48:30   2018-12-21 13:52:40                3            0.0   \n",
       "3  2018-11-28 15:52:25   2018-11-28 15:55:45                5            0.0   \n",
       "4  2018-11-28 15:56:57   2018-11-28 15:58:33                5            0.0   \n",
       "5  2018-11-28 16:25:49   2018-11-28 16:28:26                5            0.0   \n",
       "6  2018-11-28 16:29:37   2018-11-28 16:33:43                5            0.0   \n",
       "7  2019-01-01 00:21:28   2019-01-01 00:28:37                1            1.3   \n",
       "8  2019-01-01 00:32:01   2019-01-01 00:45:39                1            3.7   \n",
       "9  2019-01-01 00:57:32   2019-01-01 01:09:32                2            2.1   \n",
       "\n",
       "   total_amount  \n",
       "0          9.95  \n",
       "1         16.30  \n",
       "2          5.80  \n",
       "3          7.55  \n",
       "4         55.55  \n",
       "5         13.31  \n",
       "6         55.55  \n",
       "7          9.05  \n",
       "8         18.50  \n",
       "9         13.00  "
      ]
     },
     "execution_count": 152,
     "metadata": {},
     "output_type": "execute_result"
    }
   ],
   "source": [
    "df.head(10)"
   ]
  },
  {
   "cell_type": "code",
   "execution_count": 153,
   "id": "cc48baec",
   "metadata": {
    "collapsed": true
   },
   "outputs": [
    {
     "name": "stdout",
     "output_type": "stream",
     "text": [
      "VendorID,tpep_pickup_datetime,tpep_dropoff_datetime,passenger_count,trip_distance,RatecodeID,store_and_fwd_flag,PULocationID,DOLocationID,payment_type,fare_amount,extra,mta_tax,tip_amount,tolls_amount,improvement_surcharge,total_amount,congestion_surcharge\r",
      "\r\n",
      "1,2019-01-01 00:46:40,2019-01-01 00:53:20,1,1.50,1,N,151,239,1,7,0.5,0.5,1.65,0,0.3,9.95,\r",
      "\r\n",
      "1,2019-01-01 00:59:47,2019-01-01 01:18:59,1,2.60,1,N,239,246,1,14,0.5,0.5,1,0,0.3,16.3,\r",
      "\r\n",
      "2,2018-12-21 13:48:30,2018-12-21 13:52:40,3,.00,1,N,236,236,1,4.5,0.5,0.5,0,0,0.3,5.8,\r",
      "\r\n",
      "2,2018-11-28 15:52:25,2018-11-28 15:55:45,5,.00,1,N,193,193,2,3.5,0.5,0.5,0,0,0.3,7.55,\r",
      "\r\n",
      "2,2018-11-28 15:56:57,2018-11-28 15:58:33,5,.00,2,N,193,193,2,52,0,0.5,0,0,0.3,55.55,\r",
      "\r\n",
      "2,2018-11-28 16:25:49,2018-11-28 16:28:26,5,.00,1,N,193,193,2,3.5,0.5,0.5,0,5.76,0.3,13.31,\r",
      "\r\n",
      "2,2018-11-28 16:29:37,2018-11-28 16:33:43,5,.00,2,N,193,193,2,52,0,0.5,0,0,0.3,55.55,\r",
      "\r\n",
      "1,2019-01-01 00:21:28,2019-01-01 00:28:37,1,1.30,1,N,163,229,1,6.5,0.5,0.5,1.25,0,0.3,9.05,\r",
      "\r\n",
      "1,2019-01-01 00:32:01,2019-01-01 00:45:39,1,3.70,1,N,229,7,1,13.5,0.5,0.5,3.7,0,0.3,18.5,\r",
      "\r\n"
     ]
    }
   ],
   "source": [
    "!head ../data/nyc_taxi_2019-01.csv"
   ]
  },
  {
   "cell_type": "code",
   "execution_count": 154,
   "id": "ff448d81",
   "metadata": {
    "collapsed": true
   },
   "outputs": [
    {
     "name": "stdout",
     "output_type": "stream",
     "text": [
      "Help on function read_csv in module pandas.io.parsers.readers:\n",
      "\n",
      "read_csv(filepath_or_buffer: 'FilePath | ReadCsvBuffer[bytes] | ReadCsvBuffer[str]', sep=<no_default>, delimiter=None, header='infer', names=<no_default>, index_col=None, usecols=None, squeeze=None, prefix=<no_default>, mangle_dupe_cols=True, dtype: 'DtypeArg | None' = None, engine: 'CSVEngine | None' = None, converters=None, true_values=None, false_values=None, skipinitialspace=False, skiprows=None, skipfooter=0, nrows=None, na_values=None, keep_default_na=True, na_filter=True, verbose=False, skip_blank_lines=True, parse_dates=None, infer_datetime_format=False, keep_date_col=False, date_parser=None, dayfirst=False, cache_dates=True, iterator=False, chunksize=None, compression: 'CompressionOptions' = 'infer', thousands=None, decimal: 'str' = '.', lineterminator=None, quotechar='\"', quoting=0, doublequote=True, escapechar=None, comment=None, encoding=None, encoding_errors: 'str | None' = 'strict', dialect=None, error_bad_lines=None, warn_bad_lines=None, on_bad_lines=None, delim_whitespace=False, low_memory=True, memory_map=False, float_precision=None, storage_options: 'StorageOptions' = None)\n",
      "    Read a comma-separated values (csv) file into DataFrame.\n",
      "    \n",
      "    Also supports optionally iterating or breaking of the file\n",
      "    into chunks.\n",
      "    \n",
      "    Additional help can be found in the online docs for\n",
      "    `IO Tools <https://pandas.pydata.org/pandas-docs/stable/user_guide/io.html>`_.\n",
      "    \n",
      "    Parameters\n",
      "    ----------\n",
      "    filepath_or_buffer : str, path object or file-like object\n",
      "        Any valid string path is acceptable. The string could be a URL. Valid\n",
      "        URL schemes include http, ftp, s3, gs, and file. For file URLs, a host is\n",
      "        expected. A local file could be: file://localhost/path/to/table.csv.\n",
      "    \n",
      "        If you want to pass in a path object, pandas accepts any ``os.PathLike``.\n",
      "    \n",
      "        By file-like object, we refer to objects with a ``read()`` method, such as\n",
      "        a file handle (e.g. via builtin ``open`` function) or ``StringIO``.\n",
      "    sep : str, default ','\n",
      "        Delimiter to use. If sep is None, the C engine cannot automatically detect\n",
      "        the separator, but the Python parsing engine can, meaning the latter will\n",
      "        be used and automatically detect the separator by Python's builtin sniffer\n",
      "        tool, ``csv.Sniffer``. In addition, separators longer than 1 character and\n",
      "        different from ``'\\s+'`` will be interpreted as regular expressions and\n",
      "        will also force the use of the Python parsing engine. Note that regex\n",
      "        delimiters are prone to ignoring quoted data. Regex example: ``'\\r\\t'``.\n",
      "    delimiter : str, default ``None``\n",
      "        Alias for sep.\n",
      "    header : int, list of int, None, default 'infer'\n",
      "        Row number(s) to use as the column names, and the start of the\n",
      "        data.  Default behavior is to infer the column names: if no names\n",
      "        are passed the behavior is identical to ``header=0`` and column\n",
      "        names are inferred from the first line of the file, if column\n",
      "        names are passed explicitly then the behavior is identical to\n",
      "        ``header=None``. Explicitly pass ``header=0`` to be able to\n",
      "        replace existing names. The header can be a list of integers that\n",
      "        specify row locations for a multi-index on the columns\n",
      "        e.g. [0,1,3]. Intervening rows that are not specified will be\n",
      "        skipped (e.g. 2 in this example is skipped). Note that this\n",
      "        parameter ignores commented lines and empty lines if\n",
      "        ``skip_blank_lines=True``, so ``header=0`` denotes the first line of\n",
      "        data rather than the first line of the file.\n",
      "    names : array-like, optional\n",
      "        List of column names to use. If the file contains a header row,\n",
      "        then you should explicitly pass ``header=0`` to override the column names.\n",
      "        Duplicates in this list are not allowed.\n",
      "    index_col : int, str, sequence of int / str, or False, optional, default ``None``\n",
      "      Column(s) to use as the row labels of the ``DataFrame``, either given as\n",
      "      string name or column index. If a sequence of int / str is given, a\n",
      "      MultiIndex is used.\n",
      "    \n",
      "      Note: ``index_col=False`` can be used to force pandas to *not* use the first\n",
      "      column as the index, e.g. when you have a malformed file with delimiters at\n",
      "      the end of each line.\n",
      "    usecols : list-like or callable, optional\n",
      "        Return a subset of the columns. If list-like, all elements must either\n",
      "        be positional (i.e. integer indices into the document columns) or strings\n",
      "        that correspond to column names provided either by the user in `names` or\n",
      "        inferred from the document header row(s). If ``names`` are given, the document\n",
      "        header row(s) are not taken into account. For example, a valid list-like\n",
      "        `usecols` parameter would be ``[0, 1, 2]`` or ``['foo', 'bar', 'baz']``.\n",
      "        Element order is ignored, so ``usecols=[0, 1]`` is the same as ``[1, 0]``.\n",
      "        To instantiate a DataFrame from ``data`` with element order preserved use\n",
      "        ``pd.read_csv(data, usecols=['foo', 'bar'])[['foo', 'bar']]`` for columns\n",
      "        in ``['foo', 'bar']`` order or\n",
      "        ``pd.read_csv(data, usecols=['foo', 'bar'])[['bar', 'foo']]``\n",
      "        for ``['bar', 'foo']`` order.\n",
      "    \n",
      "        If callable, the callable function will be evaluated against the column\n",
      "        names, returning names where the callable function evaluates to True. An\n",
      "        example of a valid callable argument would be ``lambda x: x.upper() in\n",
      "        ['AAA', 'BBB', 'DDD']``. Using this parameter results in much faster\n",
      "        parsing time and lower memory usage.\n",
      "    squeeze : bool, default False\n",
      "        If the parsed data only contains one column then return a Series.\n",
      "    \n",
      "        .. deprecated:: 1.4.0\n",
      "            Append ``.squeeze(\"columns\")`` to the call to ``read_csv`` to squeeze\n",
      "            the data.\n",
      "    prefix : str, optional\n",
      "        Prefix to add to column numbers when no header, e.g. 'X' for X0, X1, ...\n",
      "    \n",
      "        .. deprecated:: 1.4.0\n",
      "           Use a list comprehension on the DataFrame's columns after calling ``read_csv``.\n",
      "    mangle_dupe_cols : bool, default True\n",
      "        Duplicate columns will be specified as 'X', 'X.1', ...'X.N', rather than\n",
      "        'X'...'X'. Passing in False will cause data to be overwritten if there\n",
      "        are duplicate names in the columns.\n",
      "    dtype : Type name or dict of column -> type, optional\n",
      "        Data type for data or columns. E.g. {'a': np.float64, 'b': np.int32,\n",
      "        'c': 'Int64'}\n",
      "        Use `str` or `object` together with suitable `na_values` settings\n",
      "        to preserve and not interpret dtype.\n",
      "        If converters are specified, they will be applied INSTEAD\n",
      "        of dtype conversion.\n",
      "    engine : {'c', 'python', 'pyarrow'}, optional\n",
      "        Parser engine to use. The C and pyarrow engines are faster, while the python engine\n",
      "        is currently more feature-complete. Multithreading is currently only supported by\n",
      "        the pyarrow engine.\n",
      "    \n",
      "        .. versionadded:: 1.4.0\n",
      "    \n",
      "            The \"pyarrow\" engine was added as an *experimental* engine, and some features\n",
      "            are unsupported, or may not work correctly, with this engine.\n",
      "    converters : dict, optional\n",
      "        Dict of functions for converting values in certain columns. Keys can either\n",
      "        be integers or column labels.\n",
      "    true_values : list, optional\n",
      "        Values to consider as True.\n",
      "    false_values : list, optional\n",
      "        Values to consider as False.\n",
      "    skipinitialspace : bool, default False\n",
      "        Skip spaces after delimiter.\n",
      "    skiprows : list-like, int or callable, optional\n",
      "        Line numbers to skip (0-indexed) or number of lines to skip (int)\n",
      "        at the start of the file.\n",
      "    \n",
      "        If callable, the callable function will be evaluated against the row\n",
      "        indices, returning True if the row should be skipped and False otherwise.\n",
      "        An example of a valid callable argument would be ``lambda x: x in [0, 2]``.\n",
      "    skipfooter : int, default 0\n",
      "        Number of lines at bottom of file to skip (Unsupported with engine='c').\n",
      "    nrows : int, optional\n",
      "        Number of rows of file to read. Useful for reading pieces of large files.\n",
      "    na_values : scalar, str, list-like, or dict, optional\n",
      "        Additional strings to recognize as NA/NaN. If dict passed, specific\n",
      "        per-column NA values.  By default the following values are interpreted as\n",
      "        NaN: '', '#N/A', '#N/A N/A', '#NA', '-1.#IND', '-1.#QNAN', '-NaN', '-nan',\n",
      "        '1.#IND', '1.#QNAN', '<NA>', 'N/A', 'NA', 'NULL', 'NaN', 'n/a',\n",
      "        'nan', 'null'.\n",
      "    keep_default_na : bool, default True\n",
      "        Whether or not to include the default NaN values when parsing the data.\n",
      "        Depending on whether `na_values` is passed in, the behavior is as follows:\n",
      "    \n",
      "        * If `keep_default_na` is True, and `na_values` are specified, `na_values`\n",
      "          is appended to the default NaN values used for parsing.\n",
      "        * If `keep_default_na` is True, and `na_values` are not specified, only\n",
      "          the default NaN values are used for parsing.\n",
      "        * If `keep_default_na` is False, and `na_values` are specified, only\n",
      "          the NaN values specified `na_values` are used for parsing.\n",
      "        * If `keep_default_na` is False, and `na_values` are not specified, no\n",
      "          strings will be parsed as NaN.\n",
      "    \n",
      "        Note that if `na_filter` is passed in as False, the `keep_default_na` and\n",
      "        `na_values` parameters will be ignored.\n",
      "    na_filter : bool, default True\n",
      "        Detect missing value markers (empty strings and the value of na_values). In\n",
      "        data without any NAs, passing na_filter=False can improve the performance\n",
      "        of reading a large file.\n",
      "    verbose : bool, default False\n",
      "        Indicate number of NA values placed in non-numeric columns.\n",
      "    skip_blank_lines : bool, default True\n",
      "        If True, skip over blank lines rather than interpreting as NaN values.\n",
      "    parse_dates : bool or list of int or names or list of lists or dict, default False\n",
      "        The behavior is as follows:\n",
      "    \n",
      "        * boolean. If True -> try parsing the index.\n",
      "        * list of int or names. e.g. If [1, 2, 3] -> try parsing columns 1, 2, 3\n",
      "          each as a separate date column.\n",
      "        * list of lists. e.g.  If [[1, 3]] -> combine columns 1 and 3 and parse as\n",
      "          a single date column.\n",
      "        * dict, e.g. {'foo' : [1, 3]} -> parse columns 1, 3 as date and call\n",
      "          result 'foo'\n",
      "    \n",
      "        If a column or index cannot be represented as an array of datetimes,\n",
      "        say because of an unparsable value or a mixture of timezones, the column\n",
      "        or index will be returned unaltered as an object data type. For\n",
      "        non-standard datetime parsing, use ``pd.to_datetime`` after\n",
      "        ``pd.read_csv``. To parse an index or column with a mixture of timezones,\n",
      "        specify ``date_parser`` to be a partially-applied\n",
      "        :func:`pandas.to_datetime` with ``utc=True``. See\n",
      "        :ref:`io.csv.mixed_timezones` for more.\n",
      "    \n",
      "        Note: A fast-path exists for iso8601-formatted dates.\n",
      "    infer_datetime_format : bool, default False\n",
      "        If True and `parse_dates` is enabled, pandas will attempt to infer the\n",
      "        format of the datetime strings in the columns, and if it can be inferred,\n",
      "        switch to a faster method of parsing them. In some cases this can increase\n",
      "        the parsing speed by 5-10x.\n",
      "    keep_date_col : bool, default False\n",
      "        If True and `parse_dates` specifies combining multiple columns then\n",
      "        keep the original columns.\n",
      "    date_parser : function, optional\n",
      "        Function to use for converting a sequence of string columns to an array of\n",
      "        datetime instances. The default uses ``dateutil.parser.parser`` to do the\n",
      "        conversion. Pandas will try to call `date_parser` in three different ways,\n",
      "        advancing to the next if an exception occurs: 1) Pass one or more arrays\n",
      "        (as defined by `parse_dates`) as arguments; 2) concatenate (row-wise) the\n",
      "        string values from the columns defined by `parse_dates` into a single array\n",
      "        and pass that; and 3) call `date_parser` once for each row using one or\n",
      "        more strings (corresponding to the columns defined by `parse_dates`) as\n",
      "        arguments.\n",
      "    dayfirst : bool, default False\n",
      "        DD/MM format dates, international and European format.\n",
      "    cache_dates : bool, default True\n",
      "        If True, use a cache of unique, converted dates to apply the datetime\n",
      "        conversion. May produce significant speed-up when parsing duplicate\n",
      "        date strings, especially ones with timezone offsets.\n",
      "    \n",
      "        .. versionadded:: 0.25.0\n",
      "    iterator : bool, default False\n",
      "        Return TextFileReader object for iteration or getting chunks with\n",
      "        ``get_chunk()``.\n",
      "    \n",
      "        .. versionchanged:: 1.2\n",
      "    \n",
      "           ``TextFileReader`` is a context manager.\n",
      "    chunksize : int, optional\n",
      "        Return TextFileReader object for iteration.\n",
      "        See the `IO Tools docs\n",
      "        <https://pandas.pydata.org/pandas-docs/stable/io.html#io-chunking>`_\n",
      "        for more information on ``iterator`` and ``chunksize``.\n",
      "    \n",
      "        .. versionchanged:: 1.2\n",
      "    \n",
      "           ``TextFileReader`` is a context manager.\n",
      "    compression : str or dict, default 'infer'\n",
      "        For on-the-fly decompression of on-disk data. If 'infer' and '%s' is\n",
      "        path-like, then detect compression from the following extensions: '.gz',\n",
      "        '.bz2', '.zip', '.xz', or '.zst' (otherwise no compression). If using\n",
      "        'zip', the ZIP file must contain only one data file to be read in. Set to\n",
      "        ``None`` for no decompression. Can also be a dict with key ``'method'`` set\n",
      "        to one of {``'zip'``, ``'gzip'``, ``'bz2'``, ``'zstd'``} and other\n",
      "        key-value pairs are forwarded to ``zipfile.ZipFile``, ``gzip.GzipFile``,\n",
      "        ``bz2.BZ2File``, or ``zstandard.ZstdDecompressor``, respectively. As an\n",
      "        example, the following could be passed for Zstandard decompression using a\n",
      "        custom compression dictionary:\n",
      "        ``compression={'method': 'zstd', 'dict_data': my_compression_dict}``.\n",
      "    \n",
      "        .. versionchanged:: 1.4.0 Zstandard support.\n",
      "    \n",
      "    thousands : str, optional\n",
      "        Thousands separator.\n",
      "    decimal : str, default '.'\n",
      "        Character to recognize as decimal point (e.g. use ',' for European data).\n",
      "    lineterminator : str (length 1), optional\n",
      "        Character to break file into lines. Only valid with C parser.\n",
      "    quotechar : str (length 1), optional\n",
      "        The character used to denote the start and end of a quoted item. Quoted\n",
      "        items can include the delimiter and it will be ignored.\n",
      "    quoting : int or csv.QUOTE_* instance, default 0\n",
      "        Control field quoting behavior per ``csv.QUOTE_*`` constants. Use one of\n",
      "        QUOTE_MINIMAL (0), QUOTE_ALL (1), QUOTE_NONNUMERIC (2) or QUOTE_NONE (3).\n",
      "    doublequote : bool, default ``True``\n",
      "       When quotechar is specified and quoting is not ``QUOTE_NONE``, indicate\n",
      "       whether or not to interpret two consecutive quotechar elements INSIDE a\n",
      "       field as a single ``quotechar`` element.\n",
      "    escapechar : str (length 1), optional\n",
      "        One-character string used to escape other characters.\n",
      "    comment : str, optional\n",
      "        Indicates remainder of line should not be parsed. If found at the beginning\n",
      "        of a line, the line will be ignored altogether. This parameter must be a\n",
      "        single character. Like empty lines (as long as ``skip_blank_lines=True``),\n",
      "        fully commented lines are ignored by the parameter `header` but not by\n",
      "        `skiprows`. For example, if ``comment='#'``, parsing\n",
      "        ``#empty\\na,b,c\\n1,2,3`` with ``header=0`` will result in 'a,b,c' being\n",
      "        treated as the header.\n",
      "    encoding : str, optional\n",
      "        Encoding to use for UTF when reading/writing (ex. 'utf-8'). `List of Python\n",
      "        standard encodings\n",
      "        <https://docs.python.org/3/library/codecs.html#standard-encodings>`_ .\n",
      "    \n",
      "        .. versionchanged:: 1.2\n",
      "    \n",
      "           When ``encoding`` is ``None``, ``errors=\"replace\"`` is passed to\n",
      "           ``open()``. Otherwise, ``errors=\"strict\"`` is passed to ``open()``.\n",
      "           This behavior was previously only the case for ``engine=\"python\"``.\n",
      "    \n",
      "        .. versionchanged:: 1.3.0\n",
      "    \n",
      "           ``encoding_errors`` is a new argument. ``encoding`` has no longer an\n",
      "           influence on how encoding errors are handled.\n",
      "    \n",
      "    encoding_errors : str, optional, default \"strict\"\n",
      "        How encoding errors are treated. `List of possible values\n",
      "        <https://docs.python.org/3/library/codecs.html#error-handlers>`_ .\n",
      "    \n",
      "        .. versionadded:: 1.3.0\n",
      "    \n",
      "    dialect : str or csv.Dialect, optional\n",
      "        If provided, this parameter will override values (default or not) for the\n",
      "        following parameters: `delimiter`, `doublequote`, `escapechar`,\n",
      "        `skipinitialspace`, `quotechar`, and `quoting`. If it is necessary to\n",
      "        override values, a ParserWarning will be issued. See csv.Dialect\n",
      "        documentation for more details.\n",
      "    error_bad_lines : bool, optional, default ``None``\n",
      "        Lines with too many fields (e.g. a csv line with too many commas) will by\n",
      "        default cause an exception to be raised, and no DataFrame will be returned.\n",
      "        If False, then these \"bad lines\" will be dropped from the DataFrame that is\n",
      "        returned.\n",
      "    \n",
      "        .. deprecated:: 1.3.0\n",
      "           The ``on_bad_lines`` parameter should be used instead to specify behavior upon\n",
      "           encountering a bad line instead.\n",
      "    warn_bad_lines : bool, optional, default ``None``\n",
      "        If error_bad_lines is False, and warn_bad_lines is True, a warning for each\n",
      "        \"bad line\" will be output.\n",
      "    \n",
      "        .. deprecated:: 1.3.0\n",
      "           The ``on_bad_lines`` parameter should be used instead to specify behavior upon\n",
      "           encountering a bad line instead.\n",
      "    on_bad_lines : {'error', 'warn', 'skip'} or callable, default 'error'\n",
      "        Specifies what to do upon encountering a bad line (a line with too many fields).\n",
      "        Allowed values are :\n",
      "    \n",
      "            - 'error', raise an Exception when a bad line is encountered.\n",
      "            - 'warn', raise a warning when a bad line is encountered and skip that line.\n",
      "            - 'skip', skip bad lines without raising or warning when they are encountered.\n",
      "    \n",
      "        .. versionadded:: 1.3.0\n",
      "    \n",
      "            - callable, function with signature\n",
      "              ``(bad_line: list[str]) -> list[str] | None`` that will process a single\n",
      "              bad line. ``bad_line`` is a list of strings split by the ``sep``.\n",
      "              If the function returns ``None``, the bad line will be ignored.\n",
      "              If the function returns a new list of strings with more elements than\n",
      "              expected, a ``ParserWarning`` will be emitted while dropping extra elements.\n",
      "              Only supported when ``engine=\"python\"``\n",
      "    \n",
      "        .. versionadded:: 1.4.0\n",
      "    \n",
      "    delim_whitespace : bool, default False\n",
      "        Specifies whether or not whitespace (e.g. ``' '`` or ``'    '``) will be\n",
      "        used as the sep. Equivalent to setting ``sep='\\s+'``. If this option\n",
      "        is set to True, nothing should be passed in for the ``delimiter``\n",
      "        parameter.\n",
      "    low_memory : bool, default True\n",
      "        Internally process the file in chunks, resulting in lower memory use\n",
      "        while parsing, but possibly mixed type inference.  To ensure no mixed\n",
      "        types either set False, or specify the type with the `dtype` parameter.\n",
      "        Note that the entire file is read into a single DataFrame regardless,\n",
      "        use the `chunksize` or `iterator` parameter to return the data in chunks.\n",
      "        (Only valid with C parser).\n",
      "    memory_map : bool, default False\n",
      "        If a filepath is provided for `filepath_or_buffer`, map the file object\n",
      "        directly onto memory and access the data directly from there. Using this\n",
      "        option can improve performance because there is no longer any I/O overhead.\n",
      "    float_precision : str, optional\n",
      "        Specifies which converter the C engine should use for floating-point\n",
      "        values. The options are ``None`` or 'high' for the ordinary converter,\n",
      "        'legacy' for the original lower precision pandas converter, and\n",
      "        'round_trip' for the round-trip converter.\n",
      "    \n",
      "        .. versionchanged:: 1.2\n",
      "    \n",
      "    storage_options : dict, optional\n",
      "        Extra options that make sense for a particular storage connection, e.g.\n",
      "        host, port, username, password, etc. For HTTP(S) URLs the key-value pairs\n",
      "        are forwarded to ``urllib`` as header options. For other URLs (e.g.\n",
      "        starting with \"s3://\", and \"gcs://\") the key-value pairs are forwarded to\n",
      "        ``fsspec``. Please see ``fsspec`` and ``urllib`` for more details.\n",
      "    \n",
      "        .. versionadded:: 1.2\n",
      "    \n",
      "    Returns\n",
      "    -------\n",
      "    DataFrame or TextParser\n",
      "        A comma-separated values (csv) file is returned as two-dimensional\n",
      "        data structure with labeled axes.\n",
      "    \n",
      "    See Also\n",
      "    --------\n",
      "    DataFrame.to_csv : Write DataFrame to a comma-separated values (csv) file.\n",
      "    read_csv : Read a comma-separated values (csv) file into DataFrame.\n",
      "    read_fwf : Read a table of fixed-width formatted lines into DataFrame.\n",
      "    \n",
      "    Examples\n",
      "    --------\n",
      "    >>> pd.read_csv('data.csv')  # doctest: +SKIP\n",
      "\n"
     ]
    }
   ],
   "source": [
    "help(pd.read_csv)"
   ]
  },
  {
   "cell_type": "code",
   "execution_count": 158,
   "id": "b626acfb",
   "metadata": {},
   "outputs": [
    {
     "data": {
      "text/html": [
       "<div>\n",
       "<style scoped>\n",
       "    .dataframe tbody tr th:only-of-type {\n",
       "        vertical-align: middle;\n",
       "    }\n",
       "\n",
       "    .dataframe tbody tr th {\n",
       "        vertical-align: top;\n",
       "    }\n",
       "\n",
       "    .dataframe thead th {\n",
       "        text-align: right;\n",
       "    }\n",
       "</style>\n",
       "<table border=\"1\" class=\"dataframe\">\n",
       "  <thead>\n",
       "    <tr style=\"text-align: right;\">\n",
       "      <th></th>\n",
       "      <th>tpep_pickup_datetime</th>\n",
       "      <th>tpep_dropoff_datetime</th>\n",
       "      <th>passenger_count</th>\n",
       "      <th>trip_distance</th>\n",
       "      <th>total_amount</th>\n",
       "    </tr>\n",
       "  </thead>\n",
       "  <tbody>\n",
       "    <tr>\n",
       "      <th>75368</th>\n",
       "      <td>2019-01-01 11:00:38</td>\n",
       "      <td>2019-01-01 11:05:00</td>\n",
       "      <td>1</td>\n",
       "      <td>0.99</td>\n",
       "      <td>6.30</td>\n",
       "    </tr>\n",
       "    <tr>\n",
       "      <th>76021</th>\n",
       "      <td>2019-01-01 11:00:34</td>\n",
       "      <td>2019-01-01 11:07:49</td>\n",
       "      <td>6</td>\n",
       "      <td>1.81</td>\n",
       "      <td>8.80</td>\n",
       "    </tr>\n",
       "    <tr>\n",
       "      <th>76360</th>\n",
       "      <td>2019-01-01 11:01:36</td>\n",
       "      <td>2019-01-01 11:38:01</td>\n",
       "      <td>2</td>\n",
       "      <td>19.84</td>\n",
       "      <td>89.30</td>\n",
       "    </tr>\n",
       "    <tr>\n",
       "      <th>76861</th>\n",
       "      <td>2019-01-01 11:03:07</td>\n",
       "      <td>2019-01-01 11:07:16</td>\n",
       "      <td>2</td>\n",
       "      <td>0.47</td>\n",
       "      <td>5.30</td>\n",
       "    </tr>\n",
       "    <tr>\n",
       "      <th>76864</th>\n",
       "      <td>2019-01-01 11:00:01</td>\n",
       "      <td>2019-01-01 11:28:25</td>\n",
       "      <td>1</td>\n",
       "      <td>18.14</td>\n",
       "      <td>70.27</td>\n",
       "    </tr>\n",
       "    <tr>\n",
       "      <th>...</th>\n",
       "      <td>...</td>\n",
       "      <td>...</td>\n",
       "      <td>...</td>\n",
       "      <td>...</td>\n",
       "      <td>...</td>\n",
       "    </tr>\n",
       "    <tr>\n",
       "      <th>7491245</th>\n",
       "      <td>2019-01-31 11:58:13</td>\n",
       "      <td>2019-01-31 12:21:09</td>\n",
       "      <td>1</td>\n",
       "      <td>1.88</td>\n",
       "      <td>18.36</td>\n",
       "    </tr>\n",
       "    <tr>\n",
       "      <th>7491279</th>\n",
       "      <td>2019-01-31 11:57:34</td>\n",
       "      <td>2019-01-31 12:00:39</td>\n",
       "      <td>5</td>\n",
       "      <td>0.50</td>\n",
       "      <td>6.62</td>\n",
       "    </tr>\n",
       "    <tr>\n",
       "      <th>7491287</th>\n",
       "      <td>2019-01-31 11:59:36</td>\n",
       "      <td>2019-01-31 12:59:57</td>\n",
       "      <td>1</td>\n",
       "      <td>16.48</td>\n",
       "      <td>54.80</td>\n",
       "    </tr>\n",
       "    <tr>\n",
       "      <th>7491337</th>\n",
       "      <td>2019-01-31 11:59:28</td>\n",
       "      <td>2019-01-31 12:20:52</td>\n",
       "      <td>1</td>\n",
       "      <td>1.15</td>\n",
       "      <td>8.30</td>\n",
       "    </tr>\n",
       "    <tr>\n",
       "      <th>7617685</th>\n",
       "      <td>2019-01-31 11:58:52</td>\n",
       "      <td>2019-01-31 12:24:10</td>\n",
       "      <td>1</td>\n",
       "      <td>16.70</td>\n",
       "      <td>56.16</td>\n",
       "    </tr>\n",
       "  </tbody>\n",
       "</table>\n",
       "<p>373933 rows × 5 columns</p>\n",
       "</div>"
      ],
      "text/plain": [
       "        tpep_pickup_datetime tpep_dropoff_datetime  passenger_count  \\\n",
       "75368    2019-01-01 11:00:38   2019-01-01 11:05:00                1   \n",
       "76021    2019-01-01 11:00:34   2019-01-01 11:07:49                6   \n",
       "76360    2019-01-01 11:01:36   2019-01-01 11:38:01                2   \n",
       "76861    2019-01-01 11:03:07   2019-01-01 11:07:16                2   \n",
       "76864    2019-01-01 11:00:01   2019-01-01 11:28:25                1   \n",
       "...                      ...                   ...              ...   \n",
       "7491245  2019-01-31 11:58:13   2019-01-31 12:21:09                1   \n",
       "7491279  2019-01-31 11:57:34   2019-01-31 12:00:39                5   \n",
       "7491287  2019-01-31 11:59:36   2019-01-31 12:59:57                1   \n",
       "7491337  2019-01-31 11:59:28   2019-01-31 12:20:52                1   \n",
       "7617685  2019-01-31 11:58:52   2019-01-31 12:24:10                1   \n",
       "\n",
       "         trip_distance  total_amount  \n",
       "75368             0.99          6.30  \n",
       "76021             1.81          8.80  \n",
       "76360            19.84         89.30  \n",
       "76861             0.47          5.30  \n",
       "76864            18.14         70.27  \n",
       "...                ...           ...  \n",
       "7491245           1.88         18.36  \n",
       "7491279           0.50          6.62  \n",
       "7491287          16.48         54.80  \n",
       "7491337           1.15          8.30  \n",
       "7617685          16.70         56.16  \n",
       "\n",
       "[373933 rows x 5 columns]"
      ]
     },
     "execution_count": 158,
     "metadata": {},
     "output_type": "execute_result"
    }
   ],
   "source": [
    "# what questions might I like to ask?\n",
    "# how about: How many rides took place between 11:00 - 11:59 a.m. (across all days)?\n",
    "\n",
    "# the .dt accessor gives us access to date/time data\n",
    "\n",
    "df.loc[df['tpep_pickup_datetime'].dt.hour == 11]"
   ]
  },
  {
   "cell_type": "code",
   "execution_count": 159,
   "id": "0b5a737b",
   "metadata": {},
   "outputs": [
    {
     "data": {
      "text/html": [
       "<div>\n",
       "<style scoped>\n",
       "    .dataframe tbody tr th:only-of-type {\n",
       "        vertical-align: middle;\n",
       "    }\n",
       "\n",
       "    .dataframe tbody tr th {\n",
       "        vertical-align: top;\n",
       "    }\n",
       "\n",
       "    .dataframe thead th {\n",
       "        text-align: right;\n",
       "    }\n",
       "</style>\n",
       "<table border=\"1\" class=\"dataframe\">\n",
       "  <thead>\n",
       "    <tr style=\"text-align: right;\">\n",
       "      <th></th>\n",
       "      <th>tpep_pickup_datetime</th>\n",
       "      <th>tpep_dropoff_datetime</th>\n",
       "      <th>passenger_count</th>\n",
       "      <th>trip_distance</th>\n",
       "      <th>total_amount</th>\n",
       "    </tr>\n",
       "  </thead>\n",
       "  <tbody>\n",
       "    <tr>\n",
       "      <th>331</th>\n",
       "      <td>2018-12-31 23:47:46</td>\n",
       "      <td>2018-12-31 23:53:24</td>\n",
       "      <td>1</td>\n",
       "      <td>1.06</td>\n",
       "      <td>7.30</td>\n",
       "    </tr>\n",
       "    <tr>\n",
       "      <th>497</th>\n",
       "      <td>2018-12-31 23:56:19</td>\n",
       "      <td>2019-01-01 00:53:44</td>\n",
       "      <td>2</td>\n",
       "      <td>19.30</td>\n",
       "      <td>68.06</td>\n",
       "    </tr>\n",
       "    <tr>\n",
       "      <th>505</th>\n",
       "      <td>2018-12-31 23:56:54</td>\n",
       "      <td>2019-01-01 00:01:55</td>\n",
       "      <td>1</td>\n",
       "      <td>0.64</td>\n",
       "      <td>6.30</td>\n",
       "    </tr>\n",
       "    <tr>\n",
       "      <th>557</th>\n",
       "      <td>2018-12-31 23:56:57</td>\n",
       "      <td>2019-01-01 00:30:30</td>\n",
       "      <td>1</td>\n",
       "      <td>6.10</td>\n",
       "      <td>31.56</td>\n",
       "    </tr>\n",
       "    <tr>\n",
       "      <th>878</th>\n",
       "      <td>2018-12-31 23:58:36</td>\n",
       "      <td>2019-01-01 00:04:18</td>\n",
       "      <td>1</td>\n",
       "      <td>0.54</td>\n",
       "      <td>8.84</td>\n",
       "    </tr>\n",
       "    <tr>\n",
       "      <th>...</th>\n",
       "      <td>...</td>\n",
       "      <td>...</td>\n",
       "      <td>...</td>\n",
       "      <td>...</td>\n",
       "      <td>...</td>\n",
       "    </tr>\n",
       "    <tr>\n",
       "      <th>7667787</th>\n",
       "      <td>2019-01-31 23:57:36</td>\n",
       "      <td>2019-02-01 00:18:39</td>\n",
       "      <td>1</td>\n",
       "      <td>4.79</td>\n",
       "      <td>23.16</td>\n",
       "    </tr>\n",
       "    <tr>\n",
       "      <th>7667788</th>\n",
       "      <td>2019-01-31 23:32:03</td>\n",
       "      <td>2019-01-31 23:33:11</td>\n",
       "      <td>1</td>\n",
       "      <td>0.00</td>\n",
       "      <td>0.00</td>\n",
       "    </tr>\n",
       "    <tr>\n",
       "      <th>7667789</th>\n",
       "      <td>2019-01-31 23:36:36</td>\n",
       "      <td>2019-01-31 23:36:40</td>\n",
       "      <td>1</td>\n",
       "      <td>0.00</td>\n",
       "      <td>0.00</td>\n",
       "    </tr>\n",
       "    <tr>\n",
       "      <th>7667790</th>\n",
       "      <td>2019-01-31 23:14:53</td>\n",
       "      <td>2019-01-31 23:15:20</td>\n",
       "      <td>1</td>\n",
       "      <td>0.00</td>\n",
       "      <td>0.00</td>\n",
       "    </tr>\n",
       "    <tr>\n",
       "      <th>7667791</th>\n",
       "      <td>2019-01-31 23:12:49</td>\n",
       "      <td>2019-01-31 23:14:08</td>\n",
       "      <td>1</td>\n",
       "      <td>0.00</td>\n",
       "      <td>0.00</td>\n",
       "    </tr>\n",
       "  </tbody>\n",
       "</table>\n",
       "<p>281426 rows × 5 columns</p>\n",
       "</div>"
      ],
      "text/plain": [
       "        tpep_pickup_datetime tpep_dropoff_datetime  passenger_count  \\\n",
       "331      2018-12-31 23:47:46   2018-12-31 23:53:24                1   \n",
       "497      2018-12-31 23:56:19   2019-01-01 00:53:44                2   \n",
       "505      2018-12-31 23:56:54   2019-01-01 00:01:55                1   \n",
       "557      2018-12-31 23:56:57   2019-01-01 00:30:30                1   \n",
       "878      2018-12-31 23:58:36   2019-01-01 00:04:18                1   \n",
       "...                      ...                   ...              ...   \n",
       "7667787  2019-01-31 23:57:36   2019-02-01 00:18:39                1   \n",
       "7667788  2019-01-31 23:32:03   2019-01-31 23:33:11                1   \n",
       "7667789  2019-01-31 23:36:36   2019-01-31 23:36:40                1   \n",
       "7667790  2019-01-31 23:14:53   2019-01-31 23:15:20                1   \n",
       "7667791  2019-01-31 23:12:49   2019-01-31 23:14:08                1   \n",
       "\n",
       "         trip_distance  total_amount  \n",
       "331               1.06          7.30  \n",
       "497              19.30         68.06  \n",
       "505               0.64          6.30  \n",
       "557               6.10         31.56  \n",
       "878               0.54          8.84  \n",
       "...                ...           ...  \n",
       "7667787           4.79         23.16  \n",
       "7667788           0.00          0.00  \n",
       "7667789           0.00          0.00  \n",
       "7667790           0.00          0.00  \n",
       "7667791           0.00          0.00  \n",
       "\n",
       "[281426 rows x 5 columns]"
      ]
     },
     "execution_count": 159,
     "metadata": {},
     "output_type": "execute_result"
    }
   ],
   "source": [
    "df.loc[df['tpep_pickup_datetime'].dt.hour == 23]"
   ]
  },
  {
   "cell_type": "code",
   "execution_count": 160,
   "id": "1568aa38",
   "metadata": {},
   "outputs": [
    {
     "data": {
      "text/plain": [
       "0          1\n",
       "1          1\n",
       "2          4\n",
       "3          2\n",
       "4          2\n",
       "          ..\n",
       "7667787    3\n",
       "7667788    3\n",
       "7667789    3\n",
       "7667790    3\n",
       "7667791    3\n",
       "Name: tpep_pickup_datetime, Length: 7667792, dtype: int64"
      ]
     },
     "execution_count": 160,
     "metadata": {},
     "output_type": "execute_result"
    }
   ],
   "source": [
    "df['tpep_pickup_datetime'].dt.day_of_week"
   ]
  },
  {
   "cell_type": "code",
   "execution_count": 161,
   "id": "f812d927",
   "metadata": {},
   "outputs": [
    {
     "data": {
      "text/plain": [
       "0          False\n",
       "1          False\n",
       "2          False\n",
       "3          False\n",
       "4          False\n",
       "           ...  \n",
       "7667787    False\n",
       "7667788    False\n",
       "7667789    False\n",
       "7667790    False\n",
       "7667791    False\n",
       "Name: tpep_pickup_datetime, Length: 7667792, dtype: bool"
      ]
     },
     "execution_count": 161,
     "metadata": {},
     "output_type": "execute_result"
    }
   ],
   "source": [
    "df['tpep_pickup_datetime'].dt.is_quarter_end"
   ]
  },
  {
   "cell_type": "markdown",
   "id": "2bffde2f",
   "metadata": {},
   "source": [
    "# Exercise: Taxi pickup times\n",
    "\n",
    "1. How far, on average, did taxi rides go at each of the following 3 hours: 8 a.m., 12 noon, and 4 p.m.?\n",
    "2. What was the greatest `total_amount` for taxis between 6 a.m. and 11 a.m.?"
   ]
  },
  {
   "cell_type": "code",
   "execution_count": 170,
   "id": "8c67674b",
   "metadata": {},
   "outputs": [
    {
     "data": {
      "text/plain": [
       "0           1\n",
       "1           1\n",
       "2          51\n",
       "3          48\n",
       "4          48\n",
       "           ..\n",
       "7667787     5\n",
       "7667788     5\n",
       "7667789     5\n",
       "7667790     5\n",
       "7667791     5\n",
       "Name: week, Length: 7667792, dtype: UInt32"
      ]
     },
     "execution_count": 170,
     "metadata": {},
     "output_type": "execute_result"
    }
   ],
   "source": [
    "df['tpep_pickup_datetime'].dt.isocalendar().week"
   ]
  },
  {
   "cell_type": "code",
   "execution_count": 173,
   "id": "db242ef9",
   "metadata": {},
   "outputs": [
    {
     "data": {
      "text/plain": [
       "2.5046997622198552"
      ]
     },
     "execution_count": 173,
     "metadata": {},
     "output_type": "execute_result"
    }
   ],
   "source": [
    "df.loc[\n",
    "    df['tpep_pickup_datetime'].dt.hour == 8,   # row selector\n",
    "    'trip_distance'     # column selector\n",
    "].mean()"
   ]
  },
  {
   "cell_type": "code",
   "execution_count": 174,
   "id": "7c335669",
   "metadata": {},
   "outputs": [
    {
     "data": {
      "text/plain": [
       "2.5419792903112715"
      ]
     },
     "execution_count": 174,
     "metadata": {},
     "output_type": "execute_result"
    }
   ],
   "source": [
    "df.loc[\n",
    "    df['tpep_pickup_datetime'].dt.hour == 12,   # row selector\n",
    "    'trip_distance'     # column selector\n",
    "].mean()"
   ]
  },
  {
   "cell_type": "code",
   "execution_count": 175,
   "id": "14dbf3d3",
   "metadata": {},
   "outputs": [
    {
     "data": {
      "text/plain": [
       "2.8358075335397324"
      ]
     },
     "execution_count": 175,
     "metadata": {},
     "output_type": "execute_result"
    }
   ],
   "source": [
    "df.loc[\n",
    "    df['tpep_pickup_datetime'].dt.hour == 16,   # row selector\n",
    "    'trip_distance'     # column selector\n",
    "].mean()"
   ]
  },
  {
   "cell_type": "code",
   "execution_count": 176,
   "id": "a38e75d4",
   "metadata": {},
   "outputs": [
    {
     "data": {
      "text/plain": [
       "3.3303005052838057"
      ]
     },
     "execution_count": 176,
     "metadata": {},
     "output_type": "execute_result"
    }
   ],
   "source": [
    "df.loc[\n",
    "    df['tpep_pickup_datetime'].dt.hour == 23,   # row selector\n",
    "    'trip_distance'     # column selector\n",
    "].mean()"
   ]
  },
  {
   "cell_type": "code",
   "execution_count": 180,
   "id": "c1c32723",
   "metadata": {},
   "outputs": [
    {
     "data": {
      "text/plain": [
       "356214.78"
      ]
     },
     "execution_count": 180,
     "metadata": {},
     "output_type": "execute_result"
    }
   ],
   "source": [
    "# greatest amount paid between 6 a.m. and 11 a.m.\n",
    "\n",
    "df.loc[\n",
    "         (df['tpep_pickup_datetime'].dt.hour >= 6) & \n",
    "         (df['tpep_pickup_datetime'].dt.hour <= 11),    # row selector\n",
    "    'total_amount'  # column selector\n",
    "].max()\n"
   ]
  },
  {
   "cell_type": "code",
   "execution_count": 181,
   "id": "63b2ceb8",
   "metadata": {},
   "outputs": [
    {
     "data": {
      "text/plain": [
       "passenger_count\n",
       "0    2.651561\n",
       "1    2.779088\n",
       "2    2.880572\n",
       "3    2.840698\n",
       "4    2.853084\n",
       "5    2.865741\n",
       "6    2.842335\n",
       "7    2.561579\n",
       "8    3.142759\n",
       "9    1.486667\n",
       "Name: trip_distance, dtype: float64"
      ]
     },
     "execution_count": 181,
     "metadata": {},
     "output_type": "execute_result"
    }
   ],
   "source": [
    "# what if I want to find out the mean trip_distance\n",
    "# for each hour of the day in df?\n",
    "\n",
    "# we already know that if I want the mean trip_distance\n",
    "# for each distinct value of passenger_count, I can \n",
    "# use groupby\n",
    "\n",
    "df.groupby('passenger_count')['trip_distance'].mean()"
   ]
  },
  {
   "cell_type": "code",
   "execution_count": 182,
   "id": "6d44d52d",
   "metadata": {},
   "outputs": [
    {
     "data": {
      "text/plain": [
       "tpep_pickup_datetime\n",
       "0     3.354784\n",
       "1     3.137899\n",
       "2     3.016444\n",
       "3     3.248158\n",
       "4     4.025417\n",
       "5     4.258831\n",
       "6     3.214363\n",
       "7     2.774819\n",
       "8     2.504700\n",
       "9     2.460718\n",
       "10    2.526949\n",
       "11    2.437092\n",
       "12    2.541979\n",
       "13    2.710267\n",
       "14    2.779519\n",
       "15    2.725301\n",
       "16    2.835808\n",
       "17    2.627712\n",
       "18    2.520850\n",
       "19    2.654441\n",
       "20    2.917349\n",
       "21    3.102218\n",
       "22    3.177194\n",
       "23    3.330301\n",
       "Name: trip_distance, dtype: float64"
      ]
     },
     "execution_count": 182,
     "metadata": {},
     "output_type": "execute_result"
    }
   ],
   "source": [
    "# if I want to group by each hour of the day, I can say:\n",
    "df.groupby(df['tpep_pickup_datetime'].dt.hour)['trip_distance'].mean()"
   ]
  },
  {
   "cell_type": "code",
   "execution_count": 183,
   "id": "ff82fcc4",
   "metadata": {},
   "outputs": [
    {
     "data": {
      "text/plain": [
       "0         0 days 00:06:40\n",
       "1         0 days 00:19:12\n",
       "2         0 days 00:04:10\n",
       "3         0 days 00:03:20\n",
       "4         0 days 00:01:36\n",
       "                ...      \n",
       "7667787   0 days 00:21:03\n",
       "7667788   0 days 00:01:08\n",
       "7667789   0 days 00:00:04\n",
       "7667790   0 days 00:00:27\n",
       "7667791   0 days 00:01:19\n",
       "Length: 7667792, dtype: timedelta64[ns]"
      ]
     },
     "execution_count": 183,
     "metadata": {},
     "output_type": "execute_result"
    }
   ],
   "source": [
    "# what about time deltas?\n",
    "\n",
    "# remember that a time delta is (can be) calculated as the difference between\n",
    "# two datetime objects\n",
    "\n",
    "# I can create a time delta in this way:\n",
    "\n",
    "df['tpep_dropoff_datetime'] - df['tpep_pickup_datetime']"
   ]
  },
  {
   "cell_type": "code",
   "execution_count": 184,
   "id": "59ea2c6b",
   "metadata": {},
   "outputs": [],
   "source": [
    "df['trip_time'] = df['tpep_dropoff_datetime'] - df['tpep_pickup_datetime']"
   ]
  },
  {
   "cell_type": "code",
   "execution_count": 185,
   "id": "83dd702f",
   "metadata": {},
   "outputs": [
    {
     "data": {
      "text/html": [
       "<div>\n",
       "<style scoped>\n",
       "    .dataframe tbody tr th:only-of-type {\n",
       "        vertical-align: middle;\n",
       "    }\n",
       "\n",
       "    .dataframe tbody tr th {\n",
       "        vertical-align: top;\n",
       "    }\n",
       "\n",
       "    .dataframe thead th {\n",
       "        text-align: right;\n",
       "    }\n",
       "</style>\n",
       "<table border=\"1\" class=\"dataframe\">\n",
       "  <thead>\n",
       "    <tr style=\"text-align: right;\">\n",
       "      <th></th>\n",
       "      <th>tpep_pickup_datetime</th>\n",
       "      <th>tpep_dropoff_datetime</th>\n",
       "      <th>passenger_count</th>\n",
       "      <th>trip_distance</th>\n",
       "      <th>total_amount</th>\n",
       "      <th>trip_time</th>\n",
       "    </tr>\n",
       "  </thead>\n",
       "  <tbody>\n",
       "    <tr>\n",
       "      <th>0</th>\n",
       "      <td>2019-01-01 00:46:40</td>\n",
       "      <td>2019-01-01 00:53:20</td>\n",
       "      <td>1</td>\n",
       "      <td>1.5</td>\n",
       "      <td>9.95</td>\n",
       "      <td>0 days 00:06:40</td>\n",
       "    </tr>\n",
       "    <tr>\n",
       "      <th>1</th>\n",
       "      <td>2019-01-01 00:59:47</td>\n",
       "      <td>2019-01-01 01:18:59</td>\n",
       "      <td>1</td>\n",
       "      <td>2.6</td>\n",
       "      <td>16.30</td>\n",
       "      <td>0 days 00:19:12</td>\n",
       "    </tr>\n",
       "    <tr>\n",
       "      <th>2</th>\n",
       "      <td>2018-12-21 13:48:30</td>\n",
       "      <td>2018-12-21 13:52:40</td>\n",
       "      <td>3</td>\n",
       "      <td>0.0</td>\n",
       "      <td>5.80</td>\n",
       "      <td>0 days 00:04:10</td>\n",
       "    </tr>\n",
       "    <tr>\n",
       "      <th>3</th>\n",
       "      <td>2018-11-28 15:52:25</td>\n",
       "      <td>2018-11-28 15:55:45</td>\n",
       "      <td>5</td>\n",
       "      <td>0.0</td>\n",
       "      <td>7.55</td>\n",
       "      <td>0 days 00:03:20</td>\n",
       "    </tr>\n",
       "    <tr>\n",
       "      <th>4</th>\n",
       "      <td>2018-11-28 15:56:57</td>\n",
       "      <td>2018-11-28 15:58:33</td>\n",
       "      <td>5</td>\n",
       "      <td>0.0</td>\n",
       "      <td>55.55</td>\n",
       "      <td>0 days 00:01:36</td>\n",
       "    </tr>\n",
       "  </tbody>\n",
       "</table>\n",
       "</div>"
      ],
      "text/plain": [
       "  tpep_pickup_datetime tpep_dropoff_datetime  passenger_count  trip_distance  \\\n",
       "0  2019-01-01 00:46:40   2019-01-01 00:53:20                1            1.5   \n",
       "1  2019-01-01 00:59:47   2019-01-01 01:18:59                1            2.6   \n",
       "2  2018-12-21 13:48:30   2018-12-21 13:52:40                3            0.0   \n",
       "3  2018-11-28 15:52:25   2018-11-28 15:55:45                5            0.0   \n",
       "4  2018-11-28 15:56:57   2018-11-28 15:58:33                5            0.0   \n",
       "\n",
       "   total_amount       trip_time  \n",
       "0          9.95 0 days 00:06:40  \n",
       "1         16.30 0 days 00:19:12  \n",
       "2          5.80 0 days 00:04:10  \n",
       "3          7.55 0 days 00:03:20  \n",
       "4         55.55 0 days 00:01:36  "
      ]
     },
     "execution_count": 185,
     "metadata": {},
     "output_type": "execute_result"
    }
   ],
   "source": [
    "df.head()"
   ]
  },
  {
   "cell_type": "code",
   "execution_count": 186,
   "id": "7a1ac26b",
   "metadata": {},
   "outputs": [
    {
     "data": {
      "text/plain": [
       "0           True\n",
       "1          False\n",
       "2           True\n",
       "3           True\n",
       "4           True\n",
       "           ...  \n",
       "7667787    False\n",
       "7667788     True\n",
       "7667789     True\n",
       "7667790     True\n",
       "7667791     True\n",
       "Name: trip_time, Length: 7667792, dtype: bool"
      ]
     },
     "execution_count": 186,
     "metadata": {},
     "output_type": "execute_result"
    }
   ],
   "source": [
    "# comparing with time deltas is surprisingly easy!\n",
    "\n",
    "# (1) I can compare with a timedelta-like string\n",
    "\n",
    "df['trip_time'] < '00:10:00'   # which trips took less than 10 minutes?"
   ]
  },
  {
   "cell_type": "code",
   "execution_count": 187,
   "id": "595eb0ec",
   "metadata": {},
   "outputs": [
    {
     "data": {
      "text/html": [
       "<div>\n",
       "<style scoped>\n",
       "    .dataframe tbody tr th:only-of-type {\n",
       "        vertical-align: middle;\n",
       "    }\n",
       "\n",
       "    .dataframe tbody tr th {\n",
       "        vertical-align: top;\n",
       "    }\n",
       "\n",
       "    .dataframe thead th {\n",
       "        text-align: right;\n",
       "    }\n",
       "</style>\n",
       "<table border=\"1\" class=\"dataframe\">\n",
       "  <thead>\n",
       "    <tr style=\"text-align: right;\">\n",
       "      <th></th>\n",
       "      <th>tpep_pickup_datetime</th>\n",
       "      <th>tpep_dropoff_datetime</th>\n",
       "      <th>passenger_count</th>\n",
       "      <th>trip_distance</th>\n",
       "      <th>total_amount</th>\n",
       "      <th>trip_time</th>\n",
       "    </tr>\n",
       "  </thead>\n",
       "  <tbody>\n",
       "    <tr>\n",
       "      <th>0</th>\n",
       "      <td>2019-01-01 00:46:40</td>\n",
       "      <td>2019-01-01 00:53:20</td>\n",
       "      <td>1</td>\n",
       "      <td>1.50</td>\n",
       "      <td>9.95</td>\n",
       "      <td>0 days 00:06:40</td>\n",
       "    </tr>\n",
       "    <tr>\n",
       "      <th>2</th>\n",
       "      <td>2018-12-21 13:48:30</td>\n",
       "      <td>2018-12-21 13:52:40</td>\n",
       "      <td>3</td>\n",
       "      <td>0.00</td>\n",
       "      <td>5.80</td>\n",
       "      <td>0 days 00:04:10</td>\n",
       "    </tr>\n",
       "    <tr>\n",
       "      <th>3</th>\n",
       "      <td>2018-11-28 15:52:25</td>\n",
       "      <td>2018-11-28 15:55:45</td>\n",
       "      <td>5</td>\n",
       "      <td>0.00</td>\n",
       "      <td>7.55</td>\n",
       "      <td>0 days 00:03:20</td>\n",
       "    </tr>\n",
       "    <tr>\n",
       "      <th>4</th>\n",
       "      <td>2018-11-28 15:56:57</td>\n",
       "      <td>2018-11-28 15:58:33</td>\n",
       "      <td>5</td>\n",
       "      <td>0.00</td>\n",
       "      <td>55.55</td>\n",
       "      <td>0 days 00:01:36</td>\n",
       "    </tr>\n",
       "    <tr>\n",
       "      <th>5</th>\n",
       "      <td>2018-11-28 16:25:49</td>\n",
       "      <td>2018-11-28 16:28:26</td>\n",
       "      <td>5</td>\n",
       "      <td>0.00</td>\n",
       "      <td>13.31</td>\n",
       "      <td>0 days 00:02:37</td>\n",
       "    </tr>\n",
       "    <tr>\n",
       "      <th>...</th>\n",
       "      <td>...</td>\n",
       "      <td>...</td>\n",
       "      <td>...</td>\n",
       "      <td>...</td>\n",
       "      <td>...</td>\n",
       "      <td>...</td>\n",
       "    </tr>\n",
       "    <tr>\n",
       "      <th>7667784</th>\n",
       "      <td>2019-01-31 23:32:34</td>\n",
       "      <td>2019-01-31 23:41:40</td>\n",
       "      <td>1</td>\n",
       "      <td>1.34</td>\n",
       "      <td>9.30</td>\n",
       "      <td>0 days 00:09:06</td>\n",
       "    </tr>\n",
       "    <tr>\n",
       "      <th>7667788</th>\n",
       "      <td>2019-01-31 23:32:03</td>\n",
       "      <td>2019-01-31 23:33:11</td>\n",
       "      <td>1</td>\n",
       "      <td>0.00</td>\n",
       "      <td>0.00</td>\n",
       "      <td>0 days 00:01:08</td>\n",
       "    </tr>\n",
       "    <tr>\n",
       "      <th>7667789</th>\n",
       "      <td>2019-01-31 23:36:36</td>\n",
       "      <td>2019-01-31 23:36:40</td>\n",
       "      <td>1</td>\n",
       "      <td>0.00</td>\n",
       "      <td>0.00</td>\n",
       "      <td>0 days 00:00:04</td>\n",
       "    </tr>\n",
       "    <tr>\n",
       "      <th>7667790</th>\n",
       "      <td>2019-01-31 23:14:53</td>\n",
       "      <td>2019-01-31 23:15:20</td>\n",
       "      <td>1</td>\n",
       "      <td>0.00</td>\n",
       "      <td>0.00</td>\n",
       "      <td>0 days 00:00:27</td>\n",
       "    </tr>\n",
       "    <tr>\n",
       "      <th>7667791</th>\n",
       "      <td>2019-01-31 23:12:49</td>\n",
       "      <td>2019-01-31 23:14:08</td>\n",
       "      <td>1</td>\n",
       "      <td>0.00</td>\n",
       "      <td>0.00</td>\n",
       "      <td>0 days 00:01:19</td>\n",
       "    </tr>\n",
       "  </tbody>\n",
       "</table>\n",
       "<p>3766663 rows × 6 columns</p>\n",
       "</div>"
      ],
      "text/plain": [
       "        tpep_pickup_datetime tpep_dropoff_datetime  passenger_count  \\\n",
       "0        2019-01-01 00:46:40   2019-01-01 00:53:20                1   \n",
       "2        2018-12-21 13:48:30   2018-12-21 13:52:40                3   \n",
       "3        2018-11-28 15:52:25   2018-11-28 15:55:45                5   \n",
       "4        2018-11-28 15:56:57   2018-11-28 15:58:33                5   \n",
       "5        2018-11-28 16:25:49   2018-11-28 16:28:26                5   \n",
       "...                      ...                   ...              ...   \n",
       "7667784  2019-01-31 23:32:34   2019-01-31 23:41:40                1   \n",
       "7667788  2019-01-31 23:32:03   2019-01-31 23:33:11                1   \n",
       "7667789  2019-01-31 23:36:36   2019-01-31 23:36:40                1   \n",
       "7667790  2019-01-31 23:14:53   2019-01-31 23:15:20                1   \n",
       "7667791  2019-01-31 23:12:49   2019-01-31 23:14:08                1   \n",
       "\n",
       "         trip_distance  total_amount       trip_time  \n",
       "0                 1.50          9.95 0 days 00:06:40  \n",
       "2                 0.00          5.80 0 days 00:04:10  \n",
       "3                 0.00          7.55 0 days 00:03:20  \n",
       "4                 0.00         55.55 0 days 00:01:36  \n",
       "5                 0.00         13.31 0 days 00:02:37  \n",
       "...                ...           ...             ...  \n",
       "7667784           1.34          9.30 0 days 00:09:06  \n",
       "7667788           0.00          0.00 0 days 00:01:08  \n",
       "7667789           0.00          0.00 0 days 00:00:04  \n",
       "7667790           0.00          0.00 0 days 00:00:27  \n",
       "7667791           0.00          0.00 0 days 00:01:19  \n",
       "\n",
       "[3766663 rows x 6 columns]"
      ]
     },
     "execution_count": 187,
     "metadata": {},
     "output_type": "execute_result"
    }
   ],
   "source": [
    "df.loc[df['trip_time'] < '00:10:00']   # which trips took less than 10 minutes?"
   ]
  },
  {
   "cell_type": "code",
   "execution_count": 191,
   "id": "b3de074a",
   "metadata": {},
   "outputs": [
    {
     "data": {
      "text/plain": [
       "0          False\n",
       "1          False\n",
       "2          False\n",
       "3          False\n",
       "4          False\n",
       "           ...  \n",
       "7667787    False\n",
       "7667788    False\n",
       "7667789     True\n",
       "7667790     True\n",
       "7667791    False\n",
       "Name: trip_time, Length: 7667792, dtype: bool"
      ]
     },
     "execution_count": 191,
     "metadata": {},
     "output_type": "execute_result"
    }
   ],
   "source": [
    "# the second way that we can compare with a time delta is with\n",
    "# text descriptions of the time\n",
    "\n",
    "df['trip_time'] < '30 seconds'  # yes, you can use text!"
   ]
  },
  {
   "cell_type": "markdown",
   "id": "f4e043fa",
   "metadata": {},
   "source": [
    "# Exercise: Weirdly short/long taxi rides\n",
    "\n",
    "1. What was the average price paid by people whose taxi rides were shorter than 1 minute?\n",
    "2. How far did they go, on average?\n",
    "3. How many taxi rides took more than 1 day?  How much did people pay, on average, for such \"service,\" and how far did they go?"
   ]
  },
  {
   "cell_type": "code",
   "execution_count": 192,
   "id": "1de7ef2e",
   "metadata": {},
   "outputs": [],
   "source": [
    "df['trip_time'] = df['tpep_dropoff_datetime'] - df['tpep_pickup_datetime']"
   ]
  },
  {
   "cell_type": "code",
   "execution_count": 193,
   "id": "2bf398c2",
   "metadata": {},
   "outputs": [
    {
     "data": {
      "text/html": [
       "<div>\n",
       "<style scoped>\n",
       "    .dataframe tbody tr th:only-of-type {\n",
       "        vertical-align: middle;\n",
       "    }\n",
       "\n",
       "    .dataframe tbody tr th {\n",
       "        vertical-align: top;\n",
       "    }\n",
       "\n",
       "    .dataframe thead th {\n",
       "        text-align: right;\n",
       "    }\n",
       "</style>\n",
       "<table border=\"1\" class=\"dataframe\">\n",
       "  <thead>\n",
       "    <tr style=\"text-align: right;\">\n",
       "      <th></th>\n",
       "      <th>tpep_pickup_datetime</th>\n",
       "      <th>tpep_dropoff_datetime</th>\n",
       "      <th>passenger_count</th>\n",
       "      <th>trip_distance</th>\n",
       "      <th>total_amount</th>\n",
       "      <th>trip_time</th>\n",
       "    </tr>\n",
       "  </thead>\n",
       "  <tbody>\n",
       "    <tr>\n",
       "      <th>0</th>\n",
       "      <td>2019-01-01 00:46:40</td>\n",
       "      <td>2019-01-01 00:53:20</td>\n",
       "      <td>1</td>\n",
       "      <td>1.5</td>\n",
       "      <td>9.95</td>\n",
       "      <td>0 days 00:06:40</td>\n",
       "    </tr>\n",
       "    <tr>\n",
       "      <th>1</th>\n",
       "      <td>2019-01-01 00:59:47</td>\n",
       "      <td>2019-01-01 01:18:59</td>\n",
       "      <td>1</td>\n",
       "      <td>2.6</td>\n",
       "      <td>16.30</td>\n",
       "      <td>0 days 00:19:12</td>\n",
       "    </tr>\n",
       "    <tr>\n",
       "      <th>2</th>\n",
       "      <td>2018-12-21 13:48:30</td>\n",
       "      <td>2018-12-21 13:52:40</td>\n",
       "      <td>3</td>\n",
       "      <td>0.0</td>\n",
       "      <td>5.80</td>\n",
       "      <td>0 days 00:04:10</td>\n",
       "    </tr>\n",
       "    <tr>\n",
       "      <th>3</th>\n",
       "      <td>2018-11-28 15:52:25</td>\n",
       "      <td>2018-11-28 15:55:45</td>\n",
       "      <td>5</td>\n",
       "      <td>0.0</td>\n",
       "      <td>7.55</td>\n",
       "      <td>0 days 00:03:20</td>\n",
       "    </tr>\n",
       "    <tr>\n",
       "      <th>4</th>\n",
       "      <td>2018-11-28 15:56:57</td>\n",
       "      <td>2018-11-28 15:58:33</td>\n",
       "      <td>5</td>\n",
       "      <td>0.0</td>\n",
       "      <td>55.55</td>\n",
       "      <td>0 days 00:01:36</td>\n",
       "    </tr>\n",
       "  </tbody>\n",
       "</table>\n",
       "</div>"
      ],
      "text/plain": [
       "  tpep_pickup_datetime tpep_dropoff_datetime  passenger_count  trip_distance  \\\n",
       "0  2019-01-01 00:46:40   2019-01-01 00:53:20                1            1.5   \n",
       "1  2019-01-01 00:59:47   2019-01-01 01:18:59                1            2.6   \n",
       "2  2018-12-21 13:48:30   2018-12-21 13:52:40                3            0.0   \n",
       "3  2018-11-28 15:52:25   2018-11-28 15:55:45                5            0.0   \n",
       "4  2018-11-28 15:56:57   2018-11-28 15:58:33                5            0.0   \n",
       "\n",
       "   total_amount       trip_time  \n",
       "0          9.95 0 days 00:06:40  \n",
       "1         16.30 0 days 00:19:12  \n",
       "2          5.80 0 days 00:04:10  \n",
       "3          7.55 0 days 00:03:20  \n",
       "4         55.55 0 days 00:01:36  "
      ]
     },
     "execution_count": 193,
     "metadata": {},
     "output_type": "execute_result"
    }
   ],
   "source": [
    "df.head()"
   ]
  },
  {
   "cell_type": "code",
   "execution_count": 194,
   "id": "c895c1a2",
   "metadata": {},
   "outputs": [
    {
     "data": {
      "text/plain": [
       "tpep_pickup_datetime      datetime64[ns]\n",
       "tpep_dropoff_datetime     datetime64[ns]\n",
       "passenger_count                    int64\n",
       "trip_distance                    float64\n",
       "total_amount                     float64\n",
       "trip_time                timedelta64[ns]\n",
       "dtype: object"
      ]
     },
     "execution_count": 194,
     "metadata": {},
     "output_type": "execute_result"
    }
   ],
   "source": [
    "df.dtypes"
   ]
  },
  {
   "cell_type": "code",
   "execution_count": 196,
   "id": "735e7a3b",
   "metadata": {},
   "outputs": [
    {
     "data": {
      "text/plain": [
       "20          3.80\n",
       "28          7.80\n",
       "156         4.55\n",
       "663        -3.80\n",
       "664         3.80\n",
       "           ...  \n",
       "7667659    63.36\n",
       "7667714     3.80\n",
       "7667753     4.30\n",
       "7667789     0.00\n",
       "7667790     0.00\n",
       "Name: total_amount, Length: 74069, dtype: float64"
      ]
     },
     "execution_count": 196,
     "metadata": {},
     "output_type": "execute_result"
    }
   ],
   "source": [
    "df.loc[\n",
    "    df['trip_time'] < '1 minute',   # row selector\n",
    "    'total_amount'  # column selector\n",
    "]"
   ]
  },
  {
   "cell_type": "code",
   "execution_count": null,
   "id": "64d8af83",
   "metadata": {},
   "outputs": [],
   "source": []
  }
 ],
 "metadata": {
  "kernelspec": {
   "display_name": "Python 3 (ipykernel)",
   "language": "python",
   "name": "python3"
  },
  "language_info": {
   "codemirror_mode": {
    "name": "ipython",
    "version": 3
   },
   "file_extension": ".py",
   "mimetype": "text/x-python",
   "name": "python",
   "nbconvert_exporter": "python",
   "pygments_lexer": "ipython3",
   "version": "3.10.6"
  }
 },
 "nbformat": 4,
 "nbformat_minor": 5
}
