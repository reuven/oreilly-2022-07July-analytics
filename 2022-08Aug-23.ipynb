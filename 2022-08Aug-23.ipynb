{
 "cells": [
  {
   "cell_type": "markdown",
   "id": "bb13aa97",
   "metadata": {},
   "source": [
    "# Agenda, week 4\n",
    "\n",
    "1. Recap and Q&A\n",
    "    - Oil prices!\n",
    "2. Text strings\n",
    "    - The `str` accessor\n",
    "    - Cleaning dirty integer data\n",
    "    - Textual statistics\n",
    "    - Trimming strings\n",
    "3. Dates and times\n",
    "    - Date and time dtypes\n",
    "    - Parsing CSV files with times\n",
    "    - Time deltas\n",
    "    - Time series\n",
    "    - Resampling"
   ]
  },
  {
   "cell_type": "code",
   "execution_count": 3,
   "id": "a7b05760",
   "metadata": {},
   "outputs": [],
   "source": [
    "import numpy as np\n",
    "import pandas as pd\n",
    "from pandas import Series, DataFrame"
   ]
  },
  {
   "cell_type": "code",
   "execution_count": 4,
   "id": "d52db184",
   "metadata": {},
   "outputs": [
    {
     "data": {
      "text/html": [
       "<div>\n",
       "<style scoped>\n",
       "    .dataframe tbody tr th:only-of-type {\n",
       "        vertical-align: middle;\n",
       "    }\n",
       "\n",
       "    .dataframe tbody tr th {\n",
       "        vertical-align: top;\n",
       "    }\n",
       "\n",
       "    .dataframe thead th {\n",
       "        text-align: right;\n",
       "    }\n",
       "</style>\n",
       "<table border=\"1\" class=\"dataframe\">\n",
       "  <thead>\n",
       "    <tr style=\"text-align: right;\">\n",
       "      <th></th>\n",
       "      <th>Date</th>\n",
       "      <th>Price</th>\n",
       "    </tr>\n",
       "  </thead>\n",
       "  <tbody>\n",
       "    <tr>\n",
       "      <th>0</th>\n",
       "      <td>1986-01-02</td>\n",
       "      <td>25.56</td>\n",
       "    </tr>\n",
       "    <tr>\n",
       "      <th>1</th>\n",
       "      <td>1986-01-03</td>\n",
       "      <td>26.00</td>\n",
       "    </tr>\n",
       "    <tr>\n",
       "      <th>2</th>\n",
       "      <td>1986-01-06</td>\n",
       "      <td>26.53</td>\n",
       "    </tr>\n",
       "    <tr>\n",
       "      <th>3</th>\n",
       "      <td>1986-01-07</td>\n",
       "      <td>25.85</td>\n",
       "    </tr>\n",
       "    <tr>\n",
       "      <th>4</th>\n",
       "      <td>1986-01-08</td>\n",
       "      <td>25.87</td>\n",
       "    </tr>\n",
       "  </tbody>\n",
       "</table>\n",
       "</div>"
      ],
      "text/plain": [
       "         Date  Price\n",
       "0  1986-01-02  25.56\n",
       "1  1986-01-03  26.00\n",
       "2  1986-01-06  26.53\n",
       "3  1986-01-07  25.85\n",
       "4  1986-01-08  25.87"
      ]
     },
     "execution_count": 4,
     "metadata": {},
     "output_type": "execute_result"
    }
   ],
   "source": [
    "filename = 'oil-prices-master/data/wti-daily.csv'\n",
    "\n",
    "df = pd.read_csv(filename)\n",
    "df.head()"
   ]
  },
  {
   "cell_type": "code",
   "execution_count": 5,
   "id": "8cf59090",
   "metadata": {},
   "outputs": [
    {
     "data": {
      "text/plain": [
       "145.31"
      ]
     },
     "execution_count": 5,
     "metadata": {},
     "output_type": "execute_result"
    }
   ],
   "source": [
    "# What was the highest-ever price of oil (as per WTI)?\n",
    "\n",
    "df['Price'].max()   # this is the highest price ever"
   ]
  },
  {
   "cell_type": "code",
   "execution_count": 6,
   "id": "f6d4ab17",
   "metadata": {},
   "outputs": [
    {
     "data": {
      "text/plain": [
       "0       False\n",
       "1       False\n",
       "2       False\n",
       "3       False\n",
       "4       False\n",
       "        ...  \n",
       "9222    False\n",
       "9223    False\n",
       "9224    False\n",
       "9225    False\n",
       "9226    False\n",
       "Name: Price, Length: 9227, dtype: bool"
      ]
     },
     "execution_count": 6,
     "metadata": {},
     "output_type": "execute_result"
    }
   ],
   "source": [
    "\n",
    "df['Price'] == df['Price'].max()  # this returns a boolean series"
   ]
  },
  {
   "cell_type": "code",
   "execution_count": 8,
   "id": "9feb9ed0",
   "metadata": {},
   "outputs": [
    {
     "data": {
      "text/plain": [
       "5678    2008-07-03\n",
       "Name: Date, dtype: object"
      ]
     },
     "execution_count": 8,
     "metadata": {},
     "output_type": "execute_result"
    }
   ],
   "source": [
    "# Use .loc with a row selector and a column selector\n",
    "# our row selector will be our boolean series\n",
    "\n",
    "\n",
    "df.loc[\n",
    "    df['Price'] == df['Price'].max(),   # row selector\n",
    "    'Date' # column selector\n",
    "]"
   ]
  },
  {
   "cell_type": "code",
   "execution_count": 10,
   "id": "10122565",
   "metadata": {},
   "outputs": [
    {
     "data": {
      "text/html": [
       "<div>\n",
       "<style scoped>\n",
       "    .dataframe tbody tr th:only-of-type {\n",
       "        vertical-align: middle;\n",
       "    }\n",
       "\n",
       "    .dataframe tbody tr th {\n",
       "        vertical-align: top;\n",
       "    }\n",
       "\n",
       "    .dataframe thead th {\n",
       "        text-align: right;\n",
       "    }\n",
       "</style>\n",
       "<table border=\"1\" class=\"dataframe\">\n",
       "  <thead>\n",
       "    <tr style=\"text-align: right;\">\n",
       "      <th></th>\n",
       "      <th>Date</th>\n",
       "      <th>Price</th>\n",
       "    </tr>\n",
       "  </thead>\n",
       "  <tbody>\n",
       "    <tr>\n",
       "      <th>8643</th>\n",
       "      <td>2020-04-20</td>\n",
       "      <td>-36.98</td>\n",
       "    </tr>\n",
       "  </tbody>\n",
       "</table>\n",
       "</div>"
      ],
      "text/plain": [
       "            Date  Price\n",
       "8643  2020-04-20 -36.98"
      ]
     },
     "execution_count": 10,
     "metadata": {},
     "output_type": "execute_result"
    }
   ],
   "source": [
    "# what was the minimum price ever found of WTI?\n",
    "\n",
    "\n",
    "df.loc[\n",
    "    df['Price'] == df['Price'].min(),   # row selector\n",
    "    ['Date', 'Price']                              # column selector\n",
    "]"
   ]
  },
  {
   "cell_type": "code",
   "execution_count": 11,
   "id": "8c39fad2",
   "metadata": {},
   "outputs": [
    {
     "data": {
      "text/html": [
       "<div>\n",
       "<style scoped>\n",
       "    .dataframe tbody tr th:only-of-type {\n",
       "        vertical-align: middle;\n",
       "    }\n",
       "\n",
       "    .dataframe tbody tr th {\n",
       "        vertical-align: top;\n",
       "    }\n",
       "\n",
       "    .dataframe thead th {\n",
       "        text-align: right;\n",
       "    }\n",
       "</style>\n",
       "<table border=\"1\" class=\"dataframe\">\n",
       "  <thead>\n",
       "    <tr style=\"text-align: right;\">\n",
       "      <th></th>\n",
       "      <th>Date</th>\n",
       "      <th>Price</th>\n",
       "    </tr>\n",
       "  </thead>\n",
       "  <tbody>\n",
       "    <tr>\n",
       "      <th>9222</th>\n",
       "      <td>2022-08-09</td>\n",
       "      <td>93.18</td>\n",
       "    </tr>\n",
       "    <tr>\n",
       "      <th>9223</th>\n",
       "      <td>2022-08-10</td>\n",
       "      <td>94.68</td>\n",
       "    </tr>\n",
       "    <tr>\n",
       "      <th>9224</th>\n",
       "      <td>2022-08-11</td>\n",
       "      <td>97.02</td>\n",
       "    </tr>\n",
       "    <tr>\n",
       "      <th>9225</th>\n",
       "      <td>2022-08-12</td>\n",
       "      <td>94.86</td>\n",
       "    </tr>\n",
       "    <tr>\n",
       "      <th>9226</th>\n",
       "      <td>2022-08-15</td>\n",
       "      <td>92.24</td>\n",
       "    </tr>\n",
       "  </tbody>\n",
       "</table>\n",
       "</div>"
      ],
      "text/plain": [
       "            Date  Price\n",
       "9222  2022-08-09  93.18\n",
       "9223  2022-08-10  94.68\n",
       "9224  2022-08-11  97.02\n",
       "9225  2022-08-12  94.86\n",
       "9226  2022-08-15  92.24"
      ]
     },
     "execution_count": 11,
     "metadata": {},
     "output_type": "execute_result"
    }
   ],
   "source": [
    "# what were the 10 most recent values for oil prices?\n",
    "\n",
    "df.tail(5)"
   ]
  },
  {
   "cell_type": "code",
   "execution_count": 12,
   "id": "dfbfde90",
   "metadata": {},
   "outputs": [
    {
     "data": {
      "text/html": [
       "<div>\n",
       "<style scoped>\n",
       "    .dataframe tbody tr th:only-of-type {\n",
       "        vertical-align: middle;\n",
       "    }\n",
       "\n",
       "    .dataframe tbody tr th {\n",
       "        vertical-align: top;\n",
       "    }\n",
       "\n",
       "    .dataframe thead th {\n",
       "        text-align: right;\n",
       "    }\n",
       "</style>\n",
       "<table border=\"1\" class=\"dataframe\">\n",
       "  <thead>\n",
       "    <tr style=\"text-align: right;\">\n",
       "      <th></th>\n",
       "      <th>Date</th>\n",
       "      <th>Price</th>\n",
       "    </tr>\n",
       "  </thead>\n",
       "  <tbody>\n",
       "    <tr>\n",
       "      <th>9207</th>\n",
       "      <td>2022-07-19</td>\n",
       "      <td>106.12</td>\n",
       "    </tr>\n",
       "    <tr>\n",
       "      <th>9208</th>\n",
       "      <td>2022-07-20</td>\n",
       "      <td>104.45</td>\n",
       "    </tr>\n",
       "    <tr>\n",
       "      <th>9209</th>\n",
       "      <td>2022-07-21</td>\n",
       "      <td>98.44</td>\n",
       "    </tr>\n",
       "    <tr>\n",
       "      <th>9210</th>\n",
       "      <td>2022-07-22</td>\n",
       "      <td>97.71</td>\n",
       "    </tr>\n",
       "    <tr>\n",
       "      <th>9211</th>\n",
       "      <td>2022-07-25</td>\n",
       "      <td>99.83</td>\n",
       "    </tr>\n",
       "    <tr>\n",
       "      <th>9212</th>\n",
       "      <td>2022-07-26</td>\n",
       "      <td>97.74</td>\n",
       "    </tr>\n",
       "    <tr>\n",
       "      <th>9213</th>\n",
       "      <td>2022-07-27</td>\n",
       "      <td>100.03</td>\n",
       "    </tr>\n",
       "    <tr>\n",
       "      <th>9214</th>\n",
       "      <td>2022-07-28</td>\n",
       "      <td>99.11</td>\n",
       "    </tr>\n",
       "    <tr>\n",
       "      <th>9215</th>\n",
       "      <td>2022-07-29</td>\n",
       "      <td>101.31</td>\n",
       "    </tr>\n",
       "    <tr>\n",
       "      <th>9216</th>\n",
       "      <td>2022-08-01</td>\n",
       "      <td>96.59</td>\n",
       "    </tr>\n",
       "    <tr>\n",
       "      <th>9217</th>\n",
       "      <td>2022-08-02</td>\n",
       "      <td>97.14</td>\n",
       "    </tr>\n",
       "    <tr>\n",
       "      <th>9218</th>\n",
       "      <td>2022-08-03</td>\n",
       "      <td>93.25</td>\n",
       "    </tr>\n",
       "    <tr>\n",
       "      <th>9219</th>\n",
       "      <td>2022-08-04</td>\n",
       "      <td>91.29</td>\n",
       "    </tr>\n",
       "    <tr>\n",
       "      <th>9220</th>\n",
       "      <td>2022-08-05</td>\n",
       "      <td>91.77</td>\n",
       "    </tr>\n",
       "    <tr>\n",
       "      <th>9221</th>\n",
       "      <td>2022-08-08</td>\n",
       "      <td>93.52</td>\n",
       "    </tr>\n",
       "    <tr>\n",
       "      <th>9222</th>\n",
       "      <td>2022-08-09</td>\n",
       "      <td>93.18</td>\n",
       "    </tr>\n",
       "    <tr>\n",
       "      <th>9223</th>\n",
       "      <td>2022-08-10</td>\n",
       "      <td>94.68</td>\n",
       "    </tr>\n",
       "    <tr>\n",
       "      <th>9224</th>\n",
       "      <td>2022-08-11</td>\n",
       "      <td>97.02</td>\n",
       "    </tr>\n",
       "    <tr>\n",
       "      <th>9225</th>\n",
       "      <td>2022-08-12</td>\n",
       "      <td>94.86</td>\n",
       "    </tr>\n",
       "    <tr>\n",
       "      <th>9226</th>\n",
       "      <td>2022-08-15</td>\n",
       "      <td>92.24</td>\n",
       "    </tr>\n",
       "  </tbody>\n",
       "</table>\n",
       "</div>"
      ],
      "text/plain": [
       "            Date   Price\n",
       "9207  2022-07-19  106.12\n",
       "9208  2022-07-20  104.45\n",
       "9209  2022-07-21   98.44\n",
       "9210  2022-07-22   97.71\n",
       "9211  2022-07-25   99.83\n",
       "9212  2022-07-26   97.74\n",
       "9213  2022-07-27  100.03\n",
       "9214  2022-07-28   99.11\n",
       "9215  2022-07-29  101.31\n",
       "9216  2022-08-01   96.59\n",
       "9217  2022-08-02   97.14\n",
       "9218  2022-08-03   93.25\n",
       "9219  2022-08-04   91.29\n",
       "9220  2022-08-05   91.77\n",
       "9221  2022-08-08   93.52\n",
       "9222  2022-08-09   93.18\n",
       "9223  2022-08-10   94.68\n",
       "9224  2022-08-11   97.02\n",
       "9225  2022-08-12   94.86\n",
       "9226  2022-08-15   92.24"
      ]
     },
     "execution_count": 12,
     "metadata": {},
     "output_type": "execute_result"
    }
   ],
   "source": [
    "df.tail(20)"
   ]
  },
  {
   "cell_type": "code",
   "execution_count": 15,
   "id": "442269d3",
   "metadata": {},
   "outputs": [
    {
     "data": {
      "text/html": [
       "<div>\n",
       "<style scoped>\n",
       "    .dataframe tbody tr th:only-of-type {\n",
       "        vertical-align: middle;\n",
       "    }\n",
       "\n",
       "    .dataframe tbody tr th {\n",
       "        vertical-align: top;\n",
       "    }\n",
       "\n",
       "    .dataframe thead th {\n",
       "        text-align: right;\n",
       "    }\n",
       "</style>\n",
       "<table border=\"1\" class=\"dataframe\">\n",
       "  <thead>\n",
       "    <tr style=\"text-align: right;\">\n",
       "      <th></th>\n",
       "      <th>Price</th>\n",
       "    </tr>\n",
       "  </thead>\n",
       "  <tbody>\n",
       "    <tr>\n",
       "      <th>count</th>\n",
       "      <td>9227.000000</td>\n",
       "    </tr>\n",
       "    <tr>\n",
       "      <th>mean</th>\n",
       "      <td>45.636007</td>\n",
       "    </tr>\n",
       "    <tr>\n",
       "      <th>std</th>\n",
       "      <td>29.481022</td>\n",
       "    </tr>\n",
       "    <tr>\n",
       "      <th>min</th>\n",
       "      <td>-36.980000</td>\n",
       "    </tr>\n",
       "    <tr>\n",
       "      <th>25%</th>\n",
       "      <td>19.940000</td>\n",
       "    </tr>\n",
       "    <tr>\n",
       "      <th>50%</th>\n",
       "      <td>34.760000</td>\n",
       "    </tr>\n",
       "    <tr>\n",
       "      <th>75%</th>\n",
       "      <td>65.975000</td>\n",
       "    </tr>\n",
       "    <tr>\n",
       "      <th>max</th>\n",
       "      <td>145.310000</td>\n",
       "    </tr>\n",
       "  </tbody>\n",
       "</table>\n",
       "</div>"
      ],
      "text/plain": [
       "             Price\n",
       "count  9227.000000\n",
       "mean     45.636007\n",
       "std      29.481022\n",
       "min     -36.980000\n",
       "25%      19.940000\n",
       "50%      34.760000\n",
       "75%      65.975000\n",
       "max     145.310000"
      ]
     },
     "execution_count": 15,
     "metadata": {},
     "output_type": "execute_result"
    }
   ],
   "source": [
    "# running describe on our data frame runs describe on each numeric column\n",
    "\n",
    "df.describe()"
   ]
  },
  {
   "cell_type": "code",
   "execution_count": 14,
   "id": "586ef9fb",
   "metadata": {},
   "outputs": [
    {
     "data": {
      "text/plain": [
       "Date      object\n",
       "Price    float64\n",
       "dtype: object"
      ]
     },
     "execution_count": 14,
     "metadata": {},
     "output_type": "execute_result"
    }
   ],
   "source": [
    "df.dtypes"
   ]
  },
  {
   "cell_type": "code",
   "execution_count": 16,
   "id": "9763edce",
   "metadata": {},
   "outputs": [
    {
     "data": {
      "text/plain": [
       "count           9227\n",
       "unique          9227\n",
       "top       1986-01-02\n",
       "freq               1\n",
       "Name: Date, dtype: object"
      ]
     },
     "execution_count": 16,
     "metadata": {},
     "output_type": "execute_result"
    }
   ],
   "source": [
    "df['Date'].describe()"
   ]
  },
  {
   "cell_type": "code",
   "execution_count": 18,
   "id": "e1681d65",
   "metadata": {},
   "outputs": [],
   "source": [
    "# read_html only works when you have HTML tables on the target site\n",
    "# and when they are written in HTML, and not generated on the fly via JavaScript\n",
    "\n",
    "url = 'https://www.bankofcanada.ca/rates/exchange/daily-exchange-rates/'\n",
    "\n",
    "all_dfs = pd.read_html(url)\n"
   ]
  },
  {
   "cell_type": "code",
   "execution_count": 19,
   "id": "4f7b50f9",
   "metadata": {},
   "outputs": [
    {
     "data": {
      "text/plain": [
       "1"
      ]
     },
     "execution_count": 19,
     "metadata": {},
     "output_type": "execute_result"
    }
   ],
   "source": [
    "len(all_dfs)"
   ]
  },
  {
   "cell_type": "code",
   "execution_count": 20,
   "id": "b44e7778",
   "metadata": {},
   "outputs": [
    {
     "data": {
      "text/html": [
       "<div>\n",
       "<style scoped>\n",
       "    .dataframe tbody tr th:only-of-type {\n",
       "        vertical-align: middle;\n",
       "    }\n",
       "\n",
       "    .dataframe tbody tr th {\n",
       "        vertical-align: top;\n",
       "    }\n",
       "\n",
       "    .dataframe thead th {\n",
       "        text-align: right;\n",
       "    }\n",
       "</style>\n",
       "<table border=\"1\" class=\"dataframe\">\n",
       "  <thead>\n",
       "    <tr style=\"text-align: right;\">\n",
       "      <th></th>\n",
       "      <th>Currency</th>\n",
       "      <th>2022‑08‑16</th>\n",
       "      <th>2022‑08‑17</th>\n",
       "      <th>2022‑08‑18</th>\n",
       "      <th>2022‑08‑19</th>\n",
       "      <th>2022‑08‑22</th>\n",
       "    </tr>\n",
       "  </thead>\n",
       "  <tbody>\n",
       "    <tr>\n",
       "      <th>0</th>\n",
       "      <td>Australian dollar</td>\n",
       "      <td>0.9025</td>\n",
       "      <td>0.8949</td>\n",
       "      <td>0.8962</td>\n",
       "      <td>0.8936</td>\n",
       "      <td>0.8970</td>\n",
       "    </tr>\n",
       "    <tr>\n",
       "      <th>1</th>\n",
       "      <td>Brazilian real</td>\n",
       "      <td>0.2504</td>\n",
       "      <td>0.2494</td>\n",
       "      <td>0.2496</td>\n",
       "      <td>0.2503</td>\n",
       "      <td>0.2521</td>\n",
       "    </tr>\n",
       "    <tr>\n",
       "      <th>2</th>\n",
       "      <td>Chinese renminbi</td>\n",
       "      <td>0.1896</td>\n",
       "      <td>0.1904</td>\n",
       "      <td>0.1905</td>\n",
       "      <td>0.1906</td>\n",
       "      <td>0.1904</td>\n",
       "    </tr>\n",
       "    <tr>\n",
       "      <th>3</th>\n",
       "      <td>European euro</td>\n",
       "      <td>1.3081</td>\n",
       "      <td>1.3134</td>\n",
       "      <td>1.3080</td>\n",
       "      <td>1.3049</td>\n",
       "      <td>1.2979</td>\n",
       "    </tr>\n",
       "    <tr>\n",
       "      <th>4</th>\n",
       "      <td>Hong Kong dollar</td>\n",
       "      <td>0.1641</td>\n",
       "      <td>0.1646</td>\n",
       "      <td>0.1648</td>\n",
       "      <td>0.1656</td>\n",
       "      <td>0.1661</td>\n",
       "    </tr>\n",
       "  </tbody>\n",
       "</table>\n",
       "</div>"
      ],
      "text/plain": [
       "            Currency  2022‑08‑16  2022‑08‑17  2022‑08‑18  2022‑08‑19  \\\n",
       "0  Australian dollar      0.9025      0.8949      0.8962      0.8936   \n",
       "1     Brazilian real      0.2504      0.2494      0.2496      0.2503   \n",
       "2   Chinese renminbi      0.1896      0.1904      0.1905      0.1906   \n",
       "3      European euro      1.3081      1.3134      1.3080      1.3049   \n",
       "4   Hong Kong dollar      0.1641      0.1646      0.1648      0.1656   \n",
       "\n",
       "   2022‑08‑22  \n",
       "0      0.8970  \n",
       "1      0.2521  \n",
       "2      0.1904  \n",
       "3      1.2979  \n",
       "4      0.1661  "
      ]
     },
     "execution_count": 20,
     "metadata": {},
     "output_type": "execute_result"
    }
   ],
   "source": [
    "df = all_dfs[0]\n",
    "df.head()"
   ]
  },
  {
   "cell_type": "code",
   "execution_count": 21,
   "id": "c71a6c87",
   "metadata": {},
   "outputs": [
    {
     "data": {
      "text/plain": [
       "(23, 6)"
      ]
     },
     "execution_count": 21,
     "metadata": {},
     "output_type": "execute_result"
    }
   ],
   "source": [
    "df.shape"
   ]
  },
  {
   "cell_type": "code",
   "execution_count": 22,
   "id": "b815def3",
   "metadata": {},
   "outputs": [
    {
     "data": {
      "text/plain": [
       "0      Australian dollar\n",
       "1         Brazilian real\n",
       "2       Chinese renminbi\n",
       "3          European euro\n",
       "4       Hong Kong dollar\n",
       "5           Indian rupee\n",
       "6      Indonesian rupiah\n",
       "7           Japanese yen\n",
       "8           Mexican peso\n",
       "9     New Zealand dollar\n",
       "10       Norwegian krone\n",
       "11      Peruvian new sol\n",
       "12         Russian ruble\n",
       "13           Saudi riyal\n",
       "14      Singapore dollar\n",
       "15    South African rand\n",
       "16      South Korean won\n",
       "17         Swedish krona\n",
       "18           Swiss franc\n",
       "19      Taiwanese dollar\n",
       "20          Turkish lira\n",
       "21     UK pound sterling\n",
       "22             US dollar\n",
       "Name: Currency, dtype: object"
      ]
     },
     "execution_count": 22,
     "metadata": {},
     "output_type": "execute_result"
    }
   ],
   "source": [
    "df['Currency']"
   ]
  },
  {
   "cell_type": "markdown",
   "id": "3e68d1cf",
   "metadata": {},
   "source": [
    "# Text data in Pandas\n",
    "\n",
    "We've seen that a series can contain text. As such, a column in a data frame can also contain text. When we do that, the dtype of the column (series) is known as `object`, which means that the data isn't being stored directly inside of Pandas.  Instead, Pandas is referring to Python string objects located elsewhere in memory.  This means that we have access (in theory) to all of the Python string methods and associated functionality."
   ]
  },
  {
   "cell_type": "code",
   "execution_count": 23,
   "id": "134d0869",
   "metadata": {},
   "outputs": [
    {
     "data": {
      "text/plain": [
       "0      this\n",
       "1        is\n",
       "2         a\n",
       "3      test\n",
       "4        of\n",
       "5      text\n",
       "6        in\n",
       "7    Pandas\n",
       "dtype: object"
      ]
     },
     "execution_count": 23,
     "metadata": {},
     "output_type": "execute_result"
    }
   ],
   "source": [
    "# create a series based on a list of strings, created via str.split\n",
    "# str.split without an explicit delimiter argument uses any whitespace, of any \n",
    "# length, in any combination\n",
    "\n",
    "s = Series('this is a test of text in Pandas'.split())\n",
    "s"
   ]
  },
  {
   "cell_type": "code",
   "execution_count": 25,
   "id": "7eb733da",
   "metadata": {},
   "outputs": [
    {
     "name": "stdout",
     "output_type": "stream",
     "text": [
      "4\n",
      "2\n",
      "1\n",
      "4\n",
      "2\n",
      "4\n",
      "2\n",
      "6\n"
     ]
    }
   ],
   "source": [
    "# what is the length of each word?\n",
    "\n",
    "# option 1 for answering: a for loop\n",
    "\n",
    "for one_item in s:\n",
    "    print(len(one_item))"
   ]
  },
  {
   "cell_type": "code",
   "execution_count": 27,
   "id": "49a4918c",
   "metadata": {},
   "outputs": [
    {
     "data": {
      "text/plain": [
       "[4, 2, 1, 4, 2, 4, 2, 6]"
      ]
     },
     "execution_count": 27,
     "metadata": {},
     "output_type": "execute_result"
    }
   ],
   "source": [
    "# option 1b: use a list comprehension\n",
    "\n",
    "[len(one_item)\n",
    "for one_item in s]"
   ]
  },
  {
   "cell_type": "markdown",
   "id": "9dc95a84",
   "metadata": {},
   "source": [
    "**DO NOT DO THIS!**\n",
    "\n",
    "If you ever find yourself using a `for` loop in Pandas, stop! There is almost certainly a better way to accomplish it."
   ]
  },
  {
   "cell_type": "code",
   "execution_count": 29,
   "id": "ecc09b9c",
   "metadata": {},
   "outputs": [
    {
     "data": {
      "text/plain": [
       "0    4\n",
       "1    2\n",
       "2    1\n",
       "3    4\n",
       "4    2\n",
       "5    4\n",
       "6    2\n",
       "7    6\n",
       "dtype: int64"
      ]
     },
     "execution_count": 29,
     "metadata": {},
     "output_type": "execute_result"
    }
   ],
   "source": [
    "# Better, option 2: Use the \"str\" accessor\n",
    "\n",
    "# an \"accessor\" is a Pandas term for an attribute (i.e., coming after a .)\n",
    "# that lets us access special functionality for certain types of objects\n",
    "\n",
    "# if we have an \"object\" column containing strings, then we can use the str\n",
    "# accessor to invoke a number of different string methods\n",
    "\n",
    "s.str.len() \n",
    "\n",
    "# this invokes len() on each of the elements in s, and returns a new series\n",
    "# the index of the returned series matches the index in our original series s"
   ]
  },
  {
   "cell_type": "code",
   "execution_count": 30,
   "id": "4df29a4a",
   "metadata": {},
   "outputs": [
    {
     "data": {
      "text/plain": [
       "0    False\n",
       "1     True\n",
       "2    False\n",
       "3    False\n",
       "4     True\n",
       "5    False\n",
       "6     True\n",
       "7    False\n",
       "dtype: bool"
      ]
     },
     "execution_count": 30,
     "metadata": {},
     "output_type": "execute_result"
    }
   ],
   "source": [
    "# because we get a series back, we can use it in all series-type operations\n",
    "s.str.len() == 2"
   ]
  },
  {
   "cell_type": "code",
   "execution_count": 31,
   "id": "d1dcfdc4",
   "metadata": {},
   "outputs": [
    {
     "data": {
      "text/plain": [
       "1    is\n",
       "4    of\n",
       "6    in\n",
       "dtype: object"
      ]
     },
     "execution_count": 31,
     "metadata": {},
     "output_type": "execute_result"
    }
   ],
   "source": [
    "# apply the boolean series as a mask index, and find all of the words\n",
    "# that have only two letters\n",
    "\n",
    "s.loc[s.str.len() == 2]"
   ]
  },
  {
   "cell_type": "code",
   "execution_count": 33,
   "id": "8ddc9b34",
   "metadata": {},
   "outputs": [
    {
     "data": {
      "text/plain": [
       "3    test\n",
       "5    text\n",
       "dtype: object"
      ]
     },
     "execution_count": 33,
     "metadata": {},
     "output_type": "execute_result"
    }
   ],
   "source": [
    "# the \"contains\" method on the  \"str\" accessor lets us search in a string\n",
    "# for a character/substring\n",
    "\n",
    "# use s.loc to find all words in s that contain 'e'\n",
    "s.loc[s.str.contains('e')]"
   ]
  },
  {
   "cell_type": "markdown",
   "id": "d60f4811",
   "metadata": {},
   "source": [
    "# Exercise: Longer-than average words\n",
    "\n",
    "1. Ask the user to enter a sentence. \n",
    "2. Turn that sentence into a Pandas series.\n",
    "3. Show all of the words that are longer than average in the sentence."
   ]
  },
  {
   "cell_type": "code",
   "execution_count": 34,
   "id": "0b01fc19",
   "metadata": {},
   "outputs": [
    {
     "name": "stdout",
     "output_type": "stream",
     "text": [
      "Enter a sentence: this is the most marvelous and fascinating and scintillating sentence on the planet\n"
     ]
    }
   ],
   "source": [
    "sentence = input('Enter a sentence: ').strip()\n",
    "\n",
    "s = Series(sentence.split())"
   ]
  },
  {
   "cell_type": "code",
   "execution_count": 35,
   "id": "f9a81f51",
   "metadata": {},
   "outputs": [
    {
     "data": {
      "text/plain": [
       "0              this\n",
       "1                is\n",
       "2               the\n",
       "3              most\n",
       "4         marvelous\n",
       "5               and\n",
       "6       fascinating\n",
       "7               and\n",
       "8     scintillating\n",
       "9          sentence\n",
       "10               on\n",
       "11              the\n",
       "12           planet\n",
       "dtype: object"
      ]
     },
     "execution_count": 35,
     "metadata": {},
     "output_type": "execute_result"
    }
   ],
   "source": [
    "s"
   ]
  },
  {
   "cell_type": "code",
   "execution_count": 37,
   "id": "1ba17498",
   "metadata": {},
   "outputs": [
    {
     "data": {
      "text/plain": [
       "0      4\n",
       "1      2\n",
       "2      3\n",
       "3      4\n",
       "4      9\n",
       "5      3\n",
       "6     11\n",
       "7      3\n",
       "8     13\n",
       "9      8\n",
       "10     2\n",
       "11     3\n",
       "12     6\n",
       "dtype: int64"
      ]
     },
     "execution_count": 37,
     "metadata": {},
     "output_type": "execute_result"
    }
   ],
   "source": [
    "# show all words in s that are longer than the average length\n",
    "\n",
    "s.str.len()  # this returns a series of ints, based on s, with s's index"
   ]
  },
  {
   "cell_type": "code",
   "execution_count": 38,
   "id": "90a77ba6",
   "metadata": {},
   "outputs": [
    {
     "data": {
      "text/plain": [
       "5.461538461538462"
      ]
     },
     "execution_count": 38,
     "metadata": {},
     "output_type": "execute_result"
    }
   ],
   "source": [
    "# this is the mean word length\n",
    "s.str.len().mean()"
   ]
  },
  {
   "cell_type": "code",
   "execution_count": 39,
   "id": "b0e46674",
   "metadata": {},
   "outputs": [
    {
     "data": {
      "text/plain": [
       "0     False\n",
       "1     False\n",
       "2     False\n",
       "3     False\n",
       "4      True\n",
       "5     False\n",
       "6      True\n",
       "7     False\n",
       "8      True\n",
       "9      True\n",
       "10    False\n",
       "11    False\n",
       "12     True\n",
       "dtype: bool"
      ]
     },
     "execution_count": 39,
     "metadata": {},
     "output_type": "execute_result"
    }
   ],
   "source": [
    "# Get a boolean series, indicating where the word's length is greater than the average\n",
    "s.str.len() > s.str.len().mean()"
   ]
  },
  {
   "cell_type": "code",
   "execution_count": 40,
   "id": "e92bf9bc",
   "metadata": {},
   "outputs": [
    {
     "data": {
      "text/plain": [
       "4         marvelous\n",
       "6       fascinating\n",
       "8     scintillating\n",
       "9          sentence\n",
       "12           planet\n",
       "dtype: object"
      ]
     },
     "execution_count": 40,
     "metadata": {},
     "output_type": "execute_result"
    }
   ],
   "source": [
    "s.loc[s.str.len() > s.str.len().mean()]"
   ]
  },
  {
   "cell_type": "code",
   "execution_count": 43,
   "id": "559298fa",
   "metadata": {},
   "outputs": [],
   "source": [
    "s = s.astype('string')  # new-ish functionality in Pandas"
   ]
  },
  {
   "cell_type": "code",
   "execution_count": 44,
   "id": "aa3e9f7e",
   "metadata": {},
   "outputs": [
    {
     "data": {
      "text/plain": [
       "0              this\n",
       "1                is\n",
       "2               the\n",
       "3              most\n",
       "4         marvelous\n",
       "5               and\n",
       "6       fascinating\n",
       "7               and\n",
       "8     scintillating\n",
       "9          sentence\n",
       "10               on\n",
       "11              the\n",
       "12           planet\n",
       "dtype: string"
      ]
     },
     "execution_count": 44,
     "metadata": {},
     "output_type": "execute_result"
    }
   ],
   "source": [
    "s"
   ]
  },
  {
   "cell_type": "code",
   "execution_count": 45,
   "id": "29aa173d",
   "metadata": {},
   "outputs": [
    {
     "ename": "ValueError",
     "evalue": "Cannot set non-string value '12345' into a StringArray.",
     "output_type": "error",
     "traceback": [
      "\u001b[0;31m---------------------------------------------------------------------------\u001b[0m",
      "\u001b[0;31mValueError\u001b[0m                                Traceback (most recent call last)",
      "Input \u001b[0;32mIn [45]\u001b[0m, in \u001b[0;36m<cell line: 1>\u001b[0;34m()\u001b[0m\n\u001b[0;32m----> 1\u001b[0m s\u001b[38;5;241m.\u001b[39mloc[\u001b[38;5;241m0\u001b[39m] \u001b[38;5;241m=\u001b[39m \u001b[38;5;241m12345\u001b[39m\n\u001b[1;32m      2\u001b[0m s\n",
      "File \u001b[0;32m/usr/local/lib/python3.10/site-packages/pandas/core/indexing.py:716\u001b[0m, in \u001b[0;36m_LocationIndexer.__setitem__\u001b[0;34m(self, key, value)\u001b[0m\n\u001b[1;32m    713\u001b[0m \u001b[38;5;28mself\u001b[39m\u001b[38;5;241m.\u001b[39m_has_valid_setitem_indexer(key)\n\u001b[1;32m    715\u001b[0m iloc \u001b[38;5;241m=\u001b[39m \u001b[38;5;28mself\u001b[39m \u001b[38;5;28;01mif\u001b[39;00m \u001b[38;5;28mself\u001b[39m\u001b[38;5;241m.\u001b[39mname \u001b[38;5;241m==\u001b[39m \u001b[38;5;124m\"\u001b[39m\u001b[38;5;124miloc\u001b[39m\u001b[38;5;124m\"\u001b[39m \u001b[38;5;28;01melse\u001b[39;00m \u001b[38;5;28mself\u001b[39m\u001b[38;5;241m.\u001b[39mobj\u001b[38;5;241m.\u001b[39miloc\n\u001b[0;32m--> 716\u001b[0m \u001b[43miloc\u001b[49m\u001b[38;5;241;43m.\u001b[39;49m\u001b[43m_setitem_with_indexer\u001b[49m\u001b[43m(\u001b[49m\u001b[43mindexer\u001b[49m\u001b[43m,\u001b[49m\u001b[43m \u001b[49m\u001b[43mvalue\u001b[49m\u001b[43m,\u001b[49m\u001b[43m \u001b[49m\u001b[38;5;28;43mself\u001b[39;49m\u001b[38;5;241;43m.\u001b[39;49m\u001b[43mname\u001b[49m\u001b[43m)\u001b[49m\n",
      "File \u001b[0;32m/usr/local/lib/python3.10/site-packages/pandas/core/indexing.py:1690\u001b[0m, in \u001b[0;36m_iLocIndexer._setitem_with_indexer\u001b[0;34m(self, indexer, value, name)\u001b[0m\n\u001b[1;32m   1688\u001b[0m     \u001b[38;5;28mself\u001b[39m\u001b[38;5;241m.\u001b[39m_setitem_with_indexer_split_path(indexer, value, name)\n\u001b[1;32m   1689\u001b[0m \u001b[38;5;28;01melse\u001b[39;00m:\n\u001b[0;32m-> 1690\u001b[0m     \u001b[38;5;28;43mself\u001b[39;49m\u001b[38;5;241;43m.\u001b[39;49m\u001b[43m_setitem_single_block\u001b[49m\u001b[43m(\u001b[49m\u001b[43mindexer\u001b[49m\u001b[43m,\u001b[49m\u001b[43m \u001b[49m\u001b[43mvalue\u001b[49m\u001b[43m,\u001b[49m\u001b[43m \u001b[49m\u001b[43mname\u001b[49m\u001b[43m)\u001b[49m\n",
      "File \u001b[0;32m/usr/local/lib/python3.10/site-packages/pandas/core/indexing.py:1938\u001b[0m, in \u001b[0;36m_iLocIndexer._setitem_single_block\u001b[0;34m(self, indexer, value, name)\u001b[0m\n\u001b[1;32m   1935\u001b[0m \u001b[38;5;28mself\u001b[39m\u001b[38;5;241m.\u001b[39mobj\u001b[38;5;241m.\u001b[39m_check_is_chained_assignment_possible()\n\u001b[1;32m   1937\u001b[0m \u001b[38;5;66;03m# actually do the set\u001b[39;00m\n\u001b[0;32m-> 1938\u001b[0m \u001b[38;5;28mself\u001b[39m\u001b[38;5;241m.\u001b[39mobj\u001b[38;5;241m.\u001b[39m_mgr \u001b[38;5;241m=\u001b[39m \u001b[38;5;28;43mself\u001b[39;49m\u001b[38;5;241;43m.\u001b[39;49m\u001b[43mobj\u001b[49m\u001b[38;5;241;43m.\u001b[39;49m\u001b[43m_mgr\u001b[49m\u001b[38;5;241;43m.\u001b[39;49m\u001b[43msetitem\u001b[49m\u001b[43m(\u001b[49m\u001b[43mindexer\u001b[49m\u001b[38;5;241;43m=\u001b[39;49m\u001b[43mindexer\u001b[49m\u001b[43m,\u001b[49m\u001b[43m \u001b[49m\u001b[43mvalue\u001b[49m\u001b[38;5;241;43m=\u001b[39;49m\u001b[43mvalue\u001b[49m\u001b[43m)\u001b[49m\n\u001b[1;32m   1939\u001b[0m \u001b[38;5;28mself\u001b[39m\u001b[38;5;241m.\u001b[39mobj\u001b[38;5;241m.\u001b[39m_maybe_update_cacher(clear\u001b[38;5;241m=\u001b[39m\u001b[38;5;28;01mTrue\u001b[39;00m, inplace\u001b[38;5;241m=\u001b[39m\u001b[38;5;28;01mTrue\u001b[39;00m)\n",
      "File \u001b[0;32m/usr/local/lib/python3.10/site-packages/pandas/core/internals/managers.py:337\u001b[0m, in \u001b[0;36mBaseBlockManager.setitem\u001b[0;34m(self, indexer, value)\u001b[0m\n\u001b[1;32m    331\u001b[0m \u001b[38;5;28;01mdef\u001b[39;00m \u001b[38;5;21msetitem\u001b[39m(\u001b[38;5;28mself\u001b[39m: T, indexer, value) \u001b[38;5;241m-\u001b[39m\u001b[38;5;241m>\u001b[39m T:\n\u001b[1;32m    332\u001b[0m     \u001b[38;5;124;03m\"\"\"\u001b[39;00m\n\u001b[1;32m    333\u001b[0m \u001b[38;5;124;03m    Set values with indexer.\u001b[39;00m\n\u001b[1;32m    334\u001b[0m \n\u001b[1;32m    335\u001b[0m \u001b[38;5;124;03m    For SingleBlockManager, this backs s[indexer] = value\u001b[39;00m\n\u001b[1;32m    336\u001b[0m \u001b[38;5;124;03m    \"\"\"\u001b[39;00m\n\u001b[0;32m--> 337\u001b[0m     \u001b[38;5;28;01mreturn\u001b[39;00m \u001b[38;5;28;43mself\u001b[39;49m\u001b[38;5;241;43m.\u001b[39;49m\u001b[43mapply\u001b[49m\u001b[43m(\u001b[49m\u001b[38;5;124;43m\"\u001b[39;49m\u001b[38;5;124;43msetitem\u001b[39;49m\u001b[38;5;124;43m\"\u001b[39;49m\u001b[43m,\u001b[49m\u001b[43m \u001b[49m\u001b[43mindexer\u001b[49m\u001b[38;5;241;43m=\u001b[39;49m\u001b[43mindexer\u001b[49m\u001b[43m,\u001b[49m\u001b[43m \u001b[49m\u001b[43mvalue\u001b[49m\u001b[38;5;241;43m=\u001b[39;49m\u001b[43mvalue\u001b[49m\u001b[43m)\u001b[49m\n",
      "File \u001b[0;32m/usr/local/lib/python3.10/site-packages/pandas/core/internals/managers.py:304\u001b[0m, in \u001b[0;36mBaseBlockManager.apply\u001b[0;34m(self, f, align_keys, ignore_failures, **kwargs)\u001b[0m\n\u001b[1;32m    302\u001b[0m         applied \u001b[38;5;241m=\u001b[39m b\u001b[38;5;241m.\u001b[39mapply(f, \u001b[38;5;241m*\u001b[39m\u001b[38;5;241m*\u001b[39mkwargs)\n\u001b[1;32m    303\u001b[0m     \u001b[38;5;28;01melse\u001b[39;00m:\n\u001b[0;32m--> 304\u001b[0m         applied \u001b[38;5;241m=\u001b[39m \u001b[38;5;28;43mgetattr\u001b[39;49m\u001b[43m(\u001b[49m\u001b[43mb\u001b[49m\u001b[43m,\u001b[49m\u001b[43m \u001b[49m\u001b[43mf\u001b[49m\u001b[43m)\u001b[49m\u001b[43m(\u001b[49m\u001b[38;5;241;43m*\u001b[39;49m\u001b[38;5;241;43m*\u001b[39;49m\u001b[43mkwargs\u001b[49m\u001b[43m)\u001b[49m\n\u001b[1;32m    305\u001b[0m \u001b[38;5;28;01mexcept\u001b[39;00m (\u001b[38;5;167;01mTypeError\u001b[39;00m, \u001b[38;5;167;01mNotImplementedError\u001b[39;00m):\n\u001b[1;32m    306\u001b[0m     \u001b[38;5;28;01mif\u001b[39;00m \u001b[38;5;129;01mnot\u001b[39;00m ignore_failures:\n",
      "File \u001b[0;32m/usr/local/lib/python3.10/site-packages/pandas/core/internals/blocks.py:1622\u001b[0m, in \u001b[0;36mExtensionBlock.setitem\u001b[0;34m(self, indexer, value)\u001b[0m\n\u001b[1;32m   1619\u001b[0m     value \u001b[38;5;241m=\u001b[39m value\u001b[38;5;241m.\u001b[39m_ixs(\u001b[38;5;241m0\u001b[39m, axis\u001b[38;5;241m=\u001b[39m\u001b[38;5;241m1\u001b[39m)\u001b[38;5;241m.\u001b[39m_values\n\u001b[1;32m   1621\u001b[0m check_setitem_lengths(indexer, value, \u001b[38;5;28mself\u001b[39m\u001b[38;5;241m.\u001b[39mvalues)\n\u001b[0;32m-> 1622\u001b[0m \u001b[38;5;28mself\u001b[39m\u001b[38;5;241m.\u001b[39mvalues[indexer] \u001b[38;5;241m=\u001b[39m value\n\u001b[1;32m   1623\u001b[0m \u001b[38;5;28;01mreturn\u001b[39;00m \u001b[38;5;28mself\u001b[39m\n",
      "File \u001b[0;32m/usr/local/lib/python3.10/site-packages/pandas/core/arrays/string_.py:405\u001b[0m, in \u001b[0;36mStringArray.__setitem__\u001b[0;34m(self, key, value)\u001b[0m\n\u001b[1;32m    403\u001b[0m         value \u001b[38;5;241m=\u001b[39m StringDtype\u001b[38;5;241m.\u001b[39mna_value\n\u001b[1;32m    404\u001b[0m     \u001b[38;5;28;01melif\u001b[39;00m \u001b[38;5;129;01mnot\u001b[39;00m \u001b[38;5;28misinstance\u001b[39m(value, \u001b[38;5;28mstr\u001b[39m):\n\u001b[0;32m--> 405\u001b[0m         \u001b[38;5;28;01mraise\u001b[39;00m \u001b[38;5;167;01mValueError\u001b[39;00m(\n\u001b[1;32m    406\u001b[0m             \u001b[38;5;124mf\u001b[39m\u001b[38;5;124m\"\u001b[39m\u001b[38;5;124mCannot set non-string value \u001b[39m\u001b[38;5;124m'\u001b[39m\u001b[38;5;132;01m{\u001b[39;00mvalue\u001b[38;5;132;01m}\u001b[39;00m\u001b[38;5;124m'\u001b[39m\u001b[38;5;124m into a StringArray.\u001b[39m\u001b[38;5;124m\"\u001b[39m\n\u001b[1;32m    407\u001b[0m         )\n\u001b[1;32m    408\u001b[0m \u001b[38;5;28;01melse\u001b[39;00m:\n\u001b[1;32m    409\u001b[0m     \u001b[38;5;28;01mif\u001b[39;00m \u001b[38;5;129;01mnot\u001b[39;00m is_array_like(value):\n",
      "\u001b[0;31mValueError\u001b[0m: Cannot set non-string value '12345' into a StringArray."
     ]
    }
   ],
   "source": [
    "s.loc[0] = 12345\n",
    "s"
   ]
  },
  {
   "cell_type": "code",
   "execution_count": 46,
   "id": "f5c91fef",
   "metadata": {},
   "outputs": [
    {
     "data": {
      "text/plain": [
       "0    10\n",
       "1    20\n",
       "2    30\n",
       "3    40\n",
       "4    50\n",
       "dtype: int64"
      ]
     },
     "execution_count": 46,
     "metadata": {},
     "output_type": "execute_result"
    }
   ],
   "source": [
    "# what happens if I have a series of integers?\n",
    "\n",
    "s = Series([10, 20, 30, 40, 50])\n",
    "s"
   ]
  },
  {
   "cell_type": "code",
   "execution_count": 47,
   "id": "cf8e7cab",
   "metadata": {},
   "outputs": [
    {
     "data": {
      "text/plain": [
       "count     5.000000\n",
       "mean     30.000000\n",
       "std      15.811388\n",
       "min      10.000000\n",
       "25%      20.000000\n",
       "50%      30.000000\n",
       "75%      40.000000\n",
       "max      50.000000\n",
       "dtype: float64"
      ]
     },
     "execution_count": 47,
     "metadata": {},
     "output_type": "execute_result"
    }
   ],
   "source": [
    "s.describe()"
   ]
  },
  {
   "cell_type": "code",
   "execution_count": 48,
   "id": "d088f9fb",
   "metadata": {},
   "outputs": [
    {
     "data": {
      "text/plain": [
       "0    10\n",
       "1    20\n",
       "2    30\n",
       "3    40\n",
       "4    50\n",
       "dtype: object"
      ]
     },
     "execution_count": 48,
     "metadata": {},
     "output_type": "execute_result"
    }
   ],
   "source": [
    "# what if I have a series of strings containing digits, and I want\n",
    "# to turn the series dtype into int?\n",
    "\n",
    "s = Series('10 20 30 40 50'.split())\n",
    "s"
   ]
  },
  {
   "cell_type": "code",
   "execution_count": 49,
   "id": "5b15d7a9",
   "metadata": {},
   "outputs": [
    {
     "data": {
      "text/plain": [
       "0    10\n",
       "1    20\n",
       "2    30\n",
       "3    40\n",
       "4    50\n",
       "dtype: int64"
      ]
     },
     "execution_count": 49,
     "metadata": {},
     "output_type": "execute_result"
    }
   ],
   "source": [
    "s.astype(np.int64)"
   ]
  },
  {
   "cell_type": "code",
   "execution_count": 50,
   "id": "d0f92cc2",
   "metadata": {},
   "outputs": [
    {
     "data": {
      "text/plain": [
       "count     5.000000\n",
       "mean     30.000000\n",
       "std      15.811388\n",
       "min      10.000000\n",
       "25%      20.000000\n",
       "50%      30.000000\n",
       "75%      40.000000\n",
       "max      50.000000\n",
       "dtype: float64"
      ]
     },
     "execution_count": 50,
     "metadata": {},
     "output_type": "execute_result"
    }
   ],
   "source": [
    "s = s.astype(np.int64)\n",
    "s.describe()"
   ]
  },
  {
   "cell_type": "code",
   "execution_count": 51,
   "id": "1f37bd0c",
   "metadata": {},
   "outputs": [
    {
     "data": {
      "text/plain": [
       "0      10\n",
       "1      20\n",
       "2      30\n",
       "3    abcd\n",
       "4      50\n",
       "5      60\n",
       "dtype: object"
      ]
     },
     "execution_count": 51,
     "metadata": {},
     "output_type": "execute_result"
    }
   ],
   "source": [
    "# but what if there is a bad value in that series?\n",
    "\n",
    "s = Series('10 20 30 abcd 50 60'.split())\n",
    "s"
   ]
  },
  {
   "cell_type": "code",
   "execution_count": 52,
   "id": "25ef85bd",
   "metadata": {},
   "outputs": [
    {
     "ename": "ValueError",
     "evalue": "invalid literal for int() with base 10: 'abcd'",
     "output_type": "error",
     "traceback": [
      "\u001b[0;31m---------------------------------------------------------------------------\u001b[0m",
      "\u001b[0;31mValueError\u001b[0m                                Traceback (most recent call last)",
      "Input \u001b[0;32mIn [52]\u001b[0m, in \u001b[0;36m<cell line: 3>\u001b[0;34m()\u001b[0m\n\u001b[1;32m      1\u001b[0m \u001b[38;5;66;03m# what if I use .astype(np.int64)?\u001b[39;00m\n\u001b[0;32m----> 3\u001b[0m \u001b[43ms\u001b[49m\u001b[38;5;241;43m.\u001b[39;49m\u001b[43mastype\u001b[49m\u001b[43m(\u001b[49m\u001b[43mnp\u001b[49m\u001b[38;5;241;43m.\u001b[39;49m\u001b[43mint64\u001b[49m\u001b[43m)\u001b[49m\n",
      "File \u001b[0;32m/usr/local/lib/python3.10/site-packages/pandas/core/generic.py:5912\u001b[0m, in \u001b[0;36mNDFrame.astype\u001b[0;34m(self, dtype, copy, errors)\u001b[0m\n\u001b[1;32m   5905\u001b[0m     results \u001b[38;5;241m=\u001b[39m [\n\u001b[1;32m   5906\u001b[0m         \u001b[38;5;28mself\u001b[39m\u001b[38;5;241m.\u001b[39miloc[:, i]\u001b[38;5;241m.\u001b[39mastype(dtype, copy\u001b[38;5;241m=\u001b[39mcopy)\n\u001b[1;32m   5907\u001b[0m         \u001b[38;5;28;01mfor\u001b[39;00m i \u001b[38;5;129;01min\u001b[39;00m \u001b[38;5;28mrange\u001b[39m(\u001b[38;5;28mlen\u001b[39m(\u001b[38;5;28mself\u001b[39m\u001b[38;5;241m.\u001b[39mcolumns))\n\u001b[1;32m   5908\u001b[0m     ]\n\u001b[1;32m   5910\u001b[0m \u001b[38;5;28;01melse\u001b[39;00m:\n\u001b[1;32m   5911\u001b[0m     \u001b[38;5;66;03m# else, only a single dtype is given\u001b[39;00m\n\u001b[0;32m-> 5912\u001b[0m     new_data \u001b[38;5;241m=\u001b[39m \u001b[38;5;28;43mself\u001b[39;49m\u001b[38;5;241;43m.\u001b[39;49m\u001b[43m_mgr\u001b[49m\u001b[38;5;241;43m.\u001b[39;49m\u001b[43mastype\u001b[49m\u001b[43m(\u001b[49m\u001b[43mdtype\u001b[49m\u001b[38;5;241;43m=\u001b[39;49m\u001b[43mdtype\u001b[49m\u001b[43m,\u001b[49m\u001b[43m \u001b[49m\u001b[43mcopy\u001b[49m\u001b[38;5;241;43m=\u001b[39;49m\u001b[43mcopy\u001b[49m\u001b[43m,\u001b[49m\u001b[43m \u001b[49m\u001b[43merrors\u001b[49m\u001b[38;5;241;43m=\u001b[39;49m\u001b[43merrors\u001b[49m\u001b[43m)\u001b[49m\n\u001b[1;32m   5913\u001b[0m     \u001b[38;5;28;01mreturn\u001b[39;00m \u001b[38;5;28mself\u001b[39m\u001b[38;5;241m.\u001b[39m_constructor(new_data)\u001b[38;5;241m.\u001b[39m__finalize__(\u001b[38;5;28mself\u001b[39m, method\u001b[38;5;241m=\u001b[39m\u001b[38;5;124m\"\u001b[39m\u001b[38;5;124mastype\u001b[39m\u001b[38;5;124m\"\u001b[39m)\n\u001b[1;32m   5915\u001b[0m \u001b[38;5;66;03m# GH 33113: handle empty frame or series\u001b[39;00m\n",
      "File \u001b[0;32m/usr/local/lib/python3.10/site-packages/pandas/core/internals/managers.py:419\u001b[0m, in \u001b[0;36mBaseBlockManager.astype\u001b[0;34m(self, dtype, copy, errors)\u001b[0m\n\u001b[1;32m    418\u001b[0m \u001b[38;5;28;01mdef\u001b[39;00m \u001b[38;5;21mastype\u001b[39m(\u001b[38;5;28mself\u001b[39m: T, dtype, copy: \u001b[38;5;28mbool\u001b[39m \u001b[38;5;241m=\u001b[39m \u001b[38;5;28;01mFalse\u001b[39;00m, errors: \u001b[38;5;28mstr\u001b[39m \u001b[38;5;241m=\u001b[39m \u001b[38;5;124m\"\u001b[39m\u001b[38;5;124mraise\u001b[39m\u001b[38;5;124m\"\u001b[39m) \u001b[38;5;241m-\u001b[39m\u001b[38;5;241m>\u001b[39m T:\n\u001b[0;32m--> 419\u001b[0m     \u001b[38;5;28;01mreturn\u001b[39;00m \u001b[38;5;28;43mself\u001b[39;49m\u001b[38;5;241;43m.\u001b[39;49m\u001b[43mapply\u001b[49m\u001b[43m(\u001b[49m\u001b[38;5;124;43m\"\u001b[39;49m\u001b[38;5;124;43mastype\u001b[39;49m\u001b[38;5;124;43m\"\u001b[39;49m\u001b[43m,\u001b[49m\u001b[43m \u001b[49m\u001b[43mdtype\u001b[49m\u001b[38;5;241;43m=\u001b[39;49m\u001b[43mdtype\u001b[49m\u001b[43m,\u001b[49m\u001b[43m \u001b[49m\u001b[43mcopy\u001b[49m\u001b[38;5;241;43m=\u001b[39;49m\u001b[43mcopy\u001b[49m\u001b[43m,\u001b[49m\u001b[43m \u001b[49m\u001b[43merrors\u001b[49m\u001b[38;5;241;43m=\u001b[39;49m\u001b[43merrors\u001b[49m\u001b[43m)\u001b[49m\n",
      "File \u001b[0;32m/usr/local/lib/python3.10/site-packages/pandas/core/internals/managers.py:304\u001b[0m, in \u001b[0;36mBaseBlockManager.apply\u001b[0;34m(self, f, align_keys, ignore_failures, **kwargs)\u001b[0m\n\u001b[1;32m    302\u001b[0m         applied \u001b[38;5;241m=\u001b[39m b\u001b[38;5;241m.\u001b[39mapply(f, \u001b[38;5;241m*\u001b[39m\u001b[38;5;241m*\u001b[39mkwargs)\n\u001b[1;32m    303\u001b[0m     \u001b[38;5;28;01melse\u001b[39;00m:\n\u001b[0;32m--> 304\u001b[0m         applied \u001b[38;5;241m=\u001b[39m \u001b[38;5;28;43mgetattr\u001b[39;49m\u001b[43m(\u001b[49m\u001b[43mb\u001b[49m\u001b[43m,\u001b[49m\u001b[43m \u001b[49m\u001b[43mf\u001b[49m\u001b[43m)\u001b[49m\u001b[43m(\u001b[49m\u001b[38;5;241;43m*\u001b[39;49m\u001b[38;5;241;43m*\u001b[39;49m\u001b[43mkwargs\u001b[49m\u001b[43m)\u001b[49m\n\u001b[1;32m    305\u001b[0m \u001b[38;5;28;01mexcept\u001b[39;00m (\u001b[38;5;167;01mTypeError\u001b[39;00m, \u001b[38;5;167;01mNotImplementedError\u001b[39;00m):\n\u001b[1;32m    306\u001b[0m     \u001b[38;5;28;01mif\u001b[39;00m \u001b[38;5;129;01mnot\u001b[39;00m ignore_failures:\n",
      "File \u001b[0;32m/usr/local/lib/python3.10/site-packages/pandas/core/internals/blocks.py:580\u001b[0m, in \u001b[0;36mBlock.astype\u001b[0;34m(self, dtype, copy, errors)\u001b[0m\n\u001b[1;32m    562\u001b[0m \u001b[38;5;124;03m\"\"\"\u001b[39;00m\n\u001b[1;32m    563\u001b[0m \u001b[38;5;124;03mCoerce to the new dtype.\u001b[39;00m\n\u001b[1;32m    564\u001b[0m \n\u001b[0;32m   (...)\u001b[0m\n\u001b[1;32m    576\u001b[0m \u001b[38;5;124;03mBlock\u001b[39;00m\n\u001b[1;32m    577\u001b[0m \u001b[38;5;124;03m\"\"\"\u001b[39;00m\n\u001b[1;32m    578\u001b[0m values \u001b[38;5;241m=\u001b[39m \u001b[38;5;28mself\u001b[39m\u001b[38;5;241m.\u001b[39mvalues\n\u001b[0;32m--> 580\u001b[0m new_values \u001b[38;5;241m=\u001b[39m \u001b[43mastype_array_safe\u001b[49m\u001b[43m(\u001b[49m\u001b[43mvalues\u001b[49m\u001b[43m,\u001b[49m\u001b[43m \u001b[49m\u001b[43mdtype\u001b[49m\u001b[43m,\u001b[49m\u001b[43m \u001b[49m\u001b[43mcopy\u001b[49m\u001b[38;5;241;43m=\u001b[39;49m\u001b[43mcopy\u001b[49m\u001b[43m,\u001b[49m\u001b[43m \u001b[49m\u001b[43merrors\u001b[49m\u001b[38;5;241;43m=\u001b[39;49m\u001b[43merrors\u001b[49m\u001b[43m)\u001b[49m\n\u001b[1;32m    582\u001b[0m new_values \u001b[38;5;241m=\u001b[39m maybe_coerce_values(new_values)\n\u001b[1;32m    583\u001b[0m newb \u001b[38;5;241m=\u001b[39m \u001b[38;5;28mself\u001b[39m\u001b[38;5;241m.\u001b[39mmake_block(new_values)\n",
      "File \u001b[0;32m/usr/local/lib/python3.10/site-packages/pandas/core/dtypes/cast.py:1292\u001b[0m, in \u001b[0;36mastype_array_safe\u001b[0;34m(values, dtype, copy, errors)\u001b[0m\n\u001b[1;32m   1289\u001b[0m     dtype \u001b[38;5;241m=\u001b[39m dtype\u001b[38;5;241m.\u001b[39mnumpy_dtype\n\u001b[1;32m   1291\u001b[0m \u001b[38;5;28;01mtry\u001b[39;00m:\n\u001b[0;32m-> 1292\u001b[0m     new_values \u001b[38;5;241m=\u001b[39m \u001b[43mastype_array\u001b[49m\u001b[43m(\u001b[49m\u001b[43mvalues\u001b[49m\u001b[43m,\u001b[49m\u001b[43m \u001b[49m\u001b[43mdtype\u001b[49m\u001b[43m,\u001b[49m\u001b[43m \u001b[49m\u001b[43mcopy\u001b[49m\u001b[38;5;241;43m=\u001b[39;49m\u001b[43mcopy\u001b[49m\u001b[43m)\u001b[49m\n\u001b[1;32m   1293\u001b[0m \u001b[38;5;28;01mexcept\u001b[39;00m (\u001b[38;5;167;01mValueError\u001b[39;00m, \u001b[38;5;167;01mTypeError\u001b[39;00m):\n\u001b[1;32m   1294\u001b[0m     \u001b[38;5;66;03m# e.g. astype_nansafe can fail on object-dtype of strings\u001b[39;00m\n\u001b[1;32m   1295\u001b[0m     \u001b[38;5;66;03m#  trying to convert to float\u001b[39;00m\n\u001b[1;32m   1296\u001b[0m     \u001b[38;5;28;01mif\u001b[39;00m errors \u001b[38;5;241m==\u001b[39m \u001b[38;5;124m\"\u001b[39m\u001b[38;5;124mignore\u001b[39m\u001b[38;5;124m\"\u001b[39m:\n",
      "File \u001b[0;32m/usr/local/lib/python3.10/site-packages/pandas/core/dtypes/cast.py:1237\u001b[0m, in \u001b[0;36mastype_array\u001b[0;34m(values, dtype, copy)\u001b[0m\n\u001b[1;32m   1234\u001b[0m     values \u001b[38;5;241m=\u001b[39m values\u001b[38;5;241m.\u001b[39mastype(dtype, copy\u001b[38;5;241m=\u001b[39mcopy)\n\u001b[1;32m   1236\u001b[0m \u001b[38;5;28;01melse\u001b[39;00m:\n\u001b[0;32m-> 1237\u001b[0m     values \u001b[38;5;241m=\u001b[39m \u001b[43mastype_nansafe\u001b[49m\u001b[43m(\u001b[49m\u001b[43mvalues\u001b[49m\u001b[43m,\u001b[49m\u001b[43m \u001b[49m\u001b[43mdtype\u001b[49m\u001b[43m,\u001b[49m\u001b[43m \u001b[49m\u001b[43mcopy\u001b[49m\u001b[38;5;241;43m=\u001b[39;49m\u001b[43mcopy\u001b[49m\u001b[43m)\u001b[49m\n\u001b[1;32m   1239\u001b[0m \u001b[38;5;66;03m# in pandas we don't store numpy str dtypes, so convert to object\u001b[39;00m\n\u001b[1;32m   1240\u001b[0m \u001b[38;5;28;01mif\u001b[39;00m \u001b[38;5;28misinstance\u001b[39m(dtype, np\u001b[38;5;241m.\u001b[39mdtype) \u001b[38;5;129;01mand\u001b[39;00m \u001b[38;5;28missubclass\u001b[39m(values\u001b[38;5;241m.\u001b[39mdtype\u001b[38;5;241m.\u001b[39mtype, \u001b[38;5;28mstr\u001b[39m):\n",
      "File \u001b[0;32m/usr/local/lib/python3.10/site-packages/pandas/core/dtypes/cast.py:1154\u001b[0m, in \u001b[0;36mastype_nansafe\u001b[0;34m(arr, dtype, copy, skipna)\u001b[0m\n\u001b[1;32m   1150\u001b[0m \u001b[38;5;28;01melif\u001b[39;00m is_object_dtype(arr\u001b[38;5;241m.\u001b[39mdtype):\n\u001b[1;32m   1151\u001b[0m \n\u001b[1;32m   1152\u001b[0m     \u001b[38;5;66;03m# work around NumPy brokenness, #1987\u001b[39;00m\n\u001b[1;32m   1153\u001b[0m     \u001b[38;5;28;01mif\u001b[39;00m np\u001b[38;5;241m.\u001b[39missubdtype(dtype\u001b[38;5;241m.\u001b[39mtype, np\u001b[38;5;241m.\u001b[39minteger):\n\u001b[0;32m-> 1154\u001b[0m         \u001b[38;5;28;01mreturn\u001b[39;00m \u001b[43mlib\u001b[49m\u001b[38;5;241;43m.\u001b[39;49m\u001b[43mastype_intsafe\u001b[49m\u001b[43m(\u001b[49m\u001b[43marr\u001b[49m\u001b[43m,\u001b[49m\u001b[43m \u001b[49m\u001b[43mdtype\u001b[49m\u001b[43m)\u001b[49m\n\u001b[1;32m   1156\u001b[0m     \u001b[38;5;66;03m# if we have a datetime/timedelta array of objects\u001b[39;00m\n\u001b[1;32m   1157\u001b[0m     \u001b[38;5;66;03m# then coerce to a proper dtype and recall astype_nansafe\u001b[39;00m\n\u001b[1;32m   1159\u001b[0m     \u001b[38;5;28;01melif\u001b[39;00m is_datetime64_dtype(dtype):\n",
      "File \u001b[0;32m/usr/local/lib/python3.10/site-packages/pandas/_libs/lib.pyx:668\u001b[0m, in \u001b[0;36mpandas._libs.lib.astype_intsafe\u001b[0;34m()\u001b[0m\n",
      "\u001b[0;31mValueError\u001b[0m: invalid literal for int() with base 10: 'abcd'"
     ]
    }
   ],
   "source": [
    "# what if I use .astype(np.int64)?\n",
    "\n",
    "s.astype(np.int64)"
   ]
  },
  {
   "cell_type": "code",
   "execution_count": 53,
   "id": "85b9fbe8",
   "metadata": {},
   "outputs": [
    {
     "data": {
      "text/plain": [
       "0     True\n",
       "1     True\n",
       "2     True\n",
       "3    False\n",
       "4     True\n",
       "5     True\n",
       "dtype: bool"
      ]
     },
     "execution_count": 53,
     "metadata": {},
     "output_type": "execute_result"
    }
   ],
   "source": [
    "# let's filter out the strings in s that cannot be turned into integers\n",
    "# an easy way to do this is with the \"str.isdigit\" accessor method\n",
    "# isdigit is a builtin Python string method, which returns True if the string\n",
    "# only contains the digits 0-9.  No whitespace, and no empty strings.\n",
    "\n",
    "s.str.isdigit()"
   ]
  },
  {
   "cell_type": "code",
   "execution_count": 55,
   "id": "f8c14357",
   "metadata": {},
   "outputs": [
    {
     "data": {
      "text/plain": [
       "0    10\n",
       "1    20\n",
       "2    30\n",
       "4    50\n",
       "5    60\n",
       "dtype: object"
      ]
     },
     "execution_count": 55,
     "metadata": {},
     "output_type": "execute_result"
    }
   ],
   "source": [
    "# get only those strings that contain digits\n",
    "s.loc[s.str.isdigit()]"
   ]
  },
  {
   "cell_type": "code",
   "execution_count": 59,
   "id": "a9e95e0b",
   "metadata": {},
   "outputs": [
    {
     "data": {
      "text/plain": [
       "170"
      ]
     },
     "execution_count": 59,
     "metadata": {},
     "output_type": "execute_result"
    }
   ],
   "source": [
    "# first, we grab only those strings containing the digits 0-9\n",
    "# via a mask/boolean index\n",
    "# then, we invoke astype(np.int64) on the resulting series of strings\n",
    "# we sum those integers, and get the value\n",
    "s.loc[s.str.isdigit()].astype(np.int64).sum()"
   ]
  },
  {
   "cell_type": "code",
   "execution_count": 60,
   "id": "121f5443",
   "metadata": {},
   "outputs": [
    {
     "data": {
      "text/plain": [
       "170"
      ]
     },
     "execution_count": 60,
     "metadata": {},
     "output_type": "execute_result"
    }
   ],
   "source": [
    "# If I want to change s, and turn it (permanently) into a series of integers,\n",
    "# I have to do a bit more work:\n",
    "\n",
    "s = s.loc[s.str.isdigit()].astype(np.int64)\n",
    "s.sum()"
   ]
  },
  {
   "cell_type": "markdown",
   "id": "e1b3f413",
   "metadata": {},
   "source": [
    "# Exercise: Mean of dirty ints\n",
    "\n",
    "1. Ask the user to enter integers, separated by spaces, in a single string.\n",
    "2. Filter out any strings that contain non-digits.\n",
    "3. Get the mean of those inputs.\n",
    "4. Bonus extra: Get the non-digits from the input string!"
   ]
  },
  {
   "cell_type": "code",
   "execution_count": null,
   "id": "7bd1ac39",
   "metadata": {},
   "outputs": [],
   "source": [
    "numbers = input('Enter some numbers, separated by spaces: ').strip()"
   ]
  },
  {
   "cell_type": "code",
   "execution_count": 67,
   "id": "fc9c74a9",
   "metadata": {},
   "outputs": [
    {
     "data": {
      "text/plain": [
       "0    10\n",
       "1    20\n",
       "2    30\n",
       "4    40\n",
       "5    50\n",
       "6    60\n",
       "dtype: object"
      ]
     },
     "execution_count": 67,
     "metadata": {},
     "output_type": "execute_result"
    }
   ],
   "source": [
    "s = Series(numbers.split())\n",
    "\n",
    "s.loc[s.str.isdigit()]   # return only those elements that *can* be turned into ints"
   ]
  },
  {
   "cell_type": "code",
   "execution_count": 69,
   "id": "2ddff65a",
   "metadata": {},
   "outputs": [
    {
     "data": {
      "text/plain": [
       "0    10\n",
       "1    20\n",
       "2    30\n",
       "4    40\n",
       "5    50\n",
       "6    60\n",
       "dtype: int64"
      ]
     },
     "execution_count": 69,
     "metadata": {},
     "output_type": "execute_result"
    }
   ],
   "source": [
    "s = s.loc[s.str.isdigit()].astype(np.int64)\n",
    "s"
   ]
  },
  {
   "cell_type": "code",
   "execution_count": 70,
   "id": "7dbd6560",
   "metadata": {},
   "outputs": [
    {
     "data": {
      "text/plain": [
       "35.0"
      ]
     },
     "execution_count": 70,
     "metadata": {},
     "output_type": "execute_result"
    }
   ],
   "source": [
    "s.mean()"
   ]
  },
  {
   "cell_type": "code",
   "execution_count": 71,
   "id": "cd77c489",
   "metadata": {},
   "outputs": [
    {
     "data": {
      "text/plain": [
       "0    10\n",
       "1    20\n",
       "2    30\n",
       "4    40\n",
       "5    50\n",
       "6    60\n",
       "dtype: int64"
      ]
     },
     "execution_count": 71,
     "metadata": {},
     "output_type": "execute_result"
    }
   ],
   "source": [
    "# can we get all of those elements that are *not* numeric?\n",
    "\n",
    "s"
   ]
  },
  {
   "cell_type": "code",
   "execution_count": 74,
   "id": "544db894",
   "metadata": {},
   "outputs": [
    {
     "data": {
      "text/plain": [
       "0       10\n",
       "1       20\n",
       "2       30\n",
       "3    abcde\n",
       "4       40\n",
       "5       50\n",
       "6       60\n",
       "dtype: object"
      ]
     },
     "execution_count": 74,
     "metadata": {},
     "output_type": "execute_result"
    }
   ],
   "source": [
    "s = Series(numbers.split())\n",
    "s"
   ]
  },
  {
   "cell_type": "code",
   "execution_count": 77,
   "id": "ba30fb04",
   "metadata": {},
   "outputs": [
    {
     "data": {
      "text/plain": [
       "3    abcde\n",
       "dtype: object"
      ]
     },
     "execution_count": 77,
     "metadata": {},
     "output_type": "execute_result"
    }
   ],
   "source": [
    "# I can find the things that are not numeric by using str.isdigit, and then\n",
    "# flipping the logic with ~ (the \"not\" operator)\n",
    "\n",
    "s[~s.str.isdigit()]"
   ]
  },
  {
   "cell_type": "markdown",
   "id": "ebae3881",
   "metadata": {},
   "source": [
    "# Next up\n",
    "\n",
    "1. Textual statistics\n",
    "2. Trimming + splitting + indexing strings"
   ]
  },
  {
   "cell_type": "code",
   "execution_count": 78,
   "id": "44cf1f45",
   "metadata": {},
   "outputs": [
    {
     "data": {
      "text/plain": [
       "0         this\n",
       "1           is\n",
       "2            a\n",
       "3        bunch\n",
       "4           of\n",
       "5        words\n",
       "6          and\n",
       "7          the\n",
       "8        bunch\n",
       "9           of\n",
       "10       words\n",
       "11          is\n",
       "12        very\n",
       "13    exciting\n",
       "14         and\n",
       "15         the\n",
       "16       words\n",
       "17        just\n",
       "18          go\n",
       "19          on\n",
       "20         and\n",
       "21          on\n",
       "22         and\n",
       "23          on\n",
       "24         and\n",
       "25       there\n",
       "26          is\n",
       "27          no\n",
       "28         end\n",
       "29          to\n",
       "30         our\n",
       "31       words\n",
       "dtype: object"
      ]
     },
     "execution_count": 78,
     "metadata": {},
     "output_type": "execute_result"
    }
   ],
   "source": [
    "s = Series('this is a bunch of words and the bunch of words is very exciting and the words just go on and on and on and there is no end to our words'.split())\n",
    "s"
   ]
  },
  {
   "cell_type": "code",
   "execution_count": 79,
   "id": "e1a1e8e0",
   "metadata": {},
   "outputs": [
    {
     "data": {
      "text/plain": [
       "count      32\n",
       "unique     18\n",
       "top       and\n",
       "freq        5\n",
       "dtype: object"
      ]
     },
     "execution_count": 79,
     "metadata": {},
     "output_type": "execute_result"
    }
   ],
   "source": [
    "# what happens if I run \"describe\" on our series?\n",
    "\n",
    "s.describe()"
   ]
  },
  {
   "cell_type": "markdown",
   "id": "c5c2d38a",
   "metadata": {},
   "source": [
    "# Why `describe` is useful with text\n",
    "\n",
    "The big thing we can find out by running `describe` on a text column (series) is how many unique values there are, and how many are `NaN`. This can be useful in understanding whether every value is unique (as we saw earlier with dates) or if there is a lot of overlap.\n",
    "\n",
    "The reason this can help us is that Pandas provides ways to crunch our data down, saving memory, if we have repeated values. This is similar to what progrmamers would call an \"enum,\" where we replace text with numbers, because numbers take up much less space. So if the number of unqiue values is much less than the number of values, you might want to consider looking into a \"category\" dtype column, rather than a text/object column."
   ]
  },
  {
   "cell_type": "code",
   "execution_count": 80,
   "id": "f21a5843",
   "metadata": {},
   "outputs": [
    {
     "data": {
      "text/plain": [
       "and         5\n",
       "words       4\n",
       "on          3\n",
       "is          3\n",
       "bunch       2\n",
       "of          2\n",
       "the         2\n",
       "this        1\n",
       "to          1\n",
       "end         1\n",
       "no          1\n",
       "there       1\n",
       "exciting    1\n",
       "go          1\n",
       "just        1\n",
       "very        1\n",
       "a           1\n",
       "our         1\n",
       "dtype: int64"
      ]
     },
     "execution_count": 80,
     "metadata": {},
     "output_type": "execute_result"
    }
   ],
   "source": [
    "# we can also run value_counts on our series of words\n",
    "\n",
    "s.value_counts()"
   ]
  },
  {
   "cell_type": "code",
   "execution_count": 83,
   "id": "a8e8403b",
   "metadata": {},
   "outputs": [
    {
     "data": {
      "text/plain": [
       "and      5\n",
       "words    4\n",
       "on       3\n",
       "is       3\n",
       "bunch    2\n",
       "of       2\n",
       "the      2\n",
       "dtype: int64"
      ]
     },
     "execution_count": 83,
     "metadata": {},
     "output_type": "execute_result"
    }
   ],
   "source": [
    "# what words appeared more than once in s?\n",
    "\n",
    "# select those words in s that appear more than once\n",
    "s.value_counts().loc[s.value_counts() > 1]"
   ]
  },
  {
   "cell_type": "code",
   "execution_count": 86,
   "id": "6a34c3ce",
   "metadata": {},
   "outputs": [
    {
     "data": {
      "text/plain": [
       "7          the\n",
       "12        very\n",
       "13    exciting\n",
       "15         the\n",
       "25       there\n",
       "28         end\n",
       "dtype: object"
      ]
     },
     "execution_count": 86,
     "metadata": {},
     "output_type": "execute_result"
    }
   ],
   "source": [
    "# I can search in a string using the \"contains\" method on the str accessor\n",
    "\n",
    "s.loc[s.str.contains('e')]   # this is sort of like the 'in' operator in Python"
   ]
  },
  {
   "cell_type": "code",
   "execution_count": null,
   "id": "425d8936",
   "metadata": {},
   "outputs": [],
   "source": []
  }
 ],
 "metadata": {
  "kernelspec": {
   "display_name": "Python 3 (ipykernel)",
   "language": "python",
   "name": "python3"
  },
  "language_info": {
   "codemirror_mode": {
    "name": "ipython",
    "version": 3
   },
   "file_extension": ".py",
   "mimetype": "text/x-python",
   "name": "python",
   "nbconvert_exporter": "python",
   "pygments_lexer": "ipython3",
   "version": "3.10.6"
  }
 },
 "nbformat": 4,
 "nbformat_minor": 5
}
