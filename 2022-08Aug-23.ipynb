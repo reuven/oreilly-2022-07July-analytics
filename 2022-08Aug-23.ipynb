{
 "cells": [
  {
   "cell_type": "markdown",
   "id": "92d8e6af",
   "metadata": {},
   "source": [
    "# Agenda, week 4\n",
    "\n",
    "1. Recap and Q&A\n",
    "    - Oil prices!\n",
    "2. Text strings\n",
    "    - The `str` accessor\n",
    "    - Cleaning dirty integer data\n",
    "    - Textual statistics\n",
    "    - Trimming strings\n",
    "3. Dates and times\n",
    "    - Date and time dtypes\n",
    "    - Parsing CSV files with times\n",
    "    - Time deltas\n",
    "    - Time series\n",
    "    - Resampling"
   ]
  },
  {
   "cell_type": "code",
   "execution_count": 3,
   "id": "71ab7e55",
   "metadata": {},
   "outputs": [],
   "source": [
    "import numpy as np\n",
    "import pandas as pd\n",
    "from pandas import Series, DataFrame"
   ]
  },
  {
   "cell_type": "code",
   "execution_count": 4,
   "id": "e61fb28c",
   "metadata": {},
   "outputs": [
    {
     "data": {
      "text/html": [
       "<div>\n",
       "<style scoped>\n",
       "    .dataframe tbody tr th:only-of-type {\n",
       "        vertical-align: middle;\n",
       "    }\n",
       "\n",
       "    .dataframe tbody tr th {\n",
       "        vertical-align: top;\n",
       "    }\n",
       "\n",
       "    .dataframe thead th {\n",
       "        text-align: right;\n",
       "    }\n",
       "</style>\n",
       "<table border=\"1\" class=\"dataframe\">\n",
       "  <thead>\n",
       "    <tr style=\"text-align: right;\">\n",
       "      <th></th>\n",
       "      <th>Date</th>\n",
       "      <th>Price</th>\n",
       "    </tr>\n",
       "  </thead>\n",
       "  <tbody>\n",
       "    <tr>\n",
       "      <th>0</th>\n",
       "      <td>1986-01-02</td>\n",
       "      <td>25.56</td>\n",
       "    </tr>\n",
       "    <tr>\n",
       "      <th>1</th>\n",
       "      <td>1986-01-03</td>\n",
       "      <td>26.00</td>\n",
       "    </tr>\n",
       "    <tr>\n",
       "      <th>2</th>\n",
       "      <td>1986-01-06</td>\n",
       "      <td>26.53</td>\n",
       "    </tr>\n",
       "    <tr>\n",
       "      <th>3</th>\n",
       "      <td>1986-01-07</td>\n",
       "      <td>25.85</td>\n",
       "    </tr>\n",
       "    <tr>\n",
       "      <th>4</th>\n",
       "      <td>1986-01-08</td>\n",
       "      <td>25.87</td>\n",
       "    </tr>\n",
       "  </tbody>\n",
       "</table>\n",
       "</div>"
      ],
      "text/plain": [
       "         Date  Price\n",
       "0  1986-01-02  25.56\n",
       "1  1986-01-03  26.00\n",
       "2  1986-01-06  26.53\n",
       "3  1986-01-07  25.85\n",
       "4  1986-01-08  25.87"
      ]
     },
     "execution_count": 4,
     "metadata": {},
     "output_type": "execute_result"
    }
   ],
   "source": [
    "filename = 'oil-prices-master/data/wti-daily.csv'\n",
    "\n",
    "df = pd.read_csv(filename)\n",
    "df.head()"
   ]
  },
  {
   "cell_type": "code",
   "execution_count": 5,
   "id": "08a173c6",
   "metadata": {},
   "outputs": [
    {
     "data": {
      "text/plain": [
       "145.31"
      ]
     },
     "execution_count": 5,
     "metadata": {},
     "output_type": "execute_result"
    }
   ],
   "source": [
    "# What was the highest-ever price of oil (as per WTI)?\n",
    "\n",
    "df['Price'].max()   # this is the highest price ever"
   ]
  },
  {
   "cell_type": "code",
   "execution_count": 6,
   "id": "bf375ae9",
   "metadata": {},
   "outputs": [
    {
     "data": {
      "text/plain": [
       "0       False\n",
       "1       False\n",
       "2       False\n",
       "3       False\n",
       "4       False\n",
       "        ...  \n",
       "9222    False\n",
       "9223    False\n",
       "9224    False\n",
       "9225    False\n",
       "9226    False\n",
       "Name: Price, Length: 9227, dtype: bool"
      ]
     },
     "execution_count": 6,
     "metadata": {},
     "output_type": "execute_result"
    }
   ],
   "source": [
    "\n",
    "df['Price'] == df['Price'].max()  # this returns a boolean series"
   ]
  },
  {
   "cell_type": "code",
   "execution_count": 8,
   "id": "3597d6e3",
   "metadata": {},
   "outputs": [
    {
     "data": {
      "text/plain": [
       "5678    2008-07-03\n",
       "Name: Date, dtype: object"
      ]
     },
     "execution_count": 8,
     "metadata": {},
     "output_type": "execute_result"
    }
   ],
   "source": [
    "# Use .loc with a row selector and a column selector\n",
    "# our row selector will be our boolean series\n",
    "\n",
    "\n",
    "df.loc[\n",
    "    df['Price'] == df['Price'].max(),   # row selector\n",
    "    'Date' # column selector\n",
    "]"
   ]
  },
  {
   "cell_type": "code",
   "execution_count": 10,
   "id": "b45aa357",
   "metadata": {},
   "outputs": [
    {
     "data": {
      "text/html": [
       "<div>\n",
       "<style scoped>\n",
       "    .dataframe tbody tr th:only-of-type {\n",
       "        vertical-align: middle;\n",
       "    }\n",
       "\n",
       "    .dataframe tbody tr th {\n",
       "        vertical-align: top;\n",
       "    }\n",
       "\n",
       "    .dataframe thead th {\n",
       "        text-align: right;\n",
       "    }\n",
       "</style>\n",
       "<table border=\"1\" class=\"dataframe\">\n",
       "  <thead>\n",
       "    <tr style=\"text-align: right;\">\n",
       "      <th></th>\n",
       "      <th>Date</th>\n",
       "      <th>Price</th>\n",
       "    </tr>\n",
       "  </thead>\n",
       "  <tbody>\n",
       "    <tr>\n",
       "      <th>8643</th>\n",
       "      <td>2020-04-20</td>\n",
       "      <td>-36.98</td>\n",
       "    </tr>\n",
       "  </tbody>\n",
       "</table>\n",
       "</div>"
      ],
      "text/plain": [
       "            Date  Price\n",
       "8643  2020-04-20 -36.98"
      ]
     },
     "execution_count": 10,
     "metadata": {},
     "output_type": "execute_result"
    }
   ],
   "source": [
    "# what was the minimum price ever found of WTI?\n",
    "\n",
    "\n",
    "df.loc[\n",
    "    df['Price'] == df['Price'].min(),   # row selector\n",
    "    ['Date', 'Price']                              # column selector\n",
    "]"
   ]
  },
  {
   "cell_type": "code",
   "execution_count": 11,
   "id": "ab13566f",
   "metadata": {},
   "outputs": [
    {
     "data": {
      "text/html": [
       "<div>\n",
       "<style scoped>\n",
       "    .dataframe tbody tr th:only-of-type {\n",
       "        vertical-align: middle;\n",
       "    }\n",
       "\n",
       "    .dataframe tbody tr th {\n",
       "        vertical-align: top;\n",
       "    }\n",
       "\n",
       "    .dataframe thead th {\n",
       "        text-align: right;\n",
       "    }\n",
       "</style>\n",
       "<table border=\"1\" class=\"dataframe\">\n",
       "  <thead>\n",
       "    <tr style=\"text-align: right;\">\n",
       "      <th></th>\n",
       "      <th>Date</th>\n",
       "      <th>Price</th>\n",
       "    </tr>\n",
       "  </thead>\n",
       "  <tbody>\n",
       "    <tr>\n",
       "      <th>9222</th>\n",
       "      <td>2022-08-09</td>\n",
       "      <td>93.18</td>\n",
       "    </tr>\n",
       "    <tr>\n",
       "      <th>9223</th>\n",
       "      <td>2022-08-10</td>\n",
       "      <td>94.68</td>\n",
       "    </tr>\n",
       "    <tr>\n",
       "      <th>9224</th>\n",
       "      <td>2022-08-11</td>\n",
       "      <td>97.02</td>\n",
       "    </tr>\n",
       "    <tr>\n",
       "      <th>9225</th>\n",
       "      <td>2022-08-12</td>\n",
       "      <td>94.86</td>\n",
       "    </tr>\n",
       "    <tr>\n",
       "      <th>9226</th>\n",
       "      <td>2022-08-15</td>\n",
       "      <td>92.24</td>\n",
       "    </tr>\n",
       "  </tbody>\n",
       "</table>\n",
       "</div>"
      ],
      "text/plain": [
       "            Date  Price\n",
       "9222  2022-08-09  93.18\n",
       "9223  2022-08-10  94.68\n",
       "9224  2022-08-11  97.02\n",
       "9225  2022-08-12  94.86\n",
       "9226  2022-08-15  92.24"
      ]
     },
     "execution_count": 11,
     "metadata": {},
     "output_type": "execute_result"
    }
   ],
   "source": [
    "# what were the 10 most recent values for oil prices?\n",
    "\n",
    "df.tail(5)"
   ]
  },
  {
   "cell_type": "code",
   "execution_count": 12,
   "id": "132e3b99",
   "metadata": {},
   "outputs": [
    {
     "data": {
      "text/html": [
       "<div>\n",
       "<style scoped>\n",
       "    .dataframe tbody tr th:only-of-type {\n",
       "        vertical-align: middle;\n",
       "    }\n",
       "\n",
       "    .dataframe tbody tr th {\n",
       "        vertical-align: top;\n",
       "    }\n",
       "\n",
       "    .dataframe thead th {\n",
       "        text-align: right;\n",
       "    }\n",
       "</style>\n",
       "<table border=\"1\" class=\"dataframe\">\n",
       "  <thead>\n",
       "    <tr style=\"text-align: right;\">\n",
       "      <th></th>\n",
       "      <th>Date</th>\n",
       "      <th>Price</th>\n",
       "    </tr>\n",
       "  </thead>\n",
       "  <tbody>\n",
       "    <tr>\n",
       "      <th>9207</th>\n",
       "      <td>2022-07-19</td>\n",
       "      <td>106.12</td>\n",
       "    </tr>\n",
       "    <tr>\n",
       "      <th>9208</th>\n",
       "      <td>2022-07-20</td>\n",
       "      <td>104.45</td>\n",
       "    </tr>\n",
       "    <tr>\n",
       "      <th>9209</th>\n",
       "      <td>2022-07-21</td>\n",
       "      <td>98.44</td>\n",
       "    </tr>\n",
       "    <tr>\n",
       "      <th>9210</th>\n",
       "      <td>2022-07-22</td>\n",
       "      <td>97.71</td>\n",
       "    </tr>\n",
       "    <tr>\n",
       "      <th>9211</th>\n",
       "      <td>2022-07-25</td>\n",
       "      <td>99.83</td>\n",
       "    </tr>\n",
       "    <tr>\n",
       "      <th>9212</th>\n",
       "      <td>2022-07-26</td>\n",
       "      <td>97.74</td>\n",
       "    </tr>\n",
       "    <tr>\n",
       "      <th>9213</th>\n",
       "      <td>2022-07-27</td>\n",
       "      <td>100.03</td>\n",
       "    </tr>\n",
       "    <tr>\n",
       "      <th>9214</th>\n",
       "      <td>2022-07-28</td>\n",
       "      <td>99.11</td>\n",
       "    </tr>\n",
       "    <tr>\n",
       "      <th>9215</th>\n",
       "      <td>2022-07-29</td>\n",
       "      <td>101.31</td>\n",
       "    </tr>\n",
       "    <tr>\n",
       "      <th>9216</th>\n",
       "      <td>2022-08-01</td>\n",
       "      <td>96.59</td>\n",
       "    </tr>\n",
       "    <tr>\n",
       "      <th>9217</th>\n",
       "      <td>2022-08-02</td>\n",
       "      <td>97.14</td>\n",
       "    </tr>\n",
       "    <tr>\n",
       "      <th>9218</th>\n",
       "      <td>2022-08-03</td>\n",
       "      <td>93.25</td>\n",
       "    </tr>\n",
       "    <tr>\n",
       "      <th>9219</th>\n",
       "      <td>2022-08-04</td>\n",
       "      <td>91.29</td>\n",
       "    </tr>\n",
       "    <tr>\n",
       "      <th>9220</th>\n",
       "      <td>2022-08-05</td>\n",
       "      <td>91.77</td>\n",
       "    </tr>\n",
       "    <tr>\n",
       "      <th>9221</th>\n",
       "      <td>2022-08-08</td>\n",
       "      <td>93.52</td>\n",
       "    </tr>\n",
       "    <tr>\n",
       "      <th>9222</th>\n",
       "      <td>2022-08-09</td>\n",
       "      <td>93.18</td>\n",
       "    </tr>\n",
       "    <tr>\n",
       "      <th>9223</th>\n",
       "      <td>2022-08-10</td>\n",
       "      <td>94.68</td>\n",
       "    </tr>\n",
       "    <tr>\n",
       "      <th>9224</th>\n",
       "      <td>2022-08-11</td>\n",
       "      <td>97.02</td>\n",
       "    </tr>\n",
       "    <tr>\n",
       "      <th>9225</th>\n",
       "      <td>2022-08-12</td>\n",
       "      <td>94.86</td>\n",
       "    </tr>\n",
       "    <tr>\n",
       "      <th>9226</th>\n",
       "      <td>2022-08-15</td>\n",
       "      <td>92.24</td>\n",
       "    </tr>\n",
       "  </tbody>\n",
       "</table>\n",
       "</div>"
      ],
      "text/plain": [
       "            Date   Price\n",
       "9207  2022-07-19  106.12\n",
       "9208  2022-07-20  104.45\n",
       "9209  2022-07-21   98.44\n",
       "9210  2022-07-22   97.71\n",
       "9211  2022-07-25   99.83\n",
       "9212  2022-07-26   97.74\n",
       "9213  2022-07-27  100.03\n",
       "9214  2022-07-28   99.11\n",
       "9215  2022-07-29  101.31\n",
       "9216  2022-08-01   96.59\n",
       "9217  2022-08-02   97.14\n",
       "9218  2022-08-03   93.25\n",
       "9219  2022-08-04   91.29\n",
       "9220  2022-08-05   91.77\n",
       "9221  2022-08-08   93.52\n",
       "9222  2022-08-09   93.18\n",
       "9223  2022-08-10   94.68\n",
       "9224  2022-08-11   97.02\n",
       "9225  2022-08-12   94.86\n",
       "9226  2022-08-15   92.24"
      ]
     },
     "execution_count": 12,
     "metadata": {},
     "output_type": "execute_result"
    }
   ],
   "source": [
    "df.tail(20)"
   ]
  },
  {
   "cell_type": "code",
   "execution_count": 15,
   "id": "e6ac42e8",
   "metadata": {},
   "outputs": [
    {
     "data": {
      "text/html": [
       "<div>\n",
       "<style scoped>\n",
       "    .dataframe tbody tr th:only-of-type {\n",
       "        vertical-align: middle;\n",
       "    }\n",
       "\n",
       "    .dataframe tbody tr th {\n",
       "        vertical-align: top;\n",
       "    }\n",
       "\n",
       "    .dataframe thead th {\n",
       "        text-align: right;\n",
       "    }\n",
       "</style>\n",
       "<table border=\"1\" class=\"dataframe\">\n",
       "  <thead>\n",
       "    <tr style=\"text-align: right;\">\n",
       "      <th></th>\n",
       "      <th>Price</th>\n",
       "    </tr>\n",
       "  </thead>\n",
       "  <tbody>\n",
       "    <tr>\n",
       "      <th>count</th>\n",
       "      <td>9227.000000</td>\n",
       "    </tr>\n",
       "    <tr>\n",
       "      <th>mean</th>\n",
       "      <td>45.636007</td>\n",
       "    </tr>\n",
       "    <tr>\n",
       "      <th>std</th>\n",
       "      <td>29.481022</td>\n",
       "    </tr>\n",
       "    <tr>\n",
       "      <th>min</th>\n",
       "      <td>-36.980000</td>\n",
       "    </tr>\n",
       "    <tr>\n",
       "      <th>25%</th>\n",
       "      <td>19.940000</td>\n",
       "    </tr>\n",
       "    <tr>\n",
       "      <th>50%</th>\n",
       "      <td>34.760000</td>\n",
       "    </tr>\n",
       "    <tr>\n",
       "      <th>75%</th>\n",
       "      <td>65.975000</td>\n",
       "    </tr>\n",
       "    <tr>\n",
       "      <th>max</th>\n",
       "      <td>145.310000</td>\n",
       "    </tr>\n",
       "  </tbody>\n",
       "</table>\n",
       "</div>"
      ],
      "text/plain": [
       "             Price\n",
       "count  9227.000000\n",
       "mean     45.636007\n",
       "std      29.481022\n",
       "min     -36.980000\n",
       "25%      19.940000\n",
       "50%      34.760000\n",
       "75%      65.975000\n",
       "max     145.310000"
      ]
     },
     "execution_count": 15,
     "metadata": {},
     "output_type": "execute_result"
    }
   ],
   "source": [
    "# running describe on our data frame runs describe on each numeric column\n",
    "\n",
    "df.describe()"
   ]
  },
  {
   "cell_type": "code",
   "execution_count": 14,
   "id": "f746394f",
   "metadata": {},
   "outputs": [
    {
     "data": {
      "text/plain": [
       "Date      object\n",
       "Price    float64\n",
       "dtype: object"
      ]
     },
     "execution_count": 14,
     "metadata": {},
     "output_type": "execute_result"
    }
   ],
   "source": [
    "df.dtypes"
   ]
  },
  {
   "cell_type": "code",
   "execution_count": 16,
   "id": "429b129a",
   "metadata": {},
   "outputs": [
    {
     "data": {
      "text/plain": [
       "count           9227\n",
       "unique          9227\n",
       "top       1986-01-02\n",
       "freq               1\n",
       "Name: Date, dtype: object"
      ]
     },
     "execution_count": 16,
     "metadata": {},
     "output_type": "execute_result"
    }
   ],
   "source": [
    "df['Date'].describe()"
   ]
  },
  {
   "cell_type": "code",
   "execution_count": 18,
   "id": "638027ef",
   "metadata": {},
   "outputs": [],
   "source": [
    "# read_html only works when you have HTML tables on the target site\n",
    "# and when they are written in HTML, and not generated on the fly via JavaScript\n",
    "\n",
    "url = 'https://www.bankofcanada.ca/rates/exchange/daily-exchange-rates/'\n",
    "\n",
    "all_dfs = pd.read_html(url)\n"
   ]
  },
  {
   "cell_type": "code",
   "execution_count": 19,
   "id": "213d152c",
   "metadata": {},
   "outputs": [
    {
     "data": {
      "text/plain": [
       "1"
      ]
     },
     "execution_count": 19,
     "metadata": {},
     "output_type": "execute_result"
    }
   ],
   "source": [
    "len(all_dfs)"
   ]
  },
  {
   "cell_type": "code",
   "execution_count": 20,
   "id": "cd65976f",
   "metadata": {},
   "outputs": [
    {
     "data": {
      "text/html": [
       "<div>\n",
       "<style scoped>\n",
       "    .dataframe tbody tr th:only-of-type {\n",
       "        vertical-align: middle;\n",
       "    }\n",
       "\n",
       "    .dataframe tbody tr th {\n",
       "        vertical-align: top;\n",
       "    }\n",
       "\n",
       "    .dataframe thead th {\n",
       "        text-align: right;\n",
       "    }\n",
       "</style>\n",
       "<table border=\"1\" class=\"dataframe\">\n",
       "  <thead>\n",
       "    <tr style=\"text-align: right;\">\n",
       "      <th></th>\n",
       "      <th>Currency</th>\n",
       "      <th>2022‑08‑16</th>\n",
       "      <th>2022‑08‑17</th>\n",
       "      <th>2022‑08‑18</th>\n",
       "      <th>2022‑08‑19</th>\n",
       "      <th>2022‑08‑22</th>\n",
       "    </tr>\n",
       "  </thead>\n",
       "  <tbody>\n",
       "    <tr>\n",
       "      <th>0</th>\n",
       "      <td>Australian dollar</td>\n",
       "      <td>0.9025</td>\n",
       "      <td>0.8949</td>\n",
       "      <td>0.8962</td>\n",
       "      <td>0.8936</td>\n",
       "      <td>0.8970</td>\n",
       "    </tr>\n",
       "    <tr>\n",
       "      <th>1</th>\n",
       "      <td>Brazilian real</td>\n",
       "      <td>0.2504</td>\n",
       "      <td>0.2494</td>\n",
       "      <td>0.2496</td>\n",
       "      <td>0.2503</td>\n",
       "      <td>0.2521</td>\n",
       "    </tr>\n",
       "    <tr>\n",
       "      <th>2</th>\n",
       "      <td>Chinese renminbi</td>\n",
       "      <td>0.1896</td>\n",
       "      <td>0.1904</td>\n",
       "      <td>0.1905</td>\n",
       "      <td>0.1906</td>\n",
       "      <td>0.1904</td>\n",
       "    </tr>\n",
       "    <tr>\n",
       "      <th>3</th>\n",
       "      <td>European euro</td>\n",
       "      <td>1.3081</td>\n",
       "      <td>1.3134</td>\n",
       "      <td>1.3080</td>\n",
       "      <td>1.3049</td>\n",
       "      <td>1.2979</td>\n",
       "    </tr>\n",
       "    <tr>\n",
       "      <th>4</th>\n",
       "      <td>Hong Kong dollar</td>\n",
       "      <td>0.1641</td>\n",
       "      <td>0.1646</td>\n",
       "      <td>0.1648</td>\n",
       "      <td>0.1656</td>\n",
       "      <td>0.1661</td>\n",
       "    </tr>\n",
       "  </tbody>\n",
       "</table>\n",
       "</div>"
      ],
      "text/plain": [
       "            Currency  2022‑08‑16  2022‑08‑17  2022‑08‑18  2022‑08‑19  \\\n",
       "0  Australian dollar      0.9025      0.8949      0.8962      0.8936   \n",
       "1     Brazilian real      0.2504      0.2494      0.2496      0.2503   \n",
       "2   Chinese renminbi      0.1896      0.1904      0.1905      0.1906   \n",
       "3      European euro      1.3081      1.3134      1.3080      1.3049   \n",
       "4   Hong Kong dollar      0.1641      0.1646      0.1648      0.1656   \n",
       "\n",
       "   2022‑08‑22  \n",
       "0      0.8970  \n",
       "1      0.2521  \n",
       "2      0.1904  \n",
       "3      1.2979  \n",
       "4      0.1661  "
      ]
     },
     "execution_count": 20,
     "metadata": {},
     "output_type": "execute_result"
    }
   ],
   "source": [
    "df = all_dfs[0]\n",
    "df.head()"
   ]
  },
  {
   "cell_type": "code",
   "execution_count": 21,
   "id": "275133f4",
   "metadata": {},
   "outputs": [
    {
     "data": {
      "text/plain": [
       "(23, 6)"
      ]
     },
     "execution_count": 21,
     "metadata": {},
     "output_type": "execute_result"
    }
   ],
   "source": [
    "df.shape"
   ]
  },
  {
   "cell_type": "code",
   "execution_count": 22,
   "id": "274460e4",
   "metadata": {},
   "outputs": [
    {
     "data": {
      "text/plain": [
       "0      Australian dollar\n",
       "1         Brazilian real\n",
       "2       Chinese renminbi\n",
       "3          European euro\n",
       "4       Hong Kong dollar\n",
       "5           Indian rupee\n",
       "6      Indonesian rupiah\n",
       "7           Japanese yen\n",
       "8           Mexican peso\n",
       "9     New Zealand dollar\n",
       "10       Norwegian krone\n",
       "11      Peruvian new sol\n",
       "12         Russian ruble\n",
       "13           Saudi riyal\n",
       "14      Singapore dollar\n",
       "15    South African rand\n",
       "16      South Korean won\n",
       "17         Swedish krona\n",
       "18           Swiss franc\n",
       "19      Taiwanese dollar\n",
       "20          Turkish lira\n",
       "21     UK pound sterling\n",
       "22             US dollar\n",
       "Name: Currency, dtype: object"
      ]
     },
     "execution_count": 22,
     "metadata": {},
     "output_type": "execute_result"
    }
   ],
   "source": [
    "df['Currency']"
   ]
  },
  {
   "cell_type": "markdown",
   "id": "36adbe98",
   "metadata": {},
   "source": [
    "# Text data in Pandas\n",
    "\n",
    "We've seen that a series can contain text. As such, a column in a data frame can also contain text. When we do that, the dtype of the column (series) is known as `object`, which means that the data isn't being stored directly inside of Pandas.  Instead, Pandas is referring to Python string objects located elsewhere in memory.  This means that we have access (in theory) to all of the Python string methods and associated functionality."
   ]
  },
  {
   "cell_type": "code",
   "execution_count": 23,
   "id": "09b35de1",
   "metadata": {},
   "outputs": [
    {
     "data": {
      "text/plain": [
       "0      this\n",
       "1        is\n",
       "2         a\n",
       "3      test\n",
       "4        of\n",
       "5      text\n",
       "6        in\n",
       "7    Pandas\n",
       "dtype: object"
      ]
     },
     "execution_count": 23,
     "metadata": {},
     "output_type": "execute_result"
    }
   ],
   "source": [
    "# create a series based on a list of strings, created via str.split\n",
    "# str.split without an explicit delimiter argument uses any whitespace, of any \n",
    "# length, in any combination\n",
    "\n",
    "s = Series('this is a test of text in Pandas'.split())\n",
    "s"
   ]
  },
  {
   "cell_type": "code",
   "execution_count": 25,
   "id": "076fcbf6",
   "metadata": {},
   "outputs": [
    {
     "name": "stdout",
     "output_type": "stream",
     "text": [
      "4\n",
      "2\n",
      "1\n",
      "4\n",
      "2\n",
      "4\n",
      "2\n",
      "6\n"
     ]
    }
   ],
   "source": [
    "# what is the length of each word?\n",
    "\n",
    "# option 1 for answering: a for loop\n",
    "\n",
    "for one_item in s:\n",
    "    print(len(one_item))"
   ]
  },
  {
   "cell_type": "code",
   "execution_count": 27,
   "id": "212ef2bf",
   "metadata": {},
   "outputs": [
    {
     "data": {
      "text/plain": [
       "[4, 2, 1, 4, 2, 4, 2, 6]"
      ]
     },
     "execution_count": 27,
     "metadata": {},
     "output_type": "execute_result"
    }
   ],
   "source": [
    "# option 1b: use a list comprehension\n",
    "\n",
    "[len(one_item)\n",
    "for one_item in s]"
   ]
  },
  {
   "cell_type": "markdown",
   "id": "ee5e270f",
   "metadata": {},
   "source": [
    "**DO NOT DO THIS!**\n",
    "\n",
    "If you ever find yourself using a `for` loop in Pandas, stop! There is almost certainly a better way to accomplish it."
   ]
  },
  {
   "cell_type": "code",
   "execution_count": 29,
   "id": "264cb1f5",
   "metadata": {},
   "outputs": [
    {
     "data": {
      "text/plain": [
       "0    4\n",
       "1    2\n",
       "2    1\n",
       "3    4\n",
       "4    2\n",
       "5    4\n",
       "6    2\n",
       "7    6\n",
       "dtype: int64"
      ]
     },
     "execution_count": 29,
     "metadata": {},
     "output_type": "execute_result"
    }
   ],
   "source": [
    "# Better, option 2: Use the \"str\" accessor\n",
    "\n",
    "# an \"accessor\" is a Pandas term for an attribute (i.e., coming after a .)\n",
    "# that lets us access special functionality for certain types of objects\n",
    "\n",
    "# if we have an \"object\" column containing strings, then we can use the str\n",
    "# accessor to invoke a number of different string methods\n",
    "\n",
    "s.str.len() \n",
    "\n",
    "# this invokes len() on each of the elements in s, and returns a new series\n",
    "# the index of the returned series matches the index in our original series s"
   ]
  },
  {
   "cell_type": "code",
   "execution_count": 30,
   "id": "9c509aff",
   "metadata": {},
   "outputs": [
    {
     "data": {
      "text/plain": [
       "0    False\n",
       "1     True\n",
       "2    False\n",
       "3    False\n",
       "4     True\n",
       "5    False\n",
       "6     True\n",
       "7    False\n",
       "dtype: bool"
      ]
     },
     "execution_count": 30,
     "metadata": {},
     "output_type": "execute_result"
    }
   ],
   "source": [
    "# because we get a series back, we can use it in all series-type operations\n",
    "s.str.len() == 2"
   ]
  },
  {
   "cell_type": "code",
   "execution_count": 31,
   "id": "a521ba47",
   "metadata": {},
   "outputs": [
    {
     "data": {
      "text/plain": [
       "1    is\n",
       "4    of\n",
       "6    in\n",
       "dtype: object"
      ]
     },
     "execution_count": 31,
     "metadata": {},
     "output_type": "execute_result"
    }
   ],
   "source": [
    "# apply the boolean series as a mask index, and find all of the words\n",
    "# that have only two letters\n",
    "\n",
    "s.loc[s.str.len() == 2]"
   ]
  },
  {
   "cell_type": "code",
   "execution_count": 33,
   "id": "ac390faf",
   "metadata": {},
   "outputs": [
    {
     "data": {
      "text/plain": [
       "3    test\n",
       "5    text\n",
       "dtype: object"
      ]
     },
     "execution_count": 33,
     "metadata": {},
     "output_type": "execute_result"
    }
   ],
   "source": [
    "# the \"contains\" method on the  \"str\" accessor lets us search in a string\n",
    "# for a character/substring\n",
    "\n",
    "# use s.loc to find all words in s that contain 'e'\n",
    "s.loc[s.str.contains('e')]"
   ]
  },
  {
   "cell_type": "markdown",
   "id": "44b9462a",
   "metadata": {},
   "source": [
    "# Exercise: Longer-than average words\n",
    "\n",
    "1. Ask the user to enter a sentence. \n",
    "2. Turn that sentence into a Pandas series.\n",
    "3. Show all of the words that are longer than average in the sentence."
   ]
  },
  {
   "cell_type": "code",
   "execution_count": 34,
   "id": "e6d183c6",
   "metadata": {},
   "outputs": [
    {
     "name": "stdout",
     "output_type": "stream",
     "text": [
      "Enter a sentence: this is the most marvelous and fascinating and scintillating sentence on the planet\n"
     ]
    }
   ],
   "source": [
    "sentence = input('Enter a sentence: ').strip()\n",
    "\n",
    "s = Series(sentence.split())"
   ]
  },
  {
   "cell_type": "code",
   "execution_count": 35,
   "id": "5643f9f9",
   "metadata": {},
   "outputs": [
    {
     "data": {
      "text/plain": [
       "0              this\n",
       "1                is\n",
       "2               the\n",
       "3              most\n",
       "4         marvelous\n",
       "5               and\n",
       "6       fascinating\n",
       "7               and\n",
       "8     scintillating\n",
       "9          sentence\n",
       "10               on\n",
       "11              the\n",
       "12           planet\n",
       "dtype: object"
      ]
     },
     "execution_count": 35,
     "metadata": {},
     "output_type": "execute_result"
    }
   ],
   "source": [
    "s"
   ]
  },
  {
   "cell_type": "code",
   "execution_count": 36,
   "id": "a65156fa",
   "metadata": {},
   "outputs": [
    {
     "ename": "AttributeError",
     "evalue": "'Series' object has no attribute 'len'",
     "output_type": "error",
     "traceback": [
      "\u001b[0;31m---------------------------------------------------------------------------\u001b[0m",
      "\u001b[0;31mAttributeError\u001b[0m                            Traceback (most recent call last)",
      "Input \u001b[0;32mIn [36]\u001b[0m, in \u001b[0;36m<cell line: 3>\u001b[0;34m()\u001b[0m\n\u001b[1;32m      1\u001b[0m \u001b[38;5;66;03m# show all words in s that are longer than the average length\u001b[39;00m\n\u001b[0;32m----> 3\u001b[0m \u001b[43ms\u001b[49m\u001b[38;5;241;43m.\u001b[39;49m\u001b[43mlen\u001b[49m()\n",
      "File \u001b[0;32m/usr/local/lib/python3.10/site-packages/pandas/core/generic.py:5575\u001b[0m, in \u001b[0;36mNDFrame.__getattr__\u001b[0;34m(self, name)\u001b[0m\n\u001b[1;32m   5568\u001b[0m \u001b[38;5;28;01mif\u001b[39;00m (\n\u001b[1;32m   5569\u001b[0m     name \u001b[38;5;129;01mnot\u001b[39;00m \u001b[38;5;129;01min\u001b[39;00m \u001b[38;5;28mself\u001b[39m\u001b[38;5;241m.\u001b[39m_internal_names_set\n\u001b[1;32m   5570\u001b[0m     \u001b[38;5;129;01mand\u001b[39;00m name \u001b[38;5;129;01mnot\u001b[39;00m \u001b[38;5;129;01min\u001b[39;00m \u001b[38;5;28mself\u001b[39m\u001b[38;5;241m.\u001b[39m_metadata\n\u001b[1;32m   5571\u001b[0m     \u001b[38;5;129;01mand\u001b[39;00m name \u001b[38;5;129;01mnot\u001b[39;00m \u001b[38;5;129;01min\u001b[39;00m \u001b[38;5;28mself\u001b[39m\u001b[38;5;241m.\u001b[39m_accessors\n\u001b[1;32m   5572\u001b[0m     \u001b[38;5;129;01mand\u001b[39;00m \u001b[38;5;28mself\u001b[39m\u001b[38;5;241m.\u001b[39m_info_axis\u001b[38;5;241m.\u001b[39m_can_hold_identifiers_and_holds_name(name)\n\u001b[1;32m   5573\u001b[0m ):\n\u001b[1;32m   5574\u001b[0m     \u001b[38;5;28;01mreturn\u001b[39;00m \u001b[38;5;28mself\u001b[39m[name]\n\u001b[0;32m-> 5575\u001b[0m \u001b[38;5;28;01mreturn\u001b[39;00m \u001b[38;5;28;43mobject\u001b[39;49m\u001b[38;5;241;43m.\u001b[39;49m\u001b[38;5;21;43m__getattribute__\u001b[39;49m\u001b[43m(\u001b[49m\u001b[38;5;28;43mself\u001b[39;49m\u001b[43m,\u001b[49m\u001b[43m \u001b[49m\u001b[43mname\u001b[49m\u001b[43m)\u001b[49m\n",
      "\u001b[0;31mAttributeError\u001b[0m: 'Series' object has no attribute 'len'"
     ]
    }
   ],
   "source": [
    "# show all words in s that are longer than the average length\n",
    "\n",
    "s.str.len()"
   ]
  },
  {
   "cell_type": "code",
   "execution_count": null,
   "id": "70fec5dc",
   "metadata": {},
   "outputs": [],
   "source": []
  }
 ],
 "metadata": {
  "kernelspec": {
   "display_name": "Python 3 (ipykernel)",
   "language": "python",
   "name": "python3"
  },
  "language_info": {
   "codemirror_mode": {
    "name": "ipython",
    "version": 3
   },
   "file_extension": ".py",
   "mimetype": "text/x-python",
   "name": "python",
   "nbconvert_exporter": "python",
   "pygments_lexer": "ipython3",
   "version": "3.10.6"
  }
 },
 "nbformat": 4,
 "nbformat_minor": 5
}
